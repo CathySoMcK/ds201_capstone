{
 "cells": [
  {
   "cell_type": "code",
   "execution_count": 1,
   "metadata": {},
   "outputs": [
    {
     "name": "stderr",
     "output_type": "stream",
     "text": [
      "C:\\ProgramData\\Anaconda3\\envs\\py36\\lib\\site-packages\\ipykernel_launcher.py:4: FutureWarning: The pandas.core.datetools module is deprecated and will be removed in a future version. Please use the pandas.tseries module instead.\n",
      "  after removing the cwd from sys.path.\n"
     ]
    }
   ],
   "source": [
    "import pandas as pd\n",
    "from pandas import ExcelWriter\n",
    "from pandas import ExcelFile\n",
    "from pandas.core import datetools\n",
    "\n",
    "import numpy as np\n",
    "\n",
    "import matplotlib.pyplot as plt\n",
    "%matplotlib inline\n",
    "import seaborn as sns\n",
    "\n",
    "from sklearn.preprocessing import StandardScaler\n",
    "from sklearn.model_selection import train_test_split\n",
    "\n",
    "from sklearn.metrics import accuracy_score\n",
    "from sklearn.model_selection import KFold\n",
    "from sklearn.model_selection import cross_val_score\n",
    "from sklearn.metrics import recall_score, average_precision_score\n",
    "\n",
    "import statsmodels.api as sm\n",
    "from statsmodels.stats.outliers_influence import variance_inflation_factor\n"
   ]
  },
  {
   "cell_type": "code",
   "execution_count": 2,
   "metadata": {
    "collapsed": true
   },
   "outputs": [],
   "source": [
    "X_unscaled = pd.read_csv('data/HID_reduced_features.csv', index_col=0)\n",
    "dfsample1 = pd.read_csv('data/HID_undersampled_w_label.csv', index_col=0)"
   ]
  },
  {
   "cell_type": "code",
   "execution_count": 3,
   "metadata": {},
   "outputs": [
    {
     "data": {
      "text/html": [
       "<div>\n",
       "<style>\n",
       "    .dataframe thead tr:only-child th {\n",
       "        text-align: right;\n",
       "    }\n",
       "\n",
       "    .dataframe thead th {\n",
       "        text-align: left;\n",
       "    }\n",
       "\n",
       "    .dataframe tbody tr th {\n",
       "        vertical-align: top;\n",
       "    }\n",
       "</style>\n",
       "<table border=\"1\" class=\"dataframe\">\n",
       "  <thead>\n",
       "    <tr style=\"text-align: right;\">\n",
       "      <th></th>\n",
       "      <th>Hospital_Associated_encoded</th>\n",
       "      <th>Tot_Sls_Amt</th>\n",
       "      <th>Msa_Dma_encoded</th>\n",
       "      <th>Salesperson_encoded</th>\n",
       "      <th>ST_encoded</th>\n",
       "      <th>Chain_Name_encoded</th>\n",
       "      <th>LMS_Available_Matching_Funds</th>\n",
       "    </tr>\n",
       "    <tr>\n",
       "      <th>Account</th>\n",
       "      <th></th>\n",
       "      <th></th>\n",
       "      <th></th>\n",
       "      <th></th>\n",
       "      <th></th>\n",
       "      <th></th>\n",
       "      <th></th>\n",
       "    </tr>\n",
       "  </thead>\n",
       "  <tbody>\n",
       "    <tr>\n",
       "      <th>410092</th>\n",
       "      <td>3</td>\n",
       "      <td>988589.0</td>\n",
       "      <td>139</td>\n",
       "      <td>10</td>\n",
       "      <td>28</td>\n",
       "      <td>38</td>\n",
       "      <td>0.0</td>\n",
       "    </tr>\n",
       "    <tr>\n",
       "      <th>363318</th>\n",
       "      <td>0</td>\n",
       "      <td>132586.0</td>\n",
       "      <td>85</td>\n",
       "      <td>31</td>\n",
       "      <td>16</td>\n",
       "      <td>33</td>\n",
       "      <td>5800.0</td>\n",
       "    </tr>\n",
       "    <tr>\n",
       "      <th>304550</th>\n",
       "      <td>0</td>\n",
       "      <td>412451.0</td>\n",
       "      <td>145</td>\n",
       "      <td>110</td>\n",
       "      <td>48</td>\n",
       "      <td>38</td>\n",
       "      <td>1200.0</td>\n",
       "    </tr>\n",
       "    <tr>\n",
       "      <th>756418</th>\n",
       "      <td>3</td>\n",
       "      <td>421148.0</td>\n",
       "      <td>153</td>\n",
       "      <td>10</td>\n",
       "      <td>28</td>\n",
       "      <td>39</td>\n",
       "      <td>700.0</td>\n",
       "    </tr>\n",
       "    <tr>\n",
       "      <th>410068</th>\n",
       "      <td>3</td>\n",
       "      <td>624629.0</td>\n",
       "      <td>139</td>\n",
       "      <td>10</td>\n",
       "      <td>28</td>\n",
       "      <td>38</td>\n",
       "      <td>0.0</td>\n",
       "    </tr>\n",
       "  </tbody>\n",
       "</table>\n",
       "</div>"
      ],
      "text/plain": [
       "         Hospital_Associated_encoded  Tot_Sls_Amt  Msa_Dma_encoded  \\\n",
       "Account                                                              \n",
       "410092                             3     988589.0              139   \n",
       "363318                             0     132586.0               85   \n",
       "304550                             0     412451.0              145   \n",
       "756418                             3     421148.0              153   \n",
       "410068                             3     624629.0              139   \n",
       "\n",
       "         Salesperson_encoded  ST_encoded  Chain_Name_encoded  \\\n",
       "Account                                                        \n",
       "410092                    10          28                  38   \n",
       "363318                    31          16                  33   \n",
       "304550                   110          48                  38   \n",
       "756418                    10          28                  39   \n",
       "410068                    10          28                  38   \n",
       "\n",
       "         LMS_Available_Matching_Funds  \n",
       "Account                                \n",
       "410092                            0.0  \n",
       "363318                         5800.0  \n",
       "304550                         1200.0  \n",
       "756418                          700.0  \n",
       "410068                            0.0  "
      ]
     },
     "execution_count": 3,
     "metadata": {},
     "output_type": "execute_result"
    }
   ],
   "source": [
    "#X_unscaled = X_unscaled.drop('Unnamed: 0', axis=1)\n",
    "X_unscaled.head()"
   ]
  },
  {
   "cell_type": "code",
   "execution_count": 4,
   "metadata": {},
   "outputs": [
    {
     "data": {
      "text/plain": [
       "Index(['Hospital_Associated_encoded', 'Tot_Sls_Amt', 'Msa_Dma_encoded',\n",
       "       'Salesperson_encoded', 'ST_encoded', 'Chain_Name_encoded',\n",
       "       'LMS_Available_Matching_Funds'],\n",
       "      dtype='object')"
      ]
     },
     "execution_count": 4,
     "metadata": {},
     "output_type": "execute_result"
    }
   ],
   "source": [
    "X_unscaled.columns"
   ]
  },
  {
   "cell_type": "code",
   "execution_count": 5,
   "metadata": {
    "collapsed": true
   },
   "outputs": [],
   "source": [
    "df_clean = pd.read_csv('data/df_clean.csv', index_col=0)\n",
    "df_clean_reduced = df_clean[['Hospital_Associated_encoded', 'Tot_Sls_Amt', 'Msa_Dma_encoded',\n",
    "                'Salesperson_encoded', 'ST_encoded',\n",
    "                'Chain_Name_encoded','LMS_Available_Matching_Funds']]"
   ]
  },
  {
   "cell_type": "code",
   "execution_count": 6,
   "metadata": {},
   "outputs": [
    {
     "data": {
      "text/html": [
       "<div>\n",
       "<style>\n",
       "    .dataframe thead tr:only-child th {\n",
       "        text-align: right;\n",
       "    }\n",
       "\n",
       "    .dataframe thead th {\n",
       "        text-align: left;\n",
       "    }\n",
       "\n",
       "    .dataframe tbody tr th {\n",
       "        vertical-align: top;\n",
       "    }\n",
       "</style>\n",
       "<table border=\"1\" class=\"dataframe\">\n",
       "  <thead>\n",
       "    <tr style=\"text-align: right;\">\n",
       "      <th></th>\n",
       "      <th>Hospital_Associated_encoded</th>\n",
       "      <th>Tot_Sls_Amt</th>\n",
       "      <th>Msa_Dma_encoded</th>\n",
       "      <th>Salesperson_encoded</th>\n",
       "      <th>ST_encoded</th>\n",
       "      <th>Chain_Name_encoded</th>\n",
       "      <th>LMS_Available_Matching_Funds</th>\n",
       "    </tr>\n",
       "    <tr>\n",
       "      <th>Account</th>\n",
       "      <th></th>\n",
       "      <th></th>\n",
       "      <th></th>\n",
       "      <th></th>\n",
       "      <th></th>\n",
       "      <th></th>\n",
       "      <th></th>\n",
       "    </tr>\n",
       "  </thead>\n",
       "  <tbody>\n",
       "    <tr>\n",
       "      <th>10491</th>\n",
       "      <td>15</td>\n",
       "      <td>141319.0</td>\n",
       "      <td>183</td>\n",
       "      <td>1</td>\n",
       "      <td>37</td>\n",
       "      <td>39</td>\n",
       "      <td>822.0</td>\n",
       "    </tr>\n",
       "    <tr>\n",
       "      <th>17475</th>\n",
       "      <td>15</td>\n",
       "      <td>211381.0</td>\n",
       "      <td>190</td>\n",
       "      <td>1</td>\n",
       "      <td>37</td>\n",
       "      <td>39</td>\n",
       "      <td>0.0</td>\n",
       "    </tr>\n",
       "    <tr>\n",
       "      <th>19901</th>\n",
       "      <td>15</td>\n",
       "      <td>151490.0</td>\n",
       "      <td>183</td>\n",
       "      <td>1</td>\n",
       "      <td>37</td>\n",
       "      <td>39</td>\n",
       "      <td>0.0</td>\n",
       "    </tr>\n",
       "    <tr>\n",
       "      <th>309745</th>\n",
       "      <td>15</td>\n",
       "      <td>165231.0</td>\n",
       "      <td>183</td>\n",
       "      <td>1</td>\n",
       "      <td>37</td>\n",
       "      <td>39</td>\n",
       "      <td>0.0</td>\n",
       "    </tr>\n",
       "    <tr>\n",
       "      <th>652229</th>\n",
       "      <td>15</td>\n",
       "      <td>129169.0</td>\n",
       "      <td>183</td>\n",
       "      <td>1</td>\n",
       "      <td>37</td>\n",
       "      <td>38</td>\n",
       "      <td>340.0</td>\n",
       "    </tr>\n",
       "  </tbody>\n",
       "</table>\n",
       "</div>"
      ],
      "text/plain": [
       "         Hospital_Associated_encoded  Tot_Sls_Amt  Msa_Dma_encoded  \\\n",
       "Account                                                              \n",
       "10491                             15     141319.0              183   \n",
       "17475                             15     211381.0              190   \n",
       "19901                             15     151490.0              183   \n",
       "309745                            15     165231.0              183   \n",
       "652229                            15     129169.0              183   \n",
       "\n",
       "         Salesperson_encoded  ST_encoded  Chain_Name_encoded  \\\n",
       "Account                                                        \n",
       "10491                      1          37                  39   \n",
       "17475                      1          37                  39   \n",
       "19901                      1          37                  39   \n",
       "309745                     1          37                  39   \n",
       "652229                     1          37                  38   \n",
       "\n",
       "         LMS_Available_Matching_Funds  \n",
       "Account                                \n",
       "10491                           822.0  \n",
       "17475                             0.0  \n",
       "19901                             0.0  \n",
       "309745                            0.0  \n",
       "652229                          340.0  "
      ]
     },
     "execution_count": 6,
     "metadata": {},
     "output_type": "execute_result"
    }
   ],
   "source": [
    "df_clean_reduced.head()"
   ]
  },
  {
   "cell_type": "markdown",
   "metadata": {},
   "source": [
    "### Scale the data"
   ]
  },
  {
   "cell_type": "code",
   "execution_count": 7,
   "metadata": {
    "collapsed": true
   },
   "outputs": [],
   "source": [
    "scaler = StandardScaler()"
   ]
  },
  {
   "cell_type": "code",
   "execution_count": 8,
   "metadata": {},
   "outputs": [
    {
     "data": {
      "text/plain": [
       "StandardScaler(copy=True, with_mean=True, with_std=True)"
      ]
     },
     "execution_count": 8,
     "metadata": {},
     "output_type": "execute_result"
    }
   ],
   "source": [
    "scaler.fit(X_unscaled)"
   ]
  },
  {
   "cell_type": "code",
   "execution_count": 9,
   "metadata": {
    "collapsed": true
   },
   "outputs": [],
   "source": [
    "scaled_features = scaler.transform(X_unscaled)"
   ]
  },
  {
   "cell_type": "code",
   "execution_count": 10,
   "metadata": {
    "collapsed": true
   },
   "outputs": [],
   "source": [
    "X = pd.DataFrame(scaled_features,columns=X_unscaled.columns)"
   ]
  },
  {
   "cell_type": "markdown",
   "metadata": {},
   "source": [
    "### Hierarchical clustering"
   ]
  },
  {
   "cell_type": "code",
   "execution_count": 11,
   "metadata": {
    "collapsed": true
   },
   "outputs": [],
   "source": [
    "from scipy.cluster.hierarchy import dendrogram, linkage"
   ]
  },
  {
   "cell_type": "code",
   "execution_count": 12,
   "metadata": {
    "collapsed": true
   },
   "outputs": [],
   "source": [
    "np.set_printoptions(precision=5, suppress=True)  # suppress scientific float notation"
   ]
  },
  {
   "cell_type": "code",
   "execution_count": 13,
   "metadata": {
    "collapsed": true
   },
   "outputs": [],
   "source": [
    "# generate the linkage matrix - 'Ward' makes more even groupings, 'complete' preserves the tight clusters\n",
    "Z = linkage(X, 'ward')"
   ]
  },
  {
   "cell_type": "code",
   "execution_count": 14,
   "metadata": {},
   "outputs": [
    {
     "data": {
      "text/plain": [
       "0.41264945298349442"
      ]
     },
     "execution_count": 14,
     "metadata": {},
     "output_type": "execute_result"
    }
   ],
   "source": [
    "from scipy.cluster.hierarchy import cophenet\n",
    "from scipy.spatial.distance import pdist\n",
    "\n",
    "c, coph_dists = cophenet(Z, pdist(X))\n",
    "c"
   ]
  },
  {
   "cell_type": "code",
   "execution_count": 15,
   "metadata": {},
   "outputs": [
    {
     "data": {
      "text/plain": [
       "array([], shape=(0, 4), dtype=float64)"
      ]
     },
     "execution_count": 15,
     "metadata": {},
     "output_type": "execute_result"
    }
   ],
   "source": [
    "Z[7200:7211]"
   ]
  },
  {
   "cell_type": "code",
   "execution_count": 16,
   "metadata": {},
   "outputs": [
    {
     "data": {
      "image/png": "[encoded data removed]",
      "text/plain": [
       "<matplotlib.figure.Figure at 0xc186a20>"
      ]
     },
     "metadata": {},
     "output_type": "display_data"
    },
    {
     "data": {
      "text/plain": [
       "array([ 34.6503 ,  38.73609,  39.03209,  50.49938])"
      ]
     },
     "execution_count": 16,
     "metadata": {},
     "output_type": "execute_result"
    }
   ],
   "source": [
    "# calculate full dendrogram\n",
    "plt.figure(figsize=(25, 10))\n",
    "plt.title('Hierarchical Clustering Dendrogram')\n",
    "plt.xlabel('sample index')\n",
    "plt.ylabel('distance')\n",
    "dendrogram(\n",
    "    Z,\n",
    "    leaf_rotation=90.,  # rotates the x axis labels\n",
    "    leaf_font_size=8.,  # font size for the x axis labels\n",
    ")\n",
    "plt.show()\n",
    "\n",
    "\n",
    "Z[-4:,2]"
   ]
  },
  {
   "cell_type": "code",
   "execution_count": 17,
   "metadata": {
    "collapsed": true
   },
   "outputs": [],
   "source": [
    "def fancy_dendrogram(*args, **kwargs):\n",
    "    max_d = kwargs.pop('max_d', None)\n",
    "    if max_d and 'color_threshold' not in kwargs:\n",
    "        kwargs['color_threshold'] = max_d\n",
    "    annotate_above = kwargs.pop('annotate_above', 0)\n",
    "\n",
    "    ddata = dendrogram(*args, **kwargs)\n",
    "\n",
    "    if not kwargs.get('no_plot', False):\n",
    "        plt.title('Hierarchical Clustering Dendrogram (truncated)')\n",
    "        plt.xlabel('sample index or (cluster size)')\n",
    "        plt.ylabel('distance')\n",
    "        for i, d, c in zip(ddata['icoord'], ddata['dcoord'], ddata['color_list']):\n",
    "            x = 0.5 * sum(i[1:3])\n",
    "            y = d[1]\n",
    "            if y > annotate_above:\n",
    "                plt.plot(x, y, 'o', c=c)\n",
    "                plt.annotate(\"%.3g\" % y, (x, y), xytext=(0, -5),\n",
    "                             textcoords='offset points',\n",
    "                             va='top', ha='center')\n",
    "        if max_d:\n",
    "            plt.axhline(y=max_d, c='k')\n",
    "    return ddata"
   ]
  },
  {
   "cell_type": "code",
   "execution_count": 18,
   "metadata": {},
   "outputs": [
    {
     "data": {
      "image/png": "[encoded data removed]",
      "text/plain": [
       "<matplotlib.figure.Figure at 0xeb01c18>"
      ]
     },
     "metadata": {},
     "output_type": "display_data"
    }
   ],
   "source": [
    "fancy_dendrogram(\n",
    "    Z,\n",
    "    truncate_mode='lastp',\n",
    "    p=12,\n",
    "    leaf_rotation=90.,\n",
    "    leaf_font_size=12.,\n",
    "    show_contracted=True,\n",
    "    annotate_above=10,          # useful in small plots so annotations don't overlap\n",
    "    max_d=30,  # plot a horizontal cut-off line; max_d = max_distance\n",
    ")\n",
    "plt.show()"
   ]
  },
  {
   "cell_type": "markdown",
   "metadata": {},
   "source": [
    "### K Means Clustering"
   ]
  },
  {
   "cell_type": "code",
   "execution_count": 19,
   "metadata": {
    "collapsed": true
   },
   "outputs": [],
   "source": [
    "from sklearn.cluster import KMeans"
   ]
  },
  {
   "cell_type": "code",
   "execution_count": 20,
   "metadata": {},
   "outputs": [
    {
     "data": {
      "text/plain": [
       "array([0, 0, 0, ..., 1, 1, 0])"
      ]
     },
     "execution_count": 20,
     "metadata": {},
     "output_type": "execute_result"
    }
   ],
   "source": [
    "kmeans2 = KMeans(n_clusters=2)\n",
    "kmeans2.fit_transform(X)\n",
    "kmeans2.predict(X)\n",
    "kmeans2.labels_"
   ]
  },
  {
   "cell_type": "code",
   "execution_count": 21,
   "metadata": {},
   "outputs": [
    {
     "data": {
      "text/plain": [
       "array([1, 1, 1, ..., 0, 0, 2])"
      ]
     },
     "execution_count": 21,
     "metadata": {},
     "output_type": "execute_result"
    }
   ],
   "source": [
    "kmeans3 = KMeans(n_clusters=3)\n",
    "kmeans3.fit_transform(X)\n",
    "kmeans3.predict(X)\n",
    "kmeans3.labels_"
   ]
  },
  {
   "cell_type": "code",
   "execution_count": 22,
   "metadata": {},
   "outputs": [
    {
     "data": {
      "text/plain": [
       "array([3, 3, 3, ..., 1, 1, 0])"
      ]
     },
     "execution_count": 22,
     "metadata": {},
     "output_type": "execute_result"
    }
   ],
   "source": [
    "kmeans4 = KMeans(n_clusters=4)\n",
    "kmeans4.fit_transform(X)\n",
    "kmeans4.predict(X)\n",
    "kmeans4.labels_"
   ]
  },
  {
   "cell_type": "code",
   "execution_count": 23,
   "metadata": {},
   "outputs": [
    {
     "data": {
      "text/plain": [
       "array([3, 3, 3, ..., 2, 2, 0])"
      ]
     },
     "execution_count": 23,
     "metadata": {},
     "output_type": "execute_result"
    }
   ],
   "source": [
    "kmeans5 = KMeans(n_clusters=5)\n",
    "kmeans5.fit_transform(X)\n",
    "kmeans5.predict(X)\n",
    "kmeans5.labels_"
   ]
  },
  {
   "cell_type": "code",
   "execution_count": 24,
   "metadata": {},
   "outputs": [
    {
     "data": {
      "text/plain": [
       "array([2, 2, 2, ..., 4, 0, 1])"
      ]
     },
     "execution_count": 24,
     "metadata": {},
     "output_type": "execute_result"
    }
   ],
   "source": [
    "kmeans6 = KMeans(n_clusters=6)\n",
    "kmeans6.fit_transform(X)\n",
    "kmeans6.predict(X)\n",
    "kmeans6.labels_"
   ]
  },
  {
   "cell_type": "markdown",
   "metadata": {},
   "source": [
    "### Look at Jaccard similarity score"
   ]
  },
  {
   "cell_type": "code",
   "execution_count": 25,
   "metadata": {
    "collapsed": true
   },
   "outputs": [],
   "source": [
    "from sklearn.metrics import jaccard_similarity_score\n",
    "\n",
    "## In binary and multiclass classification, this function is equivalent to the accuracy_score.\n",
    "## It differs in the multilabel classification problem."
   ]
  },
  {
   "cell_type": "code",
   "execution_count": 26,
   "metadata": {},
   "outputs": [
    {
     "data": {
      "text/plain": [
       "0.3143585386576041"
      ]
     },
     "execution_count": 26,
     "metadata": {},
     "output_type": "execute_result"
    }
   ],
   "source": [
    "jaccard_similarity_score(dfsample1['IS_HID'], kmeans2.labels_)"
   ]
  },
  {
   "cell_type": "code",
   "execution_count": 27,
   "metadata": {},
   "outputs": [
    {
     "data": {
      "text/plain": [
       "0.53016142735768901"
      ]
     },
     "execution_count": 27,
     "metadata": {},
     "output_type": "execute_result"
    }
   ],
   "source": [
    "jaccard_similarity_score(dfsample1['IS_HID'], kmeans3.labels_)"
   ]
  },
  {
   "cell_type": "code",
   "execution_count": 28,
   "metadata": {},
   "outputs": [
    {
     "data": {
      "text/plain": [
       "0.34324553950722175"
      ]
     },
     "execution_count": 28,
     "metadata": {},
     "output_type": "execute_result"
    }
   ],
   "source": [
    "jaccard_similarity_score(dfsample1['IS_HID'], kmeans4.labels_)"
   ]
  },
  {
   "cell_type": "code",
   "execution_count": 29,
   "metadata": {},
   "outputs": [
    {
     "data": {
      "text/plain": [
       "0.20050977060322855"
      ]
     },
     "execution_count": 29,
     "metadata": {},
     "output_type": "execute_result"
    }
   ],
   "source": [
    "jaccard_similarity_score(dfsample1['IS_HID'], kmeans5.labels_)"
   ]
  },
  {
   "cell_type": "code",
   "execution_count": 30,
   "metadata": {},
   "outputs": [
    {
     "data": {
      "text/plain": [
       "0.20135938827527614"
      ]
     },
     "execution_count": 30,
     "metadata": {},
     "output_type": "execute_result"
    }
   ],
   "source": [
    "jaccard_similarity_score(dfsample1['IS_HID'], kmeans6.labels_)"
   ]
  },
  {
   "cell_type": "code",
   "execution_count": 31,
   "metadata": {
    "collapsed": true
   },
   "outputs": [],
   "source": [
    "X_unscaled['Prediction'] = kmeans2.labels_"
   ]
  },
  {
   "cell_type": "code",
   "execution_count": 32,
   "metadata": {
    "collapsed": true
   },
   "outputs": [],
   "source": [
    "X_unscaled['Actual'] = dfsample1['IS_HID']"
   ]
  },
  {
   "cell_type": "code",
   "execution_count": 33,
   "metadata": {},
   "outputs": [
    {
     "data": {
      "text/html": [
       "<div>\n",
       "<style>\n",
       "    .dataframe thead tr:only-child th {\n",
       "        text-align: right;\n",
       "    }\n",
       "\n",
       "    .dataframe thead th {\n",
       "        text-align: left;\n",
       "    }\n",
       "\n",
       "    .dataframe tbody tr th {\n",
       "        vertical-align: top;\n",
       "    }\n",
       "</style>\n",
       "<table border=\"1\" class=\"dataframe\">\n",
       "  <thead>\n",
       "    <tr style=\"text-align: right;\">\n",
       "      <th></th>\n",
       "      <th>Hospital_Associated_encoded</th>\n",
       "      <th>Tot_Sls_Amt</th>\n",
       "      <th>Msa_Dma_encoded</th>\n",
       "      <th>Salesperson_encoded</th>\n",
       "      <th>ST_encoded</th>\n",
       "      <th>Chain_Name_encoded</th>\n",
       "      <th>LMS_Available_Matching_Funds</th>\n",
       "      <th>Prediction</th>\n",
       "      <th>Actual</th>\n",
       "    </tr>\n",
       "    <tr>\n",
       "      <th>Account</th>\n",
       "      <th></th>\n",
       "      <th></th>\n",
       "      <th></th>\n",
       "      <th></th>\n",
       "      <th></th>\n",
       "      <th></th>\n",
       "      <th></th>\n",
       "      <th></th>\n",
       "      <th></th>\n",
       "    </tr>\n",
       "  </thead>\n",
       "  <tbody>\n",
       "    <tr>\n",
       "      <th>410092</th>\n",
       "      <td>3</td>\n",
       "      <td>988589.0</td>\n",
       "      <td>139</td>\n",
       "      <td>10</td>\n",
       "      <td>28</td>\n",
       "      <td>38</td>\n",
       "      <td>0.0</td>\n",
       "      <td>0</td>\n",
       "      <td>1</td>\n",
       "    </tr>\n",
       "    <tr>\n",
       "      <th>363318</th>\n",
       "      <td>0</td>\n",
       "      <td>132586.0</td>\n",
       "      <td>85</td>\n",
       "      <td>31</td>\n",
       "      <td>16</td>\n",
       "      <td>33</td>\n",
       "      <td>5800.0</td>\n",
       "      <td>0</td>\n",
       "      <td>1</td>\n",
       "    </tr>\n",
       "    <tr>\n",
       "      <th>304550</th>\n",
       "      <td>0</td>\n",
       "      <td>412451.0</td>\n",
       "      <td>145</td>\n",
       "      <td>110</td>\n",
       "      <td>48</td>\n",
       "      <td>38</td>\n",
       "      <td>1200.0</td>\n",
       "      <td>0</td>\n",
       "      <td>1</td>\n",
       "    </tr>\n",
       "    <tr>\n",
       "      <th>756418</th>\n",
       "      <td>3</td>\n",
       "      <td>421148.0</td>\n",
       "      <td>153</td>\n",
       "      <td>10</td>\n",
       "      <td>28</td>\n",
       "      <td>39</td>\n",
       "      <td>700.0</td>\n",
       "      <td>0</td>\n",
       "      <td>1</td>\n",
       "    </tr>\n",
       "    <tr>\n",
       "      <th>410068</th>\n",
       "      <td>3</td>\n",
       "      <td>624629.0</td>\n",
       "      <td>139</td>\n",
       "      <td>10</td>\n",
       "      <td>28</td>\n",
       "      <td>38</td>\n",
       "      <td>0.0</td>\n",
       "      <td>0</td>\n",
       "      <td>1</td>\n",
       "    </tr>\n",
       "  </tbody>\n",
       "</table>\n",
       "</div>"
      ],
      "text/plain": [
       "         Hospital_Associated_encoded  Tot_Sls_Amt  Msa_Dma_encoded  \\\n",
       "Account                                                              \n",
       "410092                             3     988589.0              139   \n",
       "363318                             0     132586.0               85   \n",
       "304550                             0     412451.0              145   \n",
       "756418                             3     421148.0              153   \n",
       "410068                             3     624629.0              139   \n",
       "\n",
       "         Salesperson_encoded  ST_encoded  Chain_Name_encoded  \\\n",
       "Account                                                        \n",
       "410092                    10          28                  38   \n",
       "363318                    31          16                  33   \n",
       "304550                   110          48                  38   \n",
       "756418                    10          28                  39   \n",
       "410068                    10          28                  38   \n",
       "\n",
       "         LMS_Available_Matching_Funds  Prediction  Actual  \n",
       "Account                                                    \n",
       "410092                            0.0           0       1  \n",
       "363318                         5800.0           0       1  \n",
       "304550                         1200.0           0       1  \n",
       "756418                          700.0           0       1  \n",
       "410068                            0.0           0       1  "
      ]
     },
     "execution_count": 33,
     "metadata": {},
     "output_type": "execute_result"
    }
   ],
   "source": [
    "X_unscaled.head()"
   ]
  },
  {
   "cell_type": "code",
   "execution_count": 34,
   "metadata": {
    "collapsed": true
   },
   "outputs": [],
   "source": [
    "X_unscaled.to_csv('data/HID_clustering_undersampled_predictions.csv')"
   ]
  },
  {
   "cell_type": "code",
   "execution_count": 35,
   "metadata": {
    "collapsed": true
   },
   "outputs": [],
   "source": [
    "y = df_clean['IS_HID']"
   ]
  },
  {
   "cell_type": "code",
   "execution_count": 36,
   "metadata": {
    "collapsed": true
   },
   "outputs": [],
   "source": [
    "Xc = df_clean[['Hospital_Associated_encoded', 'Tot_Sls_Amt', 'Msa_Dma_encoded',\n",
    "                'Salesperson_encoded', 'ST_encoded',\n",
    "                'Chain_Name_encoded','LMS_Available_Matching_Funds']]"
   ]
  },
  {
   "cell_type": "code",
   "execution_count": 37,
   "metadata": {},
   "outputs": [
    {
     "name": "stderr",
     "output_type": "stream",
     "text": [
      "C:\\ProgramData\\Anaconda3\\envs\\py36\\lib\\site-packages\\ipykernel_launcher.py:1: SettingWithCopyWarning: \n",
      "A value is trying to be set on a copy of a slice from a DataFrame.\n",
      "Try using .loc[row_indexer,col_indexer] = value instead\n",
      "\n",
      "See the caveats in the documentation: http://pandas.pydata.org/pandas-docs/stable/indexing.html#indexing-view-versus-copy\n",
      "  \"\"\"Entry point for launching an IPython kernel.\n"
     ]
    }
   ],
   "source": [
    "df_clean_reduced['Predicted_HID'] = kmeans2.predict(df_clean_reduced)"
   ]
  },
  {
   "cell_type": "code",
   "execution_count": 38,
   "metadata": {},
   "outputs": [
    {
     "name": "stderr",
     "output_type": "stream",
     "text": [
      "C:\\ProgramData\\Anaconda3\\envs\\py36\\lib\\site-packages\\ipykernel_launcher.py:1: SettingWithCopyWarning: \n",
      "A value is trying to be set on a copy of a slice from a DataFrame.\n",
      "Try using .loc[row_indexer,col_indexer] = value instead\n",
      "\n",
      "See the caveats in the documentation: http://pandas.pydata.org/pandas-docs/stable/indexing.html#indexing-view-versus-copy\n",
      "  \"\"\"Entry point for launching an IPython kernel.\n"
     ]
    }
   ],
   "source": [
    "df_clean_reduced['Actual_HID'] = df_clean['IS_HID']"
   ]
  },
  {
   "cell_type": "code",
   "execution_count": 39,
   "metadata": {},
   "outputs": [
    {
     "data": {
      "text/html": [
       "<div>\n",
       "<style>\n",
       "    .dataframe thead tr:only-child th {\n",
       "        text-align: right;\n",
       "    }\n",
       "\n",
       "    .dataframe thead th {\n",
       "        text-align: left;\n",
       "    }\n",
       "\n",
       "    .dataframe tbody tr th {\n",
       "        vertical-align: top;\n",
       "    }\n",
       "</style>\n",
       "<table border=\"1\" class=\"dataframe\">\n",
       "  <thead>\n",
       "    <tr style=\"text-align: right;\">\n",
       "      <th></th>\n",
       "      <th>Hospital_Associated_encoded</th>\n",
       "      <th>Tot_Sls_Amt</th>\n",
       "      <th>Msa_Dma_encoded</th>\n",
       "      <th>Salesperson_encoded</th>\n",
       "      <th>ST_encoded</th>\n",
       "      <th>Chain_Name_encoded</th>\n",
       "      <th>LMS_Available_Matching_Funds</th>\n",
       "      <th>Predicted_HID</th>\n",
       "      <th>Actual_HID</th>\n",
       "    </tr>\n",
       "    <tr>\n",
       "      <th>Account</th>\n",
       "      <th></th>\n",
       "      <th></th>\n",
       "      <th></th>\n",
       "      <th></th>\n",
       "      <th></th>\n",
       "      <th></th>\n",
       "      <th></th>\n",
       "      <th></th>\n",
       "      <th></th>\n",
       "    </tr>\n",
       "  </thead>\n",
       "  <tbody>\n",
       "    <tr>\n",
       "      <th>10491</th>\n",
       "      <td>15</td>\n",
       "      <td>141319.0</td>\n",
       "      <td>183</td>\n",
       "      <td>1</td>\n",
       "      <td>37</td>\n",
       "      <td>39</td>\n",
       "      <td>822.0</td>\n",
       "      <td>1</td>\n",
       "      <td>0</td>\n",
       "    </tr>\n",
       "    <tr>\n",
       "      <th>17475</th>\n",
       "      <td>15</td>\n",
       "      <td>211381.0</td>\n",
       "      <td>190</td>\n",
       "      <td>1</td>\n",
       "      <td>37</td>\n",
       "      <td>39</td>\n",
       "      <td>0.0</td>\n",
       "      <td>1</td>\n",
       "      <td>0</td>\n",
       "    </tr>\n",
       "    <tr>\n",
       "      <th>19901</th>\n",
       "      <td>15</td>\n",
       "      <td>151490.0</td>\n",
       "      <td>183</td>\n",
       "      <td>1</td>\n",
       "      <td>37</td>\n",
       "      <td>39</td>\n",
       "      <td>0.0</td>\n",
       "      <td>1</td>\n",
       "      <td>0</td>\n",
       "    </tr>\n",
       "    <tr>\n",
       "      <th>309745</th>\n",
       "      <td>15</td>\n",
       "      <td>165231.0</td>\n",
       "      <td>183</td>\n",
       "      <td>1</td>\n",
       "      <td>37</td>\n",
       "      <td>39</td>\n",
       "      <td>0.0</td>\n",
       "      <td>1</td>\n",
       "      <td>0</td>\n",
       "    </tr>\n",
       "    <tr>\n",
       "      <th>652229</th>\n",
       "      <td>15</td>\n",
       "      <td>129169.0</td>\n",
       "      <td>183</td>\n",
       "      <td>1</td>\n",
       "      <td>37</td>\n",
       "      <td>38</td>\n",
       "      <td>340.0</td>\n",
       "      <td>1</td>\n",
       "      <td>0</td>\n",
       "    </tr>\n",
       "  </tbody>\n",
       "</table>\n",
       "</div>"
      ],
      "text/plain": [
       "         Hospital_Associated_encoded  Tot_Sls_Amt  Msa_Dma_encoded  \\\n",
       "Account                                                              \n",
       "10491                             15     141319.0              183   \n",
       "17475                             15     211381.0              190   \n",
       "19901                             15     151490.0              183   \n",
       "309745                            15     165231.0              183   \n",
       "652229                            15     129169.0              183   \n",
       "\n",
       "         Salesperson_encoded  ST_encoded  Chain_Name_encoded  \\\n",
       "Account                                                        \n",
       "10491                      1          37                  39   \n",
       "17475                      1          37                  39   \n",
       "19901                      1          37                  39   \n",
       "309745                     1          37                  39   \n",
       "652229                     1          37                  38   \n",
       "\n",
       "         LMS_Available_Matching_Funds  Predicted_HID  Actual_HID  \n",
       "Account                                                           \n",
       "10491                           822.0              1           0  \n",
       "17475                             0.0              1           0  \n",
       "19901                             0.0              1           0  \n",
       "309745                            0.0              1           0  \n",
       "652229                          340.0              1           0  "
      ]
     },
     "execution_count": 39,
     "metadata": {},
     "output_type": "execute_result"
    }
   ],
   "source": [
    "df_clean_reduced.head()"
   ]
  },
  {
   "cell_type": "code",
   "execution_count": 40,
   "metadata": {},
   "outputs": [
    {
     "name": "stdout",
     "output_type": "stream",
     "text": [
      "-3.94083162228e+13 0.0724308708213 0.0364974821772\n"
     ]
    }
   ],
   "source": [
    "kmeans2_score_acc = np.mean(cross_val_score(kmeans2, Xc, y, cv=5))\n",
    "kmeans2_score_recall = recall_score(y, kmeans2.predict(Xc), average='weighted') \n",
    "kmeans2_score_avgprecision = average_precision_score(y, kmeans2.predict(Xc))\n",
    "print(kmeans2_score_acc, kmeans2_score_recall, kmeans2_score_avgprecision)"
   ]
  },
  {
   "cell_type": "markdown",
   "metadata": {},
   "source": [
    "### Clustering with only top 2 Features"
   ]
  },
  {
   "cell_type": "code",
   "execution_count": 41,
   "metadata": {},
   "outputs": [
    {
     "data": {
      "image/png": "[encoded data removed]",
      "text/plain": [
       "<matplotlib.figure.Figure at 0xf6e5550>"
      ]
     },
     "metadata": {},
     "output_type": "display_data"
    }
   ],
   "source": [
    "plt.scatter(X['Hospital_Associated_encoded'],X['LMS_Available_Matching_Funds'] )\n",
    "\n",
    "plt.show()"
   ]
  },
  {
   "cell_type": "code",
   "execution_count": 42,
   "metadata": {
    "collapsed": true
   },
   "outputs": [],
   "source": [
    "X = df_clean_reduced[['Hospital_Associated_encoded', 'LMS_Available_Matching_Funds']]"
   ]
  },
  {
   "cell_type": "markdown",
   "metadata": {},
   "source": [
    "### K Means with only top 2 Features"
   ]
  },
  {
   "cell_type": "code",
   "execution_count": 43,
   "metadata": {},
   "outputs": [
    {
     "data": {
      "text/plain": [
       "array([0, 0, 0, ..., 0, 0, 0])"
      ]
     },
     "execution_count": 43,
     "metadata": {},
     "output_type": "execute_result"
    }
   ],
   "source": [
    "kmeans2feat = KMeans(n_clusters=2)\n",
    "kmeans2feat.fit_transform(X)\n",
    "kmeans2feat.predict(X)\n",
    "kmeans2feat.labels_"
   ]
  },
  {
   "cell_type": "code",
   "execution_count": 44,
   "metadata": {},
   "outputs": [
    {
     "data": {
      "text/plain": [
       "0.93210895583986797"
      ]
     },
     "execution_count": 44,
     "metadata": {},
     "output_type": "execute_result"
    }
   ],
   "source": [
    "jaccard_similarity_score(df_clean['IS_HID'], kmeans2feat.labels_)"
   ]
  },
  {
   "cell_type": "code",
   "execution_count": 45,
   "metadata": {},
   "outputs": [
    {
     "name": "stderr",
     "output_type": "stream",
     "text": [
      "C:\\ProgramData\\Anaconda3\\envs\\py36\\lib\\site-packages\\ipykernel_launcher.py:1: SettingWithCopyWarning: \n",
      "A value is trying to be set on a copy of a slice from a DataFrame.\n",
      "Try using .loc[row_indexer,col_indexer] = value instead\n",
      "\n",
      "See the caveats in the documentation: http://pandas.pydata.org/pandas-docs/stable/indexing.html#indexing-view-versus-copy\n",
      "  \"\"\"Entry point for launching an IPython kernel.\n"
     ]
    }
   ],
   "source": [
    "df_clean_reduced['Predicted-2Feat-HID'] = kmeans2feat.labels_"
   ]
  },
  {
   "cell_type": "code",
   "execution_count": 46,
   "metadata": {},
   "outputs": [
    {
     "data": {
      "text/html": [
       "<div>\n",
       "<style>\n",
       "    .dataframe thead tr:only-child th {\n",
       "        text-align: right;\n",
       "    }\n",
       "\n",
       "    .dataframe thead th {\n",
       "        text-align: left;\n",
       "    }\n",
       "\n",
       "    .dataframe tbody tr th {\n",
       "        vertical-align: top;\n",
       "    }\n",
       "</style>\n",
       "<table border=\"1\" class=\"dataframe\">\n",
       "  <thead>\n",
       "    <tr style=\"text-align: right;\">\n",
       "      <th></th>\n",
       "      <th>Hospital_Associated_encoded</th>\n",
       "      <th>Tot_Sls_Amt</th>\n",
       "      <th>Msa_Dma_encoded</th>\n",
       "      <th>Salesperson_encoded</th>\n",
       "      <th>ST_encoded</th>\n",
       "      <th>Chain_Name_encoded</th>\n",
       "      <th>LMS_Available_Matching_Funds</th>\n",
       "      <th>Predicted_HID</th>\n",
       "      <th>Actual_HID</th>\n",
       "      <th>Predicted-2Feat-HID</th>\n",
       "    </tr>\n",
       "    <tr>\n",
       "      <th>Account</th>\n",
       "      <th></th>\n",
       "      <th></th>\n",
       "      <th></th>\n",
       "      <th></th>\n",
       "      <th></th>\n",
       "      <th></th>\n",
       "      <th></th>\n",
       "      <th></th>\n",
       "      <th></th>\n",
       "      <th></th>\n",
       "    </tr>\n",
       "  </thead>\n",
       "  <tbody>\n",
       "    <tr>\n",
       "      <th>10491</th>\n",
       "      <td>15</td>\n",
       "      <td>141319.0</td>\n",
       "      <td>183</td>\n",
       "      <td>1</td>\n",
       "      <td>37</td>\n",
       "      <td>39</td>\n",
       "      <td>822.0</td>\n",
       "      <td>1</td>\n",
       "      <td>0</td>\n",
       "      <td>0</td>\n",
       "    </tr>\n",
       "    <tr>\n",
       "      <th>17475</th>\n",
       "      <td>15</td>\n",
       "      <td>211381.0</td>\n",
       "      <td>190</td>\n",
       "      <td>1</td>\n",
       "      <td>37</td>\n",
       "      <td>39</td>\n",
       "      <td>0.0</td>\n",
       "      <td>1</td>\n",
       "      <td>0</td>\n",
       "      <td>0</td>\n",
       "    </tr>\n",
       "    <tr>\n",
       "      <th>19901</th>\n",
       "      <td>15</td>\n",
       "      <td>151490.0</td>\n",
       "      <td>183</td>\n",
       "      <td>1</td>\n",
       "      <td>37</td>\n",
       "      <td>39</td>\n",
       "      <td>0.0</td>\n",
       "      <td>1</td>\n",
       "      <td>0</td>\n",
       "      <td>0</td>\n",
       "    </tr>\n",
       "    <tr>\n",
       "      <th>309745</th>\n",
       "      <td>15</td>\n",
       "      <td>165231.0</td>\n",
       "      <td>183</td>\n",
       "      <td>1</td>\n",
       "      <td>37</td>\n",
       "      <td>39</td>\n",
       "      <td>0.0</td>\n",
       "      <td>1</td>\n",
       "      <td>0</td>\n",
       "      <td>0</td>\n",
       "    </tr>\n",
       "    <tr>\n",
       "      <th>652229</th>\n",
       "      <td>15</td>\n",
       "      <td>129169.0</td>\n",
       "      <td>183</td>\n",
       "      <td>1</td>\n",
       "      <td>37</td>\n",
       "      <td>38</td>\n",
       "      <td>340.0</td>\n",
       "      <td>1</td>\n",
       "      <td>0</td>\n",
       "      <td>0</td>\n",
       "    </tr>\n",
       "  </tbody>\n",
       "</table>\n",
       "</div>"
      ],
      "text/plain": [
       "         Hospital_Associated_encoded  Tot_Sls_Amt  Msa_Dma_encoded  \\\n",
       "Account                                                              \n",
       "10491                             15     141319.0              183   \n",
       "17475                             15     211381.0              190   \n",
       "19901                             15     151490.0              183   \n",
       "309745                            15     165231.0              183   \n",
       "652229                            15     129169.0              183   \n",
       "\n",
       "         Salesperson_encoded  ST_encoded  Chain_Name_encoded  \\\n",
       "Account                                                        \n",
       "10491                      1          37                  39   \n",
       "17475                      1          37                  39   \n",
       "19901                      1          37                  39   \n",
       "309745                     1          37                  39   \n",
       "652229                     1          37                  38   \n",
       "\n",
       "         LMS_Available_Matching_Funds  Predicted_HID  Actual_HID  \\\n",
       "Account                                                            \n",
       "10491                           822.0              1           0   \n",
       "17475                             0.0              1           0   \n",
       "19901                             0.0              1           0   \n",
       "309745                            0.0              1           0   \n",
       "652229                          340.0              1           0   \n",
       "\n",
       "         Predicted-2Feat-HID  \n",
       "Account                       \n",
       "10491                      0  \n",
       "17475                      0  \n",
       "19901                      0  \n",
       "309745                     0  \n",
       "652229                     0  "
      ]
     },
     "execution_count": 46,
     "metadata": {},
     "output_type": "execute_result"
    }
   ],
   "source": [
    "df_clean_reduced.head()"
   ]
  },
  {
   "cell_type": "code",
   "execution_count": 54,
   "metadata": {
    "collapsed": true
   },
   "outputs": [],
   "source": [
    "Xd = Xc[['Hospital_Associated_encoded', 'LMS_Available_Matching_Funds']]"
   ]
  },
  {
   "cell_type": "code",
   "execution_count": 56,
   "metadata": {},
   "outputs": [
    {
     "name": "stdout",
     "output_type": "stream",
     "text": [
      "-1463662683.51 0.93210895584 0.0509467814037\n"
     ]
    }
   ],
   "source": [
    "kmeans2feat_score_acc = np.mean(cross_val_score(kmeans2feat, Xd, y, cv=5))\n",
    "kmeans2feat_score_recall = recall_score(y, kmeans2feat.predict(Xd), average='weighted') \n",
    "kmeans2feat_score_avgprecision = average_precision_score(y, kmeans2feat.predict(Xd))\n",
    "print(kmeans2feat_score_acc, kmeans2feat_score_recall, kmeans2feat_score_avgprecision)"
   ]
  },
  {
   "cell_type": "code",
   "execution_count": 47,
   "metadata": {
    "collapsed": true
   },
   "outputs": [],
   "source": [
    "df_clean_reduced.to_csv('data/HID_clustering_all_obs_predictions.csv')"
   ]
  },
  {
   "cell_type": "markdown",
   "metadata": {},
   "source": [
    "### Mean Shift"
   ]
  },
  {
   "cell_type": "code",
   "execution_count": 48,
   "metadata": {
    "collapsed": true
   },
   "outputs": [],
   "source": [
    "from sklearn.cluster import MeanShift, estimate_bandwidth\n",
    "from sklearn.datasets.samples_generator import make_blobs\n",
    "\n",
    "# Mean shift clustering aims to discover “blobs” in a smooth density of samples. \n",
    "# It is a centroid-based algorithm, which works by updating candidates for centroids to be the mean \n",
    "# of the points within a given region. These candidates are then filtered in a post-processing stage \n",
    "# to eliminate near-duplicates to form the final set of centroids."
   ]
  },
  {
   "cell_type": "code",
   "execution_count": 49,
   "metadata": {},
   "outputs": [
    {
     "name": "stdout",
     "output_type": "stream",
     "text": [
      "number of estimated clusters : 13\n"
     ]
    }
   ],
   "source": [
    "bandwidth = estimate_bandwidth(X, quantile=0.2, n_samples=500)\n",
    "\n",
    "ms = MeanShift(bandwidth=bandwidth, bin_seeding=True)\n",
    "ms.fit(X)\n",
    "labels = ms.labels_\n",
    "cluster_centers = ms.cluster_centers_\n",
    "\n",
    "ms_labels_unique = np.unique(labels)\n",
    "n_clusters_ = len(ms_labels_unique)\n",
    "\n",
    "print(\"number of estimated clusters : %d\" % n_clusters_)"
   ]
  },
  {
   "cell_type": "markdown",
   "metadata": {},
   "source": [
    "### Affinity Propagation"
   ]
  },
  {
   "cell_type": "code",
   "execution_count": 50,
   "metadata": {
    "collapsed": true
   },
   "outputs": [],
   "source": [
    "from sklearn.cluster import AffinityPropagation\n",
    "from sklearn import metrics\n",
    "from sklearn.datasets.samples_generator import make_blobs"
   ]
  },
  {
   "cell_type": "code",
   "execution_count": 51,
   "metadata": {
    "collapsed": true
   },
   "outputs": [],
   "source": [
    "#af = AffinityPropagation().fit(X)\n",
    "#cluster_centers_indices = af.cluster_centers_indices_\n",
    "#labels = af.labels_\n",
    "#n_clusters_ = len(cluster_centers_indices)"
   ]
  },
  {
   "cell_type": "code",
   "execution_count": 52,
   "metadata": {},
   "outputs": [],
   "source": [
    "#n_clusters_"
   ]
  },
  {
   "cell_type": "code",
   "execution_count": null,
   "metadata": {
    "collapsed": true
   },
   "outputs": [],
   "source": []
  }
 ],
 "metadata": {
  "kernelspec": {
   "display_name": "Python (3.6)",
   "language": "python",
   "name": "py36"
  },
  "language_info": {
   "codemirror_mode": {
    "name": "ipython",
    "version": 3
   },
   "file_extension": ".py",
   "mimetype": "text/x-python",
   "name": "python",
   "nbconvert_exporter": "python",
   "pygments_lexer": "ipython3",
   "version": "3.6.3"
  }
 },
 "nbformat": 4,
 "nbformat_minor": 2
}
