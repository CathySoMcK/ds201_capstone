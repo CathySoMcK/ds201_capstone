{
 "cells": [
  {
   "cell_type": "markdown",
   "metadata": {},
   "source": [
    "### Import Programs"
   ]
  },
  {
   "cell_type": "code",
   "execution_count": 1,
   "metadata": {
    "collapsed": true
   },
   "outputs": [],
   "source": [
    "%load_ext autoreload\n",
    "%autoreload 2\n",
    "%matplotlib inline"
   ]
  },
  {
   "cell_type": "code",
   "execution_count": 2,
   "metadata": {},
   "outputs": [
    {
     "name": "stderr",
     "output_type": "stream",
     "text": [
      "C:\\ProgramData\\Anaconda3\\envs\\py36\\lib\\site-packages\\ipykernel_launcher.py:6: FutureWarning: The pandas.core.datetools module is deprecated and will be removed in a future version. Please use the pandas.tseries module instead.\n",
      "  \n"
     ]
    }
   ],
   "source": [
    "import datetime as dt\n",
    "\n",
    "import pandas as pd\n",
    "from pandas import ExcelWriter\n",
    "from pandas import ExcelFile\n",
    "from pandas.core import datetools\n",
    "\n",
    "from sklearn.preprocessing import LabelEncoder\n",
    "\n",
    "import numpy as np\n",
    "\n",
    "import matplotlib.pyplot as plt\n",
    "\n",
    "from sklearn import tree\n",
    "from sklearn.metrics import accuracy_score\n",
    "from sklearn.model_selection import KFold\n",
    "from sklearn.model_selection import cross_val_score\n",
    "from sklearn.metrics import recall_score, average_precision_score\n",
    "from sklearn.ensemble import GradientBoostingRegressor\n",
    "from sklearn.model_selection import train_test_split\n",
    "import statsmodels.api as sm\n",
    "from statsmodels.stats.outliers_influence import variance_inflation_factor\n",
    "from sklearn.ensemble import RandomForestClassifier\n",
    "from sklearn.datasets import make_classification\n",
    "from sklearn.tree import DecisionTreeClassifier\n",
    "from sklearn.linear_model import LogisticRegression\n",
    "from sklearn.ensemble import GradientBoostingClassifier"
   ]
  },
  {
   "cell_type": "markdown",
   "metadata": {},
   "source": [
    "### Import Dataset from Excel file"
   ]
  },
  {
   "cell_type": "code",
   "execution_count": 3,
   "metadata": {
    "collapsed": true
   },
   "outputs": [],
   "source": [
    "X = pd.read_csv('data/HID_features.csv')\n",
    "df_clean = pd.read_csv('data/df_clean.csv')"
   ]
  },
  {
   "cell_type": "markdown",
   "metadata": {},
   "source": [
    "### Make more balanced datasets for the label ('IS_HID') - via undersampling 'IS_HID' = 0"
   ]
  },
  {
   "cell_type": "code",
   "execution_count": 4,
   "metadata": {},
   "outputs": [
    {
     "data": {
      "text/plain": [
       "Index(['Account', 'Hm_Start_Dt', 'Auto_Ship_Ind',\n",
       "       'Interior_Decor_Signage_Available_Funds', 'LMS_Enrolled',\n",
       "       'LMS_Available_Matching_Funds', 'LMS_Used_Funds_Most_Recent_3_Months',\n",
       "       'LMS_Used_Funds_Previous_3_Months', 'Open_Smart', 'PIP_Program',\n",
       "       'KYN_Training', 'PQS_Program', 'Last_EQuIPP_Login', 'PQS_Enrolled_Date',\n",
       "       'SCS_Program', 'Spar_Coverage_Ind', 'Specialty_Solutions',\n",
       "       'Vaccine_Items', 'Vaccine_Starter', 'Vaccine_Items_Count',\n",
       "       'Vaccine_Items_Sls_Amt', 'YPO', 'Tot_Sls_Amt', 'DLC_Program_encoded',\n",
       "       'FEM_Program_encoded', 'HM_Circular_Program_encoded', 'Internal_Decor',\n",
       "       'PQS_Enrolled_encoded', 'ST_encoded', 'Pog_Code_Name_encoded',\n",
       "       'DC_Name_encoded', 'Bus_Type_Desc_encoded', 'Region_encoded',\n",
       "       'PSAO_Expanded_encoded', 'Chain_Name_encoded', 'Salesperson_encoded',\n",
       "       'AH_Program_encoded', 'OTC_Front-end_Size_encoded',\n",
       "       'MRA_Program_Type_-_Active_AH_encoded', 'Msa_Dma_encoded',\n",
       "       'Signage_Program_encoded', 'Hospital_Associated_encoded'],\n",
       "      dtype='object')"
      ]
     },
     "execution_count": 4,
     "metadata": {},
     "output_type": "execute_result"
    }
   ],
   "source": [
    "X.columns"
   ]
  },
  {
   "cell_type": "code",
   "execution_count": 5,
   "metadata": {
    "collapsed": true
   },
   "outputs": [],
   "source": [
    "MH = df_clean.loc[df_clean['IS_HID'] == 1]"
   ]
  },
  {
   "cell_type": "code",
   "execution_count": 6,
   "metadata": {},
   "outputs": [
    {
     "data": {
      "text/html": [
       "<div>\n",
       "<style>\n",
       "    .dataframe thead tr:only-child th {\n",
       "        text-align: right;\n",
       "    }\n",
       "\n",
       "    .dataframe thead th {\n",
       "        text-align: left;\n",
       "    }\n",
       "\n",
       "    .dataframe tbody tr th {\n",
       "        vertical-align: top;\n",
       "    }\n",
       "</style>\n",
       "<table border=\"1\" class=\"dataframe\">\n",
       "  <thead>\n",
       "    <tr style=\"text-align: right;\">\n",
       "      <th></th>\n",
       "      <th>Account</th>\n",
       "      <th>Zip</th>\n",
       "      <th>Hm_Start_Dt</th>\n",
       "      <th>Channel_Type_Cd</th>\n",
       "      <th>Auto_Ship_Ind</th>\n",
       "      <th>Internal_Decor</th>\n",
       "      <th>Interior_Decor_Signage_Available_Funds</th>\n",
       "      <th>LMS_Enrolled</th>\n",
       "      <th>LMS_Available_Matching_Funds</th>\n",
       "      <th>LMS_Used_Funds_Most_Recent_3_Months</th>\n",
       "      <th>...</th>\n",
       "      <th>Chain_Name_encoded</th>\n",
       "      <th>Region_Name_encoded</th>\n",
       "      <th>Salesperson_encoded</th>\n",
       "      <th>AH_Program_encoded</th>\n",
       "      <th>OTC_Front-end_Size_encoded</th>\n",
       "      <th>MRA_Program_Type_-_Active_AH_encoded</th>\n",
       "      <th>Msa_Dma_encoded</th>\n",
       "      <th>Signage_Program_encoded</th>\n",
       "      <th>3rd_Party_Vendor_encoded</th>\n",
       "      <th>Hospital_Associated_encoded</th>\n",
       "    </tr>\n",
       "  </thead>\n",
       "  <tbody>\n",
       "    <tr>\n",
       "      <th>65</th>\n",
       "      <td>410092</td>\n",
       "      <td>58503</td>\n",
       "      <td>732524</td>\n",
       "      <td>30</td>\n",
       "      <td>0</td>\n",
       "      <td>1</td>\n",
       "      <td>0.0</td>\n",
       "      <td>1</td>\n",
       "      <td>0.0</td>\n",
       "      <td>1</td>\n",
       "      <td>...</td>\n",
       "      <td>38</td>\n",
       "      <td>23</td>\n",
       "      <td>10</td>\n",
       "      <td>0</td>\n",
       "      <td>5</td>\n",
       "      <td>2</td>\n",
       "      <td>139</td>\n",
       "      <td>0</td>\n",
       "      <td>6</td>\n",
       "      <td>3</td>\n",
       "    </tr>\n",
       "    <tr>\n",
       "      <th>133</th>\n",
       "      <td>363318</td>\n",
       "      <td>66434</td>\n",
       "      <td>736441</td>\n",
       "      <td>30</td>\n",
       "      <td>0</td>\n",
       "      <td>0</td>\n",
       "      <td>2500.0</td>\n",
       "      <td>1</td>\n",
       "      <td>5800.0</td>\n",
       "      <td>0</td>\n",
       "      <td>...</td>\n",
       "      <td>33</td>\n",
       "      <td>27</td>\n",
       "      <td>31</td>\n",
       "      <td>0</td>\n",
       "      <td>6</td>\n",
       "      <td>0</td>\n",
       "      <td>85</td>\n",
       "      <td>1</td>\n",
       "      <td>6</td>\n",
       "      <td>0</td>\n",
       "    </tr>\n",
       "    <tr>\n",
       "      <th>148</th>\n",
       "      <td>304550</td>\n",
       "      <td>54409</td>\n",
       "      <td>732288</td>\n",
       "      <td>30</td>\n",
       "      <td>1</td>\n",
       "      <td>1</td>\n",
       "      <td>1829.0</td>\n",
       "      <td>0</td>\n",
       "      <td>1200.0</td>\n",
       "      <td>0</td>\n",
       "      <td>...</td>\n",
       "      <td>38</td>\n",
       "      <td>23</td>\n",
       "      <td>110</td>\n",
       "      <td>0</td>\n",
       "      <td>1</td>\n",
       "      <td>3</td>\n",
       "      <td>145</td>\n",
       "      <td>0</td>\n",
       "      <td>6</td>\n",
       "      <td>0</td>\n",
       "    </tr>\n",
       "    <tr>\n",
       "      <th>149</th>\n",
       "      <td>756418</td>\n",
       "      <td>58078</td>\n",
       "      <td>733881</td>\n",
       "      <td>30</td>\n",
       "      <td>0</td>\n",
       "      <td>1</td>\n",
       "      <td>603.0</td>\n",
       "      <td>1</td>\n",
       "      <td>700.0</td>\n",
       "      <td>1</td>\n",
       "      <td>...</td>\n",
       "      <td>39</td>\n",
       "      <td>23</td>\n",
       "      <td>10</td>\n",
       "      <td>0</td>\n",
       "      <td>3</td>\n",
       "      <td>2</td>\n",
       "      <td>153</td>\n",
       "      <td>5</td>\n",
       "      <td>6</td>\n",
       "      <td>3</td>\n",
       "    </tr>\n",
       "    <tr>\n",
       "      <th>167</th>\n",
       "      <td>410068</td>\n",
       "      <td>58504</td>\n",
       "      <td>732556</td>\n",
       "      <td>30</td>\n",
       "      <td>0</td>\n",
       "      <td>1</td>\n",
       "      <td>0.0</td>\n",
       "      <td>1</td>\n",
       "      <td>0.0</td>\n",
       "      <td>1</td>\n",
       "      <td>...</td>\n",
       "      <td>38</td>\n",
       "      <td>23</td>\n",
       "      <td>10</td>\n",
       "      <td>0</td>\n",
       "      <td>5</td>\n",
       "      <td>2</td>\n",
       "      <td>139</td>\n",
       "      <td>0</td>\n",
       "      <td>6</td>\n",
       "      <td>3</td>\n",
       "    </tr>\n",
       "  </tbody>\n",
       "</table>\n",
       "<p>5 rows × 63 columns</p>\n",
       "</div>"
      ],
      "text/plain": [
       "     Account    Zip  Hm_Start_Dt  Channel_Type_Cd  Auto_Ship_Ind  \\\n",
       "65    410092  58503       732524               30              0   \n",
       "133   363318  66434       736441               30              0   \n",
       "148   304550  54409       732288               30              1   \n",
       "149   756418  58078       733881               30              0   \n",
       "167   410068  58504       732556               30              0   \n",
       "\n",
       "     Internal_Decor  Interior_Decor_Signage_Available_Funds  LMS_Enrolled  \\\n",
       "65                1                                     0.0             1   \n",
       "133               0                                  2500.0             1   \n",
       "148               1                                  1829.0             0   \n",
       "149               1                                   603.0             1   \n",
       "167               1                                     0.0             1   \n",
       "\n",
       "     LMS_Available_Matching_Funds  LMS_Used_Funds_Most_Recent_3_Months  \\\n",
       "65                            0.0                                    1   \n",
       "133                        5800.0                                    0   \n",
       "148                        1200.0                                    0   \n",
       "149                         700.0                                    1   \n",
       "167                           0.0                                    1   \n",
       "\n",
       "                ...               Chain_Name_encoded  Region_Name_encoded  \\\n",
       "65              ...                               38                   23   \n",
       "133             ...                               33                   27   \n",
       "148             ...                               38                   23   \n",
       "149             ...                               39                   23   \n",
       "167             ...                               38                   23   \n",
       "\n",
       "     Salesperson_encoded  AH_Program_encoded  OTC_Front-end_Size_encoded  \\\n",
       "65                    10                   0                           5   \n",
       "133                   31                   0                           6   \n",
       "148                  110                   0                           1   \n",
       "149                   10                   0                           3   \n",
       "167                   10                   0                           5   \n",
       "\n",
       "     MRA_Program_Type_-_Active_AH_encoded  Msa_Dma_encoded  \\\n",
       "65                                      2              139   \n",
       "133                                     0               85   \n",
       "148                                     3              145   \n",
       "149                                     2              153   \n",
       "167                                     2              139   \n",
       "\n",
       "     Signage_Program_encoded  3rd_Party_Vendor_encoded  \\\n",
       "65                         0                         6   \n",
       "133                        1                         6   \n",
       "148                        0                         6   \n",
       "149                        5                         6   \n",
       "167                        0                         6   \n",
       "\n",
       "     Hospital_Associated_encoded  \n",
       "65                             3  \n",
       "133                            0  \n",
       "148                            0  \n",
       "149                            3  \n",
       "167                            3  \n",
       "\n",
       "[5 rows x 63 columns]"
      ]
     },
     "execution_count": 6,
     "metadata": {},
     "output_type": "execute_result"
    }
   ],
   "source": [
    "MH.head()"
   ]
  },
  {
   "cell_type": "code",
   "execution_count": 7,
   "metadata": {
    "collapsed": true
   },
   "outputs": [],
   "source": [
    "NonMH = df_clean.loc[df_clean['IS_HID'] == 0]"
   ]
  },
  {
   "cell_type": "code",
   "execution_count": 8,
   "metadata": {},
   "outputs": [
    {
     "data": {
      "text/html": [
       "<div>\n",
       "<style>\n",
       "    .dataframe thead tr:only-child th {\n",
       "        text-align: right;\n",
       "    }\n",
       "\n",
       "    .dataframe thead th {\n",
       "        text-align: left;\n",
       "    }\n",
       "\n",
       "    .dataframe tbody tr th {\n",
       "        vertical-align: top;\n",
       "    }\n",
       "</style>\n",
       "<table border=\"1\" class=\"dataframe\">\n",
       "  <thead>\n",
       "    <tr style=\"text-align: right;\">\n",
       "      <th></th>\n",
       "      <th>Account</th>\n",
       "      <th>Zip</th>\n",
       "      <th>Hm_Start_Dt</th>\n",
       "      <th>Channel_Type_Cd</th>\n",
       "      <th>Auto_Ship_Ind</th>\n",
       "      <th>Internal_Decor</th>\n",
       "      <th>Interior_Decor_Signage_Available_Funds</th>\n",
       "      <th>LMS_Enrolled</th>\n",
       "      <th>LMS_Available_Matching_Funds</th>\n",
       "      <th>LMS_Used_Funds_Most_Recent_3_Months</th>\n",
       "      <th>...</th>\n",
       "      <th>Chain_Name_encoded</th>\n",
       "      <th>Region_Name_encoded</th>\n",
       "      <th>Salesperson_encoded</th>\n",
       "      <th>AH_Program_encoded</th>\n",
       "      <th>OTC_Front-end_Size_encoded</th>\n",
       "      <th>MRA_Program_Type_-_Active_AH_encoded</th>\n",
       "      <th>Msa_Dma_encoded</th>\n",
       "      <th>Signage_Program_encoded</th>\n",
       "      <th>3rd_Party_Vendor_encoded</th>\n",
       "      <th>Hospital_Associated_encoded</th>\n",
       "    </tr>\n",
       "  </thead>\n",
       "  <tbody>\n",
       "    <tr>\n",
       "      <th>0</th>\n",
       "      <td>10491</td>\n",
       "      <td>97463</td>\n",
       "      <td>732524</td>\n",
       "      <td>30</td>\n",
       "      <td>1</td>\n",
       "      <td>1</td>\n",
       "      <td>1724.0</td>\n",
       "      <td>1</td>\n",
       "      <td>822.0</td>\n",
       "      <td>1</td>\n",
       "      <td>...</td>\n",
       "      <td>39</td>\n",
       "      <td>23</td>\n",
       "      <td>1</td>\n",
       "      <td>4</td>\n",
       "      <td>1</td>\n",
       "      <td>7</td>\n",
       "      <td>183</td>\n",
       "      <td>0</td>\n",
       "      <td>18</td>\n",
       "      <td>15</td>\n",
       "    </tr>\n",
       "    <tr>\n",
       "      <th>1</th>\n",
       "      <td>17475</td>\n",
       "      <td>97630</td>\n",
       "      <td>732687</td>\n",
       "      <td>30</td>\n",
       "      <td>1</td>\n",
       "      <td>1</td>\n",
       "      <td>0.0</td>\n",
       "      <td>1</td>\n",
       "      <td>0.0</td>\n",
       "      <td>1</td>\n",
       "      <td>...</td>\n",
       "      <td>39</td>\n",
       "      <td>23</td>\n",
       "      <td>1</td>\n",
       "      <td>0</td>\n",
       "      <td>3</td>\n",
       "      <td>3</td>\n",
       "      <td>190</td>\n",
       "      <td>0</td>\n",
       "      <td>18</td>\n",
       "      <td>15</td>\n",
       "    </tr>\n",
       "    <tr>\n",
       "      <th>2</th>\n",
       "      <td>19901</td>\n",
       "      <td>97471</td>\n",
       "      <td>732616</td>\n",
       "      <td>30</td>\n",
       "      <td>0</td>\n",
       "      <td>1</td>\n",
       "      <td>0.0</td>\n",
       "      <td>1</td>\n",
       "      <td>0.0</td>\n",
       "      <td>1</td>\n",
       "      <td>...</td>\n",
       "      <td>39</td>\n",
       "      <td>23</td>\n",
       "      <td>1</td>\n",
       "      <td>0</td>\n",
       "      <td>4</td>\n",
       "      <td>2</td>\n",
       "      <td>183</td>\n",
       "      <td>0</td>\n",
       "      <td>18</td>\n",
       "      <td>15</td>\n",
       "    </tr>\n",
       "    <tr>\n",
       "      <th>3</th>\n",
       "      <td>309745</td>\n",
       "      <td>97467</td>\n",
       "      <td>735998</td>\n",
       "      <td>30</td>\n",
       "      <td>0</td>\n",
       "      <td>0</td>\n",
       "      <td>2500.0</td>\n",
       "      <td>1</td>\n",
       "      <td>0.0</td>\n",
       "      <td>0</td>\n",
       "      <td>...</td>\n",
       "      <td>39</td>\n",
       "      <td>23</td>\n",
       "      <td>1</td>\n",
       "      <td>0</td>\n",
       "      <td>1</td>\n",
       "      <td>8</td>\n",
       "      <td>183</td>\n",
       "      <td>3</td>\n",
       "      <td>18</td>\n",
       "      <td>15</td>\n",
       "    </tr>\n",
       "    <tr>\n",
       "      <th>4</th>\n",
       "      <td>652229</td>\n",
       "      <td>97370</td>\n",
       "      <td>734702</td>\n",
       "      <td>30</td>\n",
       "      <td>0</td>\n",
       "      <td>1</td>\n",
       "      <td>0.0</td>\n",
       "      <td>1</td>\n",
       "      <td>340.0</td>\n",
       "      <td>1</td>\n",
       "      <td>...</td>\n",
       "      <td>38</td>\n",
       "      <td>23</td>\n",
       "      <td>1</td>\n",
       "      <td>0</td>\n",
       "      <td>0</td>\n",
       "      <td>8</td>\n",
       "      <td>183</td>\n",
       "      <td>0</td>\n",
       "      <td>18</td>\n",
       "      <td>15</td>\n",
       "    </tr>\n",
       "  </tbody>\n",
       "</table>\n",
       "<p>5 rows × 63 columns</p>\n",
       "</div>"
      ],
      "text/plain": [
       "   Account    Zip  Hm_Start_Dt  Channel_Type_Cd  Auto_Ship_Ind  \\\n",
       "0    10491  97463       732524               30              1   \n",
       "1    17475  97630       732687               30              1   \n",
       "2    19901  97471       732616               30              0   \n",
       "3   309745  97467       735998               30              0   \n",
       "4   652229  97370       734702               30              0   \n",
       "\n",
       "   Internal_Decor  Interior_Decor_Signage_Available_Funds  LMS_Enrolled  \\\n",
       "0               1                                  1724.0             1   \n",
       "1               1                                     0.0             1   \n",
       "2               1                                     0.0             1   \n",
       "3               0                                  2500.0             1   \n",
       "4               1                                     0.0             1   \n",
       "\n",
       "   LMS_Available_Matching_Funds  LMS_Used_Funds_Most_Recent_3_Months  \\\n",
       "0                         822.0                                    1   \n",
       "1                           0.0                                    1   \n",
       "2                           0.0                                    1   \n",
       "3                           0.0                                    0   \n",
       "4                         340.0                                    1   \n",
       "\n",
       "              ...               Chain_Name_encoded  Region_Name_encoded  \\\n",
       "0             ...                               39                   23   \n",
       "1             ...                               39                   23   \n",
       "2             ...                               39                   23   \n",
       "3             ...                               39                   23   \n",
       "4             ...                               38                   23   \n",
       "\n",
       "   Salesperson_encoded  AH_Program_encoded  OTC_Front-end_Size_encoded  \\\n",
       "0                    1                   4                           1   \n",
       "1                    1                   0                           3   \n",
       "2                    1                   0                           4   \n",
       "3                    1                   0                           1   \n",
       "4                    1                   0                           0   \n",
       "\n",
       "   MRA_Program_Type_-_Active_AH_encoded  Msa_Dma_encoded  \\\n",
       "0                                     7              183   \n",
       "1                                     3              190   \n",
       "2                                     2              183   \n",
       "3                                     8              183   \n",
       "4                                     8              183   \n",
       "\n",
       "   Signage_Program_encoded  3rd_Party_Vendor_encoded  \\\n",
       "0                        0                        18   \n",
       "1                        0                        18   \n",
       "2                        0                        18   \n",
       "3                        3                        18   \n",
       "4                        0                        18   \n",
       "\n",
       "   Hospital_Associated_encoded  \n",
       "0                           15  \n",
       "1                           15  \n",
       "2                           15  \n",
       "3                           15  \n",
       "4                           15  \n",
       "\n",
       "[5 rows x 63 columns]"
      ]
     },
     "execution_count": 8,
     "metadata": {},
     "output_type": "execute_result"
    }
   ],
   "source": [
    "NonMH.head()"
   ]
  },
  {
   "cell_type": "code",
   "execution_count": 9,
   "metadata": {
    "collapsed": true
   },
   "outputs": [],
   "source": [
    "NonMHsample1 = NonMH.sample(n=1000)\n",
    "dfsample1 = MH.append(NonMHsample1)"
   ]
  },
  {
   "cell_type": "code",
   "execution_count": 10,
   "metadata": {
    "collapsed": true
   },
   "outputs": [],
   "source": [
    "NonMHsample2 = NonMH.sample(n=1000)\n",
    "dfsample2 = MH.append(NonMHsample2)"
   ]
  },
  {
   "cell_type": "code",
   "execution_count": 11,
   "metadata": {
    "collapsed": true
   },
   "outputs": [],
   "source": [
    "NonMHsample3 = NonMH.sample(n=1000)\n",
    "dfsample3 = MH.append(NonMHsample3)"
   ]
  },
  {
   "cell_type": "code",
   "execution_count": 12,
   "metadata": {
    "collapsed": true
   },
   "outputs": [],
   "source": [
    "NonMHsample4 = NonMH.sample(n=1000)\n",
    "dfsample4 = MH.append(NonMHsample4)"
   ]
  },
  {
   "cell_type": "code",
   "execution_count": 13,
   "metadata": {
    "collapsed": true
   },
   "outputs": [],
   "source": [
    "NonMHsample5 = NonMH.sample(n=1000)\n",
    "dfsample5 = MH.append(NonMHsample5)"
   ]
  },
  {
   "cell_type": "code",
   "execution_count": 14,
   "metadata": {},
   "outputs": [
    {
     "data": {
      "text/html": [
       "<div>\n",
       "<style>\n",
       "    .dataframe thead tr:only-child th {\n",
       "        text-align: right;\n",
       "    }\n",
       "\n",
       "    .dataframe thead th {\n",
       "        text-align: left;\n",
       "    }\n",
       "\n",
       "    .dataframe tbody tr th {\n",
       "        vertical-align: top;\n",
       "    }\n",
       "</style>\n",
       "<table border=\"1\" class=\"dataframe\">\n",
       "  <thead>\n",
       "    <tr style=\"text-align: right;\">\n",
       "      <th></th>\n",
       "      <th>Account</th>\n",
       "      <th>Zip</th>\n",
       "      <th>Hm_Start_Dt</th>\n",
       "      <th>Channel_Type_Cd</th>\n",
       "      <th>Auto_Ship_Ind</th>\n",
       "      <th>Internal_Decor</th>\n",
       "      <th>Interior_Decor_Signage_Available_Funds</th>\n",
       "      <th>LMS_Enrolled</th>\n",
       "      <th>LMS_Available_Matching_Funds</th>\n",
       "      <th>LMS_Used_Funds_Most_Recent_3_Months</th>\n",
       "      <th>...</th>\n",
       "      <th>Chain_Name_encoded</th>\n",
       "      <th>Region_Name_encoded</th>\n",
       "      <th>Salesperson_encoded</th>\n",
       "      <th>AH_Program_encoded</th>\n",
       "      <th>OTC_Front-end_Size_encoded</th>\n",
       "      <th>MRA_Program_Type_-_Active_AH_encoded</th>\n",
       "      <th>Msa_Dma_encoded</th>\n",
       "      <th>Signage_Program_encoded</th>\n",
       "      <th>3rd_Party_Vendor_encoded</th>\n",
       "      <th>Hospital_Associated_encoded</th>\n",
       "    </tr>\n",
       "  </thead>\n",
       "  <tbody>\n",
       "    <tr>\n",
       "      <th>65</th>\n",
       "      <td>410092</td>\n",
       "      <td>58503</td>\n",
       "      <td>732524</td>\n",
       "      <td>30</td>\n",
       "      <td>0</td>\n",
       "      <td>1</td>\n",
       "      <td>0.0</td>\n",
       "      <td>1</td>\n",
       "      <td>0.0</td>\n",
       "      <td>1</td>\n",
       "      <td>...</td>\n",
       "      <td>38</td>\n",
       "      <td>23</td>\n",
       "      <td>10</td>\n",
       "      <td>0</td>\n",
       "      <td>5</td>\n",
       "      <td>2</td>\n",
       "      <td>139</td>\n",
       "      <td>0</td>\n",
       "      <td>6</td>\n",
       "      <td>3</td>\n",
       "    </tr>\n",
       "    <tr>\n",
       "      <th>133</th>\n",
       "      <td>363318</td>\n",
       "      <td>66434</td>\n",
       "      <td>736441</td>\n",
       "      <td>30</td>\n",
       "      <td>0</td>\n",
       "      <td>0</td>\n",
       "      <td>2500.0</td>\n",
       "      <td>1</td>\n",
       "      <td>5800.0</td>\n",
       "      <td>0</td>\n",
       "      <td>...</td>\n",
       "      <td>33</td>\n",
       "      <td>27</td>\n",
       "      <td>31</td>\n",
       "      <td>0</td>\n",
       "      <td>6</td>\n",
       "      <td>0</td>\n",
       "      <td>85</td>\n",
       "      <td>1</td>\n",
       "      <td>6</td>\n",
       "      <td>0</td>\n",
       "    </tr>\n",
       "    <tr>\n",
       "      <th>148</th>\n",
       "      <td>304550</td>\n",
       "      <td>54409</td>\n",
       "      <td>732288</td>\n",
       "      <td>30</td>\n",
       "      <td>1</td>\n",
       "      <td>1</td>\n",
       "      <td>1829.0</td>\n",
       "      <td>0</td>\n",
       "      <td>1200.0</td>\n",
       "      <td>0</td>\n",
       "      <td>...</td>\n",
       "      <td>38</td>\n",
       "      <td>23</td>\n",
       "      <td>110</td>\n",
       "      <td>0</td>\n",
       "      <td>1</td>\n",
       "      <td>3</td>\n",
       "      <td>145</td>\n",
       "      <td>0</td>\n",
       "      <td>6</td>\n",
       "      <td>0</td>\n",
       "    </tr>\n",
       "    <tr>\n",
       "      <th>149</th>\n",
       "      <td>756418</td>\n",
       "      <td>58078</td>\n",
       "      <td>733881</td>\n",
       "      <td>30</td>\n",
       "      <td>0</td>\n",
       "      <td>1</td>\n",
       "      <td>603.0</td>\n",
       "      <td>1</td>\n",
       "      <td>700.0</td>\n",
       "      <td>1</td>\n",
       "      <td>...</td>\n",
       "      <td>39</td>\n",
       "      <td>23</td>\n",
       "      <td>10</td>\n",
       "      <td>0</td>\n",
       "      <td>3</td>\n",
       "      <td>2</td>\n",
       "      <td>153</td>\n",
       "      <td>5</td>\n",
       "      <td>6</td>\n",
       "      <td>3</td>\n",
       "    </tr>\n",
       "    <tr>\n",
       "      <th>167</th>\n",
       "      <td>410068</td>\n",
       "      <td>58504</td>\n",
       "      <td>732556</td>\n",
       "      <td>30</td>\n",
       "      <td>0</td>\n",
       "      <td>1</td>\n",
       "      <td>0.0</td>\n",
       "      <td>1</td>\n",
       "      <td>0.0</td>\n",
       "      <td>1</td>\n",
       "      <td>...</td>\n",
       "      <td>38</td>\n",
       "      <td>23</td>\n",
       "      <td>10</td>\n",
       "      <td>0</td>\n",
       "      <td>5</td>\n",
       "      <td>2</td>\n",
       "      <td>139</td>\n",
       "      <td>0</td>\n",
       "      <td>6</td>\n",
       "      <td>3</td>\n",
       "    </tr>\n",
       "  </tbody>\n",
       "</table>\n",
       "<p>5 rows × 63 columns</p>\n",
       "</div>"
      ],
      "text/plain": [
       "     Account    Zip  Hm_Start_Dt  Channel_Type_Cd  Auto_Ship_Ind  \\\n",
       "65    410092  58503       732524               30              0   \n",
       "133   363318  66434       736441               30              0   \n",
       "148   304550  54409       732288               30              1   \n",
       "149   756418  58078       733881               30              0   \n",
       "167   410068  58504       732556               30              0   \n",
       "\n",
       "     Internal_Decor  Interior_Decor_Signage_Available_Funds  LMS_Enrolled  \\\n",
       "65                1                                     0.0             1   \n",
       "133               0                                  2500.0             1   \n",
       "148               1                                  1829.0             0   \n",
       "149               1                                   603.0             1   \n",
       "167               1                                     0.0             1   \n",
       "\n",
       "     LMS_Available_Matching_Funds  LMS_Used_Funds_Most_Recent_3_Months  \\\n",
       "65                            0.0                                    1   \n",
       "133                        5800.0                                    0   \n",
       "148                        1200.0                                    0   \n",
       "149                         700.0                                    1   \n",
       "167                           0.0                                    1   \n",
       "\n",
       "                ...               Chain_Name_encoded  Region_Name_encoded  \\\n",
       "65              ...                               38                   23   \n",
       "133             ...                               33                   27   \n",
       "148             ...                               38                   23   \n",
       "149             ...                               39                   23   \n",
       "167             ...                               38                   23   \n",
       "\n",
       "     Salesperson_encoded  AH_Program_encoded  OTC_Front-end_Size_encoded  \\\n",
       "65                    10                   0                           5   \n",
       "133                   31                   0                           6   \n",
       "148                  110                   0                           1   \n",
       "149                   10                   0                           3   \n",
       "167                   10                   0                           5   \n",
       "\n",
       "     MRA_Program_Type_-_Active_AH_encoded  Msa_Dma_encoded  \\\n",
       "65                                      2              139   \n",
       "133                                     0               85   \n",
       "148                                     3              145   \n",
       "149                                     2              153   \n",
       "167                                     2              139   \n",
       "\n",
       "     Signage_Program_encoded  3rd_Party_Vendor_encoded  \\\n",
       "65                         0                         6   \n",
       "133                        1                         6   \n",
       "148                        0                         6   \n",
       "149                        5                         6   \n",
       "167                        0                         6   \n",
       "\n",
       "     Hospital_Associated_encoded  \n",
       "65                             3  \n",
       "133                            0  \n",
       "148                            0  \n",
       "149                            3  \n",
       "167                            3  \n",
       "\n",
       "[5 rows x 63 columns]"
      ]
     },
     "execution_count": 14,
     "metadata": {},
     "output_type": "execute_result"
    }
   ],
   "source": [
    "dfsample1.head()"
   ]
  },
  {
   "cell_type": "code",
   "execution_count": 15,
   "metadata": {
    "collapsed": true
   },
   "outputs": [],
   "source": [
    "X1 = dfsample1[['Auto_Ship_Ind', 'Interior_Decor_Signage_Available_Funds',\n",
    "       'LMS_Enrolled', 'LMS_Available_Matching_Funds',\n",
    "       'LMS_Used_Funds_Most_Recent_3_Months',\n",
    "       'LMS_Used_Funds_Previous_3_Months', 'Open_Smart', 'PIP_Program',\n",
    "       'PQS_Program', 'SCS_Program', 'Spar_Coverage_Ind',\n",
    "       'Specialty_Solutions', 'Vaccine_Items', 'Vaccine_Starter',\n",
    "       'Vaccine_Items_Count', 'Vaccine_Items_Sls_Amt', 'YPO', 'Tot_Sls_Amt',\n",
    "       'DLC_Program_encoded', 'FEM_Program_encoded',\n",
    "       'HM_Circular_Program_encoded', 'Internal_Decor', 'PQS_Enrolled_encoded',\n",
    "       'ST_encoded', 'Pog_Code_Name_encoded', 'DC_Name_encoded',\n",
    "       'Bus_Type_Desc_encoded', 'Region_encoded', 'PSAO_Expanded_encoded',\n",
    "       'Chain_Name_encoded', 'Salesperson_encoded', 'AH_Program_encoded',\n",
    "       'OTC_Front-end_Size_encoded', 'MRA_Program_Type_-_Active_AH_encoded',\n",
    "       'Msa_Dma_encoded', 'Signage_Program_encoded',\n",
    "       'Hospital_Associated_encoded']]"
   ]
  },
  {
   "cell_type": "code",
   "execution_count": 16,
   "metadata": {
    "collapsed": true
   },
   "outputs": [],
   "source": [
    "X2 = dfsample2[['Auto_Ship_Ind', 'Interior_Decor_Signage_Available_Funds',\n",
    "       'LMS_Enrolled', 'LMS_Available_Matching_Funds',\n",
    "       'LMS_Used_Funds_Most_Recent_3_Months',\n",
    "       'LMS_Used_Funds_Previous_3_Months', 'Open_Smart', 'PIP_Program',\n",
    "       'PQS_Program', 'SCS_Program', 'Spar_Coverage_Ind',\n",
    "       'Specialty_Solutions', 'Vaccine_Items', 'Vaccine_Starter',\n",
    "       'Vaccine_Items_Count', 'Vaccine_Items_Sls_Amt', 'YPO', 'Tot_Sls_Amt',\n",
    "       'DLC_Program_encoded', 'FEM_Program_encoded',\n",
    "       'HM_Circular_Program_encoded', 'Internal_Decor', 'PQS_Enrolled_encoded',\n",
    "       'ST_encoded', 'Pog_Code_Name_encoded', 'DC_Name_encoded',\n",
    "       'Bus_Type_Desc_encoded', 'Region_encoded', 'PSAO_Expanded_encoded',\n",
    "       'Chain_Name_encoded', 'Salesperson_encoded', 'AH_Program_encoded',\n",
    "       'OTC_Front-end_Size_encoded', 'MRA_Program_Type_-_Active_AH_encoded',\n",
    "       'Msa_Dma_encoded', 'Signage_Program_encoded',\n",
    "       'Hospital_Associated_encoded']]"
   ]
  },
  {
   "cell_type": "code",
   "execution_count": 17,
   "metadata": {
    "collapsed": true
   },
   "outputs": [],
   "source": [
    "X3 = dfsample3[['Auto_Ship_Ind', 'Interior_Decor_Signage_Available_Funds',\n",
    "       'LMS_Enrolled', 'LMS_Available_Matching_Funds',\n",
    "       'LMS_Used_Funds_Most_Recent_3_Months',\n",
    "       'LMS_Used_Funds_Previous_3_Months', 'Open_Smart', 'PIP_Program',\n",
    "       'PQS_Program', 'SCS_Program', 'Spar_Coverage_Ind',\n",
    "       'Specialty_Solutions', 'Vaccine_Items', 'Vaccine_Starter',\n",
    "       'Vaccine_Items_Count', 'Vaccine_Items_Sls_Amt', 'YPO', 'Tot_Sls_Amt',\n",
    "       'DLC_Program_encoded', 'FEM_Program_encoded',\n",
    "       'HM_Circular_Program_encoded', 'Internal_Decor', 'PQS_Enrolled_encoded',\n",
    "       'ST_encoded', 'Pog_Code_Name_encoded', 'DC_Name_encoded',\n",
    "       'Bus_Type_Desc_encoded', 'Region_encoded', 'PSAO_Expanded_encoded',\n",
    "       'Chain_Name_encoded', 'Salesperson_encoded', 'AH_Program_encoded',\n",
    "       'OTC_Front-end_Size_encoded', 'MRA_Program_Type_-_Active_AH_encoded',\n",
    "       'Msa_Dma_encoded', 'Signage_Program_encoded',\n",
    "       'Hospital_Associated_encoded']]"
   ]
  },
  {
   "cell_type": "code",
   "execution_count": 18,
   "metadata": {
    "collapsed": true
   },
   "outputs": [],
   "source": [
    "X4 = dfsample4[['Auto_Ship_Ind', 'Interior_Decor_Signage_Available_Funds',\n",
    "       'LMS_Enrolled', 'LMS_Available_Matching_Funds',\n",
    "       'LMS_Used_Funds_Most_Recent_3_Months',\n",
    "       'LMS_Used_Funds_Previous_3_Months', 'Open_Smart', 'PIP_Program',\n",
    "       'PQS_Program', 'SCS_Program', 'Spar_Coverage_Ind',\n",
    "       'Specialty_Solutions', 'Vaccine_Items', 'Vaccine_Starter',\n",
    "       'Vaccine_Items_Count', 'Vaccine_Items_Sls_Amt', 'YPO', 'Tot_Sls_Amt',\n",
    "       'DLC_Program_encoded', 'FEM_Program_encoded',\n",
    "       'HM_Circular_Program_encoded', 'Internal_Decor', 'PQS_Enrolled_encoded',\n",
    "       'ST_encoded', 'Pog_Code_Name_encoded', 'DC_Name_encoded',\n",
    "       'Bus_Type_Desc_encoded', 'Region_encoded', 'PSAO_Expanded_encoded',\n",
    "       'Chain_Name_encoded', 'Salesperson_encoded', 'AH_Program_encoded',\n",
    "       'OTC_Front-end_Size_encoded', 'MRA_Program_Type_-_Active_AH_encoded',\n",
    "       'Msa_Dma_encoded', 'Signage_Program_encoded',\n",
    "       'Hospital_Associated_encoded']]"
   ]
  },
  {
   "cell_type": "code",
   "execution_count": 19,
   "metadata": {
    "collapsed": true
   },
   "outputs": [],
   "source": [
    "X5 = dfsample5[['Auto_Ship_Ind', 'Interior_Decor_Signage_Available_Funds',\n",
    "       'LMS_Enrolled', 'LMS_Available_Matching_Funds',\n",
    "       'LMS_Used_Funds_Most_Recent_3_Months',\n",
    "       'LMS_Used_Funds_Previous_3_Months', 'Open_Smart', 'PIP_Program',\n",
    "       'PQS_Program', 'SCS_Program', 'Spar_Coverage_Ind',\n",
    "       'Specialty_Solutions', 'Vaccine_Items', 'Vaccine_Starter',\n",
    "       'Vaccine_Items_Count', 'Vaccine_Items_Sls_Amt', 'YPO', 'Tot_Sls_Amt',\n",
    "       'DLC_Program_encoded', 'FEM_Program_encoded',\n",
    "       'HM_Circular_Program_encoded', 'Internal_Decor', 'PQS_Enrolled_encoded',\n",
    "       'ST_encoded', 'Pog_Code_Name_encoded', 'DC_Name_encoded',\n",
    "       'Bus_Type_Desc_encoded', 'Region_encoded', 'PSAO_Expanded_encoded',\n",
    "       'Chain_Name_encoded', 'Salesperson_encoded', 'AH_Program_encoded',\n",
    "       'OTC_Front-end_Size_encoded', 'MRA_Program_Type_-_Active_AH_encoded',\n",
    "       'Msa_Dma_encoded', 'Signage_Program_encoded',\n",
    "       'Hospital_Associated_encoded']]"
   ]
  },
  {
   "cell_type": "code",
   "execution_count": 20,
   "metadata": {
    "collapsed": true
   },
   "outputs": [],
   "source": [
    "y = df_clean['IS_HID']"
   ]
  },
  {
   "cell_type": "code",
   "execution_count": 21,
   "metadata": {
    "collapsed": true
   },
   "outputs": [],
   "source": [
    "y_small = dfsample1['IS_HID']"
   ]
  },
  {
   "cell_type": "markdown",
   "metadata": {},
   "source": [
    "### Try some models"
   ]
  },
  {
   "cell_type": "code",
   "execution_count": 22,
   "metadata": {
    "collapsed": true
   },
   "outputs": [],
   "source": [
    "# split the data\n",
    "\n",
    "X_train, X_test, y_train, y_test = train_test_split(X1, y_small, test_size=0.33, random_state=42)"
   ]
  },
  {
   "cell_type": "code",
   "execution_count": 23,
   "metadata": {},
   "outputs": [
    {
     "name": "stdout",
     "output_type": "stream",
     "text": [
      "0.267282458255 0.938303341902 0.651624071789\n"
     ]
    }
   ],
   "source": [
    "# random forest\n",
    "\n",
    "rf = RandomForestClassifier()\n",
    "rf.fit(X_train, y_train)\n",
    "rf.feature_importances_\n",
    "pred_rf = rf.predict(X_test) \n",
    "rf_score_r2 = np.mean(cross_val_score(rf, X_train, y_train, scoring='r2', cv=5))\n",
    "rf_score_recall = recall_score(y_test, pred_rf, average='weighted')\n",
    "rf_score_avgprecision = average_precision_score(y_test, pred_rf)\n",
    "print(rf_score_r2, rf_score_recall, rf_score_avgprecision)"
   ]
  },
  {
   "cell_type": "code",
   "execution_count": 24,
   "metadata": {
    "scrolled": true
   },
   "outputs": [
    {
     "name": "stdout",
     "output_type": "stream",
     "text": [
      "                                        Portion of Samples Affected\n",
      "Auto_Ship_Ind                                              0.007389\n",
      "Interior_Decor_Signage_Available_Funds                     0.011900\n",
      "LMS_Enrolled                                               0.002750\n",
      "LMS_Available_Matching_Funds                               0.039257\n",
      "LMS_Used_Funds_Most_Recent_3_Months                        0.003488\n",
      "LMS_Used_Funds_Previous_3_Months                           0.007214\n",
      "Open_Smart                                                 0.000000\n",
      "PIP_Program                                                0.005053\n",
      "PQS_Program                                                0.007543\n",
      "SCS_Program                                                0.004626\n",
      "Spar_Coverage_Ind                                          0.011176\n",
      "Specialty_Solutions                                        0.003147\n",
      "Vaccine_Items                                              0.003891\n",
      "Vaccine_Starter                                            0.001384\n",
      "Vaccine_Items_Count                                        0.017134\n",
      "Vaccine_Items_Sls_Amt                                      0.017403\n",
      "YPO                                                        0.005739\n",
      "Tot_Sls_Amt                                                0.039715\n",
      "DLC_Program_encoded                                        0.022264\n",
      "FEM_Program_encoded                                        0.012130\n",
      "HM_Circular_Program_encoded                                0.007560\n",
      "Internal_Decor                                             0.012959\n",
      "PQS_Enrolled_encoded                                       0.001667\n",
      "ST_encoded                                                 0.051876\n",
      "Pog_Code_Name_encoded                                      0.005706\n",
      "DC_Name_encoded                                            0.031640\n",
      "Bus_Type_Desc_encoded                                      0.011938\n",
      "Region_encoded                                             0.040054\n",
      "PSAO_Expanded_encoded                                      0.013579\n",
      "Chain_Name_encoded                                         0.043055\n",
      "Salesperson_encoded                                        0.034592\n",
      "AH_Program_encoded                                         0.002245\n",
      "OTC_Front-end_Size_encoded                                 0.018926\n",
      "MRA_Program_Type_-_Active_AH_encoded                       0.030791\n",
      "Msa_Dma_encoded                                            0.050511\n",
      "Signage_Program_encoded                                    0.020578\n",
      "Hospital_Associated_encoded                                0.399121\n"
     ]
    }
   ],
   "source": [
    "feature_imp_rf = pd.DataFrame({'Portion of Samples Affected' : rf.feature_importances_}, index=X1.columns)\n",
    "print(feature_imp_rf)"
   ]
  },
  {
   "cell_type": "code",
   "execution_count": 25,
   "metadata": {},
   "outputs": [
    {
     "name": "stdout",
     "output_type": "stream",
     "text": [
      "0.416538222584 0.904884318766 0.523889726088\n"
     ]
    }
   ],
   "source": [
    "# decision tree\n",
    "\n",
    "dt = DecisionTreeClassifier()\n",
    "dt.fit(X_train, y_train)\n",
    "dt.feature_importances_\n",
    "pred_dt = dt.predict(X_test) \n",
    "dt_score_r2 = np.mean(cross_val_score(dt, X_train, y_train, scoring='r2', cv=5))\n",
    "dt_score_recall = recall_score(y_test, pred_dt, average='weighted')\n",
    "dt_score_avgprecision = average_precision_score(y_test, pred_dt)\n",
    "print(dt_score_r2, dt_score_recall, dt_score_avgprecision)"
   ]
  },
  {
   "cell_type": "code",
   "execution_count": 26,
   "metadata": {},
   "outputs": [
    {
     "name": "stdout",
     "output_type": "stream",
     "text": [
      "                                        Portion of Samples Affected\n",
      "Auto_Ship_Ind                                              0.015618\n",
      "Interior_Decor_Signage_Available_Funds                     0.019338\n",
      "LMS_Enrolled                                               0.003959\n",
      "LMS_Available_Matching_Funds                               0.021622\n",
      "LMS_Used_Funds_Most_Recent_3_Months                        0.014847\n",
      "LMS_Used_Funds_Previous_3_Months                           0.000000\n",
      "Open_Smart                                                 0.000000\n",
      "PIP_Program                                                0.000000\n",
      "PQS_Program                                                0.000000\n",
      "SCS_Program                                                0.000000\n",
      "Spar_Coverage_Ind                                          0.000000\n",
      "Specialty_Solutions                                        0.000000\n",
      "Vaccine_Items                                              0.000000\n",
      "Vaccine_Starter                                            0.000000\n",
      "Vaccine_Items_Count                                        0.000000\n",
      "Vaccine_Items_Sls_Amt                                      0.003957\n",
      "YPO                                                        0.007289\n",
      "Tot_Sls_Amt                                                0.009191\n",
      "DLC_Program_encoded                                        0.027866\n",
      "FEM_Program_encoded                                        0.000000\n",
      "HM_Circular_Program_encoded                                0.000000\n",
      "Internal_Decor                                             0.000000\n",
      "PQS_Enrolled_encoded                                       0.000000\n",
      "ST_encoded                                                 0.007039\n",
      "Pog_Code_Name_encoded                                      0.000000\n",
      "DC_Name_encoded                                            0.035194\n",
      "Bus_Type_Desc_encoded                                      0.018895\n",
      "Region_encoded                                             0.082936\n",
      "PSAO_Expanded_encoded                                      0.015422\n",
      "Chain_Name_encoded                                         0.018044\n",
      "Salesperson_encoded                                        0.011439\n",
      "AH_Program_encoded                                         0.000000\n",
      "OTC_Front-end_Size_encoded                                 0.028402\n",
      "MRA_Program_Type_-_Active_AH_encoded                       0.004949\n",
      "Msa_Dma_encoded                                            0.111987\n",
      "Signage_Program_encoded                                    0.007878\n",
      "Hospital_Associated_encoded                                0.534127\n"
     ]
    }
   ],
   "source": [
    "feature_imp_dt = pd.DataFrame({'Portion of Samples Affected' : dt.feature_importances_}, index=X1.columns)\n",
    "print(feature_imp_dt)"
   ]
  },
  {
   "cell_type": "code",
   "execution_count": 27,
   "metadata": {},
   "outputs": [
    {
     "name": "stdout",
     "output_type": "stream",
     "text": [
      "0.574499234784 0.928020565553 0.627587818617\n"
     ]
    }
   ],
   "source": [
    "# gradient boosting\n",
    "\n",
    "gb = GradientBoostingClassifier()\n",
    "gb.fit(X_train, y_train)\n",
    "gb.feature_importances_\n",
    "pred_gb = gb.predict(X_test) \n",
    "gb_score_r2 = np.mean(cross_val_score(gb, X_train, y_train, scoring='r2', cv=5))\n",
    "gb_score_recall = recall_score(y_test, pred_gb, average='weighted')\n",
    "gb_score_avgprecision = average_precision_score(y_test, pred_gb)\n",
    "print(gb_score_r2, gb_score_recall, gb_score_avgprecision)"
   ]
  },
  {
   "cell_type": "code",
   "execution_count": 28,
   "metadata": {},
   "outputs": [
    {
     "name": "stdout",
     "output_type": "stream",
     "text": [
      "                                        Portion of Samples Affected\n",
      "Auto_Ship_Ind                                              0.011365\n",
      "Interior_Decor_Signage_Available_Funds                     0.003207\n",
      "LMS_Enrolled                                               0.003208\n",
      "LMS_Available_Matching_Funds                               0.065493\n",
      "LMS_Used_Funds_Most_Recent_3_Months                        0.001490\n",
      "LMS_Used_Funds_Previous_3_Months                           0.024060\n",
      "Open_Smart                                                 0.000227\n",
      "PIP_Program                                                0.004197\n",
      "PQS_Program                                                0.000000\n",
      "SCS_Program                                                0.000000\n",
      "Spar_Coverage_Ind                                          0.000879\n",
      "Specialty_Solutions                                        0.000000\n",
      "Vaccine_Items                                              0.000000\n",
      "Vaccine_Starter                                            0.001177\n",
      "Vaccine_Items_Count                                        0.007698\n",
      "Vaccine_Items_Sls_Amt                                      0.045531\n",
      "YPO                                                        0.000000\n",
      "Tot_Sls_Amt                                                0.047374\n",
      "DLC_Program_encoded                                        0.009210\n",
      "FEM_Program_encoded                                        0.008833\n",
      "HM_Circular_Program_encoded                                0.010102\n",
      "Internal_Decor                                             0.000003\n",
      "PQS_Enrolled_encoded                                       0.000000\n",
      "ST_encoded                                                 0.059031\n",
      "Pog_Code_Name_encoded                                      0.007684\n",
      "DC_Name_encoded                                            0.029185\n",
      "Bus_Type_Desc_encoded                                      0.019891\n",
      "Region_encoded                                             0.006367\n",
      "PSAO_Expanded_encoded                                      0.016844\n",
      "Chain_Name_encoded                                         0.037895\n",
      "Salesperson_encoded                                        0.088331\n",
      "AH_Program_encoded                                         0.001450\n",
      "OTC_Front-end_Size_encoded                                 0.018643\n",
      "MRA_Program_Type_-_Active_AH_encoded                       0.022625\n",
      "Msa_Dma_encoded                                            0.078986\n",
      "Signage_Program_encoded                                    0.019521\n",
      "Hospital_Associated_encoded                                0.349492\n"
     ]
    }
   ],
   "source": [
    "feature_imp_gb = pd.DataFrame({'Portion of Samples Affected' : gb.feature_importances_}, index=X1.columns)\n",
    "print(feature_imp_gb)"
   ]
  },
  {
   "cell_type": "markdown",
   "metadata": {},
   "source": [
    "### Checking against the full (not undersampled) dataset, with class imbalance"
   ]
  },
  {
   "cell_type": "code",
   "execution_count": 4,
   "metadata": {},
   "outputs": [
    {
     "ename": "NameError",
     "evalue": "name 'X' is not defined",
     "output_type": "error",
     "traceback": [
      "\u001b[1;31m---------------------------------------------------------------------------\u001b[0m",
      "\u001b[1;31mNameError\u001b[0m                                 Traceback (most recent call last)",
      "\u001b[1;32m<ipython-input-4-43e705cc54bd>\u001b[0m in \u001b[0;36m<module>\u001b[1;34m()\u001b[0m\n\u001b[0;32m      1\u001b[0m \u001b[1;31m# Compare to GradientBoosting on full dataset (no undersampling of negative label)\u001b[0m\u001b[1;33m\u001b[0m\u001b[1;33m\u001b[0m\u001b[0m\n\u001b[1;32m----> 2\u001b[1;33m \u001b[0mXf_train\u001b[0m\u001b[1;33m,\u001b[0m \u001b[0mXf_test\u001b[0m\u001b[1;33m,\u001b[0m \u001b[0myf_train\u001b[0m\u001b[1;33m,\u001b[0m \u001b[0myf_test\u001b[0m \u001b[1;33m=\u001b[0m \u001b[0mtrain_test_split\u001b[0m\u001b[1;33m(\u001b[0m\u001b[0mX\u001b[0m\u001b[1;33m,\u001b[0m \u001b[0my\u001b[0m\u001b[1;33m,\u001b[0m \u001b[0mtest_size\u001b[0m\u001b[1;33m=\u001b[0m\u001b[1;36m0.33\u001b[0m\u001b[1;33m,\u001b[0m \u001b[0mrandom_state\u001b[0m\u001b[1;33m=\u001b[0m\u001b[1;36m42\u001b[0m\u001b[1;33m)\u001b[0m\u001b[1;33m\u001b[0m\u001b[0m\n\u001b[0m\u001b[0;32m      3\u001b[0m \u001b[1;33m\u001b[0m\u001b[0m\n\u001b[0;32m      4\u001b[0m \u001b[0mmodel\u001b[0m \u001b[1;33m=\u001b[0m \u001b[0mGradientBoostingClassifier\u001b[0m\u001b[1;33m(\u001b[0m\u001b[1;33m)\u001b[0m\u001b[1;33m.\u001b[0m\u001b[0mfit\u001b[0m\u001b[1;33m(\u001b[0m\u001b[0mXf_train\u001b[0m\u001b[1;33m,\u001b[0m \u001b[0myf_train\u001b[0m\u001b[1;33m)\u001b[0m\u001b[1;33m\u001b[0m\u001b[0m\n\u001b[0;32m      5\u001b[0m \u001b[0mprint\u001b[0m\u001b[1;33m(\u001b[0m\u001b[0mmodel\u001b[0m\u001b[1;33m.\u001b[0m\u001b[0mscore\u001b[0m\u001b[1;33m(\u001b[0m\u001b[0mXf_test\u001b[0m\u001b[1;33m,\u001b[0m \u001b[0myf_test\u001b[0m\u001b[1;33m)\u001b[0m\u001b[1;33m)\u001b[0m\u001b[1;33m\u001b[0m\u001b[0m\n",
      "\u001b[1;31mNameError\u001b[0m: name 'X' is not defined"
     ]
    }
   ],
   "source": [
    "# Compare to GradientBoosting on full dataset (no undersampling of negative label)\n",
    "Xf_train, Xf_test, yf_train, yf_test = train_test_split(X, y, test_size=0.33, random_state=42)\n",
    "\n",
    "model = GradientBoostingClassifier().fit(Xf_train, yf_train)\n",
    "print(model.score(Xf_test, yf_test))\n",
    "\n",
    "# commented out since we already have our predictor\n",
    "cv = KFold(n_splits=10)\n",
    "accuracy = []\n",
    "for estimator in range(10, 20, 10):\n",
    "    for depth in range(1, 4):\n",
    "        for sample in (0.1, 0.3, 0.5, 0.7):\n",
    "            model = GradientBoostingClassifier(n_estimators=estimator, max_depth=depth, subsample=sample)\n",
    "            scores = []\n",
    "            for train_i, test_i in cv.split(X):\n",
    "                Xr, yr, Xt, yt = X.loc[train_i], y.loc[train_i], X.loc[test_i], y.loc[test_i]\n",
    "                model.fit(Xr, yr)\n",
    "                scores.append(model.score(Xt, yt))\n",
    "                accuracy = sum(scores) / len(scores)\n",
    "            print('sample:', sample, 'depth:', depth, 'estimators:', estimator, 'accuracy:', sum(scores) / len(scores))\n",
    "print(accuracy.max)"
   ]
  },
  {
   "cell_type": "code",
   "execution_count": null,
   "metadata": {
    "collapsed": true
   },
   "outputs": [],
   "source": [
    "### For a random subset of features - to avoid overfitting\n",
    "\n",
    "# feature_indices1 = np.random.choice(X.shape[1], 5, replace=False)\n",
    "# X1 =X[:, feature_indices1]\n",
    "\n",
    "# feature_indices2 = np.random.choice(X.shape[1], 5, replace=False)\n",
    "# X2 =X[:, feature_indices2]\n",
    "\n",
    "# feature_indices3 = np.random.choice(X.shape[1], 5, replace=False)\n",
    "# X3 =X[:, feature_indices3]\n",
    "\n",
    "# feature_indices4 = np.random.choice(X.shape[1], 5, replace=False)\n",
    "# X4 =X[:, feature_indices4]\n",
    "\n",
    "# feature_indices5 = np.random.choice(X.shape[1], 5, replace=False)\n",
    "# X5 =X[:, feature_indices5]"
   ]
  },
  {
   "cell_type": "markdown",
   "metadata": {},
   "source": [
    "### Compare predictions to test"
   ]
  },
  {
   "cell_type": "code",
   "execution_count": null,
   "metadata": {
    "collapsed": true
   },
   "outputs": [],
   "source": [
    "results_gbr1 = pd.DataFrame({'label': y_train, 'pred': gbr.predict(X_train) , 'stage': 'Train'})"
   ]
  },
  {
   "cell_type": "code",
   "execution_count": null,
   "metadata": {
    "collapsed": true
   },
   "outputs": [],
   "source": [
    "results_gbr2 = pd.DataFrame({'label': y_test, 'pred': gbr.predict(X_test), 'stage': 'Test'})"
   ]
  },
  {
   "cell_type": "code",
   "execution_count": null,
   "metadata": {
    "collapsed": true
   },
   "outputs": [],
   "source": [
    "results_gbr = pd.concat([results_gbr1, results_gbr2], axis=0)"
   ]
  },
  {
   "cell_type": "code",
   "execution_count": null,
   "metadata": {
    "collapsed": true
   },
   "outputs": [],
   "source": [
    "sns.lmplot(x='pred', y='label', hue='stage', data=results_gbr, size=4)\n",
    "plt.savefig('figures/lmplot_train_test_gbr.png', dpi=300)"
   ]
  },
  {
   "cell_type": "code",
   "execution_count": null,
   "metadata": {
    "collapsed": true
   },
   "outputs": [],
   "source": []
  }
 ],
 "metadata": {
  "kernelspec": {
   "display_name": "Python 3",
   "language": "python",
   "name": "python3"
  },
  "language_info": {
   "codemirror_mode": {
    "name": "ipython",
    "version": 3
   },
   "file_extension": ".py",
   "mimetype": "text/x-python",
   "name": "python",
   "nbconvert_exporter": "python",
   "pygments_lexer": "ipython3",
   "version": "3.6.3"
  }
 },
 "nbformat": 4,
 "nbformat_minor": 2
}
