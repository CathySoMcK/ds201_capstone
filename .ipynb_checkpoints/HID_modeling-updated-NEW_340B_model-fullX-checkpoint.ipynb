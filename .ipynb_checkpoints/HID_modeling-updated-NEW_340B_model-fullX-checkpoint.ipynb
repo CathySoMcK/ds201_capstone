{
 "cells": [
  {
   "cell_type": "markdown",
   "metadata": {},
   "source": [
    "### Import Programs"
   ]
  },
  {
   "cell_type": "code",
   "execution_count": 1,
   "metadata": {
    "collapsed": true
   },
   "outputs": [],
   "source": [
    "%load_ext autoreload\n",
    "%autoreload 2\n",
    "%matplotlib inline"
   ]
  },
  {
   "cell_type": "code",
   "execution_count": 2,
   "metadata": {},
   "outputs": [
    {
     "name": "stderr",
     "output_type": "stream",
     "text": [
      "C:\\ProgramData\\Anaconda3\\envs\\py36\\lib\\site-packages\\ipykernel_launcher.py:6: FutureWarning: The pandas.core.datetools module is deprecated and will be removed in a future version. Please use the pandas.tseries module instead.\n",
      "  \n"
     ]
    }
   ],
   "source": [
    "import datetime as dt\n",
    "\n",
    "import pandas as pd\n",
    "from pandas import ExcelWriter\n",
    "from pandas import ExcelFile\n",
    "from pandas.core import datetools\n",
    "\n",
    "from sklearn.preprocessing import LabelEncoder\n",
    "\n",
    "import numpy as np\n",
    "\n",
    "import matplotlib.pyplot as plt\n",
    "import seaborn as sns\n",
    "\n",
    "from sklearn import tree\n",
    "from sklearn.metrics import accuracy_score\n",
    "from sklearn.model_selection import KFold\n",
    "from sklearn.model_selection import cross_val_score\n",
    "from sklearn.metrics import recall_score, average_precision_score\n",
    "from sklearn.ensemble import GradientBoostingRegressor\n",
    "from sklearn.model_selection import train_test_split\n",
    "import statsmodels.api as sm\n",
    "from statsmodels.stats.outliers_influence import variance_inflation_factor\n",
    "from sklearn.ensemble import RandomForestClassifier\n",
    "from sklearn.datasets import make_classification\n",
    "from sklearn.tree import DecisionTreeClassifier\n",
    "from sklearn.linear_model import LogisticRegression\n",
    "from sklearn.ensemble import GradientBoostingClassifier\n",
    "from sklearn.neighbors import KNeighborsClassifier"
   ]
  },
  {
   "cell_type": "markdown",
   "metadata": {},
   "source": [
    "### Import Dataset from Excel file"
   ]
  },
  {
   "cell_type": "markdown",
   "metadata": {},
   "source": [
    "These are the files produced in the previous Python notebook that performed cleansing and initial feature reduction."
   ]
  },
  {
   "cell_type": "code",
   "execution_count": 3,
   "metadata": {
    "collapsed": true
   },
   "outputs": [],
   "source": [
    "X = pd.read_csv('data/HID_features.csv', index_col=0)\n",
    "df_clean = pd.read_csv('data/df_clean.csv', index_col=0)"
   ]
  },
  {
   "cell_type": "markdown",
   "metadata": {},
   "source": [
    "### Make more balanced datasets for the label ('IS_HID') - NO LONGER NEEDED!!"
   ]
  },
  {
   "cell_type": "markdown",
   "metadata": {},
   "source": [
    "This dataset has a very big imbalanced class problem for the label attribute ('IS_HID' = a flag for whether the pharmacy is a current contract pharmacy of Macro Helix).   \n",
    "\n",
    "        Positive labeled observations     177    xxxxx     now  841 (340B_Active)\n",
    "        Negative labeled observations   4,669    xxxxx     now 4005\n",
    "\n",
    "To address this, we undersampled the Negative class (picked a random 1,000 observations out of the 4,669 Negative observations) to make the training set more balanced."
   ]
  },
  {
   "cell_type": "code",
   "execution_count": 4,
   "metadata": {},
   "outputs": [
    {
     "data": {
      "text/plain": [
       "Index(['Auto_Ship_Ind', 'Interior_Decor_Signage_Available_Funds',\n",
       "       'LMS_Enrolled', 'LMS_Available_Matching_Funds',\n",
       "       'LMS_Used_Funds_Most_Recent_3_Months',\n",
       "       'LMS_Used_Funds_Previous_3_Months', 'Open_Smart', 'PIP_Program',\n",
       "       'PQS_Program', 'SCS_Program', 'Spar_Coverage_Ind',\n",
       "       'Specialty_Solutions', 'Vaccine_Items', 'Vaccine_Starter',\n",
       "       'Vaccine_Items_Count', 'Vaccine_Items_Sls_Amt', 'YPO', 'Tot_Sls_Amt',\n",
       "       'DLC_Program_encoded', 'FEM_Program_encoded',\n",
       "       'HM_Circular_Program_encoded', 'Internal_Decor', 'PQS_Enrolled_encoded',\n",
       "       'ST_encoded', 'Pog_Code_Name_encoded', 'DC_Name_encoded',\n",
       "       'Bus_Type_Desc_encoded', 'Region_encoded', 'PSAO_Expanded_encoded',\n",
       "       'Chain_Name_encoded', 'Salesperson_encoded', 'AH_Program_encoded',\n",
       "       'OTC_Front-end_Size_encoded', 'MRA_Program_Type_-_Active_AH_encoded',\n",
       "       'Msa_Dma_encoded', 'Signage_Program_encoded'],\n",
       "      dtype='object')"
      ]
     },
     "execution_count": 4,
     "metadata": {},
     "output_type": "execute_result"
    }
   ],
   "source": [
    "X.columns"
   ]
  },
  {
   "cell_type": "code",
   "execution_count": 5,
   "metadata": {
    "collapsed": true
   },
   "outputs": [],
   "source": [
    "# MH = df_clean.loc[df_clean['IS_HID'] == 1]          - no longer need undersampling"
   ]
  },
  {
   "cell_type": "code",
   "execution_count": 6,
   "metadata": {
    "collapsed": true
   },
   "outputs": [],
   "source": [
    "# MH.head()       - no longer need undersampling"
   ]
  },
  {
   "cell_type": "code",
   "execution_count": 7,
   "metadata": {
    "collapsed": true
   },
   "outputs": [],
   "source": [
    "# NonMH = df_clean.loc[df_clean['IS_HID'] == 0]              - no longer need undersampling"
   ]
  },
  {
   "cell_type": "code",
   "execution_count": 8,
   "metadata": {
    "collapsed": true
   },
   "outputs": [],
   "source": [
    "# NonMH.head()      - no longer need undersampling"
   ]
  },
  {
   "cell_type": "code",
   "execution_count": 9,
   "metadata": {
    "collapsed": true
   },
   "outputs": [],
   "source": [
    "# Get a samller, random sample of Negative observations and add to Positive observations - to balance the classes\n",
    "\n",
    "#NonMHsample1 = NonMH.sample(n=1000)\n",
    "#dfsample1 = MH.append(NonMHsample1)"
   ]
  },
  {
   "cell_type": "code",
   "execution_count": 10,
   "metadata": {
    "collapsed": true
   },
   "outputs": [],
   "source": [
    "#dfsample1.head()"
   ]
  },
  {
   "cell_type": "code",
   "execution_count": 11,
   "metadata": {},
   "outputs": [
    {
     "data": {
      "text/plain": [
       "\"   ## - no longer need undersampling\\nX1 = dfsample1[['Auto_Ship_Ind', 'Interior_Decor_Signage_Available_Funds',\\n       'LMS_Enrolled', 'LMS_Available_Matching_Funds',\\n       'LMS_Used_Funds_Most_Recent_3_Months',\\n       'LMS_Used_Funds_Previous_3_Months', 'Open_Smart', 'PIP_Program',\\n       'PQS_Program', 'SCS_Program', 'Spar_Coverage_Ind',\\n       'Specialty_Solutions', 'Vaccine_Items', 'Vaccine_Starter',\\n       'Vaccine_Items_Count', 'Vaccine_Items_Sls_Amt', 'YPO', 'Tot_Sls_Amt',\\n       'DLC_Program_encoded', 'FEM_Program_encoded',\\n       'HM_Circular_Program_encoded', 'Internal_Decor', 'PQS_Enrolled_encoded',\\n       'ST_encoded', 'Pog_Code_Name_encoded', 'DC_Name_encoded',\\n       'Bus_Type_Desc_encoded', 'Region_encoded', 'PSAO_Expanded_encoded',\\n       'Chain_Name_encoded', 'Salesperson_encoded', 'AH_Program_encoded',\\n       'OTC_Front-end_Size_encoded', 'MRA_Program_Type_-_Active_AH_encoded',\\n       'Msa_Dma_encoded', 'Signage_Program_encoded',\\n       'Hospital_Associated_encoded']]\\n     \\n\""
      ]
     },
     "execution_count": 11,
     "metadata": {},
     "output_type": "execute_result"
    }
   ],
   "source": [
    "\"\"\"   ## - no longer need undersampling\n",
    "X1 = dfsample1[['Auto_Ship_Ind', 'Interior_Decor_Signage_Available_Funds',\n",
    "       'LMS_Enrolled', 'LMS_Available_Matching_Funds',\n",
    "       'LMS_Used_Funds_Most_Recent_3_Months',\n",
    "       'LMS_Used_Funds_Previous_3_Months', 'Open_Smart', 'PIP_Program',\n",
    "       'PQS_Program', 'SCS_Program', 'Spar_Coverage_Ind',\n",
    "       'Specialty_Solutions', 'Vaccine_Items', 'Vaccine_Starter',\n",
    "       'Vaccine_Items_Count', 'Vaccine_Items_Sls_Amt', 'YPO', 'Tot_Sls_Amt',\n",
    "       'DLC_Program_encoded', 'FEM_Program_encoded',\n",
    "       'HM_Circular_Program_encoded', 'Internal_Decor', 'PQS_Enrolled_encoded',\n",
    "       'ST_encoded', 'Pog_Code_Name_encoded', 'DC_Name_encoded',\n",
    "       'Bus_Type_Desc_encoded', 'Region_encoded', 'PSAO_Expanded_encoded',\n",
    "       'Chain_Name_encoded', 'Salesperson_encoded', 'AH_Program_encoded',\n",
    "       'OTC_Front-end_Size_encoded', 'MRA_Program_Type_-_Active_AH_encoded',\n",
    "       'Msa_Dma_encoded', 'Signage_Program_encoded',\n",
    "       'Hospital_Associated_encoded']]\n",
    "     \n",
    "\"\"\""
   ]
  },
  {
   "cell_type": "code",
   "execution_count": 12,
   "metadata": {},
   "outputs": [
    {
     "data": {
      "text/html": [
       "<div>\n",
       "<style>\n",
       "    .dataframe thead tr:only-child th {\n",
       "        text-align: right;\n",
       "    }\n",
       "\n",
       "    .dataframe thead th {\n",
       "        text-align: left;\n",
       "    }\n",
       "\n",
       "    .dataframe tbody tr th {\n",
       "        vertical-align: top;\n",
       "    }\n",
       "</style>\n",
       "<table border=\"1\" class=\"dataframe\">\n",
       "  <thead>\n",
       "    <tr style=\"text-align: right;\">\n",
       "      <th></th>\n",
       "      <th>Auto_Ship_Ind</th>\n",
       "      <th>Interior_Decor_Signage_Available_Funds</th>\n",
       "      <th>LMS_Enrolled</th>\n",
       "      <th>LMS_Available_Matching_Funds</th>\n",
       "      <th>LMS_Used_Funds_Most_Recent_3_Months</th>\n",
       "      <th>LMS_Used_Funds_Previous_3_Months</th>\n",
       "      <th>Open_Smart</th>\n",
       "      <th>PIP_Program</th>\n",
       "      <th>PQS_Program</th>\n",
       "      <th>SCS_Program</th>\n",
       "      <th>...</th>\n",
       "      <th>Bus_Type_Desc_encoded</th>\n",
       "      <th>Region_encoded</th>\n",
       "      <th>PSAO_Expanded_encoded</th>\n",
       "      <th>Chain_Name_encoded</th>\n",
       "      <th>Salesperson_encoded</th>\n",
       "      <th>AH_Program_encoded</th>\n",
       "      <th>OTC_Front-end_Size_encoded</th>\n",
       "      <th>MRA_Program_Type_-_Active_AH_encoded</th>\n",
       "      <th>Msa_Dma_encoded</th>\n",
       "      <th>Signage_Program_encoded</th>\n",
       "    </tr>\n",
       "    <tr>\n",
       "      <th>Account</th>\n",
       "      <th></th>\n",
       "      <th></th>\n",
       "      <th></th>\n",
       "      <th></th>\n",
       "      <th></th>\n",
       "      <th></th>\n",
       "      <th></th>\n",
       "      <th></th>\n",
       "      <th></th>\n",
       "      <th></th>\n",
       "      <th></th>\n",
       "      <th></th>\n",
       "      <th></th>\n",
       "      <th></th>\n",
       "      <th></th>\n",
       "      <th></th>\n",
       "      <th></th>\n",
       "      <th></th>\n",
       "      <th></th>\n",
       "      <th></th>\n",
       "      <th></th>\n",
       "    </tr>\n",
       "  </thead>\n",
       "  <tbody>\n",
       "    <tr>\n",
       "      <th>10491</th>\n",
       "      <td>1</td>\n",
       "      <td>1724.0</td>\n",
       "      <td>1</td>\n",
       "      <td>822.0</td>\n",
       "      <td>1</td>\n",
       "      <td>1</td>\n",
       "      <td>0</td>\n",
       "      <td>1</td>\n",
       "      <td>1</td>\n",
       "      <td>1</td>\n",
       "      <td>...</td>\n",
       "      <td>0</td>\n",
       "      <td>3</td>\n",
       "      <td>16</td>\n",
       "      <td>39</td>\n",
       "      <td>1</td>\n",
       "      <td>4</td>\n",
       "      <td>1</td>\n",
       "      <td>7</td>\n",
       "      <td>183</td>\n",
       "      <td>0</td>\n",
       "    </tr>\n",
       "    <tr>\n",
       "      <th>17475</th>\n",
       "      <td>1</td>\n",
       "      <td>0.0</td>\n",
       "      <td>1</td>\n",
       "      <td>0.0</td>\n",
       "      <td>1</td>\n",
       "      <td>1</td>\n",
       "      <td>0</td>\n",
       "      <td>0</td>\n",
       "      <td>1</td>\n",
       "      <td>1</td>\n",
       "      <td>...</td>\n",
       "      <td>0</td>\n",
       "      <td>3</td>\n",
       "      <td>0</td>\n",
       "      <td>39</td>\n",
       "      <td>1</td>\n",
       "      <td>0</td>\n",
       "      <td>3</td>\n",
       "      <td>3</td>\n",
       "      <td>190</td>\n",
       "      <td>0</td>\n",
       "    </tr>\n",
       "    <tr>\n",
       "      <th>19901</th>\n",
       "      <td>0</td>\n",
       "      <td>0.0</td>\n",
       "      <td>1</td>\n",
       "      <td>0.0</td>\n",
       "      <td>1</td>\n",
       "      <td>1</td>\n",
       "      <td>0</td>\n",
       "      <td>1</td>\n",
       "      <td>1</td>\n",
       "      <td>1</td>\n",
       "      <td>...</td>\n",
       "      <td>0</td>\n",
       "      <td>3</td>\n",
       "      <td>0</td>\n",
       "      <td>39</td>\n",
       "      <td>1</td>\n",
       "      <td>0</td>\n",
       "      <td>4</td>\n",
       "      <td>2</td>\n",
       "      <td>183</td>\n",
       "      <td>0</td>\n",
       "    </tr>\n",
       "    <tr>\n",
       "      <th>309745</th>\n",
       "      <td>0</td>\n",
       "      <td>2500.0</td>\n",
       "      <td>1</td>\n",
       "      <td>0.0</td>\n",
       "      <td>0</td>\n",
       "      <td>0</td>\n",
       "      <td>0</td>\n",
       "      <td>0</td>\n",
       "      <td>0</td>\n",
       "      <td>0</td>\n",
       "      <td>...</td>\n",
       "      <td>0</td>\n",
       "      <td>3</td>\n",
       "      <td>0</td>\n",
       "      <td>39</td>\n",
       "      <td>1</td>\n",
       "      <td>0</td>\n",
       "      <td>1</td>\n",
       "      <td>8</td>\n",
       "      <td>183</td>\n",
       "      <td>3</td>\n",
       "    </tr>\n",
       "    <tr>\n",
       "      <th>652229</th>\n",
       "      <td>0</td>\n",
       "      <td>0.0</td>\n",
       "      <td>1</td>\n",
       "      <td>340.0</td>\n",
       "      <td>1</td>\n",
       "      <td>0</td>\n",
       "      <td>0</td>\n",
       "      <td>0</td>\n",
       "      <td>1</td>\n",
       "      <td>0</td>\n",
       "      <td>...</td>\n",
       "      <td>0</td>\n",
       "      <td>3</td>\n",
       "      <td>0</td>\n",
       "      <td>38</td>\n",
       "      <td>1</td>\n",
       "      <td>0</td>\n",
       "      <td>0</td>\n",
       "      <td>8</td>\n",
       "      <td>183</td>\n",
       "      <td>0</td>\n",
       "    </tr>\n",
       "  </tbody>\n",
       "</table>\n",
       "<p>5 rows × 36 columns</p>\n",
       "</div>"
      ],
      "text/plain": [
       "         Auto_Ship_Ind  Interior_Decor_Signage_Available_Funds  LMS_Enrolled  \\\n",
       "Account                                                                        \n",
       "10491                1                                  1724.0             1   \n",
       "17475                1                                     0.0             1   \n",
       "19901                0                                     0.0             1   \n",
       "309745               0                                  2500.0             1   \n",
       "652229               0                                     0.0             1   \n",
       "\n",
       "         LMS_Available_Matching_Funds  LMS_Used_Funds_Most_Recent_3_Months  \\\n",
       "Account                                                                      \n",
       "10491                           822.0                                    1   \n",
       "17475                             0.0                                    1   \n",
       "19901                             0.0                                    1   \n",
       "309745                            0.0                                    0   \n",
       "652229                          340.0                                    1   \n",
       "\n",
       "         LMS_Used_Funds_Previous_3_Months  Open_Smart  PIP_Program  \\\n",
       "Account                                                              \n",
       "10491                                   1           0            1   \n",
       "17475                                   1           0            0   \n",
       "19901                                   1           0            1   \n",
       "309745                                  0           0            0   \n",
       "652229                                  0           0            0   \n",
       "\n",
       "         PQS_Program  SCS_Program           ...             \\\n",
       "Account                                     ...              \n",
       "10491              1            1           ...              \n",
       "17475              1            1           ...              \n",
       "19901              1            1           ...              \n",
       "309745             0            0           ...              \n",
       "652229             1            0           ...              \n",
       "\n",
       "         Bus_Type_Desc_encoded  Region_encoded  PSAO_Expanded_encoded  \\\n",
       "Account                                                                 \n",
       "10491                        0               3                     16   \n",
       "17475                        0               3                      0   \n",
       "19901                        0               3                      0   \n",
       "309745                       0               3                      0   \n",
       "652229                       0               3                      0   \n",
       "\n",
       "         Chain_Name_encoded  Salesperson_encoded  AH_Program_encoded  \\\n",
       "Account                                                                \n",
       "10491                    39                    1                   4   \n",
       "17475                    39                    1                   0   \n",
       "19901                    39                    1                   0   \n",
       "309745                   39                    1                   0   \n",
       "652229                   38                    1                   0   \n",
       "\n",
       "         OTC_Front-end_Size_encoded  MRA_Program_Type_-_Active_AH_encoded  \\\n",
       "Account                                                                     \n",
       "10491                             1                                     7   \n",
       "17475                             3                                     3   \n",
       "19901                             4                                     2   \n",
       "309745                            1                                     8   \n",
       "652229                            0                                     8   \n",
       "\n",
       "         Msa_Dma_encoded  Signage_Program_encoded  \n",
       "Account                                            \n",
       "10491                183                        0  \n",
       "17475                190                        0  \n",
       "19901                183                        0  \n",
       "309745               183                        3  \n",
       "652229               183                        0  \n",
       "\n",
       "[5 rows x 36 columns]"
      ]
     },
     "execution_count": 12,
     "metadata": {},
     "output_type": "execute_result"
    }
   ],
   "source": [
    "X.head()"
   ]
  },
  {
   "cell_type": "code",
   "execution_count": 13,
   "metadata": {
    "collapsed": true
   },
   "outputs": [],
   "source": [
    "y = df_clean['340B_Active']"
   ]
  },
  {
   "cell_type": "code",
   "execution_count": 14,
   "metadata": {
    "collapsed": true
   },
   "outputs": [],
   "source": [
    "# y_small = dfsample1['IS_HID']      - no longer need undersampling"
   ]
  },
  {
   "cell_type": "markdown",
   "metadata": {},
   "source": [
    "### Try some models and look at performance metrics and important features"
   ]
  },
  {
   "cell_type": "code",
   "execution_count": 16,
   "metadata": {
    "collapsed": true
   },
   "outputs": [],
   "source": [
    "# Split the data into train-test\n",
    "\n",
    "X_train, X_test, y_train, y_test = train_test_split(X, y, test_size=0.5, random_state=42)"
   ]
  },
  {
   "cell_type": "code",
   "execution_count": 19,
   "metadata": {},
   "outputs": [
    {
     "name": "stdout",
     "output_type": "stream",
     "text": [
      "Accuracy Score cross-validated:  0.833268012837\n",
      "Recall Score:  0.829550144449\n",
      "Precision Score average:   0.226640918231\n"
     ]
    }
   ],
   "source": [
    "# Random Forest\n",
    "\n",
    "rf = RandomForestClassifier()\n",
    "rf.fit(X_train, y_train)\n",
    "rf.feature_importances_\n",
    "pred_rf = rf.predict(X_test) \n",
    "rf_score_acc = np.mean(cross_val_score(rf, X_train, y_train, cv=5))\n",
    "rf_score_recall = recall_score(y_test, pred_rf, average='weighted')\n",
    "rf_score_avgprecision = average_precision_score(y_test, pred_rf)\n",
    "\n",
    "print(\"Accuracy Score cross-validated: \", rf_score_acc)\n",
    "print(\"Recall Score: \", rf_score_recall)\n",
    "print(\"Precision Score average:  \", rf_score_avgprecision)"
   ]
  },
  {
   "cell_type": "markdown",
   "metadata": {},
   "source": [
    "The most important measure for this business problem is Recall.  This is because Recall captures how many actual Positives the model finds.  In other words, does the model correctly predict current contract pharmacies of Macro Helix?   We want a model that can recognize an actual contract pharmacy.  Precision is not as important, as this captures how many the model labels as positive, compared to how many of those actually are positive; since we know that most of the pharmacies are not currently contract pharmacies, this measure is not very useful to the problem.  Similarly, Accuracy/R2 is not as important because since most in the dataset are negative, the model could merely predict all are negative and have a great Accuracy/R2 score -- not very meaningful."
   ]
  },
  {
   "cell_type": "code",
   "execution_count": 20,
   "metadata": {
    "scrolled": true
   },
   "outputs": [
    {
     "name": "stdout",
     "output_type": "stream",
     "text": [
      "                                        Feature Importance\n",
      "Auto_Ship_Ind                                     0.016934\n",
      "Interior_Decor_Signage_Available_Funds            0.042417\n",
      "LMS_Enrolled                                      0.008423\n",
      "LMS_Available_Matching_Funds                      0.052820\n",
      "LMS_Used_Funds_Most_Recent_3_Months               0.012072\n",
      "LMS_Used_Funds_Previous_3_Months                  0.011605\n",
      "Open_Smart                                        0.005516\n",
      "PIP_Program                                       0.018495\n",
      "PQS_Program                                       0.012625\n",
      "SCS_Program                                       0.012107\n",
      "Spar_Coverage_Ind                                 0.009876\n",
      "Specialty_Solutions                               0.002748\n",
      "Vaccine_Items                                     0.007109\n",
      "Vaccine_Starter                                   0.007592\n",
      "Vaccine_Items_Count                               0.022911\n",
      "Vaccine_Items_Sls_Amt                             0.033488\n",
      "YPO                                               0.015979\n",
      "Tot_Sls_Amt                                       0.097296\n",
      "DLC_Program_encoded                               0.026794\n",
      "FEM_Program_encoded                               0.020143\n",
      "HM_Circular_Program_encoded                       0.010015\n",
      "Internal_Decor                                    0.015496\n",
      "PQS_Enrolled_encoded                              0.006548\n",
      "ST_encoded                                        0.069394\n",
      "Pog_Code_Name_encoded                             0.017913\n",
      "DC_Name_encoded                                   0.058311\n",
      "Bus_Type_Desc_encoded                             0.013852\n",
      "Region_encoded                                    0.022082\n",
      "PSAO_Expanded_encoded                             0.010936\n",
      "Chain_Name_encoded                                0.055332\n",
      "Salesperson_encoded                               0.083002\n",
      "AH_Program_encoded                                0.010472\n",
      "OTC_Front-end_Size_encoded                        0.035200\n",
      "MRA_Program_Type_-_Active_AH_encoded              0.033230\n",
      "Msa_Dma_encoded                                   0.090123\n",
      "Signage_Program_encoded                           0.031144\n"
     ]
    }
   ],
   "source": [
    "feature_imp_rf = pd.DataFrame({'Feature Importance' : rf.feature_importances_}, index=X.columns)\n",
    "print(feature_imp_rf)"
   ]
  },
  {
   "cell_type": "code",
   "execution_count": 21,
   "metadata": {},
   "outputs": [
    {
     "name": "stdout",
     "output_type": "stream",
     "text": [
      "Accuracy Score cross-validated:  0.756082078026\n",
      "Recall Score:  0.774246801486\n",
      "Precision Score average:   0.25083668861\n"
     ]
    }
   ],
   "source": [
    "# Decision Tree\n",
    "\n",
    "dt = DecisionTreeClassifier()\n",
    "dt.fit(X_train, y_train)\n",
    "dt.feature_importances_\n",
    "pred_dt = dt.predict(X_test) \n",
    "dt_score_acc = np.mean(cross_val_score(dt, X_train, y_train, cv=5))\n",
    "dt_score_recall = recall_score(y_test, pred_dt, average='weighted')\n",
    "dt_score_avgprecision = average_precision_score(y_test, pred_dt)\n",
    "\n",
    "print(\"Accuracy Score cross-validated: \", dt_score_acc)\n",
    "print(\"Recall Score: \", dt_score_recall)\n",
    "print(\"Precision Score average:  \", dt_score_avgprecision)"
   ]
  },
  {
   "cell_type": "code",
   "execution_count": 22,
   "metadata": {},
   "outputs": [
    {
     "name": "stdout",
     "output_type": "stream",
     "text": [
      "                                        Feature Importance\n",
      "Auto_Ship_Ind                                     0.012287\n",
      "Interior_Decor_Signage_Available_Funds            0.045311\n",
      "LMS_Enrolled                                      0.009161\n",
      "LMS_Available_Matching_Funds                      0.046042\n",
      "LMS_Used_Funds_Most_Recent_3_Months               0.012208\n",
      "LMS_Used_Funds_Previous_3_Months                  0.005580\n",
      "Open_Smart                                        0.004974\n",
      "PIP_Program                                       0.009644\n",
      "PQS_Program                                       0.006417\n",
      "SCS_Program                                       0.009838\n",
      "Spar_Coverage_Ind                                 0.000000\n",
      "Specialty_Solutions                               0.000000\n",
      "Vaccine_Items                                     0.004304\n",
      "Vaccine_Starter                                   0.010016\n",
      "Vaccine_Items_Count                               0.026962\n",
      "Vaccine_Items_Sls_Amt                             0.038826\n",
      "YPO                                               0.011371\n",
      "Tot_Sls_Amt                                       0.150065\n",
      "DLC_Program_encoded                               0.030911\n",
      "FEM_Program_encoded                               0.023727\n",
      "HM_Circular_Program_encoded                       0.005903\n",
      "Internal_Decor                                    0.018913\n",
      "PQS_Enrolled_encoded                              0.008780\n",
      "ST_encoded                                        0.046771\n",
      "Pog_Code_Name_encoded                             0.008038\n",
      "DC_Name_encoded                                   0.051268\n",
      "Bus_Type_Desc_encoded                             0.014503\n",
      "Region_encoded                                    0.037280\n",
      "PSAO_Expanded_encoded                             0.012155\n",
      "Chain_Name_encoded                                0.041793\n",
      "Salesperson_encoded                               0.073525\n",
      "AH_Program_encoded                                0.006396\n",
      "OTC_Front-end_Size_encoded                        0.027940\n",
      "MRA_Program_Type_-_Active_AH_encoded              0.042939\n",
      "Msa_Dma_encoded                                   0.131701\n",
      "Signage_Program_encoded                           0.014448\n"
     ]
    }
   ],
   "source": [
    "feature_imp_dt = pd.DataFrame({'Feature Importance' : dt.feature_importances_}, index=X.columns)\n",
    "print(feature_imp_dt)"
   ]
  },
  {
   "cell_type": "code",
   "execution_count": 23,
   "metadata": {},
   "outputs": [
    {
     "name": "stdout",
     "output_type": "stream",
     "text": [
      "Accuracy Score cross-validated:  0.834917486854\n",
      "Recall Score:  0.832026413537\n",
      "Precision Score average:   0.2330908779\n"
     ]
    }
   ],
   "source": [
    "# Gradient Boosting\n",
    "\n",
    "gb = GradientBoostingClassifier()\n",
    "gb.fit(X_train, y_train)\n",
    "gb.feature_importances_\n",
    "pred_gb = gb.predict(X_test) \n",
    "gb_score_acc = np.mean(cross_val_score(gb, X_train, y_train, cv=5))\n",
    "gb_score_recall = recall_score(y_test, pred_gb, average='weighted')\n",
    "gb_score_avgprecision = average_precision_score(y_test, pred_gb)\n",
    "\n",
    "print(\"Accuracy Score cross-validated: \", gb_score_acc)\n",
    "print(\"Recall Score: \", gb_score_recall)\n",
    "print(\"Precision Score average:  \", gb_score_avgprecision)"
   ]
  },
  {
   "cell_type": "code",
   "execution_count": 24,
   "metadata": {},
   "outputs": [
    {
     "name": "stdout",
     "output_type": "stream",
     "text": [
      "                                        Feature Importance\n",
      "Auto_Ship_Ind                                     0.004061\n",
      "Interior_Decor_Signage_Available_Funds            0.002949\n",
      "LMS_Enrolled                                      0.001335\n",
      "LMS_Available_Matching_Funds                      0.081482\n",
      "LMS_Used_Funds_Most_Recent_3_Months               0.000000\n",
      "LMS_Used_Funds_Previous_3_Months                  0.005191\n",
      "Open_Smart                                        0.002880\n",
      "PIP_Program                                       0.000000\n",
      "PQS_Program                                       0.000540\n",
      "SCS_Program                                       0.008908\n",
      "Spar_Coverage_Ind                                 0.001429\n",
      "Specialty_Solutions                               0.006314\n",
      "Vaccine_Items                                     0.001590\n",
      "Vaccine_Starter                                   0.007080\n",
      "Vaccine_Items_Count                               0.004183\n",
      "Vaccine_Items_Sls_Amt                             0.047260\n",
      "YPO                                               0.008426\n",
      "Tot_Sls_Amt                                       0.140978\n",
      "DLC_Program_encoded                               0.013010\n",
      "FEM_Program_encoded                               0.007505\n",
      "HM_Circular_Program_encoded                       0.005067\n",
      "Internal_Decor                                    0.006328\n",
      "PQS_Enrolled_encoded                              0.003257\n",
      "ST_encoded                                        0.105865\n",
      "Pog_Code_Name_encoded                             0.012377\n",
      "DC_Name_encoded                                   0.055883\n",
      "Bus_Type_Desc_encoded                             0.033057\n",
      "Region_encoded                                    0.012117\n",
      "PSAO_Expanded_encoded                             0.019137\n",
      "Chain_Name_encoded                                0.062039\n",
      "Salesperson_encoded                               0.118807\n",
      "AH_Program_encoded                                0.002970\n",
      "OTC_Front-end_Size_encoded                        0.038204\n",
      "MRA_Program_Type_-_Active_AH_encoded              0.032817\n",
      "Msa_Dma_encoded                                   0.133900\n",
      "Signage_Program_encoded                           0.013055\n"
     ]
    }
   ],
   "source": [
    "feature_imp_gb = pd.DataFrame({'Feature Importance' : gb.feature_importances_}, index=X.columns)\n",
    "print(feature_imp_gb)"
   ]
  },
  {
   "cell_type": "code",
   "execution_count": 25,
   "metadata": {
    "collapsed": true
   },
   "outputs": [],
   "source": [
    "# show which features are most important\n",
    "\n",
    "def plot_feature_importance(model, df):\n",
    "    cols = []\n",
    "    for col in df.columns:\n",
    "        cols.append(col)\n",
    "\n",
    "    feature_importances = pd.DataFrame({'Feature Importance' : model.feature_importances_}, index=cols)\n",
    "    feature_importances = feature_importances.sort_values(by='Feature Importance')\n",
    "    feature_importances.plot(kind='barh', color='r', figsize=(6,6))\n",
    "    plt.title('Feature Importance', fontsize=18)\n",
    "    plt.tight_layout()\n",
    "    plt.savefig('figures/feat_import.png', dpi=300)"
   ]
  },
  {
   "cell_type": "code",
   "execution_count": 26,
   "metadata": {},
   "outputs": [
    {
     "data": {
      "image/png": "[encoded data removed]",
      "text/plain": [
       "<matplotlib.figure.Figure at 0xc8564a8>"
      ]
     },
     "metadata": {},
     "output_type": "display_data"
    }
   ],
   "source": [
    "plot_feature_importance(gb, X_test)"
   ]
  },
  {
   "cell_type": "markdown",
   "metadata": {},
   "source": [
    "### Reduce the dimensions even further, based on Feature Importance"
   ]
  },
  {
   "cell_type": "markdown",
   "metadata": {},
   "source": [
    "Pick the top features to model, making the model simpler but still performing as well."
   ]
  },
  {
   "cell_type": "code",
   "execution_count": 27,
   "metadata": {
    "collapsed": true
   },
   "outputs": [],
   "source": [
    "# XR = X[['DC_Name_encoded','Tot_Sls_Amt', 'Msa_Dma_encoded',\n",
    "#                 'Salesperson_encoded', 'ST_encoded',\n",
    "#                 'Chain_Name_encoded','LMS_Available_Matching_Funds']]"
   ]
  },
  {
   "cell_type": "code",
   "execution_count": 28,
   "metadata": {
    "collapsed": true
   },
   "outputs": [],
   "source": [
    "# XR_train = X_train[['DC_Name_encoded', 'Tot_Sls_Amt', 'Msa_Dma_encoded',\n",
    "#                 'Salesperson_encoded', 'ST_encoded',\n",
    "#                 'Chain_Name_encoded','LMS_Available_Matching_Funds']]\n",
    "\n",
    "# XR_test = X_test[['DC_Name_encoded', 'Tot_Sls_Amt', 'Msa_Dma_encoded',\n",
    "#                 'Salesperson_encoded', 'ST_encoded',\n",
    "#                 'Chain_Name_encoded','LMS_Available_Matching_Funds']]"
   ]
  },
  {
   "cell_type": "code",
   "execution_count": 29,
   "metadata": {
    "collapsed": true
   },
   "outputs": [],
   "source": [
    "# # Gradient Boosting with reduced features\n",
    "\n",
    "# gbr = GradientBoostingClassifier()\n",
    "# gbr.fit(XR_train, y_train)\n",
    "# gbr.feature_importances_\n",
    "# pred_gbr = gbr.predict(XR_test) \n",
    "# gbr_score_acc = np.mean(cross_val_score(gbr, XR_train, y_train, cv=5))\n",
    "# gbr_score_recall = recall_score(y_test, pred_gbr, average='weighted')\n",
    "# gbr_score_avgprecision = average_precision_score(y_test, pred_gbr)\n",
    "\n",
    "# print(\"Accuracy Score cross-validated: \", gbr_score_acc)\n",
    "# print(\"Recall Score: \", gbr_score_recall)\n",
    "# print(\"Precision Score average:  \", gbr_score_avgprecision)"
   ]
  },
  {
   "cell_type": "code",
   "execution_count": 30,
   "metadata": {
    "collapsed": true
   },
   "outputs": [],
   "source": [
    "# # Gradient Boosting with reduced features\n",
    "\n",
    "# gbr = GradientBoostingClassifier()\n",
    "# gbr.fit(XR_train, y_train)\n",
    "# gbr.feature_importances_\n",
    "# pred_gbr = gbr.predict(XR_test) \n",
    "# gbr_score_acc = np.mean(cross_val_score(gbr, XR_test, y_test, cv=5))\n",
    "# gbr_score_recall = recall_score(y_test, pred_gbr, average='weighted')\n",
    "# gbr_score_avgprecision = average_precision_score(y_test, pred_gbr)\n",
    "\n",
    "# print(\"Accuracy Score cross-validated: \", gbr_score_acc)\n",
    "# print(\"Recall Score: \", gbr_score_recall)\n",
    "# print(\"Precision Score average:  \", gbr_score_avgprecision)"
   ]
  },
  {
   "cell_type": "code",
   "execution_count": 31,
   "metadata": {
    "collapsed": true
   },
   "outputs": [],
   "source": [
    "# feature_imp_gbr = pd.DataFrame({'Feature Importance' : gbr.feature_importances_}, index=XR.columns)\n",
    "# print(feature_imp_gbr)"
   ]
  },
  {
   "cell_type": "markdown",
   "metadata": {},
   "source": [
    "Save processed data to files for review"
   ]
  },
  {
   "cell_type": "code",
   "execution_count": 32,
   "metadata": {
    "collapsed": true
   },
   "outputs": [],
   "source": [
    "X.to_csv('data/HID_all_obs.csv')\n",
    "#X1.to_csv('data/HID_undersampled_obs.csv')  - no longer need undersampling\n",
    "# XR.to_csv('data/HID_reduced_features.csv')\n",
    "#dfsample1.to_csv('data/HID_undersampled_w_label.csv') - no longer need undersampling"
   ]
  },
  {
   "cell_type": "markdown",
   "metadata": {},
   "source": [
    "### GridSearch to optimize the model, using the reduced feature set"
   ]
  },
  {
   "cell_type": "markdown",
   "metadata": {},
   "source": [
    "How can we optimized the model that seems to perform the best?   We try many parameters via GridSearch."
   ]
  },
  {
   "cell_type": "code",
   "execution_count": 33,
   "metadata": {
    "collapsed": true
   },
   "outputs": [],
   "source": [
    "from sklearn.model_selection import GridSearchCV"
   ]
  },
  {
   "cell_type": "code",
   "execution_count": 35,
   "metadata": {
    "collapsed": true
   },
   "outputs": [],
   "source": [
    "gbr_params = dict(learning_rate=np.arange(0.1, 0.5, 0.1),\n",
    "                        min_samples_split=np.arange(2,5,1),\n",
    "                        max_depth=np.arange(1, 7, 1),\n",
    "                        max_features=np.array([3, 4, 5, 6, 7, None, 'auto', 'sqrt']),\n",
    "                        n_estimators=np.arange(60, 140, 10))"
   ]
  },
  {
   "cell_type": "code",
   "execution_count": 36,
   "metadata": {
    "collapsed": true
   },
   "outputs": [],
   "source": [
    "gs_gbr = GridSearchCV(estimator=GradientBoostingClassifier(), param_grid=gbr_params)"
   ]
  },
  {
   "cell_type": "code",
   "execution_count": 37,
   "metadata": {},
   "outputs": [
    {
     "data": {
      "text/plain": [
       "GridSearchCV(cv=None, error_score='raise',\n",
       "       estimator=GradientBoostingClassifier(criterion='friedman_mse', init=None,\n",
       "              learning_rate=0.1, loss='deviance', max_depth=3,\n",
       "              max_features=None, max_leaf_nodes=None,\n",
       "              min_impurity_decrease=0.0, min_impurity_split=None,\n",
       "              min_samples_leaf=1, min_samples_split=2,\n",
       "              min_weight_fraction_leaf=0.0, n_estimators=100,\n",
       "              presort='auto', random_state=None, subsample=1.0, verbose=0,\n",
       "              warm_start=False),\n",
       "       fit_params=None, iid=True, n_jobs=1,\n",
       "       param_grid={'learning_rate': array([ 0.1,  0.2,  0.3,  0.4]), 'min_samples_split': array([2, 3, 4]), 'max_depth': array([1, 2, 3, 4, 5, 6]), 'max_features': array([3, 4, 5, 6, 7, None, 'auto', 'sqrt'], dtype=object), 'n_estimators': array([ 60,  70,  80,  90, 100, 110, 120, 130])},\n",
       "       pre_dispatch='2*n_jobs', refit=True, return_train_score='warn',\n",
       "       scoring=None, verbose=0)"
      ]
     },
     "execution_count": 37,
     "metadata": {},
     "output_type": "execute_result"
    }
   ],
   "source": [
    "# gs_gbr.fit(XR_train, y_train)\n",
    "gs_gbr.fit(X_train, y_train)"
   ]
  },
  {
   "cell_type": "code",
   "execution_count": 38,
   "metadata": {},
   "outputs": [
    {
     "data": {
      "text/plain": [
       "{'learning_rate': 0.10000000000000001,\n",
       " 'max_depth': 5,\n",
       " 'max_features': 4,\n",
       " 'min_samples_split': 4,\n",
       " 'n_estimators': 80}"
      ]
     },
     "execution_count": 38,
     "metadata": {},
     "output_type": "execute_result"
    }
   ],
   "source": [
    "gs_gbr.best_params_"
   ]
  },
  {
   "cell_type": "code",
   "execution_count": 39,
   "metadata": {},
   "outputs": [
    {
     "data": {
      "text/plain": [
       "0.84028064382996281"
      ]
     },
     "execution_count": 39,
     "metadata": {},
     "output_type": "execute_result"
    }
   ],
   "source": [
    "gs_gbr.best_score_"
   ]
  },
  {
   "cell_type": "code",
   "execution_count": 40,
   "metadata": {},
   "outputs": [
    {
     "data": {
      "text/plain": [
       "GradientBoostingClassifier(criterion='friedman_mse', init=None,\n",
       "              learning_rate=0.10000000000000001, loss='deviance',\n",
       "              max_depth=5, max_features=4, max_leaf_nodes=None,\n",
       "              min_impurity_decrease=0.0, min_impurity_split=None,\n",
       "              min_samples_leaf=1, min_samples_split=4,\n",
       "              min_weight_fraction_leaf=0.0, n_estimators=80,\n",
       "              presort='auto', random_state=None, subsample=1.0, verbose=0,\n",
       "              warm_start=False)"
      ]
     },
     "execution_count": 40,
     "metadata": {},
     "output_type": "execute_result"
    }
   ],
   "source": [
    "gs_gbr.best_estimator_"
   ]
  },
  {
   "cell_type": "code",
   "execution_count": 41,
   "metadata": {},
   "outputs": [
    {
     "data": {
      "text/plain": [
       "GradientBoostingClassifier(criterion='friedman_mse', init=None,\n",
       "              learning_rate=0.1, loss='deviance', max_depth=5,\n",
       "              max_features=4, max_leaf_nodes=None,\n",
       "              min_impurity_decrease=0.0, min_impurity_split=None,\n",
       "              min_samples_leaf=1, min_samples_split=4,\n",
       "              min_weight_fraction_leaf=0.0, n_estimators=80,\n",
       "              presort='auto', random_state=None, subsample=1.0, verbose=0,\n",
       "              warm_start=False)"
      ]
     },
     "execution_count": 41,
     "metadata": {},
     "output_type": "execute_result"
    }
   ],
   "source": [
    "best_model = GradientBoostingClassifier(criterion='friedman_mse', init=None,\n",
    "              learning_rate=0.10000000000000001, loss='deviance',\n",
    "              max_depth=5, max_features=4, max_leaf_nodes=None,\n",
    "              min_impurity_decrease=0.0, min_impurity_split=None,\n",
    "              min_samples_leaf=1, min_samples_split=4,\n",
    "              min_weight_fraction_leaf=0.0, n_estimators=80,\n",
    "              presort='auto', random_state=None, subsample=1.0, verbose=0,\n",
    "              warm_start=False)\n",
    "# best_model.fit(XR_train, y_train)\n",
    "best_model.fit(X_train, y_train)"
   ]
  },
  {
   "cell_type": "code",
   "execution_count": 42,
   "metadata": {},
   "outputs": [
    {
     "name": "stdout",
     "output_type": "stream",
     "text": [
      "Accuracy Score cross-validated:  0.836568682416\n",
      "Recall Score:  0.836566240198\n",
      "Precision Score average:   0.255147936738\n"
     ]
    }
   ],
   "source": [
    "best_model.feature_importances_\n",
    "pred_best_model = best_model.predict(X_test) \n",
    "best_model_score_acc = np.mean(cross_val_score(best_model, X_train, y_train, cv=5))\n",
    "best_model_score_recall = recall_score(y_test, pred_best_model, average='weighted')\n",
    "best_model_score_avgprecision = average_precision_score(y_test, pred_best_model)\n",
    "\n",
    "print(\"Accuracy Score cross-validated: \", best_model_score_acc)\n",
    "print(\"Recall Score: \", best_model_score_recall)\n",
    "print(\"Precision Score average:  \", best_model_score_avgprecision)"
   ]
  },
  {
   "cell_type": "markdown",
   "metadata": {},
   "source": [
    "### Run the model (reduced feature set) on ALL observations"
   ]
  },
  {
   "cell_type": "markdown",
   "metadata": {},
   "source": [
    "We trained and fitted the model with a reduced set of observations (to address the class imbalance for the label), so now we want to try the model on all observations, to learn which pharmacies it predicts as contract pharmacies for Macro Helix."
   ]
  },
  {
   "cell_type": "code",
   "execution_count": 43,
   "metadata": {
    "collapsed": true
   },
   "outputs": [],
   "source": [
    "# XR_all_obs = X[['DC_Name_encoded', 'Tot_Sls_Amt', 'Msa_Dma_encoded',\n",
    "#                 'Salesperson_encoded', 'ST_encoded',\n",
    "#                 'Chain_Name_encoded','LMS_Available_Matching_Funds']] "
   ]
  },
  {
   "cell_type": "code",
   "execution_count": 44,
   "metadata": {
    "collapsed": true
   },
   "outputs": [],
   "source": [
    "pred_best_model_all_obs = best_model.predict(X)"
   ]
  },
  {
   "cell_type": "code",
   "execution_count": 59,
   "metadata": {},
   "outputs": [
    {
     "name": "stdout",
     "output_type": "stream",
     "text": [
      "Accuracy Score cross-validated:  0.344257338312\n",
      "Recall Score:  0.870614940157\n",
      "Precision Score average:   0.385688210782\n",
      "Recall Score - no weighting:  0.336504161712\n"
     ]
    }
   ],
   "source": [
    "best_model_all_obs_score_acc = np.mean(cross_val_score(best_model, X, y, cv=5))\n",
    "# best_model_all_obs_score_recall = recall_score(y, pred_best_model_all_obs, average='weighted')\n",
    "best_model_all_obs_score_recall = recall_score(y, pred_best_model_all_obs, average='weighted') \n",
    "best_model_all_obs_score_avgprecision = average_precision_score(y, pred_best_model_all_obs)\n",
    "\n",
    "print(\"Accuracy Score cross-validated: \", best_model_all_obs_score_acc)\n",
    "print(\"Recall Score: \", best_model_all_obs_score_recall)\n",
    "print(\"Precision Score average:  \", best_model_all_obs_score_avgprecision)\n",
    "\n",
    "best_model_all_obs_score_recall_unweighted = recall_score(y, pred_best_model_all_obs) \n",
    "print(\"Recall Score - no weighting: \", best_model_all_obs_score_recall_unweighted)"
   ]
  },
  {
   "cell_type": "markdown",
   "metadata": {},
   "source": [
    "Recall score has declined significantly on full dataset."
   ]
  },
  {
   "cell_type": "markdown",
   "metadata": {},
   "source": [
    "### Put Actual 340B and Predicted 340B into final dataset"
   ]
  },
  {
   "cell_type": "code",
   "execution_count": 48,
   "metadata": {
    "collapsed": true
   },
   "outputs": [],
   "source": [
    "df_clean['Actual_340B'] = df_clean['340B_Active'] "
   ]
  },
  {
   "cell_type": "code",
   "execution_count": 49,
   "metadata": {
    "collapsed": true
   },
   "outputs": [],
   "source": [
    "q = pred_best_model_all_obs"
   ]
  },
  {
   "cell_type": "code",
   "execution_count": 50,
   "metadata": {},
   "outputs": [
    {
     "name": "stdout",
     "output_type": "stream",
     "text": [
      "[[   0 4494]\n",
      " [   1  352]]\n"
     ]
    }
   ],
   "source": [
    "unique, counts = np.unique(q, return_counts=True)\n",
    "print(np.asarray((unique, counts)).T)"
   ]
  },
  {
   "cell_type": "code",
   "execution_count": 51,
   "metadata": {
    "collapsed": true
   },
   "outputs": [],
   "source": [
    "df_clean['Predicted_340B'] = pred_best_model_all_obs           "
   ]
  },
  {
   "cell_type": "code",
   "execution_count": 52,
   "metadata": {},
   "outputs": [
    {
     "data": {
      "text/html": [
       "<div>\n",
       "<style>\n",
       "    .dataframe thead tr:only-child th {\n",
       "        text-align: right;\n",
       "    }\n",
       "\n",
       "    .dataframe thead th {\n",
       "        text-align: left;\n",
       "    }\n",
       "\n",
       "    .dataframe tbody tr th {\n",
       "        vertical-align: top;\n",
       "    }\n",
       "</style>\n",
       "<table border=\"1\" class=\"dataframe\">\n",
       "  <thead>\n",
       "    <tr style=\"text-align: right;\">\n",
       "      <th></th>\n",
       "      <th>Zip</th>\n",
       "      <th>Hm_Start_Dt</th>\n",
       "      <th>Channel_Type_Cd</th>\n",
       "      <th>Auto_Ship_Ind</th>\n",
       "      <th>Internal_Decor</th>\n",
       "      <th>Interior_Decor_Signage_Available_Funds</th>\n",
       "      <th>LMS_Enrolled</th>\n",
       "      <th>LMS_Available_Matching_Funds</th>\n",
       "      <th>LMS_Used_Funds_Most_Recent_3_Months</th>\n",
       "      <th>LMS_Used_Funds_Previous_3_Months</th>\n",
       "      <th>...</th>\n",
       "      <th>Salesperson_encoded</th>\n",
       "      <th>AH_Program_encoded</th>\n",
       "      <th>OTC_Front-end_Size_encoded</th>\n",
       "      <th>MRA_Program_Type_-_Active_AH_encoded</th>\n",
       "      <th>Msa_Dma_encoded</th>\n",
       "      <th>Signage_Program_encoded</th>\n",
       "      <th>3rd_Party_Vendor_encoded</th>\n",
       "      <th>Hospital_Associated_encoded</th>\n",
       "      <th>Actual_340B</th>\n",
       "      <th>Predicted_340B</th>\n",
       "    </tr>\n",
       "    <tr>\n",
       "      <th>Account</th>\n",
       "      <th></th>\n",
       "      <th></th>\n",
       "      <th></th>\n",
       "      <th></th>\n",
       "      <th></th>\n",
       "      <th></th>\n",
       "      <th></th>\n",
       "      <th></th>\n",
       "      <th></th>\n",
       "      <th></th>\n",
       "      <th></th>\n",
       "      <th></th>\n",
       "      <th></th>\n",
       "      <th></th>\n",
       "      <th></th>\n",
       "      <th></th>\n",
       "      <th></th>\n",
       "      <th></th>\n",
       "      <th></th>\n",
       "      <th></th>\n",
       "      <th></th>\n",
       "    </tr>\n",
       "  </thead>\n",
       "  <tbody>\n",
       "    <tr>\n",
       "      <th>10491</th>\n",
       "      <td>97463</td>\n",
       "      <td>732524</td>\n",
       "      <td>30</td>\n",
       "      <td>1</td>\n",
       "      <td>1</td>\n",
       "      <td>1724.0</td>\n",
       "      <td>1</td>\n",
       "      <td>822.0</td>\n",
       "      <td>1</td>\n",
       "      <td>1</td>\n",
       "      <td>...</td>\n",
       "      <td>1</td>\n",
       "      <td>4</td>\n",
       "      <td>1</td>\n",
       "      <td>7</td>\n",
       "      <td>183</td>\n",
       "      <td>0</td>\n",
       "      <td>18</td>\n",
       "      <td>15</td>\n",
       "      <td>0</td>\n",
       "      <td>0</td>\n",
       "    </tr>\n",
       "    <tr>\n",
       "      <th>17475</th>\n",
       "      <td>97630</td>\n",
       "      <td>732687</td>\n",
       "      <td>30</td>\n",
       "      <td>1</td>\n",
       "      <td>1</td>\n",
       "      <td>0.0</td>\n",
       "      <td>1</td>\n",
       "      <td>0.0</td>\n",
       "      <td>1</td>\n",
       "      <td>1</td>\n",
       "      <td>...</td>\n",
       "      <td>1</td>\n",
       "      <td>0</td>\n",
       "      <td>3</td>\n",
       "      <td>3</td>\n",
       "      <td>190</td>\n",
       "      <td>0</td>\n",
       "      <td>18</td>\n",
       "      <td>15</td>\n",
       "      <td>0</td>\n",
       "      <td>0</td>\n",
       "    </tr>\n",
       "    <tr>\n",
       "      <th>19901</th>\n",
       "      <td>97471</td>\n",
       "      <td>732616</td>\n",
       "      <td>30</td>\n",
       "      <td>0</td>\n",
       "      <td>1</td>\n",
       "      <td>0.0</td>\n",
       "      <td>1</td>\n",
       "      <td>0.0</td>\n",
       "      <td>1</td>\n",
       "      <td>1</td>\n",
       "      <td>...</td>\n",
       "      <td>1</td>\n",
       "      <td>0</td>\n",
       "      <td>4</td>\n",
       "      <td>2</td>\n",
       "      <td>183</td>\n",
       "      <td>0</td>\n",
       "      <td>18</td>\n",
       "      <td>15</td>\n",
       "      <td>0</td>\n",
       "      <td>0</td>\n",
       "    </tr>\n",
       "    <tr>\n",
       "      <th>309745</th>\n",
       "      <td>97467</td>\n",
       "      <td>735998</td>\n",
       "      <td>30</td>\n",
       "      <td>0</td>\n",
       "      <td>0</td>\n",
       "      <td>2500.0</td>\n",
       "      <td>1</td>\n",
       "      <td>0.0</td>\n",
       "      <td>0</td>\n",
       "      <td>0</td>\n",
       "      <td>...</td>\n",
       "      <td>1</td>\n",
       "      <td>0</td>\n",
       "      <td>1</td>\n",
       "      <td>8</td>\n",
       "      <td>183</td>\n",
       "      <td>3</td>\n",
       "      <td>18</td>\n",
       "      <td>15</td>\n",
       "      <td>0</td>\n",
       "      <td>0</td>\n",
       "    </tr>\n",
       "    <tr>\n",
       "      <th>652229</th>\n",
       "      <td>97370</td>\n",
       "      <td>734702</td>\n",
       "      <td>30</td>\n",
       "      <td>0</td>\n",
       "      <td>1</td>\n",
       "      <td>0.0</td>\n",
       "      <td>1</td>\n",
       "      <td>340.0</td>\n",
       "      <td>1</td>\n",
       "      <td>0</td>\n",
       "      <td>...</td>\n",
       "      <td>1</td>\n",
       "      <td>0</td>\n",
       "      <td>0</td>\n",
       "      <td>8</td>\n",
       "      <td>183</td>\n",
       "      <td>0</td>\n",
       "      <td>18</td>\n",
       "      <td>15</td>\n",
       "      <td>0</td>\n",
       "      <td>0</td>\n",
       "    </tr>\n",
       "  </tbody>\n",
       "</table>\n",
       "<p>5 rows × 64 columns</p>\n",
       "</div>"
      ],
      "text/plain": [
       "           Zip  Hm_Start_Dt  Channel_Type_Cd  Auto_Ship_Ind  Internal_Decor  \\\n",
       "Account                                                                       \n",
       "10491    97463       732524               30              1               1   \n",
       "17475    97630       732687               30              1               1   \n",
       "19901    97471       732616               30              0               1   \n",
       "309745   97467       735998               30              0               0   \n",
       "652229   97370       734702               30              0               1   \n",
       "\n",
       "         Interior_Decor_Signage_Available_Funds  LMS_Enrolled  \\\n",
       "Account                                                         \n",
       "10491                                    1724.0             1   \n",
       "17475                                       0.0             1   \n",
       "19901                                       0.0             1   \n",
       "309745                                   2500.0             1   \n",
       "652229                                      0.0             1   \n",
       "\n",
       "         LMS_Available_Matching_Funds  LMS_Used_Funds_Most_Recent_3_Months  \\\n",
       "Account                                                                      \n",
       "10491                           822.0                                    1   \n",
       "17475                             0.0                                    1   \n",
       "19901                             0.0                                    1   \n",
       "309745                            0.0                                    0   \n",
       "652229                          340.0                                    1   \n",
       "\n",
       "         LMS_Used_Funds_Previous_3_Months       ...        \\\n",
       "Account                                         ...         \n",
       "10491                                   1       ...         \n",
       "17475                                   1       ...         \n",
       "19901                                   1       ...         \n",
       "309745                                  0       ...         \n",
       "652229                                  0       ...         \n",
       "\n",
       "         Salesperson_encoded  AH_Program_encoded  OTC_Front-end_Size_encoded  \\\n",
       "Account                                                                        \n",
       "10491                      1                   4                           1   \n",
       "17475                      1                   0                           3   \n",
       "19901                      1                   0                           4   \n",
       "309745                     1                   0                           1   \n",
       "652229                     1                   0                           0   \n",
       "\n",
       "         MRA_Program_Type_-_Active_AH_encoded  Msa_Dma_encoded  \\\n",
       "Account                                                          \n",
       "10491                                       7              183   \n",
       "17475                                       3              190   \n",
       "19901                                       2              183   \n",
       "309745                                      8              183   \n",
       "652229                                      8              183   \n",
       "\n",
       "         Signage_Program_encoded  3rd_Party_Vendor_encoded  \\\n",
       "Account                                                      \n",
       "10491                          0                        18   \n",
       "17475                          0                        18   \n",
       "19901                          0                        18   \n",
       "309745                         3                        18   \n",
       "652229                         0                        18   \n",
       "\n",
       "         Hospital_Associated_encoded  Actual_340B  Predicted_340B  \n",
       "Account                                                            \n",
       "10491                             15            0               0  \n",
       "17475                             15            0               0  \n",
       "19901                             15            0               0  \n",
       "309745                            15            0               0  \n",
       "652229                            15            0               0  \n",
       "\n",
       "[5 rows x 64 columns]"
      ]
     },
     "execution_count": 52,
     "metadata": {},
     "output_type": "execute_result"
    }
   ],
   "source": [
    "df_clean.head()"
   ]
  },
  {
   "cell_type": "markdown",
   "metadata": {},
   "source": [
    "Save to file for the business to review predicted contract pharmacies."
   ]
  },
  {
   "cell_type": "code",
   "execution_count": 53,
   "metadata": {
    "collapsed": true
   },
   "outputs": [],
   "source": [
    "df_clean.to_csv('data/340B_predictions.csv')"
   ]
  },
  {
   "cell_type": "code",
   "execution_count": 54,
   "metadata": {},
   "outputs": [
    {
     "data": {
      "text/plain": [
       "352"
      ]
     },
     "execution_count": 54,
     "metadata": {},
     "output_type": "execute_result"
    }
   ],
   "source": [
    "len(df_clean[df_clean['Predicted_340B']==1])"
   ]
  },
  {
   "cell_type": "code",
   "execution_count": 55,
   "metadata": {},
   "outputs": [
    {
     "data": {
      "text/plain": [
       "0    4494\n",
       "1     352\n",
       "Name: Predicted_340B, dtype: int64"
      ]
     },
     "execution_count": 55,
     "metadata": {},
     "output_type": "execute_result"
    }
   ],
   "source": [
    "df_clean['Predicted_340B'].unique()\n",
    "df_clean['Predicted_340B'].value_counts()"
   ]
  },
  {
   "cell_type": "code",
   "execution_count": 56,
   "metadata": {
    "collapsed": true
   },
   "outputs": [],
   "source": [
    "# XR.shape"
   ]
  },
  {
   "cell_type": "code",
   "execution_count": 57,
   "metadata": {},
   "outputs": [
    {
     "data": {
      "text/plain": [
       "(4846, 36)"
      ]
     },
     "execution_count": 57,
     "metadata": {},
     "output_type": "execute_result"
    }
   ],
   "source": [
    "X.shape"
   ]
  },
  {
   "cell_type": "code",
   "execution_count": 58,
   "metadata": {},
   "outputs": [
    {
     "data": {
      "text/plain": [
       "(4846,)"
      ]
     },
     "execution_count": 58,
     "metadata": {},
     "output_type": "execute_result"
    }
   ],
   "source": [
    "y.shape"
   ]
  },
  {
   "cell_type": "code",
   "execution_count": 53,
   "metadata": {
    "collapsed": true
   },
   "outputs": [],
   "source": [
    "# XR_all_obs.shape"
   ]
  },
  {
   "cell_type": "code",
   "execution_count": null,
   "metadata": {
    "collapsed": true
   },
   "outputs": [],
   "source": []
  }
 ],
 "metadata": {
  "kernelspec": {
   "display_name": "Python 3",
   "language": "python",
   "name": "python3"
  },
  "language_info": {
   "codemirror_mode": {
    "name": "ipython",
    "version": 3
   },
   "file_extension": ".py",
   "mimetype": "text/x-python",
   "name": "python",
   "nbconvert_exporter": "python",
   "pygments_lexer": "ipython3",
   "version": "3.6.3"
  }
 },
 "nbformat": 4,
 "nbformat_minor": 2
}
