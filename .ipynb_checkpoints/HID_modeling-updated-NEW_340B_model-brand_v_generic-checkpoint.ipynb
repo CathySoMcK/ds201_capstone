{
 "cells": [
  {
   "cell_type": "markdown",
   "metadata": {},
   "source": [
    "### Import Programs"
   ]
  },
  {
   "cell_type": "code",
   "execution_count": 1,
   "metadata": {
    "collapsed": true
   },
   "outputs": [],
   "source": [
    "%load_ext autoreload\n",
    "%autoreload 2\n",
    "%matplotlib inline"
   ]
  },
  {
   "cell_type": "code",
   "execution_count": 2,
   "metadata": {},
   "outputs": [
    {
     "name": "stderr",
     "output_type": "stream",
     "text": [
      "C:\\ProgramData\\Anaconda3\\envs\\py36\\lib\\site-packages\\ipykernel_launcher.py:6: FutureWarning: The pandas.core.datetools module is deprecated and will be removed in a future version. Please use the pandas.tseries module instead.\n",
      "  \n"
     ]
    }
   ],
   "source": [
    "import datetime as dt\n",
    "\n",
    "import pandas as pd\n",
    "from pandas import ExcelWriter\n",
    "from pandas import ExcelFile\n",
    "from pandas.core import datetools\n",
    "\n",
    "from sklearn.preprocessing import LabelEncoder\n",
    "from sklearn.preprocessing import StandardScaler\n",
    "\n",
    "\n",
    "import numpy as np\n",
    "\n",
    "import matplotlib.pyplot as plt\n",
    "import seaborn as sns\n",
    "\n",
    "from sklearn import tree\n",
    "from sklearn.metrics import accuracy_score\n",
    "from sklearn.model_selection import KFold\n",
    "from sklearn.model_selection import cross_val_score\n",
    "from sklearn.metrics import recall_score, average_precision_score\n",
    "from sklearn.ensemble import GradientBoostingRegressor\n",
    "from sklearn.model_selection import train_test_split\n",
    "import statsmodels.api as sm\n",
    "from statsmodels.stats.outliers_influence import variance_inflation_factor\n",
    "from sklearn.ensemble import RandomForestClassifier\n",
    "from sklearn.datasets import make_classification\n",
    "from sklearn.tree import DecisionTreeClassifier\n",
    "from sklearn.linear_model import LogisticRegression\n",
    "from sklearn.ensemble import GradientBoostingClassifier\n",
    "from sklearn.neighbors import KNeighborsClassifier"
   ]
  },
  {
   "cell_type": "markdown",
   "metadata": {},
   "source": [
    "### Import Dataset from Excel file"
   ]
  },
  {
   "cell_type": "markdown",
   "metadata": {},
   "source": [
    "These are the files produced in the previous Python notebook that performed cleansing and initial feature reduction."
   ]
  },
  {
   "cell_type": "code",
   "execution_count": 3,
   "metadata": {
    "collapsed": true
   },
   "outputs": [],
   "source": [
    "X_unscaled = pd.read_csv('data/HID_features.csv', index_col=0)\n",
    "df_clean = pd.read_csv('data/df_clean.csv', index_col=0)"
   ]
  },
  {
   "cell_type": "code",
   "execution_count": 4,
   "metadata": {},
   "outputs": [
    {
     "data": {
      "text/plain": [
       "pandas.core.frame.DataFrame"
      ]
     },
     "execution_count": 4,
     "metadata": {},
     "output_type": "execute_result"
    }
   ],
   "source": [
    "type(X_unscaled)"
   ]
  },
  {
   "cell_type": "code",
   "execution_count": 5,
   "metadata": {},
   "outputs": [
    {
     "data": {
      "text/plain": [
       "(4846, 36)"
      ]
     },
     "execution_count": 5,
     "metadata": {},
     "output_type": "execute_result"
    }
   ],
   "source": [
    "X_unscaled.shape"
   ]
  },
  {
   "cell_type": "code",
   "execution_count": 6,
   "metadata": {},
   "outputs": [
    {
     "data": {
      "text/plain": [
       "Index(['Auto_Ship_Ind', 'Interior_Decor_Signage_Available_Funds',\n",
       "       'LMS_Enrolled', 'LMS_Available_Matching_Funds',\n",
       "       'LMS_Used_Funds_Most_Recent_3_Months',\n",
       "       'LMS_Used_Funds_Previous_3_Months', 'Open_Smart', 'PIP_Program',\n",
       "       'PQS_Program', 'SCS_Program', 'Spar_Coverage_Ind',\n",
       "       'Specialty_Solutions', 'Vaccine_Items', 'Vaccine_Starter',\n",
       "       'Vaccine_Items_Count', 'Vaccine_Items_Sls_Amt', 'YPO', 'Tot_Sls_Amt',\n",
       "       'DLC_Program_encoded', 'FEM_Program_encoded',\n",
       "       'HM_Circular_Program_encoded', 'Internal_Decor', 'PQS_Enrolled_encoded',\n",
       "       'ST_encoded', 'Pog_Code_Name_encoded', 'DC_Name_encoded',\n",
       "       'Bus_Type_Desc_encoded', 'Region_encoded', 'PSAO_Expanded_encoded',\n",
       "       'Chain_Name_encoded', 'Salesperson_encoded', 'AH_Program_encoded',\n",
       "       'OTC_Front-end_Size_encoded', 'MRA_Program_Type_-_Active_AH_encoded',\n",
       "       'Msa_Dma_encoded', 'Signage_Program_encoded'],\n",
       "      dtype='object')"
      ]
     },
     "execution_count": 6,
     "metadata": {},
     "output_type": "execute_result"
    }
   ],
   "source": [
    "X_unscaled.columns"
   ]
  },
  {
   "cell_type": "code",
   "execution_count": 7,
   "metadata": {},
   "outputs": [
    {
     "data": {
      "text/html": [
       "<div>\n",
       "<style>\n",
       "    .dataframe thead tr:only-child th {\n",
       "        text-align: right;\n",
       "    }\n",
       "\n",
       "    .dataframe thead th {\n",
       "        text-align: left;\n",
       "    }\n",
       "\n",
       "    .dataframe tbody tr th {\n",
       "        vertical-align: top;\n",
       "    }\n",
       "</style>\n",
       "<table border=\"1\" class=\"dataframe\">\n",
       "  <thead>\n",
       "    <tr style=\"text-align: right;\">\n",
       "      <th></th>\n",
       "      <th>Auto_Ship_Ind</th>\n",
       "      <th>Interior_Decor_Signage_Available_Funds</th>\n",
       "      <th>LMS_Enrolled</th>\n",
       "      <th>LMS_Available_Matching_Funds</th>\n",
       "      <th>LMS_Used_Funds_Most_Recent_3_Months</th>\n",
       "      <th>LMS_Used_Funds_Previous_3_Months</th>\n",
       "      <th>Open_Smart</th>\n",
       "      <th>PIP_Program</th>\n",
       "      <th>PQS_Program</th>\n",
       "      <th>SCS_Program</th>\n",
       "      <th>...</th>\n",
       "      <th>Bus_Type_Desc_encoded</th>\n",
       "      <th>Region_encoded</th>\n",
       "      <th>PSAO_Expanded_encoded</th>\n",
       "      <th>Chain_Name_encoded</th>\n",
       "      <th>Salesperson_encoded</th>\n",
       "      <th>AH_Program_encoded</th>\n",
       "      <th>OTC_Front-end_Size_encoded</th>\n",
       "      <th>MRA_Program_Type_-_Active_AH_encoded</th>\n",
       "      <th>Msa_Dma_encoded</th>\n",
       "      <th>Signage_Program_encoded</th>\n",
       "    </tr>\n",
       "    <tr>\n",
       "      <th>Account</th>\n",
       "      <th></th>\n",
       "      <th></th>\n",
       "      <th></th>\n",
       "      <th></th>\n",
       "      <th></th>\n",
       "      <th></th>\n",
       "      <th></th>\n",
       "      <th></th>\n",
       "      <th></th>\n",
       "      <th></th>\n",
       "      <th></th>\n",
       "      <th></th>\n",
       "      <th></th>\n",
       "      <th></th>\n",
       "      <th></th>\n",
       "      <th></th>\n",
       "      <th></th>\n",
       "      <th></th>\n",
       "      <th></th>\n",
       "      <th></th>\n",
       "      <th></th>\n",
       "    </tr>\n",
       "  </thead>\n",
       "  <tbody>\n",
       "    <tr>\n",
       "      <th>10491</th>\n",
       "      <td>1</td>\n",
       "      <td>1724.0</td>\n",
       "      <td>1</td>\n",
       "      <td>822.0</td>\n",
       "      <td>1</td>\n",
       "      <td>1</td>\n",
       "      <td>0</td>\n",
       "      <td>1</td>\n",
       "      <td>1</td>\n",
       "      <td>1</td>\n",
       "      <td>...</td>\n",
       "      <td>0</td>\n",
       "      <td>3</td>\n",
       "      <td>16</td>\n",
       "      <td>39</td>\n",
       "      <td>1</td>\n",
       "      <td>4</td>\n",
       "      <td>1</td>\n",
       "      <td>7</td>\n",
       "      <td>183</td>\n",
       "      <td>0</td>\n",
       "    </tr>\n",
       "    <tr>\n",
       "      <th>17475</th>\n",
       "      <td>1</td>\n",
       "      <td>0.0</td>\n",
       "      <td>1</td>\n",
       "      <td>0.0</td>\n",
       "      <td>1</td>\n",
       "      <td>1</td>\n",
       "      <td>0</td>\n",
       "      <td>0</td>\n",
       "      <td>1</td>\n",
       "      <td>1</td>\n",
       "      <td>...</td>\n",
       "      <td>0</td>\n",
       "      <td>3</td>\n",
       "      <td>0</td>\n",
       "      <td>39</td>\n",
       "      <td>1</td>\n",
       "      <td>0</td>\n",
       "      <td>3</td>\n",
       "      <td>3</td>\n",
       "      <td>190</td>\n",
       "      <td>0</td>\n",
       "    </tr>\n",
       "    <tr>\n",
       "      <th>19901</th>\n",
       "      <td>0</td>\n",
       "      <td>0.0</td>\n",
       "      <td>1</td>\n",
       "      <td>0.0</td>\n",
       "      <td>1</td>\n",
       "      <td>1</td>\n",
       "      <td>0</td>\n",
       "      <td>1</td>\n",
       "      <td>1</td>\n",
       "      <td>1</td>\n",
       "      <td>...</td>\n",
       "      <td>0</td>\n",
       "      <td>3</td>\n",
       "      <td>0</td>\n",
       "      <td>39</td>\n",
       "      <td>1</td>\n",
       "      <td>0</td>\n",
       "      <td>4</td>\n",
       "      <td>2</td>\n",
       "      <td>183</td>\n",
       "      <td>0</td>\n",
       "    </tr>\n",
       "    <tr>\n",
       "      <th>309745</th>\n",
       "      <td>0</td>\n",
       "      <td>2500.0</td>\n",
       "      <td>1</td>\n",
       "      <td>0.0</td>\n",
       "      <td>0</td>\n",
       "      <td>0</td>\n",
       "      <td>0</td>\n",
       "      <td>0</td>\n",
       "      <td>0</td>\n",
       "      <td>0</td>\n",
       "      <td>...</td>\n",
       "      <td>0</td>\n",
       "      <td>3</td>\n",
       "      <td>0</td>\n",
       "      <td>39</td>\n",
       "      <td>1</td>\n",
       "      <td>0</td>\n",
       "      <td>1</td>\n",
       "      <td>8</td>\n",
       "      <td>183</td>\n",
       "      <td>3</td>\n",
       "    </tr>\n",
       "    <tr>\n",
       "      <th>652229</th>\n",
       "      <td>0</td>\n",
       "      <td>0.0</td>\n",
       "      <td>1</td>\n",
       "      <td>340.0</td>\n",
       "      <td>1</td>\n",
       "      <td>0</td>\n",
       "      <td>0</td>\n",
       "      <td>0</td>\n",
       "      <td>1</td>\n",
       "      <td>0</td>\n",
       "      <td>...</td>\n",
       "      <td>0</td>\n",
       "      <td>3</td>\n",
       "      <td>0</td>\n",
       "      <td>38</td>\n",
       "      <td>1</td>\n",
       "      <td>0</td>\n",
       "      <td>0</td>\n",
       "      <td>8</td>\n",
       "      <td>183</td>\n",
       "      <td>0</td>\n",
       "    </tr>\n",
       "  </tbody>\n",
       "</table>\n",
       "<p>5 rows × 36 columns</p>\n",
       "</div>"
      ],
      "text/plain": [
       "         Auto_Ship_Ind  Interior_Decor_Signage_Available_Funds  LMS_Enrolled  \\\n",
       "Account                                                                        \n",
       "10491                1                                  1724.0             1   \n",
       "17475                1                                     0.0             1   \n",
       "19901                0                                     0.0             1   \n",
       "309745               0                                  2500.0             1   \n",
       "652229               0                                     0.0             1   \n",
       "\n",
       "         LMS_Available_Matching_Funds  LMS_Used_Funds_Most_Recent_3_Months  \\\n",
       "Account                                                                      \n",
       "10491                           822.0                                    1   \n",
       "17475                             0.0                                    1   \n",
       "19901                             0.0                                    1   \n",
       "309745                            0.0                                    0   \n",
       "652229                          340.0                                    1   \n",
       "\n",
       "         LMS_Used_Funds_Previous_3_Months  Open_Smart  PIP_Program  \\\n",
       "Account                                                              \n",
       "10491                                   1           0            1   \n",
       "17475                                   1           0            0   \n",
       "19901                                   1           0            1   \n",
       "309745                                  0           0            0   \n",
       "652229                                  0           0            0   \n",
       "\n",
       "         PQS_Program  SCS_Program           ...             \\\n",
       "Account                                     ...              \n",
       "10491              1            1           ...              \n",
       "17475              1            1           ...              \n",
       "19901              1            1           ...              \n",
       "309745             0            0           ...              \n",
       "652229             1            0           ...              \n",
       "\n",
       "         Bus_Type_Desc_encoded  Region_encoded  PSAO_Expanded_encoded  \\\n",
       "Account                                                                 \n",
       "10491                        0               3                     16   \n",
       "17475                        0               3                      0   \n",
       "19901                        0               3                      0   \n",
       "309745                       0               3                      0   \n",
       "652229                       0               3                      0   \n",
       "\n",
       "         Chain_Name_encoded  Salesperson_encoded  AH_Program_encoded  \\\n",
       "Account                                                                \n",
       "10491                    39                    1                   4   \n",
       "17475                    39                    1                   0   \n",
       "19901                    39                    1                   0   \n",
       "309745                   39                    1                   0   \n",
       "652229                   38                    1                   0   \n",
       "\n",
       "         OTC_Front-end_Size_encoded  MRA_Program_Type_-_Active_AH_encoded  \\\n",
       "Account                                                                     \n",
       "10491                             1                                     7   \n",
       "17475                             3                                     3   \n",
       "19901                             4                                     2   \n",
       "309745                            1                                     8   \n",
       "652229                            0                                     8   \n",
       "\n",
       "         Msa_Dma_encoded  Signage_Program_encoded  \n",
       "Account                                            \n",
       "10491                183                        0  \n",
       "17475                190                        0  \n",
       "19901                183                        0  \n",
       "309745               183                        3  \n",
       "652229               183                        0  \n",
       "\n",
       "[5 rows x 36 columns]"
      ]
     },
     "execution_count": 7,
     "metadata": {},
     "output_type": "execute_result"
    }
   ],
   "source": [
    "X_unscaled.head()"
   ]
  },
  {
   "cell_type": "code",
   "execution_count": 8,
   "metadata": {
    "collapsed": true
   },
   "outputs": [],
   "source": [
    "y = df_clean['340B_Active']"
   ]
  },
  {
   "cell_type": "code",
   "execution_count": 9,
   "metadata": {
    "collapsed": true
   },
   "outputs": [],
   "source": [
    "scaler = StandardScaler()\n",
    "scaler.fit(X_unscaled)\n",
    "scaled_features = scaler.transform(X_unscaled)\n",
    "X = pd.DataFrame(scaled_features,columns=X_unscaled.columns, index=X_unscaled.index)"
   ]
  },
  {
   "cell_type": "code",
   "execution_count": 11,
   "metadata": {
    "collapsed": true
   },
   "outputs": [],
   "source": [
    "X['Brand_Rx_Sls_Amt'] = df_clean['Brand_Rx_Sls_Amt']"
   ]
  },
  {
   "cell_type": "code",
   "execution_count": 12,
   "metadata": {
    "collapsed": true
   },
   "outputs": [],
   "source": [
    "X['Gnrc_Rx_Sls_Amt'] = df_clean['Gnrc_Rx_Sls_Amt']"
   ]
  },
  {
   "cell_type": "code",
   "execution_count": 15,
   "metadata": {},
   "outputs": [],
   "source": [
    "X['Os_Gnrc_Rx_Sls_Amt'] = df_clean['Os_Gnrc_Rx_Sls_Amt']"
   ]
  },
  {
   "cell_type": "code",
   "execution_count": 16,
   "metadata": {
    "collapsed": true
   },
   "outputs": [],
   "source": [
    "X['Otc_Sls_Amt'] = df_clean['Otc_Sls_Amt']"
   ]
  },
  {
   "cell_type": "code",
   "execution_count": 17,
   "metadata": {},
   "outputs": [],
   "source": [
    "X['Brand_pct'] = X['Brand_Rx_Sls_Amt']/X['Tot_Sls_Amt']"
   ]
  },
  {
   "cell_type": "code",
   "execution_count": 19,
   "metadata": {},
   "outputs": [],
   "source": [
    "X['Generic_pct'] = (X['Gnrc_Rx_Sls_Amt']+X['Os_Gnrc_Rx_Sls_Amt'])/X['Tot_Sls_Amt']"
   ]
  },
  {
   "cell_type": "code",
   "execution_count": 20,
   "metadata": {
    "collapsed": true
   },
   "outputs": [],
   "source": [
    "X['Otc_pct'] = X['Otc_Sls_Amt']/X['Tot_Sls_Amt']"
   ]
  },
  {
   "cell_type": "code",
   "execution_count": 22,
   "metadata": {},
   "outputs": [],
   "source": [
    "X = X.drop('Brand_Rx_Sls_Amt', axis=1)"
   ]
  },
  {
   "cell_type": "code",
   "execution_count": 23,
   "metadata": {
    "collapsed": true
   },
   "outputs": [],
   "source": [
    "X = X.drop('Gnrc_Rx_Sls_Amt', axis=1)"
   ]
  },
  {
   "cell_type": "code",
   "execution_count": 24,
   "metadata": {
    "collapsed": true
   },
   "outputs": [],
   "source": [
    "X = X.drop('Os_Gnrc_Rx_Sls_Amt', axis=1)"
   ]
  },
  {
   "cell_type": "code",
   "execution_count": 26,
   "metadata": {},
   "outputs": [],
   "source": [
    "X = X.drop('Otc_Sls_Amt', axis=1)"
   ]
  },
  {
   "cell_type": "code",
   "execution_count": 27,
   "metadata": {},
   "outputs": [
    {
     "data": {
      "text/plain": [
       "(4846, 39)"
      ]
     },
     "execution_count": 27,
     "metadata": {},
     "output_type": "execute_result"
    }
   ],
   "source": [
    "X.shape"
   ]
  },
  {
   "cell_type": "code",
   "execution_count": 28,
   "metadata": {},
   "outputs": [
    {
     "data": {
      "text/plain": [
       "pandas.core.series.Series"
      ]
     },
     "execution_count": 28,
     "metadata": {},
     "output_type": "execute_result"
    }
   ],
   "source": [
    "type(y)"
   ]
  },
  {
   "cell_type": "code",
   "execution_count": 29,
   "metadata": {},
   "outputs": [
    {
     "data": {
      "text/html": [
       "<div>\n",
       "<style>\n",
       "    .dataframe thead tr:only-child th {\n",
       "        text-align: right;\n",
       "    }\n",
       "\n",
       "    .dataframe thead th {\n",
       "        text-align: left;\n",
       "    }\n",
       "\n",
       "    .dataframe tbody tr th {\n",
       "        vertical-align: top;\n",
       "    }\n",
       "</style>\n",
       "<table border=\"1\" class=\"dataframe\">\n",
       "  <thead>\n",
       "    <tr style=\"text-align: right;\">\n",
       "      <th></th>\n",
       "      <th>Auto_Ship_Ind</th>\n",
       "      <th>Interior_Decor_Signage_Available_Funds</th>\n",
       "      <th>LMS_Enrolled</th>\n",
       "      <th>LMS_Available_Matching_Funds</th>\n",
       "      <th>LMS_Used_Funds_Most_Recent_3_Months</th>\n",
       "      <th>LMS_Used_Funds_Previous_3_Months</th>\n",
       "      <th>Open_Smart</th>\n",
       "      <th>PIP_Program</th>\n",
       "      <th>PQS_Program</th>\n",
       "      <th>SCS_Program</th>\n",
       "      <th>...</th>\n",
       "      <th>Chain_Name_encoded</th>\n",
       "      <th>Salesperson_encoded</th>\n",
       "      <th>AH_Program_encoded</th>\n",
       "      <th>OTC_Front-end_Size_encoded</th>\n",
       "      <th>MRA_Program_Type_-_Active_AH_encoded</th>\n",
       "      <th>Msa_Dma_encoded</th>\n",
       "      <th>Signage_Program_encoded</th>\n",
       "      <th>Brand_pct</th>\n",
       "      <th>Generic_pct</th>\n",
       "      <th>Otc_pct</th>\n",
       "    </tr>\n",
       "    <tr>\n",
       "      <th>Account</th>\n",
       "      <th></th>\n",
       "      <th></th>\n",
       "      <th></th>\n",
       "      <th></th>\n",
       "      <th></th>\n",
       "      <th></th>\n",
       "      <th></th>\n",
       "      <th></th>\n",
       "      <th></th>\n",
       "      <th></th>\n",
       "      <th></th>\n",
       "      <th></th>\n",
       "      <th></th>\n",
       "      <th></th>\n",
       "      <th></th>\n",
       "      <th></th>\n",
       "      <th></th>\n",
       "      <th></th>\n",
       "      <th></th>\n",
       "      <th></th>\n",
       "      <th></th>\n",
       "    </tr>\n",
       "  </thead>\n",
       "  <tbody>\n",
       "    <tr>\n",
       "      <th>10491</th>\n",
       "      <td>1.266482</td>\n",
       "      <td>0.378602</td>\n",
       "      <td>0.471375</td>\n",
       "      <td>-0.227769</td>\n",
       "      <td>1.417723</td>\n",
       "      <td>1.438413</td>\n",
       "      <td>-0.29872</td>\n",
       "      <td>1.557934</td>\n",
       "      <td>0.578780</td>\n",
       "      <td>0.871930</td>\n",
       "      <td>...</td>\n",
       "      <td>0.974998</td>\n",
       "      <td>-1.695111</td>\n",
       "      <td>2.785719</td>\n",
       "      <td>-0.900617</td>\n",
       "      <td>0.488720</td>\n",
       "      <td>1.538394</td>\n",
       "      <td>-1.191011</td>\n",
       "      <td>-4.836143e+05</td>\n",
       "      <td>-1.683480e+05</td>\n",
       "      <td>-27963.371044</td>\n",
       "    </tr>\n",
       "    <tr>\n",
       "      <th>17475</th>\n",
       "      <td>1.266482</td>\n",
       "      <td>-1.245755</td>\n",
       "      <td>0.471375</td>\n",
       "      <td>-0.599414</td>\n",
       "      <td>1.417723</td>\n",
       "      <td>1.438413</td>\n",
       "      <td>-0.29872</td>\n",
       "      <td>-0.641876</td>\n",
       "      <td>0.578780</td>\n",
       "      <td>0.871930</td>\n",
       "      <td>...</td>\n",
       "      <td>0.974998</td>\n",
       "      <td>-1.695111</td>\n",
       "      <td>-0.456453</td>\n",
       "      <td>0.065811</td>\n",
       "      <td>-1.154818</td>\n",
       "      <td>1.650666</td>\n",
       "      <td>-1.191011</td>\n",
       "      <td>2.864914e+06</td>\n",
       "      <td>1.121222e+06</td>\n",
       "      <td>425435.811787</td>\n",
       "    </tr>\n",
       "    <tr>\n",
       "      <th>19901</th>\n",
       "      <td>-0.789589</td>\n",
       "      <td>-1.245755</td>\n",
       "      <td>0.471375</td>\n",
       "      <td>-0.599414</td>\n",
       "      <td>1.417723</td>\n",
       "      <td>1.438413</td>\n",
       "      <td>-0.29872</td>\n",
       "      <td>1.557934</td>\n",
       "      <td>0.578780</td>\n",
       "      <td>0.871930</td>\n",
       "      <td>...</td>\n",
       "      <td>0.974998</td>\n",
       "      <td>-1.695111</td>\n",
       "      <td>-0.456453</td>\n",
       "      <td>0.549025</td>\n",
       "      <td>-1.565702</td>\n",
       "      <td>1.538394</td>\n",
       "      <td>-1.191011</td>\n",
       "      <td>-5.845785e+05</td>\n",
       "      <td>-2.620634e+05</td>\n",
       "      <td>-40746.406105</td>\n",
       "    </tr>\n",
       "    <tr>\n",
       "      <th>309745</th>\n",
       "      <td>-0.789589</td>\n",
       "      <td>1.109752</td>\n",
       "      <td>0.471375</td>\n",
       "      <td>-0.599414</td>\n",
       "      <td>-0.705357</td>\n",
       "      <td>-0.695211</td>\n",
       "      <td>-0.29872</td>\n",
       "      <td>-0.641876</td>\n",
       "      <td>-1.727772</td>\n",
       "      <td>-1.146881</td>\n",
       "      <td>...</td>\n",
       "      <td>0.974998</td>\n",
       "      <td>-1.695111</td>\n",
       "      <td>-0.456453</td>\n",
       "      <td>-0.900617</td>\n",
       "      <td>0.899605</td>\n",
       "      <td>1.538394</td>\n",
       "      <td>1.533602</td>\n",
       "      <td>-9.070088e+05</td>\n",
       "      <td>-3.736435e+05</td>\n",
       "      <td>-89951.839100</td>\n",
       "    </tr>\n",
       "    <tr>\n",
       "      <th>652229</th>\n",
       "      <td>-0.789589</td>\n",
       "      <td>-1.245755</td>\n",
       "      <td>0.471375</td>\n",
       "      <td>-0.445692</td>\n",
       "      <td>1.417723</td>\n",
       "      <td>-0.695211</td>\n",
       "      <td>-0.29872</td>\n",
       "      <td>-0.641876</td>\n",
       "      <td>0.578780</td>\n",
       "      <td>-1.146881</td>\n",
       "      <td>...</td>\n",
       "      <td>0.913989</td>\n",
       "      <td>-1.695111</td>\n",
       "      <td>-0.456453</td>\n",
       "      <td>-1.383831</td>\n",
       "      <td>0.899605</td>\n",
       "      <td>1.538394</td>\n",
       "      <td>-1.191011</td>\n",
       "      <td>-4.225793e+05</td>\n",
       "      <td>-7.582184e+04</td>\n",
       "      <td>-13778.939499</td>\n",
       "    </tr>\n",
       "  </tbody>\n",
       "</table>\n",
       "<p>5 rows × 39 columns</p>\n",
       "</div>"
      ],
      "text/plain": [
       "         Auto_Ship_Ind  Interior_Decor_Signage_Available_Funds  LMS_Enrolled  \\\n",
       "Account                                                                        \n",
       "10491         1.266482                                0.378602      0.471375   \n",
       "17475         1.266482                               -1.245755      0.471375   \n",
       "19901        -0.789589                               -1.245755      0.471375   \n",
       "309745       -0.789589                                1.109752      0.471375   \n",
       "652229       -0.789589                               -1.245755      0.471375   \n",
       "\n",
       "         LMS_Available_Matching_Funds  LMS_Used_Funds_Most_Recent_3_Months  \\\n",
       "Account                                                                      \n",
       "10491                       -0.227769                             1.417723   \n",
       "17475                       -0.599414                             1.417723   \n",
       "19901                       -0.599414                             1.417723   \n",
       "309745                      -0.599414                            -0.705357   \n",
       "652229                      -0.445692                             1.417723   \n",
       "\n",
       "         LMS_Used_Funds_Previous_3_Months  Open_Smart  PIP_Program  \\\n",
       "Account                                                              \n",
       "10491                            1.438413    -0.29872     1.557934   \n",
       "17475                            1.438413    -0.29872    -0.641876   \n",
       "19901                            1.438413    -0.29872     1.557934   \n",
       "309745                          -0.695211    -0.29872    -0.641876   \n",
       "652229                          -0.695211    -0.29872    -0.641876   \n",
       "\n",
       "         PQS_Program  SCS_Program      ...        Chain_Name_encoded  \\\n",
       "Account                                ...                             \n",
       "10491       0.578780     0.871930      ...                  0.974998   \n",
       "17475       0.578780     0.871930      ...                  0.974998   \n",
       "19901       0.578780     0.871930      ...                  0.974998   \n",
       "309745     -1.727772    -1.146881      ...                  0.974998   \n",
       "652229      0.578780    -1.146881      ...                  0.913989   \n",
       "\n",
       "         Salesperson_encoded  AH_Program_encoded  OTC_Front-end_Size_encoded  \\\n",
       "Account                                                                        \n",
       "10491              -1.695111            2.785719                   -0.900617   \n",
       "17475              -1.695111           -0.456453                    0.065811   \n",
       "19901              -1.695111           -0.456453                    0.549025   \n",
       "309745             -1.695111           -0.456453                   -0.900617   \n",
       "652229             -1.695111           -0.456453                   -1.383831   \n",
       "\n",
       "         MRA_Program_Type_-_Active_AH_encoded  Msa_Dma_encoded  \\\n",
       "Account                                                          \n",
       "10491                                0.488720         1.538394   \n",
       "17475                               -1.154818         1.650666   \n",
       "19901                               -1.565702         1.538394   \n",
       "309745                               0.899605         1.538394   \n",
       "652229                               0.899605         1.538394   \n",
       "\n",
       "         Signage_Program_encoded     Brand_pct   Generic_pct        Otc_pct  \n",
       "Account                                                                      \n",
       "10491                  -1.191011 -4.836143e+05 -1.683480e+05  -27963.371044  \n",
       "17475                  -1.191011  2.864914e+06  1.121222e+06  425435.811787  \n",
       "19901                  -1.191011 -5.845785e+05 -2.620634e+05  -40746.406105  \n",
       "309745                  1.533602 -9.070088e+05 -3.736435e+05  -89951.839100  \n",
       "652229                 -1.191011 -4.225793e+05 -7.582184e+04  -13778.939499  \n",
       "\n",
       "[5 rows x 39 columns]"
      ]
     },
     "execution_count": 29,
     "metadata": {},
     "output_type": "execute_result"
    }
   ],
   "source": [
    "X.head()"
   ]
  },
  {
   "cell_type": "markdown",
   "metadata": {},
   "source": [
    "### Try some models and look at performance metrics and important features"
   ]
  },
  {
   "cell_type": "code",
   "execution_count": 30,
   "metadata": {
    "collapsed": true
   },
   "outputs": [],
   "source": [
    "# Split the data into train-test\n",
    "\n",
    "X_train, X_test, y_train, y_test = train_test_split(X, y, test_size=0.33, random_state=42)"
   ]
  },
  {
   "cell_type": "code",
   "execution_count": 31,
   "metadata": {},
   "outputs": [
    {
     "name": "stdout",
     "output_type": "stream",
     "text": [
      "Accuracy Score cross-validated:  0.826248978266\n",
      "Recall Score:  0.111111111111\n",
      "Precision Score average:   0.21438697318\n"
     ]
    }
   ],
   "source": [
    "# Random Forest\n",
    "\n",
    "rf = RandomForestClassifier()\n",
    "rf.fit(X_train, y_train)\n",
    "rf.feature_importances_\n",
    "pred_rf = rf.predict(X_test) \n",
    "rf_score_acc = np.mean(cross_val_score(rf, X_train, y_train, cv=5))\n",
    "rf_score_recall = recall_score(y_test, pred_rf)\n",
    "rf_score_avgprecision = average_precision_score(y_test, pred_rf)\n",
    "\n",
    "print(\"Accuracy Score cross-validated: \", rf_score_acc)\n",
    "print(\"Recall Score: \", rf_score_recall)\n",
    "print(\"Precision Score average:  \", rf_score_avgprecision)"
   ]
  },
  {
   "cell_type": "markdown",
   "metadata": {},
   "source": [
    "The most important measure for this business problem is Recall.  This is because Recall captures how many actual Positives the model finds.  In other words, does the model correctly predict current contract pharmacies of Macro Helix?   We want a model that can recognize an actual contract pharmacy.  Precision is not as important, as this captures how many the model labels as positive, compared to how many of those actually are positive; since we know that most of the pharmacies are not currently contract pharmacies, this measure is not very useful to the problem.  Similarly, Accuracy/R2 is not as important because since most in the dataset are negative, the model could merely predict all are negative and have a great Accuracy/R2 score -- not very meaningful."
   ]
  },
  {
   "cell_type": "code",
   "execution_count": 32,
   "metadata": {},
   "outputs": [
    {
     "name": "stdout",
     "output_type": "stream",
     "text": [
      "Accuracy Score cross-validated:  0.754768977622\n",
      "Recall Score:  0.379928315412\n",
      "Precision Score average:   0.228701052197\n"
     ]
    }
   ],
   "source": [
    "# Decision Tree\n",
    "\n",
    "dt = DecisionTreeClassifier()\n",
    "dt.fit(X_train, y_train)\n",
    "dt.feature_importances_\n",
    "pred_dt = dt.predict(X_test) \n",
    "dt_score_acc = np.mean(cross_val_score(dt, X_train, y_train, cv=5))\n",
    "dt_score_recall = recall_score(y_test, pred_dt)\n",
    "dt_score_avgprecision = average_precision_score(y_test, pred_dt)\n",
    "\n",
    "print(\"Accuracy Score cross-validated: \", dt_score_acc)\n",
    "print(\"Recall Score: \", dt_score_recall)\n",
    "print(\"Precision Score average:  \", dt_score_avgprecision)"
   ]
  },
  {
   "cell_type": "code",
   "execution_count": 33,
   "metadata": {},
   "outputs": [
    {
     "name": "stdout",
     "output_type": "stream",
     "text": [
      "                                        Feature Importance\n",
      "Auto_Ship_Ind                                     0.014865\n",
      "Interior_Decor_Signage_Available_Funds            0.038878\n",
      "LMS_Enrolled                                      0.008608\n",
      "LMS_Available_Matching_Funds                      0.056130\n",
      "LMS_Used_Funds_Most_Recent_3_Months               0.013339\n",
      "LMS_Used_Funds_Previous_3_Months                  0.006634\n",
      "Open_Smart                                        0.005416\n",
      "PIP_Program                                       0.007437\n",
      "PQS_Program                                       0.001004\n",
      "SCS_Program                                       0.000000\n",
      "Spar_Coverage_Ind                                 0.007421\n",
      "Specialty_Solutions                               0.001076\n",
      "Vaccine_Items                                     0.006167\n",
      "Vaccine_Starter                                   0.007821\n",
      "Vaccine_Items_Count                               0.016945\n",
      "Vaccine_Items_Sls_Amt                             0.032776\n",
      "YPO                                               0.007397\n",
      "Tot_Sls_Amt                                       0.086442\n",
      "DLC_Program_encoded                               0.022300\n",
      "FEM_Program_encoded                               0.019194\n",
      "HM_Circular_Program_encoded                       0.005910\n",
      "Internal_Decor                                    0.006938\n",
      "PQS_Enrolled_encoded                              0.005131\n",
      "ST_encoded                                        0.045369\n",
      "Pog_Code_Name_encoded                             0.021329\n",
      "DC_Name_encoded                                   0.037606\n",
      "Bus_Type_Desc_encoded                             0.014856\n",
      "Region_encoded                                    0.008837\n",
      "PSAO_Expanded_encoded                             0.008760\n",
      "Chain_Name_encoded                                0.057231\n",
      "Salesperson_encoded                               0.066442\n",
      "AH_Program_encoded                                0.006245\n",
      "OTC_Front-end_Size_encoded                        0.039503\n",
      "MRA_Program_Type_-_Active_AH_encoded              0.031005\n",
      "Msa_Dma_encoded                                   0.087843\n",
      "Signage_Program_encoded                           0.010370\n",
      "Brand_pct                                         0.061709\n",
      "Generic_pct                                       0.060511\n",
      "Otc_pct                                           0.064554\n"
     ]
    }
   ],
   "source": [
    "feature_imp_dt = pd.DataFrame({'Feature Importance' : dt.feature_importances_}, index=X.columns)\n",
    "print(feature_imp_dt)"
   ]
  },
  {
   "cell_type": "code",
   "execution_count": 31,
   "metadata": {},
   "outputs": [
    {
     "name": "stdout",
     "output_type": "stream",
     "text": [
      "Accuracy Score cross-validated:  0.831794072845\n",
      "Recall Score:  0.154121863799\n",
      "Precision Score average:   0.234700528202\n"
     ]
    }
   ],
   "source": [
    "# Gradient Boosting\n",
    "\n",
    "gb = GradientBoostingClassifier()\n",
    "gb.fit(X_train, y_train)\n",
    "gb.feature_importances_\n",
    "pred_gb = gb.predict(X_test) \n",
    "gb_score_acc = np.mean(cross_val_score(gb, X_train, y_train, cv=5))\n",
    "gb_score_recall = recall_score(y_test, pred_gb)\n",
    "gb_score_avgprecision = average_precision_score(y_test, pred_gb)\n",
    "\n",
    "print(\"Accuracy Score cross-validated: \", gb_score_acc)\n",
    "print(\"Recall Score: \", gb_score_recall)\n",
    "print(\"Precision Score average:  \", gb_score_avgprecision)"
   ]
  },
  {
   "cell_type": "code",
   "execution_count": 35,
   "metadata": {
    "collapsed": true
   },
   "outputs": [],
   "source": [
    "# show which features are most important\n",
    "\n",
    "def plot_feature_importance(model, df):\n",
    "    cols = []\n",
    "    for col in df.columns:\n",
    "        cols.append(col)\n",
    "\n",
    "    feature_importances = pd.DataFrame({'Feature Importance' : model.feature_importances_}, index=cols)\n",
    "    feature_importances = feature_importances.sort_values(by='Feature Importance')\n",
    "    feature_importances.plot(kind='barh', color='r', figsize=(6,6))\n",
    "    plt.title('Feature Importance', fontsize=18)\n",
    "    plt.tight_layout()\n",
    "    plt.savefig('figures/feat_import.png', dpi=300)"
   ]
  },
  {
   "cell_type": "code",
   "execution_count": 36,
   "metadata": {},
   "outputs": [
    {
     "data": {
      "image/png": "[encoded data removed]",
      "text/plain": [
       "<matplotlib.figure.Figure at 0xd113080>"
      ]
     },
     "metadata": {},
     "output_type": "display_data"
    }
   ],
   "source": [
    "plot_feature_importance(dt, X_test)              ### drop in the model with best recall here "
   ]
  },
  {
   "cell_type": "markdown",
   "metadata": {},
   "source": [
    "### Try Logistic Regression Model"
   ]
  },
  {
   "cell_type": "code",
   "execution_count": 37,
   "metadata": {},
   "outputs": [
    {
     "name": "stdout",
     "output_type": "stream",
     "text": [
      "Optimization terminated successfully.\n",
      "         Current function value: 0.665048\n",
      "         Iterations 5\n"
     ]
    },
    {
     "data": {
      "text/html": [
       "<table class=\"simpletable\">\n",
       "<caption>Logit Regression Results</caption>\n",
       "<tr>\n",
       "  <th>Dep. Variable:</th>    <td>340B_Active</td>   <th>  No. Observations:  </th>  <td>  4846</td> \n",
       "</tr>\n",
       "<tr>\n",
       "  <th>Model:</th>               <td>Logit</td>      <th>  Df Residuals:      </th>  <td>  4807</td> \n",
       "</tr>\n",
       "<tr>\n",
       "  <th>Method:</th>               <td>MLE</td>       <th>  Df Model:          </th>  <td>    38</td> \n",
       "</tr>\n",
       "<tr>\n",
       "  <th>Date:</th>          <td>Thu, 29 Mar 2018</td> <th>  Pseudo R-squ.:     </th>  <td>-0.4412</td>\n",
       "</tr>\n",
       "<tr>\n",
       "  <th>Time:</th>              <td>11:49:38</td>     <th>  Log-Likelihood:    </th> <td> -3222.8</td>\n",
       "</tr>\n",
       "<tr>\n",
       "  <th>converged:</th>           <td>True</td>       <th>  LL-Null:           </th> <td> -2236.3</td>\n",
       "</tr>\n",
       "<tr>\n",
       "  <th> </th>                      <td> </td>        <th>  LLR p-value:       </th>  <td> 1.000</td> \n",
       "</tr>\n",
       "</table>\n",
       "<table class=\"simpletable\">\n",
       "<tr>\n",
       "                     <td></td>                       <th>coef</th>     <th>std err</th>      <th>z</th>      <th>P>|z|</th>  <th>[0.025</th>    <th>0.975]</th>  \n",
       "</tr>\n",
       "<tr>\n",
       "  <th>Auto_Ship_Ind</th>                          <td>    0.0940</td> <td>    0.033</td> <td>    2.828</td> <td> 0.005</td> <td>    0.029</td> <td>    0.159</td>\n",
       "</tr>\n",
       "<tr>\n",
       "  <th>Interior_Decor_Signage_Available_Funds</th> <td>    0.0132</td> <td>    0.041</td> <td>    0.325</td> <td> 0.745</td> <td>   -0.067</td> <td>    0.093</td>\n",
       "</tr>\n",
       "<tr>\n",
       "  <th>LMS_Enrolled</th>                           <td>    0.0182</td> <td>    0.035</td> <td>    0.520</td> <td> 0.603</td> <td>   -0.050</td> <td>    0.087</td>\n",
       "</tr>\n",
       "<tr>\n",
       "  <th>LMS_Available_Matching_Funds</th>           <td>    0.1136</td> <td>    0.035</td> <td>    3.265</td> <td> 0.001</td> <td>    0.045</td> <td>    0.182</td>\n",
       "</tr>\n",
       "<tr>\n",
       "  <th>LMS_Used_Funds_Most_Recent_3_Months</th>    <td>    0.0288</td> <td>    0.044</td> <td>    0.648</td> <td> 0.517</td> <td>   -0.058</td> <td>    0.116</td>\n",
       "</tr>\n",
       "<tr>\n",
       "  <th>LMS_Used_Funds_Previous_3_Months</th>       <td>   -0.0104</td> <td>    0.044</td> <td>   -0.234</td> <td> 0.815</td> <td>   -0.098</td> <td>    0.077</td>\n",
       "</tr>\n",
       "<tr>\n",
       "  <th>Open_Smart</th>                             <td>   -0.0364</td> <td>    0.032</td> <td>   -1.136</td> <td> 0.256</td> <td>   -0.099</td> <td>    0.026</td>\n",
       "</tr>\n",
       "<tr>\n",
       "  <th>PIP_Program</th>                            <td>    0.0075</td> <td>    0.037</td> <td>    0.203</td> <td> 0.839</td> <td>   -0.065</td> <td>    0.080</td>\n",
       "</tr>\n",
       "<tr>\n",
       "  <th>PQS_Program</th>                            <td>   -0.0227</td> <td>    0.043</td> <td>   -0.531</td> <td> 0.596</td> <td>   -0.106</td> <td>    0.061</td>\n",
       "</tr>\n",
       "<tr>\n",
       "  <th>SCS_Program</th>                            <td>    0.1016</td> <td>    0.039</td> <td>    2.593</td> <td> 0.010</td> <td>    0.025</td> <td>    0.178</td>\n",
       "</tr>\n",
       "<tr>\n",
       "  <th>Spar_Coverage_Ind</th>                      <td>   -0.0093</td> <td>    0.039</td> <td>   -0.241</td> <td> 0.810</td> <td>   -0.085</td> <td>    0.066</td>\n",
       "</tr>\n",
       "<tr>\n",
       "  <th>Specialty_Solutions</th>                    <td>   -0.1235</td> <td>    0.031</td> <td>   -3.933</td> <td> 0.000</td> <td>   -0.185</td> <td>   -0.062</td>\n",
       "</tr>\n",
       "<tr>\n",
       "  <th>Vaccine_Items</th>                          <td>   -0.0185</td> <td>    0.040</td> <td>   -0.464</td> <td> 0.643</td> <td>   -0.097</td> <td>    0.060</td>\n",
       "</tr>\n",
       "<tr>\n",
       "  <th>Vaccine_Starter</th>                        <td>    0.0108</td> <td>    0.030</td> <td>    0.364</td> <td> 0.716</td> <td>   -0.048</td> <td>    0.069</td>\n",
       "</tr>\n",
       "<tr>\n",
       "  <th>Vaccine_Items_Count</th>                    <td>   -0.0270</td> <td>    0.047</td> <td>   -0.572</td> <td> 0.567</td> <td>   -0.119</td> <td>    0.065</td>\n",
       "</tr>\n",
       "<tr>\n",
       "  <th>Vaccine_Items_Sls_Amt</th>                  <td>    0.0909</td> <td>    0.044</td> <td>    2.081</td> <td> 0.037</td> <td>    0.005</td> <td>    0.177</td>\n",
       "</tr>\n",
       "<tr>\n",
       "  <th>YPO</th>                                    <td>    0.0070</td> <td>    0.034</td> <td>    0.208</td> <td> 0.835</td> <td>   -0.059</td> <td>    0.073</td>\n",
       "</tr>\n",
       "<tr>\n",
       "  <th>Tot_Sls_Amt</th>                            <td>    0.0291</td> <td>    0.031</td> <td>    0.950</td> <td> 0.342</td> <td>   -0.031</td> <td>    0.089</td>\n",
       "</tr>\n",
       "<tr>\n",
       "  <th>DLC_Program_encoded</th>                    <td>    0.0067</td> <td>    0.036</td> <td>    0.185</td> <td> 0.853</td> <td>   -0.065</td> <td>    0.078</td>\n",
       "</tr>\n",
       "<tr>\n",
       "  <th>FEM_Program_encoded</th>                    <td>    0.0417</td> <td>    0.047</td> <td>    0.891</td> <td> 0.373</td> <td>   -0.050</td> <td>    0.134</td>\n",
       "</tr>\n",
       "<tr>\n",
       "  <th>HM_Circular_Program_encoded</th>            <td>   -0.0517</td> <td>    0.035</td> <td>   -1.491</td> <td> 0.136</td> <td>   -0.120</td> <td>    0.016</td>\n",
       "</tr>\n",
       "<tr>\n",
       "  <th>Internal_Decor</th>                         <td>    0.0405</td> <td>    0.042</td> <td>    0.955</td> <td> 0.340</td> <td>   -0.043</td> <td>    0.124</td>\n",
       "</tr>\n",
       "<tr>\n",
       "  <th>PQS_Enrolled_encoded</th>                   <td>   -0.0658</td> <td>    0.041</td> <td>   -1.620</td> <td> 0.105</td> <td>   -0.145</td> <td>    0.014</td>\n",
       "</tr>\n",
       "<tr>\n",
       "  <th>ST_encoded</th>                             <td>    0.0614</td> <td>    0.032</td> <td>    1.921</td> <td> 0.055</td> <td>   -0.001</td> <td>    0.124</td>\n",
       "</tr>\n",
       "<tr>\n",
       "  <th>Pog_Code_Name_encoded</th>                  <td>   -0.0687</td> <td>    0.033</td> <td>   -2.099</td> <td> 0.036</td> <td>   -0.133</td> <td>   -0.005</td>\n",
       "</tr>\n",
       "<tr>\n",
       "  <th>DC_Name_encoded</th>                        <td>    0.1028</td> <td>    0.031</td> <td>    3.324</td> <td> 0.001</td> <td>    0.042</td> <td>    0.163</td>\n",
       "</tr>\n",
       "<tr>\n",
       "  <th>Bus_Type_Desc_encoded</th>                  <td>    0.0454</td> <td>    0.031</td> <td>    1.447</td> <td> 0.148</td> <td>   -0.016</td> <td>    0.107</td>\n",
       "</tr>\n",
       "<tr>\n",
       "  <th>Region_encoded</th>                         <td>   -0.1771</td> <td>    0.038</td> <td>   -4.659</td> <td> 0.000</td> <td>   -0.252</td> <td>   -0.103</td>\n",
       "</tr>\n",
       "<tr>\n",
       "  <th>PSAO_Expanded_encoded</th>                  <td>   -0.0170</td> <td>    0.050</td> <td>   -0.344</td> <td> 0.731</td> <td>   -0.114</td> <td>    0.080</td>\n",
       "</tr>\n",
       "<tr>\n",
       "  <th>Chain_Name_encoded</th>                     <td>    0.0637</td> <td>    0.033</td> <td>    1.953</td> <td> 0.051</td> <td>   -0.000</td> <td>    0.128</td>\n",
       "</tr>\n",
       "<tr>\n",
       "  <th>Salesperson_encoded</th>                    <td>   -0.0238</td> <td>    0.030</td> <td>   -0.790</td> <td> 0.429</td> <td>   -0.083</td> <td>    0.035</td>\n",
       "</tr>\n",
       "<tr>\n",
       "  <th>AH_Program_encoded</th>                     <td>    0.0407</td> <td>    0.051</td> <td>    0.801</td> <td> 0.423</td> <td>   -0.059</td> <td>    0.140</td>\n",
       "</tr>\n",
       "<tr>\n",
       "  <th>OTC_Front-end_Size_encoded</th>             <td>   -0.0695</td> <td>    0.042</td> <td>   -1.667</td> <td> 0.096</td> <td>   -0.151</td> <td>    0.012</td>\n",
       "</tr>\n",
       "<tr>\n",
       "  <th>MRA_Program_Type_-_Active_AH_encoded</th>   <td>   -0.1145</td> <td>    0.034</td> <td>   -3.358</td> <td> 0.001</td> <td>   -0.181</td> <td>   -0.048</td>\n",
       "</tr>\n",
       "<tr>\n",
       "  <th>Msa_Dma_encoded</th>                        <td>    0.2944</td> <td>    0.038</td> <td>    7.660</td> <td> 0.000</td> <td>    0.219</td> <td>    0.370</td>\n",
       "</tr>\n",
       "<tr>\n",
       "  <th>Signage_Program_encoded</th>                <td>    0.0062</td> <td>    0.036</td> <td>    0.176</td> <td> 0.860</td> <td>   -0.063</td> <td>    0.076</td>\n",
       "</tr>\n",
       "<tr>\n",
       "  <th>Brand_pct</th>                              <td> 3.696e-09</td> <td> 6.93e-09</td> <td>    0.534</td> <td> 0.594</td> <td>-9.88e-09</td> <td> 1.73e-08</td>\n",
       "</tr>\n",
       "<tr>\n",
       "  <th>Generic_pct</th>                            <td>-2.827e-08</td> <td>  2.4e-08</td> <td>   -1.179</td> <td> 0.238</td> <td>-7.53e-08</td> <td> 1.87e-08</td>\n",
       "</tr>\n",
       "<tr>\n",
       "  <th>Otc_pct</th>                                <td> 8.864e-08</td> <td> 6.75e-08</td> <td>    1.312</td> <td> 0.189</td> <td>-4.38e-08</td> <td> 2.21e-07</td>\n",
       "</tr>\n",
       "</table>"
      ],
      "text/plain": [
       "<class 'statsmodels.iolib.summary.Summary'>\n",
       "\"\"\"\n",
       "                           Logit Regression Results                           \n",
       "==============================================================================\n",
       "Dep. Variable:            340B_Active   No. Observations:                 4846\n",
       "Model:                          Logit   Df Residuals:                     4807\n",
       "Method:                           MLE   Df Model:                           38\n",
       "Date:                Thu, 29 Mar 2018   Pseudo R-squ.:                 -0.4412\n",
       "Time:                        11:49:38   Log-Likelihood:                -3222.8\n",
       "converged:                       True   LL-Null:                       -2236.3\n",
       "                                        LLR p-value:                     1.000\n",
       "==========================================================================================================\n",
       "                                             coef    std err          z      P>|z|      [0.025      0.975]\n",
       "----------------------------------------------------------------------------------------------------------\n",
       "Auto_Ship_Ind                              0.0940      0.033      2.828      0.005       0.029       0.159\n",
       "Interior_Decor_Signage_Available_Funds     0.0132      0.041      0.325      0.745      -0.067       0.093\n",
       "LMS_Enrolled                               0.0182      0.035      0.520      0.603      -0.050       0.087\n",
       "LMS_Available_Matching_Funds               0.1136      0.035      3.265      0.001       0.045       0.182\n",
       "LMS_Used_Funds_Most_Recent_3_Months        0.0288      0.044      0.648      0.517      -0.058       0.116\n",
       "LMS_Used_Funds_Previous_3_Months          -0.0104      0.044     -0.234      0.815      -0.098       0.077\n",
       "Open_Smart                                -0.0364      0.032     -1.136      0.256      -0.099       0.026\n",
       "PIP_Program                                0.0075      0.037      0.203      0.839      -0.065       0.080\n",
       "PQS_Program                               -0.0227      0.043     -0.531      0.596      -0.106       0.061\n",
       "SCS_Program                                0.1016      0.039      2.593      0.010       0.025       0.178\n",
       "Spar_Coverage_Ind                         -0.0093      0.039     -0.241      0.810      -0.085       0.066\n",
       "Specialty_Solutions                       -0.1235      0.031     -3.933      0.000      -0.185      -0.062\n",
       "Vaccine_Items                             -0.0185      0.040     -0.464      0.643      -0.097       0.060\n",
       "Vaccine_Starter                            0.0108      0.030      0.364      0.716      -0.048       0.069\n",
       "Vaccine_Items_Count                       -0.0270      0.047     -0.572      0.567      -0.119       0.065\n",
       "Vaccine_Items_Sls_Amt                      0.0909      0.044      2.081      0.037       0.005       0.177\n",
       "YPO                                        0.0070      0.034      0.208      0.835      -0.059       0.073\n",
       "Tot_Sls_Amt                                0.0291      0.031      0.950      0.342      -0.031       0.089\n",
       "DLC_Program_encoded                        0.0067      0.036      0.185      0.853      -0.065       0.078\n",
       "FEM_Program_encoded                        0.0417      0.047      0.891      0.373      -0.050       0.134\n",
       "HM_Circular_Program_encoded               -0.0517      0.035     -1.491      0.136      -0.120       0.016\n",
       "Internal_Decor                             0.0405      0.042      0.955      0.340      -0.043       0.124\n",
       "PQS_Enrolled_encoded                      -0.0658      0.041     -1.620      0.105      -0.145       0.014\n",
       "ST_encoded                                 0.0614      0.032      1.921      0.055      -0.001       0.124\n",
       "Pog_Code_Name_encoded                     -0.0687      0.033     -2.099      0.036      -0.133      -0.005\n",
       "DC_Name_encoded                            0.1028      0.031      3.324      0.001       0.042       0.163\n",
       "Bus_Type_Desc_encoded                      0.0454      0.031      1.447      0.148      -0.016       0.107\n",
       "Region_encoded                            -0.1771      0.038     -4.659      0.000      -0.252      -0.103\n",
       "PSAO_Expanded_encoded                     -0.0170      0.050     -0.344      0.731      -0.114       0.080\n",
       "Chain_Name_encoded                         0.0637      0.033      1.953      0.051      -0.000       0.128\n",
       "Salesperson_encoded                       -0.0238      0.030     -0.790      0.429      -0.083       0.035\n",
       "AH_Program_encoded                         0.0407      0.051      0.801      0.423      -0.059       0.140\n",
       "OTC_Front-end_Size_encoded                -0.0695      0.042     -1.667      0.096      -0.151       0.012\n",
       "MRA_Program_Type_-_Active_AH_encoded      -0.1145      0.034     -3.358      0.001      -0.181      -0.048\n",
       "Msa_Dma_encoded                            0.2944      0.038      7.660      0.000       0.219       0.370\n",
       "Signage_Program_encoded                    0.0062      0.036      0.176      0.860      -0.063       0.076\n",
       "Brand_pct                               3.696e-09   6.93e-09      0.534      0.594   -9.88e-09    1.73e-08\n",
       "Generic_pct                            -2.827e-08    2.4e-08     -1.179      0.238   -7.53e-08    1.87e-08\n",
       "Otc_pct                                 8.864e-08   6.75e-08      1.312      0.189   -4.38e-08    2.21e-07\n",
       "==========================================================================================================\n",
       "\"\"\""
      ]
     },
     "execution_count": 37,
     "metadata": {},
     "output_type": "execute_result"
    }
   ],
   "source": [
    "model = sm.Logit(y, X)\n",
    "result = model.fit()\n",
    "result.summary ()"
   ]
  },
  {
   "cell_type": "markdown",
   "metadata": {},
   "source": [
    "### Reduce the dimensions even further, based on Feature Importance"
   ]
  },
  {
   "cell_type": "markdown",
   "metadata": {},
   "source": [
    "Pick the top features to model, making the model simpler but still performing as well."
   ]
  },
  {
   "cell_type": "code",
   "execution_count": 38,
   "metadata": {
    "collapsed": true
   },
   "outputs": [],
   "source": [
    "XR = X[['DC_Name_encoded','Tot_Sls_Amt', 'Msa_Dma_encoded',\n",
    "                'Salesperson_encoded', 'ST_encoded',\n",
    "                'Chain_Name_encoded','LMS_Available_Matching_Funds', 'Otc_pct', 'Brand_pct', 'Generic_pct']]"
   ]
  },
  {
   "cell_type": "code",
   "execution_count": 39,
   "metadata": {
    "collapsed": true
   },
   "outputs": [],
   "source": [
    "XR_train = X_train[['DC_Name_encoded','Tot_Sls_Amt', 'Msa_Dma_encoded',\n",
    "                'Salesperson_encoded', 'ST_encoded',\n",
    "                'Chain_Name_encoded','LMS_Available_Matching_Funds', 'Otc_pct', 'Brand_pct', 'Generic_pct']]\n",
    "\n",
    "XR_test = X_test[['DC_Name_encoded','Tot_Sls_Amt', 'Msa_Dma_encoded',\n",
    "                'Salesperson_encoded', 'ST_encoded',\n",
    "                'Chain_Name_encoded','LMS_Available_Matching_Funds', 'Otc_pct', 'Brand_pct', 'Generic_pct']]"
   ]
  },
  {
   "cell_type": "code",
   "execution_count": 40,
   "metadata": {},
   "outputs": [
    {
     "name": "stdout",
     "output_type": "stream",
     "text": [
      "Accuracy Score cross-validated:  0.745592687673\n",
      "Recall Score:  0.390681003584\n",
      "Precision Score average:   0.241868564938\n"
     ]
    }
   ],
   "source": [
    "# Decision Tree with reduced features\n",
    "\n",
    "dtr = DecisionTreeClassifier()\n",
    "dtr.fit(XR_train, y_train)\n",
    "dtr.feature_importances_\n",
    "pred_dtr = dtr.predict(XR_test) \n",
    "dtr_score_acc = np.mean(cross_val_score(dtr, XR_test, y_test, cv=5))\n",
    "dtr_score_recall = recall_score(y_test, pred_dtr)\n",
    "dtr_score_avgprecision = average_precision_score(y_test, pred_dtr)\n",
    "\n",
    "print(\"Accuracy Score cross-validated: \", dtr_score_acc)\n",
    "print(\"Recall Score: \", dtr_score_recall)\n",
    "print(\"Precision Score average:  \", dtr_score_avgprecision)"
   ]
  },
  {
   "cell_type": "code",
   "execution_count": 43,
   "metadata": {},
   "outputs": [
    {
     "name": "stdout",
     "output_type": "stream",
     "text": [
      "                              Feature Importance\n",
      "DC_Name_encoded                         0.053801\n",
      "Tot_Sls_Amt                             0.162780\n",
      "Msa_Dma_encoded                         0.115122\n",
      "Salesperson_encoded                     0.108340\n",
      "ST_encoded                              0.059430\n",
      "Chain_Name_encoded                      0.059640\n",
      "LMS_Available_Matching_Funds            0.090171\n",
      "Otc_pct                                 0.103767\n",
      "Brand_pct                               0.114002\n",
      "Generic_pct                             0.132946\n"
     ]
    }
   ],
   "source": [
    "feature_imp_dtr = pd.DataFrame({'Feature Importance' : dtr.feature_importances_}, index=XR.columns)\n",
    "print(feature_imp_dtr)"
   ]
  },
  {
   "cell_type": "code",
   "execution_count": 44,
   "metadata": {},
   "outputs": [
    {
     "name": "stdout",
     "output_type": "stream",
     "text": [
      "Optimization terminated successfully.\n",
      "         Current function value: 0.679420\n",
      "         Iterations 5\n"
     ]
    },
    {
     "data": {
      "text/html": [
       "<table class=\"simpletable\">\n",
       "<caption>Logit Regression Results</caption>\n",
       "<tr>\n",
       "  <th>Dep. Variable:</th>    <td>340B_Active</td>   <th>  No. Observations:  </th>  <td>  4846</td> \n",
       "</tr>\n",
       "<tr>\n",
       "  <th>Model:</th>               <td>Logit</td>      <th>  Df Residuals:      </th>  <td>  4836</td> \n",
       "</tr>\n",
       "<tr>\n",
       "  <th>Method:</th>               <td>MLE</td>       <th>  Df Model:          </th>  <td>     9</td> \n",
       "</tr>\n",
       "<tr>\n",
       "  <th>Date:</th>          <td>Thu, 29 Mar 2018</td> <th>  Pseudo R-squ.:     </th>  <td>-0.4723</td>\n",
       "</tr>\n",
       "<tr>\n",
       "  <th>Time:</th>              <td>11:55:07</td>     <th>  Log-Likelihood:    </th> <td> -3292.5</td>\n",
       "</tr>\n",
       "<tr>\n",
       "  <th>converged:</th>           <td>True</td>       <th>  LL-Null:           </th> <td> -2236.3</td>\n",
       "</tr>\n",
       "<tr>\n",
       "  <th> </th>                      <td> </td>        <th>  LLR p-value:       </th>  <td> 1.000</td> \n",
       "</tr>\n",
       "</table>\n",
       "<table class=\"simpletable\">\n",
       "<tr>\n",
       "                <td></td>                  <th>coef</th>     <th>std err</th>      <th>z</th>      <th>P>|z|</th>  <th>[0.025</th>    <th>0.975]</th>  \n",
       "</tr>\n",
       "<tr>\n",
       "  <th>DC_Name_encoded</th>              <td>    0.0967</td> <td>    0.030</td> <td>    3.275</td> <td> 0.001</td> <td>    0.039</td> <td>    0.155</td>\n",
       "</tr>\n",
       "<tr>\n",
       "  <th>Tot_Sls_Amt</th>                  <td>    0.0867</td> <td>    0.033</td> <td>    2.639</td> <td> 0.008</td> <td>    0.022</td> <td>    0.151</td>\n",
       "</tr>\n",
       "<tr>\n",
       "  <th>Msa_Dma_encoded</th>              <td>    0.2064</td> <td>    0.031</td> <td>    6.702</td> <td> 0.000</td> <td>    0.146</td> <td>    0.267</td>\n",
       "</tr>\n",
       "<tr>\n",
       "  <th>Salesperson_encoded</th>          <td>   -0.0289</td> <td>    0.029</td> <td>   -0.982</td> <td> 0.326</td> <td>   -0.086</td> <td>    0.029</td>\n",
       "</tr>\n",
       "<tr>\n",
       "  <th>ST_encoded</th>                   <td>    0.0865</td> <td>    0.030</td> <td>    2.864</td> <td> 0.004</td> <td>    0.027</td> <td>    0.146</td>\n",
       "</tr>\n",
       "<tr>\n",
       "  <th>Chain_Name_encoded</th>           <td>    0.0879</td> <td>    0.030</td> <td>    2.885</td> <td> 0.004</td> <td>    0.028</td> <td>    0.148</td>\n",
       "</tr>\n",
       "<tr>\n",
       "  <th>LMS_Available_Matching_Funds</th> <td>    0.1741</td> <td>    0.033</td> <td>    5.244</td> <td> 0.000</td> <td>    0.109</td> <td>    0.239</td>\n",
       "</tr>\n",
       "<tr>\n",
       "  <th>Otc_pct</th>                      <td> 8.711e-08</td> <td> 6.69e-08</td> <td>    1.302</td> <td> 0.193</td> <td> -4.4e-08</td> <td> 2.18e-07</td>\n",
       "</tr>\n",
       "<tr>\n",
       "  <th>Brand_pct</th>                    <td> 2.282e-09</td> <td>  6.8e-09</td> <td>    0.336</td> <td> 0.737</td> <td> -1.1e-08</td> <td> 1.56e-08</td>\n",
       "</tr>\n",
       "<tr>\n",
       "  <th>Generic_pct</th>                  <td>-2.331e-08</td> <td> 2.34e-08</td> <td>   -0.998</td> <td> 0.318</td> <td>-6.91e-08</td> <td> 2.25e-08</td>\n",
       "</tr>\n",
       "</table>"
      ],
      "text/plain": [
       "<class 'statsmodels.iolib.summary.Summary'>\n",
       "\"\"\"\n",
       "                           Logit Regression Results                           \n",
       "==============================================================================\n",
       "Dep. Variable:            340B_Active   No. Observations:                 4846\n",
       "Model:                          Logit   Df Residuals:                     4836\n",
       "Method:                           MLE   Df Model:                            9\n",
       "Date:                Thu, 29 Mar 2018   Pseudo R-squ.:                 -0.4723\n",
       "Time:                        11:55:07   Log-Likelihood:                -3292.5\n",
       "converged:                       True   LL-Null:                       -2236.3\n",
       "                                        LLR p-value:                     1.000\n",
       "================================================================================================\n",
       "                                   coef    std err          z      P>|z|      [0.025      0.975]\n",
       "------------------------------------------------------------------------------------------------\n",
       "DC_Name_encoded                  0.0967      0.030      3.275      0.001       0.039       0.155\n",
       "Tot_Sls_Amt                      0.0867      0.033      2.639      0.008       0.022       0.151\n",
       "Msa_Dma_encoded                  0.2064      0.031      6.702      0.000       0.146       0.267\n",
       "Salesperson_encoded             -0.0289      0.029     -0.982      0.326      -0.086       0.029\n",
       "ST_encoded                       0.0865      0.030      2.864      0.004       0.027       0.146\n",
       "Chain_Name_encoded               0.0879      0.030      2.885      0.004       0.028       0.148\n",
       "LMS_Available_Matching_Funds     0.1741      0.033      5.244      0.000       0.109       0.239\n",
       "Otc_pct                       8.711e-08   6.69e-08      1.302      0.193    -4.4e-08    2.18e-07\n",
       "Brand_pct                     2.282e-09    6.8e-09      0.336      0.737    -1.1e-08    1.56e-08\n",
       "Generic_pct                  -2.331e-08   2.34e-08     -0.998      0.318   -6.91e-08    2.25e-08\n",
       "================================================================================================\n",
       "\"\"\""
      ]
     },
     "execution_count": 44,
     "metadata": {},
     "output_type": "execute_result"
    }
   ],
   "source": [
    "modelXR = sm.Logit(y, XR)\n",
    "resultXR = modelXR.fit()\n",
    "resultXR.summary ()"
   ]
  },
  {
   "cell_type": "code",
   "execution_count": 45,
   "metadata": {},
   "outputs": [
    {
     "name": "stdout",
     "output_type": "stream",
     "text": [
      "VIF DC_Name_encoded: 1.027215350053756\n",
      "VIF Tot_Sls_Amt: 1.0021491915742353\n",
      "VIF Msa_Dma_encoded: 1.1136712691525015\n",
      "VIF Salesperson_encoded: 1.0214735621955604\n",
      "VIF ST_encoded: 1.0751799944418934\n",
      "VIF Chain_Name_encoded: 1.1054219796981775\n",
      "VIF LMS_Available_Matching_Funds: 1.0128677178826926\n",
      "VIF Otc_pct: 19.663962886832262\n",
      "VIF Brand_pct: 68.57825746098196\n",
      "VIF Generic_pct: 91.64864771792729\n"
     ]
    }
   ],
   "source": [
    "for i, col in enumerate(XR.columns):            # check VIF\n",
    "    print('VIF {}: {}'.format(col,variance_inflation_factor(XR.values,i)))"
   ]
  },
  {
   "cell_type": "markdown",
   "metadata": {},
   "source": [
    "The new measures for Percent of Sales are highly correlated.  Drop all but one."
   ]
  },
  {
   "cell_type": "code",
   "execution_count": 48,
   "metadata": {
    "collapsed": true
   },
   "outputs": [],
   "source": [
    "XR = XR.drop('Otc_pct', axis=1)"
   ]
  },
  {
   "cell_type": "code",
   "execution_count": 49,
   "metadata": {
    "collapsed": true
   },
   "outputs": [],
   "source": [
    "XR = XR.drop('Generic_pct', axis=1)"
   ]
  },
  {
   "cell_type": "code",
   "execution_count": 50,
   "metadata": {},
   "outputs": [
    {
     "name": "stdout",
     "output_type": "stream",
     "text": [
      "VIF DC_Name_encoded: 1.0266533808341984\n",
      "VIF Tot_Sls_Amt: 1.0020820138878317\n",
      "VIF Msa_Dma_encoded: 1.113663150611752\n",
      "VIF Salesperson_encoded: 1.0212972344299605\n",
      "VIF ST_encoded: 1.074990915190292\n",
      "VIF Chain_Name_encoded: 1.1052467438795437\n",
      "VIF LMS_Available_Matching_Funds: 1.0128326877430391\n",
      "VIF Brand_pct: 1.001189327357945\n"
     ]
    }
   ],
   "source": [
    "for i, col in enumerate(XR.columns):            # check VIF\n",
    "    print('VIF {}: {}'.format(col,variance_inflation_factor(XR.values,i)))"
   ]
  },
  {
   "cell_type": "code",
   "execution_count": 51,
   "metadata": {
    "collapsed": true
   },
   "outputs": [],
   "source": [
    "XR2 = X[['DC_Name_encoded','Auto_Ship_Ind', 'Msa_Dma_encoded',\n",
    "                'SCS_Program', 'Specialty_Solutions','MRA_Program_Type_-_Active_AH_encoded',\n",
    "                'Region_encoded','LMS_Available_Matching_Funds','Brand_pct']]"
   ]
  },
  {
   "cell_type": "code",
   "execution_count": 53,
   "metadata": {
    "collapsed": true
   },
   "outputs": [],
   "source": [
    "XR2_train = X_train[['DC_Name_encoded','Auto_Ship_Ind', 'Msa_Dma_encoded',\n",
    "                'SCS_Program', 'Specialty_Solutions','MRA_Program_Type_-_Active_AH_encoded',\n",
    "                'Region_encoded','LMS_Available_Matching_Funds','Brand_pct']]\n",
    "\n",
    "XR2_test = X_test[['DC_Name_encoded','Auto_Ship_Ind', 'Msa_Dma_encoded',\n",
    "                'SCS_Program', 'Specialty_Solutions','MRA_Program_Type_-_Active_AH_encoded',\n",
    "                'Region_encoded','LMS_Available_Matching_Funds','Brand_pct']]"
   ]
  },
  {
   "cell_type": "code",
   "execution_count": 54,
   "metadata": {},
   "outputs": [
    {
     "name": "stdout",
     "output_type": "stream",
     "text": [
      "Optimization terminated successfully.\n",
      "         Current function value: 0.669323\n",
      "         Iterations 5\n"
     ]
    },
    {
     "data": {
      "text/html": [
       "<table class=\"simpletable\">\n",
       "<caption>Logit Regression Results</caption>\n",
       "<tr>\n",
       "  <th>Dep. Variable:</th>    <td>340B_Active</td>   <th>  No. Observations:  </th>  <td>  4846</td> \n",
       "</tr>\n",
       "<tr>\n",
       "  <th>Model:</th>               <td>Logit</td>      <th>  Df Residuals:      </th>  <td>  4837</td> \n",
       "</tr>\n",
       "<tr>\n",
       "  <th>Method:</th>               <td>MLE</td>       <th>  Df Model:          </th>  <td>     8</td> \n",
       "</tr>\n",
       "<tr>\n",
       "  <th>Date:</th>          <td>Thu, 29 Mar 2018</td> <th>  Pseudo R-squ.:     </th>  <td>-0.4504</td>\n",
       "</tr>\n",
       "<tr>\n",
       "  <th>Time:</th>              <td>11:58:26</td>     <th>  Log-Likelihood:    </th> <td> -3243.5</td>\n",
       "</tr>\n",
       "<tr>\n",
       "  <th>converged:</th>           <td>True</td>       <th>  LL-Null:           </th> <td> -2236.3</td>\n",
       "</tr>\n",
       "<tr>\n",
       "  <th> </th>                      <td> </td>        <th>  LLR p-value:       </th>  <td> 1.000</td> \n",
       "</tr>\n",
       "</table>\n",
       "<table class=\"simpletable\">\n",
       "<tr>\n",
       "                    <td></td>                      <th>coef</th>     <th>std err</th>      <th>z</th>      <th>P>|z|</th>  <th>[0.025</th>    <th>0.975]</th>  \n",
       "</tr>\n",
       "<tr>\n",
       "  <th>DC_Name_encoded</th>                      <td>    0.0993</td> <td>    0.030</td> <td>    3.357</td> <td> 0.001</td> <td>    0.041</td> <td>    0.157</td>\n",
       "</tr>\n",
       "<tr>\n",
       "  <th>Auto_Ship_Ind</th>                        <td>    0.0941</td> <td>    0.030</td> <td>    3.144</td> <td> 0.002</td> <td>    0.035</td> <td>    0.153</td>\n",
       "</tr>\n",
       "<tr>\n",
       "  <th>Msa_Dma_encoded</th>                      <td>    0.3056</td> <td>    0.036</td> <td>    8.534</td> <td> 0.000</td> <td>    0.235</td> <td>    0.376</td>\n",
       "</tr>\n",
       "<tr>\n",
       "  <th>SCS_Program</th>                          <td>    0.1433</td> <td>    0.031</td> <td>    4.601</td> <td> 0.000</td> <td>    0.082</td> <td>    0.204</td>\n",
       "</tr>\n",
       "<tr>\n",
       "  <th>Specialty_Solutions</th>                  <td>   -0.1190</td> <td>    0.031</td> <td>   -3.845</td> <td> 0.000</td> <td>   -0.180</td> <td>   -0.058</td>\n",
       "</tr>\n",
       "<tr>\n",
       "  <th>MRA_Program_Type_-_Active_AH_encoded</th> <td>   -0.1496</td> <td>    0.031</td> <td>   -4.779</td> <td> 0.000</td> <td>   -0.211</td> <td>   -0.088</td>\n",
       "</tr>\n",
       "<tr>\n",
       "  <th>Region_encoded</th>                       <td>   -0.1971</td> <td>    0.037</td> <td>   -5.398</td> <td> 0.000</td> <td>   -0.269</td> <td>   -0.126</td>\n",
       "</tr>\n",
       "<tr>\n",
       "  <th>LMS_Available_Matching_Funds</th>         <td>    0.1276</td> <td>    0.033</td> <td>    3.834</td> <td> 0.000</td> <td>    0.062</td> <td>    0.193</td>\n",
       "</tr>\n",
       "<tr>\n",
       "  <th>Brand_pct</th>                            <td>-1.455e-10</td> <td> 7.51e-10</td> <td>   -0.194</td> <td> 0.846</td> <td>-1.62e-09</td> <td> 1.33e-09</td>\n",
       "</tr>\n",
       "</table>"
      ],
      "text/plain": [
       "<class 'statsmodels.iolib.summary.Summary'>\n",
       "\"\"\"\n",
       "                           Logit Regression Results                           \n",
       "==============================================================================\n",
       "Dep. Variable:            340B_Active   No. Observations:                 4846\n",
       "Model:                          Logit   Df Residuals:                     4837\n",
       "Method:                           MLE   Df Model:                            8\n",
       "Date:                Thu, 29 Mar 2018   Pseudo R-squ.:                 -0.4504\n",
       "Time:                        11:58:26   Log-Likelihood:                -3243.5\n",
       "converged:                       True   LL-Null:                       -2236.3\n",
       "                                        LLR p-value:                     1.000\n",
       "========================================================================================================\n",
       "                                           coef    std err          z      P>|z|      [0.025      0.975]\n",
       "--------------------------------------------------------------------------------------------------------\n",
       "DC_Name_encoded                          0.0993      0.030      3.357      0.001       0.041       0.157\n",
       "Auto_Ship_Ind                            0.0941      0.030      3.144      0.002       0.035       0.153\n",
       "Msa_Dma_encoded                          0.3056      0.036      8.534      0.000       0.235       0.376\n",
       "SCS_Program                              0.1433      0.031      4.601      0.000       0.082       0.204\n",
       "Specialty_Solutions                     -0.1190      0.031     -3.845      0.000      -0.180      -0.058\n",
       "MRA_Program_Type_-_Active_AH_encoded    -0.1496      0.031     -4.779      0.000      -0.211      -0.088\n",
       "Region_encoded                          -0.1971      0.037     -5.398      0.000      -0.269      -0.126\n",
       "LMS_Available_Matching_Funds             0.1276      0.033      3.834      0.000       0.062       0.193\n",
       "Brand_pct                            -1.455e-10   7.51e-10     -0.194      0.846   -1.62e-09    1.33e-09\n",
       "========================================================================================================\n",
       "\"\"\""
      ]
     },
     "execution_count": 54,
     "metadata": {},
     "output_type": "execute_result"
    }
   ],
   "source": [
    "modelXR2 = sm.Logit(y, XR2)\n",
    "resultXR2 = modelXR2.fit()\n",
    "resultXR2.summary ()"
   ]
  },
  {
   "cell_type": "markdown",
   "metadata": {},
   "source": [
    "### GridSearch to optimize the model, using the reduced feature set"
   ]
  },
  {
   "cell_type": "markdown",
   "metadata": {},
   "source": [
    "How can we optimized the model that seems to perform the best?   We try many parameters via GridSearch."
   ]
  },
  {
   "cell_type": "markdown",
   "metadata": {},
   "source": [
    "Parameters for defining a tree:\n",
    "\n",
    "1.min_samples_split ◦Defines the minimum number of samples (or observations) which are required in a node to be considered for splitting.\n",
    "◦Used to control over-fitting. Higher values prevent a model from learning relations which might be highly specific to the particular sample selected for a tree.\n",
    "◦Too high values can lead to under-fitting hence, it should be tuned using CV.\n",
    "\n",
    "2.min_samples_leaf ◦Defines the minimum samples (or observations) required in a terminal node or leaf.\n",
    "◦Used to control over-fitting similar to min_samples_split.\n",
    "◦Generally lower values should be chosen for imbalanced class problems because the regions in which the minority class will be in majority will be very small.\n",
    "\n",
    "3.min_weight_fraction_leaf ◦Similar to min_samples_leaf but defined as a fraction of the total number of observations instead of an integer.\n",
    "◦Only one of #2 and #3 should be defined.\n",
    "\n",
    "4.max_depth ◦The maximum depth of a tree.\n",
    "◦Used to control over-fitting as higher depth will allow model to learn relations very specific to a particular sample.\n",
    "◦Should be tuned using CV.\n",
    "\n",
    "5.max_leaf_nodes ◦The maximum number of terminal nodes or leaves in a tree.\n",
    "◦Can be defined in place of max_depth. Since binary trees are created, a depth of ‘n’ would produce a maximum of 2^n leaves.\n",
    "◦If this is defined, GBM will ignore max_depth.\n",
    "\n",
    "6.max_features ◦The number of features to consider while searching for a best split. These will be randomly selected.\n",
    "◦As a thumb-rule, square root of the total number of features works great but we should check upto 30-40% of the total number of features.\n",
    "◦Higher values can lead to over-fitting but depends on case to case.\n",
    "\n",
    "Parameters for managing boosting:\n",
    "    \n",
    "1.learning_rate ◦This determines the impact of each tree on the final outcome (step 2.4). GBM works by starting with an initial estimate which is updated using the output of each tree. The learning parameter controls the magnitude of this change in the estimates.\n",
    "◦Lower values are generally preferred as they make the model robust to the specific characteristics of tree and thus allowing it to generalize well.\n",
    "◦Lower values would require higher number of trees to model all the relations and will be computationally expensive.\n",
    "\n",
    "2.n_estimators ◦The number of sequential trees to be modeled (step 2)\n",
    "◦Though GBM is fairly robust at higher number of trees but it can still overfit at a point. Hence, this should be tuned using CV for a particular learning rate.\n",
    "\n",
    "3.subsample ◦The fraction of observations to be selected for each tree. Selection is done by random sampling.\n",
    "◦Values slightly less than 1 make the model robust by reducing the variance.\n",
    "◦Typical values ~0.8 generally work fine but can be fine-tuned further.\n",
    "\n",
    "\n",
    "Miscellaneous parameters:\n",
    "    \n",
    "1.loss ◦It refers to the loss function to be minimized in each split.\n",
    "◦It can have various values for classification and regression case. Generally the default values work fine. Other values should be chosen only if you understand their impact on the model.\n",
    "\n",
    "2.init ◦This affects initialization of the output.\n",
    "◦This can be used if we have made another model whose outcome is to be used as the initial estimates for GBM.\n",
    "\n",
    "3.random_state ◦The random number seed so that same random numbers are generated every time.\n",
    "◦This is important for parameter tuning. If we don’t fix the random number, then we’ll have different outcomes for subsequent runs on the same parameters and it becomes difficult to compare models.\n",
    "◦It can potentially result in overfitting to a particular random sample selected. We can try running models for different random samples, which is computationally expensive and generally not used.\n",
    "\n",
    "4.verbose ◦The type of output to be printed when the model fits. The different values can be: ◾0: no output generated (default)\n",
    "◾1: output generated for trees in certain intervals\n",
    "◾>1: output generated for all trees\n",
    "\n",
    "\n",
    "5.warm_start ◦This parameter has an interesting application and can help a lot if used judicially.\n",
    "◦Using this, we can fit additional trees on previous fits of a model. It can save a lot of time and you should explore this option for advanced applications\n",
    "\n",
    "6.presort  ◦ Select whether to presort data for faster splits.\n",
    "◦It makes the selection automatically by default but it can be changed if needed.\n"
   ]
  },
  {
   "cell_type": "code",
   "execution_count": 55,
   "metadata": {
    "collapsed": true
   },
   "outputs": [],
   "source": [
    "from sklearn.model_selection import GridSearchCV"
   ]
  },
  {
   "cell_type": "code",
   "execution_count": 76,
   "metadata": {
    "collapsed": true
   },
   "outputs": [],
   "source": [
    "gbr_params = dict(learning_rate=np.arange(0.1, 0.5, 0.1),\n",
    "                        min_samples_split=np.arange(5,7,1),\n",
    "                        min_samples_leaf=np.arange(3,6,1),\n",
    "                        max_depth=np.arange(2, 5, 1),\n",
    "                        max_features=np.array([1, 2, 3, 4, 5, 6, 7, None, 'auto', 'sqrt', 'log2']),\n",
    "                        n_estimators=np.arange(60, 100, 20))"
   ]
  },
  {
   "cell_type": "code",
   "execution_count": 77,
   "metadata": {
    "collapsed": true
   },
   "outputs": [],
   "source": [
    "gs_gbr = GridSearchCV(estimator=GradientBoostingClassifier(), param_grid=gbr_params)"
   ]
  },
  {
   "cell_type": "code",
   "execution_count": 78,
   "metadata": {},
   "outputs": [
    {
     "data": {
      "text/plain": [
       "GridSearchCV(cv=None, error_score='raise',\n",
       "       estimator=GradientBoostingClassifier(criterion='friedman_mse', init=None,\n",
       "              learning_rate=0.1, loss='deviance', max_depth=3,\n",
       "              max_features=None, max_leaf_nodes=None,\n",
       "              min_impurity_decrease=0.0, min_impurity_split=None,\n",
       "              min_samples_leaf=1, min_samples_split=2,\n",
       "              min_weight_fraction_leaf=0.0, n_estimators=100,\n",
       "              presort='auto', random_state=None, subsample=1.0, verbose=0,\n",
       "              warm_start=False),\n",
       "       fit_params=None, iid=True, n_jobs=1,\n",
       "       param_grid={'learning_rate': array([ 0.1,  0.2,  0.3,  0.4]), 'min_samples_split': array([5, 6]), 'min_samples_leaf': array([3, 4, 5]), 'max_depth': array([2, 3, 4]), 'max_features': array([1, 2, 3, 4, 5, 6, 7, None, 'auto', 'sqrt', 'log2'], dtype=object), 'n_estimators': array([60, 80])},\n",
       "       pre_dispatch='2*n_jobs', refit=True, return_train_score='warn',\n",
       "       scoring=None, verbose=0)"
      ]
     },
     "execution_count": 78,
     "metadata": {},
     "output_type": "execute_result"
    }
   ],
   "source": [
    "gs_gbr.fit(XR_train, y_train)"
   ]
  },
  {
   "cell_type": "code",
   "execution_count": 109,
   "metadata": {},
   "outputs": [
    {
     "data": {
      "text/plain": [
       "{'learning_rate': 0.20000000000000001,\n",
       " 'max_depth': 4,\n",
       " 'max_features': 7,\n",
       " 'min_samples_leaf': 3,\n",
       " 'min_samples_split': 5,\n",
       " 'n_estimators': 80}"
      ]
     },
     "execution_count": 109,
     "metadata": {},
     "output_type": "execute_result"
    }
   ],
   "source": [
    "gs_gbr.best_params_"
   ]
  },
  {
   "cell_type": "code",
   "execution_count": 80,
   "metadata": {},
   "outputs": [
    {
     "data": {
      "text/plain": [
       "0.84072704867529269"
      ]
     },
     "execution_count": 80,
     "metadata": {},
     "output_type": "execute_result"
    }
   ],
   "source": [
    "gs_gbr.best_score_"
   ]
  },
  {
   "cell_type": "code",
   "execution_count": 110,
   "metadata": {},
   "outputs": [
    {
     "data": {
      "text/plain": [
       "GradientBoostingClassifier(criterion='friedman_mse', init=None,\n",
       "              learning_rate=0.20000000000000001, loss='deviance',\n",
       "              max_depth=4, max_features=7, max_leaf_nodes=None,\n",
       "              min_impurity_decrease=0.0, min_impurity_split=None,\n",
       "              min_samples_leaf=3, min_samples_split=5,\n",
       "              min_weight_fraction_leaf=0.0, n_estimators=80,\n",
       "              presort='auto', random_state=None, subsample=1.0, verbose=0,\n",
       "              warm_start=False)"
      ]
     },
     "execution_count": 110,
     "metadata": {},
     "output_type": "execute_result"
    }
   ],
   "source": [
    "gs_gbr.best_estimator_"
   ]
  },
  {
   "cell_type": "code",
   "execution_count": 111,
   "metadata": {},
   "outputs": [
    {
     "data": {
      "text/plain": [
       "\"\\nbest_model = GradientBoostingClassifier(criterion='friedman_mse', init=None,\\n              learning_rate=0.40000000000000002, loss='deviance',\\n              max_depth=3, max_features='log2', max_leaf_nodes=None,\\n              min_impurity_decrease=0.0, min_impurity_split=None,\\n              min_samples_leaf=1, min_samples_split=3,\\n              min_weight_fraction_leaf=0.0, n_estimators=70,\\n              presort='auto', random_state=None, subsample=1.0, verbose=0,\\n              warm_start=False)\\nbest_model.fit(XR_train, y_train)\\n\\n\""
      ]
     },
     "execution_count": 111,
     "metadata": {},
     "output_type": "execute_result"
    }
   ],
   "source": [
    "### This is the original GridSearch settings - orig Model\n",
    "\"\"\"\n",
    "best_model = GradientBoostingClassifier(criterion='friedman_mse', init=None,\n",
    "              learning_rate=0.40000000000000002, loss='deviance',\n",
    "              max_depth=3, max_features='log2', max_leaf_nodes=None,\n",
    "              min_impurity_decrease=0.0, min_impurity_split=None,\n",
    "              min_samples_leaf=1, min_samples_split=3,\n",
    "              min_weight_fraction_leaf=0.0, n_estimators=70,\n",
    "              presort='auto', random_state=None, subsample=1.0, verbose=0,\n",
    "              warm_start=False)\n",
    "best_model.fit(XR_train, y_train)\n",
    "\n",
    "\"\"\""
   ]
  },
  {
   "cell_type": "code",
   "execution_count": 107,
   "metadata": {},
   "outputs": [
    {
     "data": {
      "text/plain": [
       "GradientBoostingClassifier(criterion='friedman_mse', init=None,\n",
       "              learning_rate=0.2, loss='deviance', max_depth=4,\n",
       "              max_features=7, max_leaf_nodes=None,\n",
       "              min_impurity_decrease=0.0, min_impurity_split=None,\n",
       "              min_samples_leaf=3, min_samples_split=5,\n",
       "              min_weight_fraction_leaf=0.0, n_estimators=80,\n",
       "              presort='auto', random_state=None, subsample=1.0, verbose=0,\n",
       "              warm_start=False)"
      ]
     },
     "execution_count": 107,
     "metadata": {},
     "output_type": "execute_result"
    }
   ],
   "source": [
    "## This is GridSearch with updated settings - Model 2\n",
    "\n",
    "best_model2 = GradientBoostingClassifier(criterion='friedman_mse', init=None,\n",
    "              learning_rate=0.20000000000000001, loss='deviance',\n",
    "              max_depth=4, max_features=7, max_leaf_nodes=None,\n",
    "              min_impurity_decrease=0.0, min_impurity_split=None,\n",
    "              min_samples_leaf=3, min_samples_split=5,\n",
    "              min_weight_fraction_leaf=0.0, n_estimators=80,\n",
    "              presort='auto', random_state=None, subsample=1.0, verbose=0,\n",
    "              warm_start=False)\n",
    "best_model2.fit(XR_train, y_train)"
   ]
  },
  {
   "cell_type": "code",
   "execution_count": 108,
   "metadata": {},
   "outputs": [
    {
     "name": "stdout",
     "output_type": "stream",
     "text": [
      "Accuracy Score cross-validated:  0.834250393256\n",
      "Recall Score:  0.833125\n",
      "Precision Score average:   0.263232526882\n"
     ]
    }
   ],
   "source": [
    "best_model2.feature_importances_\n",
    "pred_best_model2 = best_model2.predict(XR_test) \n",
    "best_model2_score_acc = np.mean(cross_val_score(best_model2, XR_train, y_train, cv=5))\n",
    "best_model2_score_recall = recall_score(y_test, pred_best_model2, average='weighted')\n",
    "best_model2_score_avgprecision = average_precision_score(y_test, pred_best_model2)\n",
    "\n",
    "print(\"Accuracy Score cross-validated: \", best_model2_score_acc)\n",
    "print(\"Recall Score: \", best_model2_score_recall)\n",
    "print(\"Precision Score average:  \", best_model2_score_avgprecision)"
   ]
  },
  {
   "cell_type": "markdown",
   "metadata": {},
   "source": [
    "### Try Decision Tree Grid Search (Model 3)"
   ]
  },
  {
   "cell_type": "code",
   "execution_count": 94,
   "metadata": {
    "collapsed": true
   },
   "outputs": [],
   "source": [
    "dtr_params = dict(min_samples_split=np.arange(5,7,1),\n",
    "                        min_samples_leaf=np.arange(3,6,1),\n",
    "                        max_depth=np.arange(2, 5, 1),\n",
    "                        max_features=np.array([1, 2, 3, 4, 5, 6, 7, None, 'auto', 'sqrt', 'log2']))"
   ]
  },
  {
   "cell_type": "code",
   "execution_count": 95,
   "metadata": {
    "collapsed": true
   },
   "outputs": [],
   "source": [
    "gs_dtr = GridSearchCV(estimator=DecisionTreeClassifier(), param_grid=dtr_params)"
   ]
  },
  {
   "cell_type": "code",
   "execution_count": 96,
   "metadata": {},
   "outputs": [
    {
     "data": {
      "text/plain": [
       "GridSearchCV(cv=None, error_score='raise',\n",
       "       estimator=DecisionTreeClassifier(class_weight=None, criterion='gini', max_depth=None,\n",
       "            max_features=None, max_leaf_nodes=None,\n",
       "            min_impurity_decrease=0.0, min_impurity_split=None,\n",
       "            min_samples_leaf=1, min_samples_split=2,\n",
       "            min_weight_fraction_leaf=0.0, presort=False, random_state=None,\n",
       "            splitter='best'),\n",
       "       fit_params=None, iid=True, n_jobs=1,\n",
       "       param_grid={'min_samples_split': array([5, 6]), 'min_samples_leaf': array([3, 4, 5]), 'max_depth': array([2, 3, 4]), 'max_features': array([1, 2, 3, 4, 5, 6, 7, None, 'auto', 'sqrt', 'log2'], dtype=object)},\n",
       "       pre_dispatch='2*n_jobs', refit=True, return_train_score='warn',\n",
       "       scoring=None, verbose=0)"
      ]
     },
     "execution_count": 96,
     "metadata": {},
     "output_type": "execute_result"
    }
   ],
   "source": [
    "gs_dtr.fit(XR_train, y_train)"
   ]
  },
  {
   "cell_type": "code",
   "execution_count": 97,
   "metadata": {},
   "outputs": [
    {
     "data": {
      "text/plain": [
       "{'max_depth': 4,\n",
       " 'max_features': 7,\n",
       " 'min_samples_leaf': 3,\n",
       " 'min_samples_split': 5}"
      ]
     },
     "execution_count": 97,
     "metadata": {},
     "output_type": "execute_result"
    }
   ],
   "source": [
    "gs_dtr.best_params_"
   ]
  },
  {
   "cell_type": "code",
   "execution_count": 98,
   "metadata": {},
   "outputs": [
    {
     "data": {
      "text/plain": [
       "0.83210104744300672"
      ]
     },
     "execution_count": 98,
     "metadata": {},
     "output_type": "execute_result"
    }
   ],
   "source": [
    "gs_dtr.best_score_"
   ]
  },
  {
   "cell_type": "code",
   "execution_count": 99,
   "metadata": {},
   "outputs": [
    {
     "data": {
      "text/plain": [
       "DecisionTreeClassifier(class_weight=None, criterion='gini', max_depth=4,\n",
       "            max_features=7, max_leaf_nodes=None, min_impurity_decrease=0.0,\n",
       "            min_impurity_split=None, min_samples_leaf=3,\n",
       "            min_samples_split=5, min_weight_fraction_leaf=0.0,\n",
       "            presort=False, random_state=None, splitter='best')"
      ]
     },
     "execution_count": 99,
     "metadata": {},
     "output_type": "execute_result"
    }
   ],
   "source": [
    "gs_dtr.best_estimator_"
   ]
  },
  {
   "cell_type": "code",
   "execution_count": 100,
   "metadata": {},
   "outputs": [
    {
     "data": {
      "text/plain": [
       "DecisionTreeClassifier(class_weight=None, criterion='gini', max_depth=4,\n",
       "            max_features=7, max_leaf_nodes=None, min_impurity_decrease=0.0,\n",
       "            min_impurity_split=None, min_samples_leaf=3,\n",
       "            min_samples_split=5, min_weight_fraction_leaf=0.0,\n",
       "            presort=False, random_state=None, splitter='best')"
      ]
     },
     "execution_count": 100,
     "metadata": {},
     "output_type": "execute_result"
    }
   ],
   "source": [
    "best_model3 = DecisionTreeClassifier(class_weight=None, criterion='gini', max_depth=4,\n",
    "            max_features=7, max_leaf_nodes=None, min_impurity_decrease=0.0,\n",
    "            min_impurity_split=None, min_samples_leaf=3,\n",
    "            min_samples_split=5, min_weight_fraction_leaf=0.0,\n",
    "            presort=False, random_state=None, splitter='best')\n",
    "best_model3.fit(XR_train, y_train)"
   ]
  },
  {
   "cell_type": "code",
   "execution_count": 103,
   "metadata": {},
   "outputs": [
    {
     "name": "stdout",
     "output_type": "stream",
     "text": [
      "Accuracy Score cross-validated:  0.82192988702\n",
      "Recall Score:  0.82625\n",
      "Precision Score average:   0.183509787703\n"
     ]
    }
   ],
   "source": [
    "best_model3.feature_importances_\n",
    "pred_best_model3 = best_model3.predict(XR_test) \n",
    "best_model3_score_acc = np.mean(cross_val_score(best_model3, XR_train, y_train, cv=5))\n",
    "best_model3_score_recall = recall_score(y_test, pred_best_model3, average='weighted')\n",
    "best_model3_score_avgprecision = average_precision_score(y_test, pred_best_model3)\n",
    "\n",
    "print(\"Accuracy Score cross-validated: \", best_model3_score_acc)\n",
    "print(\"Recall Score: \", best_model3_score_recall)\n",
    "print(\"Precision Score average:  \", best_model3_score_avgprecision)"
   ]
  },
  {
   "cell_type": "markdown",
   "metadata": {},
   "source": [
    "### Run the model (reduced feature set) on ALL observations"
   ]
  },
  {
   "cell_type": "markdown",
   "metadata": {},
   "source": [
    "We trained and fitted the model with a reduced set of observations (to address the class imbalance for the label), so now we want to try the model on all observations, to learn which pharmacies it predicts as contract pharmacies for Macro Helix."
   ]
  },
  {
   "cell_type": "code",
   "execution_count": 112,
   "metadata": {
    "collapsed": true
   },
   "outputs": [],
   "source": [
    "XR_all_obs = X[['DC_Name_encoded', 'Tot_Sls_Amt', 'Msa_Dma_encoded',\n",
    "                'Salesperson_encoded', 'ST_encoded',\n",
    "                'Chain_Name_encoded','LMS_Available_Matching_Funds']] "
   ]
  },
  {
   "cell_type": "code",
   "execution_count": 113,
   "metadata": {
    "collapsed": true
   },
   "outputs": [],
   "source": [
    "pred_best_model2_all_obs = best_model2.predict(XR_all_obs)"
   ]
  },
  {
   "cell_type": "code",
   "execution_count": 117,
   "metadata": {},
   "outputs": [
    {
     "name": "stdout",
     "output_type": "stream",
     "text": [
      "Accuracy Score cross-validated:  0.178312640303\n",
      "Recall Score:  0.88196450681\n",
      "Recall Score - nt weighted:  0.410225921522\n",
      "Precision Score average:   0.438523341441\n"
     ]
    }
   ],
   "source": [
    "best_model2_all_obs_score_acc = np.mean(cross_val_score(best_model2, XR_all_obs, y, cv=5))\n",
    "best_model2_all_obs_score_recall = recall_score(y, pred_best_model2_all_obs, average='weighted')\n",
    "best_model2_all_obs_score_recall_nw = recall_score(y, pred_best_model2_all_obs) \n",
    "best_model2_all_obs_score_avgprecision = average_precision_score(y, pred_best_model2_all_obs)\n",
    "\n",
    "print(\"Accuracy Score cross-validated: \", best_model2_all_obs_score_acc)\n",
    "print(\"Recall Score: \", best_model2_all_obs_score_recall)\n",
    "print(\"Recall Score - nt weighted: \", best_model2_all_obs_score_recall_nw)\n",
    "print(\"Precision Score average:  \", best_model2_all_obs_score_avgprecision)"
   ]
  },
  {
   "cell_type": "markdown",
   "metadata": {},
   "source": [
    "Recall score is improved and is GREAT!"
   ]
  },
  {
   "cell_type": "markdown",
   "metadata": {},
   "source": [
    "### Put Actual 340B and Predicted 340B into final dataset"
   ]
  },
  {
   "cell_type": "code",
   "execution_count": 118,
   "metadata": {
    "collapsed": true
   },
   "outputs": [],
   "source": [
    "df_clean['Actual_340B'] = df_clean['340B_Active'] "
   ]
  },
  {
   "cell_type": "code",
   "execution_count": 119,
   "metadata": {
    "collapsed": true
   },
   "outputs": [],
   "source": [
    "q = pred_best_model2_all_obs"
   ]
  },
  {
   "cell_type": "code",
   "execution_count": 120,
   "metadata": {},
   "outputs": [
    {
     "name": "stdout",
     "output_type": "stream",
     "text": [
      "[[   0 4425]\n",
      " [   1  421]]\n"
     ]
    }
   ],
   "source": [
    "unique, counts = np.unique(q, return_counts=True)\n",
    "print(np.asarray((unique, counts)).T)"
   ]
  },
  {
   "cell_type": "code",
   "execution_count": 121,
   "metadata": {
    "collapsed": true
   },
   "outputs": [],
   "source": [
    "df_clean['Predicted_340B'] = pred_best_model2_all_obs           "
   ]
  },
  {
   "cell_type": "code",
   "execution_count": 122,
   "metadata": {},
   "outputs": [
    {
     "data": {
      "text/html": [
       "<div>\n",
       "<style>\n",
       "    .dataframe thead tr:only-child th {\n",
       "        text-align: right;\n",
       "    }\n",
       "\n",
       "    .dataframe thead th {\n",
       "        text-align: left;\n",
       "    }\n",
       "\n",
       "    .dataframe tbody tr th {\n",
       "        vertical-align: top;\n",
       "    }\n",
       "</style>\n",
       "<table border=\"1\" class=\"dataframe\">\n",
       "  <thead>\n",
       "    <tr style=\"text-align: right;\">\n",
       "      <th></th>\n",
       "      <th>Zip</th>\n",
       "      <th>Hm_Start_Dt</th>\n",
       "      <th>Channel_Type_Cd</th>\n",
       "      <th>Auto_Ship_Ind</th>\n",
       "      <th>Internal_Decor</th>\n",
       "      <th>Interior_Decor_Signage_Available_Funds</th>\n",
       "      <th>LMS_Enrolled</th>\n",
       "      <th>LMS_Available_Matching_Funds</th>\n",
       "      <th>LMS_Used_Funds_Most_Recent_3_Months</th>\n",
       "      <th>LMS_Used_Funds_Previous_3_Months</th>\n",
       "      <th>...</th>\n",
       "      <th>Salesperson_encoded</th>\n",
       "      <th>AH_Program_encoded</th>\n",
       "      <th>OTC_Front-end_Size_encoded</th>\n",
       "      <th>MRA_Program_Type_-_Active_AH_encoded</th>\n",
       "      <th>Msa_Dma_encoded</th>\n",
       "      <th>Signage_Program_encoded</th>\n",
       "      <th>3rd_Party_Vendor_encoded</th>\n",
       "      <th>Hospital_Associated_encoded</th>\n",
       "      <th>Actual_340B</th>\n",
       "      <th>Predicted_340B</th>\n",
       "    </tr>\n",
       "    <tr>\n",
       "      <th>Account</th>\n",
       "      <th></th>\n",
       "      <th></th>\n",
       "      <th></th>\n",
       "      <th></th>\n",
       "      <th></th>\n",
       "      <th></th>\n",
       "      <th></th>\n",
       "      <th></th>\n",
       "      <th></th>\n",
       "      <th></th>\n",
       "      <th></th>\n",
       "      <th></th>\n",
       "      <th></th>\n",
       "      <th></th>\n",
       "      <th></th>\n",
       "      <th></th>\n",
       "      <th></th>\n",
       "      <th></th>\n",
       "      <th></th>\n",
       "      <th></th>\n",
       "      <th></th>\n",
       "    </tr>\n",
       "  </thead>\n",
       "  <tbody>\n",
       "    <tr>\n",
       "      <th>10491</th>\n",
       "      <td>97463</td>\n",
       "      <td>732524</td>\n",
       "      <td>30</td>\n",
       "      <td>1</td>\n",
       "      <td>1</td>\n",
       "      <td>1724.0</td>\n",
       "      <td>1</td>\n",
       "      <td>822.0</td>\n",
       "      <td>1</td>\n",
       "      <td>1</td>\n",
       "      <td>...</td>\n",
       "      <td>1</td>\n",
       "      <td>4</td>\n",
       "      <td>1</td>\n",
       "      <td>7</td>\n",
       "      <td>183</td>\n",
       "      <td>0</td>\n",
       "      <td>18</td>\n",
       "      <td>15</td>\n",
       "      <td>0</td>\n",
       "      <td>0</td>\n",
       "    </tr>\n",
       "    <tr>\n",
       "      <th>17475</th>\n",
       "      <td>97630</td>\n",
       "      <td>732687</td>\n",
       "      <td>30</td>\n",
       "      <td>1</td>\n",
       "      <td>1</td>\n",
       "      <td>0.0</td>\n",
       "      <td>1</td>\n",
       "      <td>0.0</td>\n",
       "      <td>1</td>\n",
       "      <td>1</td>\n",
       "      <td>...</td>\n",
       "      <td>1</td>\n",
       "      <td>0</td>\n",
       "      <td>3</td>\n",
       "      <td>3</td>\n",
       "      <td>190</td>\n",
       "      <td>0</td>\n",
       "      <td>18</td>\n",
       "      <td>15</td>\n",
       "      <td>0</td>\n",
       "      <td>0</td>\n",
       "    </tr>\n",
       "    <tr>\n",
       "      <th>19901</th>\n",
       "      <td>97471</td>\n",
       "      <td>732616</td>\n",
       "      <td>30</td>\n",
       "      <td>0</td>\n",
       "      <td>1</td>\n",
       "      <td>0.0</td>\n",
       "      <td>1</td>\n",
       "      <td>0.0</td>\n",
       "      <td>1</td>\n",
       "      <td>1</td>\n",
       "      <td>...</td>\n",
       "      <td>1</td>\n",
       "      <td>0</td>\n",
       "      <td>4</td>\n",
       "      <td>2</td>\n",
       "      <td>183</td>\n",
       "      <td>0</td>\n",
       "      <td>18</td>\n",
       "      <td>15</td>\n",
       "      <td>0</td>\n",
       "      <td>0</td>\n",
       "    </tr>\n",
       "    <tr>\n",
       "      <th>309745</th>\n",
       "      <td>97467</td>\n",
       "      <td>735998</td>\n",
       "      <td>30</td>\n",
       "      <td>0</td>\n",
       "      <td>0</td>\n",
       "      <td>2500.0</td>\n",
       "      <td>1</td>\n",
       "      <td>0.0</td>\n",
       "      <td>0</td>\n",
       "      <td>0</td>\n",
       "      <td>...</td>\n",
       "      <td>1</td>\n",
       "      <td>0</td>\n",
       "      <td>1</td>\n",
       "      <td>8</td>\n",
       "      <td>183</td>\n",
       "      <td>3</td>\n",
       "      <td>18</td>\n",
       "      <td>15</td>\n",
       "      <td>0</td>\n",
       "      <td>0</td>\n",
       "    </tr>\n",
       "    <tr>\n",
       "      <th>652229</th>\n",
       "      <td>97370</td>\n",
       "      <td>734702</td>\n",
       "      <td>30</td>\n",
       "      <td>0</td>\n",
       "      <td>1</td>\n",
       "      <td>0.0</td>\n",
       "      <td>1</td>\n",
       "      <td>340.0</td>\n",
       "      <td>1</td>\n",
       "      <td>0</td>\n",
       "      <td>...</td>\n",
       "      <td>1</td>\n",
       "      <td>0</td>\n",
       "      <td>0</td>\n",
       "      <td>8</td>\n",
       "      <td>183</td>\n",
       "      <td>0</td>\n",
       "      <td>18</td>\n",
       "      <td>15</td>\n",
       "      <td>0</td>\n",
       "      <td>0</td>\n",
       "    </tr>\n",
       "  </tbody>\n",
       "</table>\n",
       "<p>5 rows × 64 columns</p>\n",
       "</div>"
      ],
      "text/plain": [
       "           Zip  Hm_Start_Dt  Channel_Type_Cd  Auto_Ship_Ind  Internal_Decor  \\\n",
       "Account                                                                       \n",
       "10491    97463       732524               30              1               1   \n",
       "17475    97630       732687               30              1               1   \n",
       "19901    97471       732616               30              0               1   \n",
       "309745   97467       735998               30              0               0   \n",
       "652229   97370       734702               30              0               1   \n",
       "\n",
       "         Interior_Decor_Signage_Available_Funds  LMS_Enrolled  \\\n",
       "Account                                                         \n",
       "10491                                    1724.0             1   \n",
       "17475                                       0.0             1   \n",
       "19901                                       0.0             1   \n",
       "309745                                   2500.0             1   \n",
       "652229                                      0.0             1   \n",
       "\n",
       "         LMS_Available_Matching_Funds  LMS_Used_Funds_Most_Recent_3_Months  \\\n",
       "Account                                                                      \n",
       "10491                           822.0                                    1   \n",
       "17475                             0.0                                    1   \n",
       "19901                             0.0                                    1   \n",
       "309745                            0.0                                    0   \n",
       "652229                          340.0                                    1   \n",
       "\n",
       "         LMS_Used_Funds_Previous_3_Months       ...        \\\n",
       "Account                                         ...         \n",
       "10491                                   1       ...         \n",
       "17475                                   1       ...         \n",
       "19901                                   1       ...         \n",
       "309745                                  0       ...         \n",
       "652229                                  0       ...         \n",
       "\n",
       "         Salesperson_encoded  AH_Program_encoded  OTC_Front-end_Size_encoded  \\\n",
       "Account                                                                        \n",
       "10491                      1                   4                           1   \n",
       "17475                      1                   0                           3   \n",
       "19901                      1                   0                           4   \n",
       "309745                     1                   0                           1   \n",
       "652229                     1                   0                           0   \n",
       "\n",
       "         MRA_Program_Type_-_Active_AH_encoded  Msa_Dma_encoded  \\\n",
       "Account                                                          \n",
       "10491                                       7              183   \n",
       "17475                                       3              190   \n",
       "19901                                       2              183   \n",
       "309745                                      8              183   \n",
       "652229                                      8              183   \n",
       "\n",
       "         Signage_Program_encoded  3rd_Party_Vendor_encoded  \\\n",
       "Account                                                      \n",
       "10491                          0                        18   \n",
       "17475                          0                        18   \n",
       "19901                          0                        18   \n",
       "309745                         3                        18   \n",
       "652229                         0                        18   \n",
       "\n",
       "         Hospital_Associated_encoded  Actual_340B  Predicted_340B  \n",
       "Account                                                            \n",
       "10491                             15            0               0  \n",
       "17475                             15            0               0  \n",
       "19901                             15            0               0  \n",
       "309745                            15            0               0  \n",
       "652229                            15            0               0  \n",
       "\n",
       "[5 rows x 64 columns]"
      ]
     },
     "execution_count": 122,
     "metadata": {},
     "output_type": "execute_result"
    }
   ],
   "source": [
    "df_clean.head()"
   ]
  },
  {
   "cell_type": "markdown",
   "metadata": {},
   "source": [
    "Save to file for the business to review predicted contract pharmacies."
   ]
  },
  {
   "cell_type": "code",
   "execution_count": null,
   "metadata": {
    "collapsed": true
   },
   "outputs": [],
   "source": [
    "df_clean.to_csv('data/340B_predictions.csv')"
   ]
  },
  {
   "cell_type": "code",
   "execution_count": null,
   "metadata": {
    "collapsed": true
   },
   "outputs": [],
   "source": [
    "len(df_clean[df_clean['Predicted_340B']==1])"
   ]
  },
  {
   "cell_type": "code",
   "execution_count": null,
   "metadata": {
    "collapsed": true
   },
   "outputs": [],
   "source": [
    "df_clean['Predicted_340B'].unique()\n",
    "df_clean['Predicted_340B'].value_counts()"
   ]
  },
  {
   "cell_type": "code",
   "execution_count": null,
   "metadata": {
    "collapsed": true
   },
   "outputs": [],
   "source": [
    "XR.shape"
   ]
  },
  {
   "cell_type": "code",
   "execution_count": null,
   "metadata": {
    "collapsed": true
   },
   "outputs": [],
   "source": [
    "X.shape"
   ]
  },
  {
   "cell_type": "code",
   "execution_count": null,
   "metadata": {
    "collapsed": true
   },
   "outputs": [],
   "source": [
    "y.shape"
   ]
  },
  {
   "cell_type": "code",
   "execution_count": null,
   "metadata": {
    "collapsed": true
   },
   "outputs": [],
   "source": [
    "XR_all_obs.shape"
   ]
  },
  {
   "cell_type": "code",
   "execution_count": null,
   "metadata": {
    "collapsed": true
   },
   "outputs": [],
   "source": []
  }
 ],
 "metadata": {
  "kernelspec": {
   "display_name": "Python 3",
   "language": "python",
   "name": "python3"
  },
  "language_info": {
   "codemirror_mode": {
    "name": "ipython",
    "version": 3
   },
   "file_extension": ".py",
   "mimetype": "text/x-python",
   "name": "python",
   "nbconvert_exporter": "python",
   "pygments_lexer": "ipython3",
   "version": "3.6.3"
  }
 },
 "nbformat": 4,
 "nbformat_minor": 2
}
