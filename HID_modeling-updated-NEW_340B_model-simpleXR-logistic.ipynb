{
 "cells": [
  {
   "cell_type": "markdown",
   "metadata": {},
   "source": [
    "### Import Programs"
   ]
  },
  {
   "cell_type": "code",
   "execution_count": 1,
   "metadata": {
    "collapsed": true
   },
   "outputs": [],
   "source": [
    "%load_ext autoreload\n",
    "%autoreload 2\n",
    "%matplotlib inline"
   ]
  },
  {
   "cell_type": "code",
   "execution_count": 2,
   "metadata": {},
   "outputs": [
    {
     "name": "stderr",
     "output_type": "stream",
     "text": [
      "C:\\ProgramData\\Anaconda3\\envs\\py36\\lib\\site-packages\\ipykernel_launcher.py:6: FutureWarning: The pandas.core.datetools module is deprecated and will be removed in a future version. Please use the pandas.tseries module instead.\n",
      "  \n"
     ]
    }
   ],
   "source": [
    "import datetime as dt\n",
    "\n",
    "import pandas as pd\n",
    "from pandas import ExcelWriter\n",
    "from pandas import ExcelFile\n",
    "from pandas.core import datetools\n",
    "\n",
    "from sklearn.preprocessing import LabelEncoder\n",
    "from sklearn.preprocessing import StandardScaler\n",
    "\n",
    "\n",
    "import numpy as np\n",
    "\n",
    "import matplotlib.pyplot as plt\n",
    "import seaborn as sns\n",
    "\n",
    "from sklearn import tree\n",
    "from sklearn.metrics import accuracy_score\n",
    "from sklearn.model_selection import KFold\n",
    "from sklearn.model_selection import cross_val_score\n",
    "from sklearn.metrics import recall_score, average_precision_score\n",
    "from sklearn.ensemble import GradientBoostingRegressor\n",
    "from sklearn.model_selection import train_test_split\n",
    "import statsmodels.api as sm\n",
    "from statsmodels.stats.outliers_influence import variance_inflation_factor\n",
    "from sklearn.ensemble import RandomForestClassifier\n",
    "from sklearn.datasets import make_classification\n",
    "from sklearn.tree import DecisionTreeClassifier\n",
    "from sklearn.linear_model import LogisticRegression\n",
    "from sklearn.ensemble import GradientBoostingClassifier\n",
    "from sklearn.neighbors import KNeighborsClassifier"
   ]
  },
  {
   "cell_type": "markdown",
   "metadata": {},
   "source": [
    "### Import Dataset from Excel file"
   ]
  },
  {
   "cell_type": "markdown",
   "metadata": {},
   "source": [
    "These are the files produced in the previous Python notebook that performed cleansing and initial feature reduction."
   ]
  },
  {
   "cell_type": "code",
   "execution_count": 12,
   "metadata": {
    "collapsed": true
   },
   "outputs": [],
   "source": [
    "X_unscaled = pd.read_csv('data/HID_features.csv', index_col=0)\n",
    "df_clean = pd.read_csv('data/df_clean.csv', index_col=0)"
   ]
  },
  {
   "cell_type": "code",
   "execution_count": 13,
   "metadata": {},
   "outputs": [
    {
     "data": {
      "text/plain": [
       "pandas.core.frame.DataFrame"
      ]
     },
     "execution_count": 13,
     "metadata": {},
     "output_type": "execute_result"
    }
   ],
   "source": [
    "type(X_unscaled)"
   ]
  },
  {
   "cell_type": "code",
   "execution_count": 14,
   "metadata": {},
   "outputs": [
    {
     "data": {
      "text/plain": [
       "(4846, 36)"
      ]
     },
     "execution_count": 14,
     "metadata": {},
     "output_type": "execute_result"
    }
   ],
   "source": [
    "X_unscaled.shape"
   ]
  },
  {
   "cell_type": "code",
   "execution_count": 15,
   "metadata": {},
   "outputs": [
    {
     "data": {
      "text/plain": [
       "Index(['Auto_Ship_Ind', 'Interior_Decor_Signage_Available_Funds',\n",
       "       'LMS_Enrolled', 'LMS_Available_Matching_Funds',\n",
       "       'LMS_Used_Funds_Most_Recent_3_Months',\n",
       "       'LMS_Used_Funds_Previous_3_Months', 'Open_Smart', 'PIP_Program',\n",
       "       'PQS_Program', 'SCS_Program', 'Spar_Coverage_Ind',\n",
       "       'Specialty_Solutions', 'Vaccine_Items', 'Vaccine_Starter',\n",
       "       'Vaccine_Items_Count', 'Vaccine_Items_Sls_Amt', 'YPO', 'Tot_Sls_Amt',\n",
       "       'DLC_Program_encoded', 'FEM_Program_encoded',\n",
       "       'HM_Circular_Program_encoded', 'Internal_Decor', 'PQS_Enrolled_encoded',\n",
       "       'ST_encoded', 'Pog_Code_Name_encoded', 'DC_Name_encoded',\n",
       "       'Bus_Type_Desc_encoded', 'Region_encoded', 'PSAO_Expanded_encoded',\n",
       "       'Chain_Name_encoded', 'Salesperson_encoded', 'AH_Program_encoded',\n",
       "       'OTC_Front-end_Size_encoded', 'MRA_Program_Type_-_Active_AH_encoded',\n",
       "       'Msa_Dma_encoded', 'Signage_Program_encoded'],\n",
       "      dtype='object')"
      ]
     },
     "execution_count": 15,
     "metadata": {},
     "output_type": "execute_result"
    }
   ],
   "source": [
    "X_unscaled.columns"
   ]
  },
  {
   "cell_type": "code",
   "execution_count": 16,
   "metadata": {},
   "outputs": [
    {
     "data": {
      "text/html": [
       "<div>\n",
       "<style>\n",
       "    .dataframe thead tr:only-child th {\n",
       "        text-align: right;\n",
       "    }\n",
       "\n",
       "    .dataframe thead th {\n",
       "        text-align: left;\n",
       "    }\n",
       "\n",
       "    .dataframe tbody tr th {\n",
       "        vertical-align: top;\n",
       "    }\n",
       "</style>\n",
       "<table border=\"1\" class=\"dataframe\">\n",
       "  <thead>\n",
       "    <tr style=\"text-align: right;\">\n",
       "      <th></th>\n",
       "      <th>Auto_Ship_Ind</th>\n",
       "      <th>Interior_Decor_Signage_Available_Funds</th>\n",
       "      <th>LMS_Enrolled</th>\n",
       "      <th>LMS_Available_Matching_Funds</th>\n",
       "      <th>LMS_Used_Funds_Most_Recent_3_Months</th>\n",
       "      <th>LMS_Used_Funds_Previous_3_Months</th>\n",
       "      <th>Open_Smart</th>\n",
       "      <th>PIP_Program</th>\n",
       "      <th>PQS_Program</th>\n",
       "      <th>SCS_Program</th>\n",
       "      <th>...</th>\n",
       "      <th>Bus_Type_Desc_encoded</th>\n",
       "      <th>Region_encoded</th>\n",
       "      <th>PSAO_Expanded_encoded</th>\n",
       "      <th>Chain_Name_encoded</th>\n",
       "      <th>Salesperson_encoded</th>\n",
       "      <th>AH_Program_encoded</th>\n",
       "      <th>OTC_Front-end_Size_encoded</th>\n",
       "      <th>MRA_Program_Type_-_Active_AH_encoded</th>\n",
       "      <th>Msa_Dma_encoded</th>\n",
       "      <th>Signage_Program_encoded</th>\n",
       "    </tr>\n",
       "    <tr>\n",
       "      <th>Account</th>\n",
       "      <th></th>\n",
       "      <th></th>\n",
       "      <th></th>\n",
       "      <th></th>\n",
       "      <th></th>\n",
       "      <th></th>\n",
       "      <th></th>\n",
       "      <th></th>\n",
       "      <th></th>\n",
       "      <th></th>\n",
       "      <th></th>\n",
       "      <th></th>\n",
       "      <th></th>\n",
       "      <th></th>\n",
       "      <th></th>\n",
       "      <th></th>\n",
       "      <th></th>\n",
       "      <th></th>\n",
       "      <th></th>\n",
       "      <th></th>\n",
       "      <th></th>\n",
       "    </tr>\n",
       "  </thead>\n",
       "  <tbody>\n",
       "    <tr>\n",
       "      <th>10491</th>\n",
       "      <td>1</td>\n",
       "      <td>1724.0</td>\n",
       "      <td>1</td>\n",
       "      <td>822.0</td>\n",
       "      <td>1</td>\n",
       "      <td>1</td>\n",
       "      <td>0</td>\n",
       "      <td>1</td>\n",
       "      <td>1</td>\n",
       "      <td>1</td>\n",
       "      <td>...</td>\n",
       "      <td>0</td>\n",
       "      <td>3</td>\n",
       "      <td>16</td>\n",
       "      <td>39</td>\n",
       "      <td>1</td>\n",
       "      <td>4</td>\n",
       "      <td>1</td>\n",
       "      <td>7</td>\n",
       "      <td>183</td>\n",
       "      <td>0</td>\n",
       "    </tr>\n",
       "    <tr>\n",
       "      <th>17475</th>\n",
       "      <td>1</td>\n",
       "      <td>0.0</td>\n",
       "      <td>1</td>\n",
       "      <td>0.0</td>\n",
       "      <td>1</td>\n",
       "      <td>1</td>\n",
       "      <td>0</td>\n",
       "      <td>0</td>\n",
       "      <td>1</td>\n",
       "      <td>1</td>\n",
       "      <td>...</td>\n",
       "      <td>0</td>\n",
       "      <td>3</td>\n",
       "      <td>0</td>\n",
       "      <td>39</td>\n",
       "      <td>1</td>\n",
       "      <td>0</td>\n",
       "      <td>3</td>\n",
       "      <td>3</td>\n",
       "      <td>190</td>\n",
       "      <td>0</td>\n",
       "    </tr>\n",
       "    <tr>\n",
       "      <th>19901</th>\n",
       "      <td>0</td>\n",
       "      <td>0.0</td>\n",
       "      <td>1</td>\n",
       "      <td>0.0</td>\n",
       "      <td>1</td>\n",
       "      <td>1</td>\n",
       "      <td>0</td>\n",
       "      <td>1</td>\n",
       "      <td>1</td>\n",
       "      <td>1</td>\n",
       "      <td>...</td>\n",
       "      <td>0</td>\n",
       "      <td>3</td>\n",
       "      <td>0</td>\n",
       "      <td>39</td>\n",
       "      <td>1</td>\n",
       "      <td>0</td>\n",
       "      <td>4</td>\n",
       "      <td>2</td>\n",
       "      <td>183</td>\n",
       "      <td>0</td>\n",
       "    </tr>\n",
       "    <tr>\n",
       "      <th>309745</th>\n",
       "      <td>0</td>\n",
       "      <td>2500.0</td>\n",
       "      <td>1</td>\n",
       "      <td>0.0</td>\n",
       "      <td>0</td>\n",
       "      <td>0</td>\n",
       "      <td>0</td>\n",
       "      <td>0</td>\n",
       "      <td>0</td>\n",
       "      <td>0</td>\n",
       "      <td>...</td>\n",
       "      <td>0</td>\n",
       "      <td>3</td>\n",
       "      <td>0</td>\n",
       "      <td>39</td>\n",
       "      <td>1</td>\n",
       "      <td>0</td>\n",
       "      <td>1</td>\n",
       "      <td>8</td>\n",
       "      <td>183</td>\n",
       "      <td>3</td>\n",
       "    </tr>\n",
       "    <tr>\n",
       "      <th>652229</th>\n",
       "      <td>0</td>\n",
       "      <td>0.0</td>\n",
       "      <td>1</td>\n",
       "      <td>340.0</td>\n",
       "      <td>1</td>\n",
       "      <td>0</td>\n",
       "      <td>0</td>\n",
       "      <td>0</td>\n",
       "      <td>1</td>\n",
       "      <td>0</td>\n",
       "      <td>...</td>\n",
       "      <td>0</td>\n",
       "      <td>3</td>\n",
       "      <td>0</td>\n",
       "      <td>38</td>\n",
       "      <td>1</td>\n",
       "      <td>0</td>\n",
       "      <td>0</td>\n",
       "      <td>8</td>\n",
       "      <td>183</td>\n",
       "      <td>0</td>\n",
       "    </tr>\n",
       "  </tbody>\n",
       "</table>\n",
       "<p>5 rows × 36 columns</p>\n",
       "</div>"
      ],
      "text/plain": [
       "         Auto_Ship_Ind  Interior_Decor_Signage_Available_Funds  LMS_Enrolled  \\\n",
       "Account                                                                        \n",
       "10491                1                                  1724.0             1   \n",
       "17475                1                                     0.0             1   \n",
       "19901                0                                     0.0             1   \n",
       "309745               0                                  2500.0             1   \n",
       "652229               0                                     0.0             1   \n",
       "\n",
       "         LMS_Available_Matching_Funds  LMS_Used_Funds_Most_Recent_3_Months  \\\n",
       "Account                                                                      \n",
       "10491                           822.0                                    1   \n",
       "17475                             0.0                                    1   \n",
       "19901                             0.0                                    1   \n",
       "309745                            0.0                                    0   \n",
       "652229                          340.0                                    1   \n",
       "\n",
       "         LMS_Used_Funds_Previous_3_Months  Open_Smart  PIP_Program  \\\n",
       "Account                                                              \n",
       "10491                                   1           0            1   \n",
       "17475                                   1           0            0   \n",
       "19901                                   1           0            1   \n",
       "309745                                  0           0            0   \n",
       "652229                                  0           0            0   \n",
       "\n",
       "         PQS_Program  SCS_Program           ...             \\\n",
       "Account                                     ...              \n",
       "10491              1            1           ...              \n",
       "17475              1            1           ...              \n",
       "19901              1            1           ...              \n",
       "309745             0            0           ...              \n",
       "652229             1            0           ...              \n",
       "\n",
       "         Bus_Type_Desc_encoded  Region_encoded  PSAO_Expanded_encoded  \\\n",
       "Account                                                                 \n",
       "10491                        0               3                     16   \n",
       "17475                        0               3                      0   \n",
       "19901                        0               3                      0   \n",
       "309745                       0               3                      0   \n",
       "652229                       0               3                      0   \n",
       "\n",
       "         Chain_Name_encoded  Salesperson_encoded  AH_Program_encoded  \\\n",
       "Account                                                                \n",
       "10491                    39                    1                   4   \n",
       "17475                    39                    1                   0   \n",
       "19901                    39                    1                   0   \n",
       "309745                   39                    1                   0   \n",
       "652229                   38                    1                   0   \n",
       "\n",
       "         OTC_Front-end_Size_encoded  MRA_Program_Type_-_Active_AH_encoded  \\\n",
       "Account                                                                     \n",
       "10491                             1                                     7   \n",
       "17475                             3                                     3   \n",
       "19901                             4                                     2   \n",
       "309745                            1                                     8   \n",
       "652229                            0                                     8   \n",
       "\n",
       "         Msa_Dma_encoded  Signage_Program_encoded  \n",
       "Account                                            \n",
       "10491                183                        0  \n",
       "17475                190                        0  \n",
       "19901                183                        0  \n",
       "309745               183                        3  \n",
       "652229               183                        0  \n",
       "\n",
       "[5 rows x 36 columns]"
      ]
     },
     "execution_count": 16,
     "metadata": {},
     "output_type": "execute_result"
    }
   ],
   "source": [
    "X_unscaled.head()"
   ]
  },
  {
   "cell_type": "code",
   "execution_count": 17,
   "metadata": {
    "collapsed": true
   },
   "outputs": [],
   "source": [
    "y = df_clean['340B_Active']"
   ]
  },
  {
   "cell_type": "markdown",
   "metadata": {},
   "source": [
    "### Try some models and look at performance metrics and important features"
   ]
  },
  {
   "cell_type": "code",
   "execution_count": 21,
   "metadata": {
    "collapsed": true
   },
   "outputs": [],
   "source": [
    "scaler = StandardScaler()\n",
    "scaler.fit(X_unscaled)\n",
    "scaled_features = scaler.transform(X_unscaled)\n",
    "X = pd.DataFrame(scaled_features,columns=X_unscaled.columns, index=X_unscaled.index)"
   ]
  },
  {
   "cell_type": "code",
   "execution_count": 56,
   "metadata": {},
   "outputs": [
    {
     "data": {
      "text/plain": [
       "(4846, 36)"
      ]
     },
     "execution_count": 56,
     "metadata": {},
     "output_type": "execute_result"
    }
   ],
   "source": [
    "X.shape"
   ]
  },
  {
   "cell_type": "code",
   "execution_count": 23,
   "metadata": {},
   "outputs": [
    {
     "data": {
      "text/plain": [
       "pandas.core.frame.DataFrame"
      ]
     },
     "execution_count": 23,
     "metadata": {},
     "output_type": "execute_result"
    }
   ],
   "source": [
    "type(X)"
   ]
  },
  {
   "cell_type": "code",
   "execution_count": 24,
   "metadata": {},
   "outputs": [
    {
     "data": {
      "text/plain": [
       "pandas.core.series.Series"
      ]
     },
     "execution_count": 24,
     "metadata": {},
     "output_type": "execute_result"
    }
   ],
   "source": [
    "type(y)"
   ]
  },
  {
   "cell_type": "code",
   "execution_count": 25,
   "metadata": {},
   "outputs": [
    {
     "data": {
      "text/html": [
       "<div>\n",
       "<style>\n",
       "    .dataframe thead tr:only-child th {\n",
       "        text-align: right;\n",
       "    }\n",
       "\n",
       "    .dataframe thead th {\n",
       "        text-align: left;\n",
       "    }\n",
       "\n",
       "    .dataframe tbody tr th {\n",
       "        vertical-align: top;\n",
       "    }\n",
       "</style>\n",
       "<table border=\"1\" class=\"dataframe\">\n",
       "  <thead>\n",
       "    <tr style=\"text-align: right;\">\n",
       "      <th></th>\n",
       "      <th>Auto_Ship_Ind</th>\n",
       "      <th>Interior_Decor_Signage_Available_Funds</th>\n",
       "      <th>LMS_Enrolled</th>\n",
       "      <th>LMS_Available_Matching_Funds</th>\n",
       "      <th>LMS_Used_Funds_Most_Recent_3_Months</th>\n",
       "      <th>LMS_Used_Funds_Previous_3_Months</th>\n",
       "      <th>Open_Smart</th>\n",
       "      <th>PIP_Program</th>\n",
       "      <th>PQS_Program</th>\n",
       "      <th>SCS_Program</th>\n",
       "      <th>...</th>\n",
       "      <th>Bus_Type_Desc_encoded</th>\n",
       "      <th>Region_encoded</th>\n",
       "      <th>PSAO_Expanded_encoded</th>\n",
       "      <th>Chain_Name_encoded</th>\n",
       "      <th>Salesperson_encoded</th>\n",
       "      <th>AH_Program_encoded</th>\n",
       "      <th>OTC_Front-end_Size_encoded</th>\n",
       "      <th>MRA_Program_Type_-_Active_AH_encoded</th>\n",
       "      <th>Msa_Dma_encoded</th>\n",
       "      <th>Signage_Program_encoded</th>\n",
       "    </tr>\n",
       "    <tr>\n",
       "      <th>Account</th>\n",
       "      <th></th>\n",
       "      <th></th>\n",
       "      <th></th>\n",
       "      <th></th>\n",
       "      <th></th>\n",
       "      <th></th>\n",
       "      <th></th>\n",
       "      <th></th>\n",
       "      <th></th>\n",
       "      <th></th>\n",
       "      <th></th>\n",
       "      <th></th>\n",
       "      <th></th>\n",
       "      <th></th>\n",
       "      <th></th>\n",
       "      <th></th>\n",
       "      <th></th>\n",
       "      <th></th>\n",
       "      <th></th>\n",
       "      <th></th>\n",
       "      <th></th>\n",
       "    </tr>\n",
       "  </thead>\n",
       "  <tbody>\n",
       "    <tr>\n",
       "      <th>10491</th>\n",
       "      <td>1.266482</td>\n",
       "      <td>0.378602</td>\n",
       "      <td>0.471375</td>\n",
       "      <td>-0.227769</td>\n",
       "      <td>1.417723</td>\n",
       "      <td>1.438413</td>\n",
       "      <td>-0.29872</td>\n",
       "      <td>1.557934</td>\n",
       "      <td>0.578780</td>\n",
       "      <td>0.871930</td>\n",
       "      <td>...</td>\n",
       "      <td>-0.187447</td>\n",
       "      <td>1.450286</td>\n",
       "      <td>3.431431</td>\n",
       "      <td>0.974998</td>\n",
       "      <td>-1.695111</td>\n",
       "      <td>2.785719</td>\n",
       "      <td>-0.900617</td>\n",
       "      <td>0.488720</td>\n",
       "      <td>1.538394</td>\n",
       "      <td>-1.191011</td>\n",
       "    </tr>\n",
       "    <tr>\n",
       "      <th>17475</th>\n",
       "      <td>1.266482</td>\n",
       "      <td>-1.245755</td>\n",
       "      <td>0.471375</td>\n",
       "      <td>-0.599414</td>\n",
       "      <td>1.417723</td>\n",
       "      <td>1.438413</td>\n",
       "      <td>-0.29872</td>\n",
       "      <td>-0.641876</td>\n",
       "      <td>0.578780</td>\n",
       "      <td>0.871930</td>\n",
       "      <td>...</td>\n",
       "      <td>-0.187447</td>\n",
       "      <td>1.450286</td>\n",
       "      <td>-0.368061</td>\n",
       "      <td>0.974998</td>\n",
       "      <td>-1.695111</td>\n",
       "      <td>-0.456453</td>\n",
       "      <td>0.065811</td>\n",
       "      <td>-1.154818</td>\n",
       "      <td>1.650666</td>\n",
       "      <td>-1.191011</td>\n",
       "    </tr>\n",
       "    <tr>\n",
       "      <th>19901</th>\n",
       "      <td>-0.789589</td>\n",
       "      <td>-1.245755</td>\n",
       "      <td>0.471375</td>\n",
       "      <td>-0.599414</td>\n",
       "      <td>1.417723</td>\n",
       "      <td>1.438413</td>\n",
       "      <td>-0.29872</td>\n",
       "      <td>1.557934</td>\n",
       "      <td>0.578780</td>\n",
       "      <td>0.871930</td>\n",
       "      <td>...</td>\n",
       "      <td>-0.187447</td>\n",
       "      <td>1.450286</td>\n",
       "      <td>-0.368061</td>\n",
       "      <td>0.974998</td>\n",
       "      <td>-1.695111</td>\n",
       "      <td>-0.456453</td>\n",
       "      <td>0.549025</td>\n",
       "      <td>-1.565702</td>\n",
       "      <td>1.538394</td>\n",
       "      <td>-1.191011</td>\n",
       "    </tr>\n",
       "    <tr>\n",
       "      <th>309745</th>\n",
       "      <td>-0.789589</td>\n",
       "      <td>1.109752</td>\n",
       "      <td>0.471375</td>\n",
       "      <td>-0.599414</td>\n",
       "      <td>-0.705357</td>\n",
       "      <td>-0.695211</td>\n",
       "      <td>-0.29872</td>\n",
       "      <td>-0.641876</td>\n",
       "      <td>-1.727772</td>\n",
       "      <td>-1.146881</td>\n",
       "      <td>...</td>\n",
       "      <td>-0.187447</td>\n",
       "      <td>1.450286</td>\n",
       "      <td>-0.368061</td>\n",
       "      <td>0.974998</td>\n",
       "      <td>-1.695111</td>\n",
       "      <td>-0.456453</td>\n",
       "      <td>-0.900617</td>\n",
       "      <td>0.899605</td>\n",
       "      <td>1.538394</td>\n",
       "      <td>1.533602</td>\n",
       "    </tr>\n",
       "    <tr>\n",
       "      <th>652229</th>\n",
       "      <td>-0.789589</td>\n",
       "      <td>-1.245755</td>\n",
       "      <td>0.471375</td>\n",
       "      <td>-0.445692</td>\n",
       "      <td>1.417723</td>\n",
       "      <td>-0.695211</td>\n",
       "      <td>-0.29872</td>\n",
       "      <td>-0.641876</td>\n",
       "      <td>0.578780</td>\n",
       "      <td>-1.146881</td>\n",
       "      <td>...</td>\n",
       "      <td>-0.187447</td>\n",
       "      <td>1.450286</td>\n",
       "      <td>-0.368061</td>\n",
       "      <td>0.913989</td>\n",
       "      <td>-1.695111</td>\n",
       "      <td>-0.456453</td>\n",
       "      <td>-1.383831</td>\n",
       "      <td>0.899605</td>\n",
       "      <td>1.538394</td>\n",
       "      <td>-1.191011</td>\n",
       "    </tr>\n",
       "  </tbody>\n",
       "</table>\n",
       "<p>5 rows × 36 columns</p>\n",
       "</div>"
      ],
      "text/plain": [
       "         Auto_Ship_Ind  Interior_Decor_Signage_Available_Funds  LMS_Enrolled  \\\n",
       "Account                                                                        \n",
       "10491         1.266482                                0.378602      0.471375   \n",
       "17475         1.266482                               -1.245755      0.471375   \n",
       "19901        -0.789589                               -1.245755      0.471375   \n",
       "309745       -0.789589                                1.109752      0.471375   \n",
       "652229       -0.789589                               -1.245755      0.471375   \n",
       "\n",
       "         LMS_Available_Matching_Funds  LMS_Used_Funds_Most_Recent_3_Months  \\\n",
       "Account                                                                      \n",
       "10491                       -0.227769                             1.417723   \n",
       "17475                       -0.599414                             1.417723   \n",
       "19901                       -0.599414                             1.417723   \n",
       "309745                      -0.599414                            -0.705357   \n",
       "652229                      -0.445692                             1.417723   \n",
       "\n",
       "         LMS_Used_Funds_Previous_3_Months  Open_Smart  PIP_Program  \\\n",
       "Account                                                              \n",
       "10491                            1.438413    -0.29872     1.557934   \n",
       "17475                            1.438413    -0.29872    -0.641876   \n",
       "19901                            1.438413    -0.29872     1.557934   \n",
       "309745                          -0.695211    -0.29872    -0.641876   \n",
       "652229                          -0.695211    -0.29872    -0.641876   \n",
       "\n",
       "         PQS_Program  SCS_Program           ...             \\\n",
       "Account                                     ...              \n",
       "10491       0.578780     0.871930           ...              \n",
       "17475       0.578780     0.871930           ...              \n",
       "19901       0.578780     0.871930           ...              \n",
       "309745     -1.727772    -1.146881           ...              \n",
       "652229      0.578780    -1.146881           ...              \n",
       "\n",
       "         Bus_Type_Desc_encoded  Region_encoded  PSAO_Expanded_encoded  \\\n",
       "Account                                                                 \n",
       "10491                -0.187447        1.450286               3.431431   \n",
       "17475                -0.187447        1.450286              -0.368061   \n",
       "19901                -0.187447        1.450286              -0.368061   \n",
       "309745               -0.187447        1.450286              -0.368061   \n",
       "652229               -0.187447        1.450286              -0.368061   \n",
       "\n",
       "         Chain_Name_encoded  Salesperson_encoded  AH_Program_encoded  \\\n",
       "Account                                                                \n",
       "10491              0.974998            -1.695111            2.785719   \n",
       "17475              0.974998            -1.695111           -0.456453   \n",
       "19901              0.974998            -1.695111           -0.456453   \n",
       "309745             0.974998            -1.695111           -0.456453   \n",
       "652229             0.913989            -1.695111           -0.456453   \n",
       "\n",
       "         OTC_Front-end_Size_encoded  MRA_Program_Type_-_Active_AH_encoded  \\\n",
       "Account                                                                     \n",
       "10491                     -0.900617                              0.488720   \n",
       "17475                      0.065811                             -1.154818   \n",
       "19901                      0.549025                             -1.565702   \n",
       "309745                    -0.900617                              0.899605   \n",
       "652229                    -1.383831                              0.899605   \n",
       "\n",
       "         Msa_Dma_encoded  Signage_Program_encoded  \n",
       "Account                                            \n",
       "10491           1.538394                -1.191011  \n",
       "17475           1.650666                -1.191011  \n",
       "19901           1.538394                -1.191011  \n",
       "309745          1.538394                 1.533602  \n",
       "652229          1.538394                -1.191011  \n",
       "\n",
       "[5 rows x 36 columns]"
      ]
     },
     "execution_count": 25,
     "metadata": {},
     "output_type": "execute_result"
    }
   ],
   "source": [
    "X.head()"
   ]
  },
  {
   "cell_type": "code",
   "execution_count": 26,
   "metadata": {
    "collapsed": true
   },
   "outputs": [],
   "source": [
    "# Split the data into train-test\n",
    "\n",
    "X_train, X_test, y_train, y_test = train_test_split(X, y, test_size=0.33, random_state=42)"
   ]
  },
  {
   "cell_type": "code",
   "execution_count": 27,
   "metadata": {},
   "outputs": [
    {
     "name": "stdout",
     "output_type": "stream",
     "text": [
      "Accuracy Score cross-validated:  0.835480217209\n",
      "Recall Score:  0.186379928315\n",
      "Precision Score average:   0.246087433037\n"
     ]
    }
   ],
   "source": [
    "# Random Forest\n",
    "\n",
    "rf = RandomForestClassifier()\n",
    "rf.fit(X_train, y_train)\n",
    "rf.feature_importances_\n",
    "pred_rf = rf.predict(X_test) \n",
    "rf_score_acc = np.mean(cross_val_score(rf, X_train, y_train, cv=5))\n",
    "rf_score_recall = recall_score(y_test, pred_rf)\n",
    "rf_score_avgprecision = average_precision_score(y_test, pred_rf)\n",
    "\n",
    "print(\"Accuracy Score cross-validated: \", rf_score_acc)\n",
    "print(\"Recall Score: \", rf_score_recall)\n",
    "print(\"Precision Score average:  \", rf_score_avgprecision)"
   ]
  },
  {
   "cell_type": "markdown",
   "metadata": {},
   "source": [
    "The most important measure for this business problem is Recall.  This is because Recall captures how many actual Positives the model finds.  In other words, does the model correctly predict current contract pharmacies of Macro Helix?   We want a model that can recognize an actual contract pharmacy.  Precision is not as important, as this captures how many the model labels as positive, compared to how many of those actually are positive; since we know that most of the pharmacies are not currently contract pharmacies, this measure is not very useful to the problem.  Similarly, Accuracy/R2 is not as important because since most in the dataset are negative, the model could merely predict all are negative and have a great Accuracy/R2 score -- not very meaningful."
   ]
  },
  {
   "cell_type": "code",
   "execution_count": 29,
   "metadata": {},
   "outputs": [
    {
     "name": "stdout",
     "output_type": "stream",
     "text": [
      "Accuracy Score cross-validated:  0.761554355667\n",
      "Recall Score:  0.379928315412\n",
      "Precision Score average:   0.237203209723\n"
     ]
    }
   ],
   "source": [
    "# Decision Tree\n",
    "\n",
    "dt = DecisionTreeClassifier()\n",
    "dt.fit(X_train, y_train)\n",
    "dt.feature_importances_\n",
    "pred_dt = dt.predict(X_test) \n",
    "dt_score_acc = np.mean(cross_val_score(dt, X_train, y_train, cv=5))\n",
    "dt_score_recall = recall_score(y_test, pred_dt)\n",
    "dt_score_avgprecision = average_precision_score(y_test, pred_dt)\n",
    "\n",
    "print(\"Accuracy Score cross-validated: \", dt_score_acc)\n",
    "print(\"Recall Score: \", dt_score_recall)\n",
    "print(\"Precision Score average:  \", dt_score_avgprecision)"
   ]
  },
  {
   "cell_type": "code",
   "execution_count": 30,
   "metadata": {},
   "outputs": [
    {
     "name": "stdout",
     "output_type": "stream",
     "text": [
      "                                        Feature Importance\n",
      "Auto_Ship_Ind                                     0.007996\n",
      "Interior_Decor_Signage_Available_Funds            0.055260\n",
      "LMS_Enrolled                                      0.004314\n",
      "LMS_Available_Matching_Funds                      0.073022\n",
      "LMS_Used_Funds_Most_Recent_3_Months               0.013859\n",
      "LMS_Used_Funds_Previous_3_Months                  0.002598\n",
      "Open_Smart                                        0.005068\n",
      "PIP_Program                                       0.004110\n",
      "PQS_Program                                       0.001811\n",
      "SCS_Program                                       0.013659\n",
      "Spar_Coverage_Ind                                 0.008423\n",
      "Specialty_Solutions                               0.003302\n",
      "Vaccine_Items                                     0.003228\n",
      "Vaccine_Starter                                   0.018222\n",
      "Vaccine_Items_Count                               0.012768\n",
      "Vaccine_Items_Sls_Amt                             0.045144\n",
      "YPO                                               0.008662\n",
      "Tot_Sls_Amt                                       0.145083\n",
      "DLC_Program_encoded                               0.015998\n",
      "FEM_Program_encoded                               0.013111\n",
      "HM_Circular_Program_encoded                       0.015010\n",
      "Internal_Decor                                    0.015513\n",
      "PQS_Enrolled_encoded                              0.002814\n",
      "ST_encoded                                        0.061156\n",
      "Pog_Code_Name_encoded                             0.019019\n",
      "DC_Name_encoded                                   0.036898\n",
      "Bus_Type_Desc_encoded                             0.008321\n",
      "Region_encoded                                    0.014740\n",
      "PSAO_Expanded_encoded                             0.008183\n",
      "Chain_Name_encoded                                0.057542\n",
      "Salesperson_encoded                               0.096198\n",
      "AH_Program_encoded                                0.008180\n",
      "OTC_Front-end_Size_encoded                        0.045685\n",
      "MRA_Program_Type_-_Active_AH_encoded              0.044214\n",
      "Msa_Dma_encoded                                   0.096271\n",
      "Signage_Program_encoded                           0.014616\n"
     ]
    }
   ],
   "source": [
    "feature_imp_dt = pd.DataFrame({'Feature Importance' : dt.feature_importances_}, index=X.columns)\n",
    "print(feature_imp_dt)"
   ]
  },
  {
   "cell_type": "code",
   "execution_count": 31,
   "metadata": {},
   "outputs": [
    {
     "name": "stdout",
     "output_type": "stream",
     "text": [
      "Accuracy Score cross-validated:  0.831794072845\n",
      "Recall Score:  0.154121863799\n",
      "Precision Score average:   0.234700528202\n"
     ]
    }
   ],
   "source": [
    "# Gradient Boosting\n",
    "\n",
    "gb = GradientBoostingClassifier()\n",
    "gb.fit(X_train, y_train)\n",
    "gb.feature_importances_\n",
    "pred_gb = gb.predict(X_test) \n",
    "gb_score_acc = np.mean(cross_val_score(gb, X_train, y_train, cv=5))\n",
    "gb_score_recall = recall_score(y_test, pred_gb)\n",
    "gb_score_avgprecision = average_precision_score(y_test, pred_gb)\n",
    "\n",
    "print(\"Accuracy Score cross-validated: \", gb_score_acc)\n",
    "print(\"Recall Score: \", gb_score_recall)\n",
    "print(\"Precision Score average:  \", gb_score_avgprecision)"
   ]
  },
  {
   "cell_type": "code",
   "execution_count": 33,
   "metadata": {
    "collapsed": true
   },
   "outputs": [],
   "source": [
    "# show which features are most important\n",
    "\n",
    "def plot_feature_importance(model, df):\n",
    "    cols = []\n",
    "    for col in df.columns:\n",
    "        cols.append(col)\n",
    "\n",
    "    feature_importances = pd.DataFrame({'Feature Importance' : model.feature_importances_}, index=cols)\n",
    "    feature_importances = feature_importances.sort_values(by='Feature Importance')\n",
    "    feature_importances.plot(kind='barh', color='r', figsize=(6,6))\n",
    "    plt.title('Feature Importance', fontsize=18)\n",
    "    plt.tight_layout()\n",
    "    plt.savefig('figures/feat_import.png', dpi=300)"
   ]
  },
  {
   "cell_type": "code",
   "execution_count": 34,
   "metadata": {},
   "outputs": [
    {
     "data": {
      "image/png": "[encoded data removed]",
      "text/plain": [
       "<matplotlib.figure.Figure at 0xcb470b8>"
      ]
     },
     "metadata": {},
     "output_type": "display_data"
    }
   ],
   "source": [
    "plot_feature_importance(dt, X_test)              ### drop in the model with best recall here "
   ]
  },
  {
   "cell_type": "markdown",
   "metadata": {},
   "source": [
    "### Try Logistic Regression Model"
   ]
  },
  {
   "cell_type": "code",
   "execution_count": 35,
   "metadata": {},
   "outputs": [
    {
     "name": "stdout",
     "output_type": "stream",
     "text": [
      "Optimization terminated successfully.\n",
      "         Current function value: 0.665322\n",
      "         Iterations 5\n"
     ]
    },
    {
     "data": {
      "text/html": [
       "<table class=\"simpletable\">\n",
       "<caption>Logit Regression Results</caption>\n",
       "<tr>\n",
       "  <th>Dep. Variable:</th>    <td>340B_Active</td>   <th>  No. Observations:  </th>  <td>  4846</td> \n",
       "</tr>\n",
       "<tr>\n",
       "  <th>Model:</th>               <td>Logit</td>      <th>  Df Residuals:      </th>  <td>  4810</td> \n",
       "</tr>\n",
       "<tr>\n",
       "  <th>Method:</th>               <td>MLE</td>       <th>  Df Model:          </th>  <td>    35</td> \n",
       "</tr>\n",
       "<tr>\n",
       "  <th>Date:</th>          <td>Wed, 28 Mar 2018</td> <th>  Pseudo R-squ.:     </th>  <td>-0.4418</td>\n",
       "</tr>\n",
       "<tr>\n",
       "  <th>Time:</th>              <td>10:38:13</td>     <th>  Log-Likelihood:    </th> <td> -3224.2</td>\n",
       "</tr>\n",
       "<tr>\n",
       "  <th>converged:</th>           <td>True</td>       <th>  LL-Null:           </th> <td> -2236.3</td>\n",
       "</tr>\n",
       "<tr>\n",
       "  <th> </th>                      <td> </td>        <th>  LLR p-value:       </th>  <td> 1.000</td> \n",
       "</tr>\n",
       "</table>\n",
       "<table class=\"simpletable\">\n",
       "<tr>\n",
       "                     <td></td>                       <th>coef</th>     <th>std err</th>      <th>z</th>      <th>P>|z|</th>  <th>[0.025</th>    <th>0.975]</th>  \n",
       "</tr>\n",
       "<tr>\n",
       "  <th>Auto_Ship_Ind</th>                          <td>    0.0946</td> <td>    0.033</td> <td>    2.847</td> <td> 0.004</td> <td>    0.029</td> <td>    0.160</td>\n",
       "</tr>\n",
       "<tr>\n",
       "  <th>Interior_Decor_Signage_Available_Funds</th> <td>    0.0144</td> <td>    0.041</td> <td>    0.355</td> <td> 0.723</td> <td>   -0.065</td> <td>    0.094</td>\n",
       "</tr>\n",
       "<tr>\n",
       "  <th>LMS_Enrolled</th>                           <td>    0.0186</td> <td>    0.035</td> <td>    0.531</td> <td> 0.596</td> <td>   -0.050</td> <td>    0.087</td>\n",
       "</tr>\n",
       "<tr>\n",
       "  <th>LMS_Available_Matching_Funds</th>           <td>    0.1133</td> <td>    0.035</td> <td>    3.258</td> <td> 0.001</td> <td>    0.045</td> <td>    0.181</td>\n",
       "</tr>\n",
       "<tr>\n",
       "  <th>LMS_Used_Funds_Most_Recent_3_Months</th>    <td>    0.0286</td> <td>    0.044</td> <td>    0.643</td> <td> 0.520</td> <td>   -0.059</td> <td>    0.116</td>\n",
       "</tr>\n",
       "<tr>\n",
       "  <th>LMS_Used_Funds_Previous_3_Months</th>       <td>   -0.0116</td> <td>    0.044</td> <td>   -0.262</td> <td> 0.794</td> <td>   -0.099</td> <td>    0.076</td>\n",
       "</tr>\n",
       "<tr>\n",
       "  <th>Open_Smart</th>                             <td>   -0.0361</td> <td>    0.032</td> <td>   -1.128</td> <td> 0.259</td> <td>   -0.099</td> <td>    0.027</td>\n",
       "</tr>\n",
       "<tr>\n",
       "  <th>PIP_Program</th>                            <td>    0.0069</td> <td>    0.037</td> <td>    0.187</td> <td> 0.852</td> <td>   -0.065</td> <td>    0.079</td>\n",
       "</tr>\n",
       "<tr>\n",
       "  <th>PQS_Program</th>                            <td>   -0.0231</td> <td>    0.043</td> <td>   -0.540</td> <td> 0.590</td> <td>   -0.107</td> <td>    0.061</td>\n",
       "</tr>\n",
       "<tr>\n",
       "  <th>SCS_Program</th>                            <td>    0.1021</td> <td>    0.039</td> <td>    2.605</td> <td> 0.009</td> <td>    0.025</td> <td>    0.179</td>\n",
       "</tr>\n",
       "<tr>\n",
       "  <th>Spar_Coverage_Ind</th>                      <td>   -0.0102</td> <td>    0.039</td> <td>   -0.265</td> <td> 0.791</td> <td>   -0.086</td> <td>    0.065</td>\n",
       "</tr>\n",
       "<tr>\n",
       "  <th>Specialty_Solutions</th>                    <td>   -0.1227</td> <td>    0.031</td> <td>   -3.906</td> <td> 0.000</td> <td>   -0.184</td> <td>   -0.061</td>\n",
       "</tr>\n",
       "<tr>\n",
       "  <th>Vaccine_Items</th>                          <td>   -0.0175</td> <td>    0.040</td> <td>   -0.440</td> <td> 0.660</td> <td>   -0.096</td> <td>    0.061</td>\n",
       "</tr>\n",
       "<tr>\n",
       "  <th>Vaccine_Starter</th>                        <td>    0.0116</td> <td>    0.030</td> <td>    0.390</td> <td> 0.696</td> <td>   -0.047</td> <td>    0.070</td>\n",
       "</tr>\n",
       "<tr>\n",
       "  <th>Vaccine_Items_Count</th>                    <td>   -0.0277</td> <td>    0.047</td> <td>   -0.587</td> <td> 0.557</td> <td>   -0.120</td> <td>    0.065</td>\n",
       "</tr>\n",
       "<tr>\n",
       "  <th>Vaccine_Items_Sls_Amt</th>                  <td>    0.0909</td> <td>    0.044</td> <td>    2.081</td> <td> 0.037</td> <td>    0.005</td> <td>    0.176</td>\n",
       "</tr>\n",
       "<tr>\n",
       "  <th>YPO</th>                                    <td>    0.0076</td> <td>    0.034</td> <td>    0.228</td> <td> 0.820</td> <td>   -0.058</td> <td>    0.073</td>\n",
       "</tr>\n",
       "<tr>\n",
       "  <th>Tot_Sls_Amt</th>                            <td>    0.0294</td> <td>    0.031</td> <td>    0.960</td> <td> 0.337</td> <td>   -0.031</td> <td>    0.089</td>\n",
       "</tr>\n",
       "<tr>\n",
       "  <th>DLC_Program_encoded</th>                    <td>    0.0075</td> <td>    0.036</td> <td>    0.205</td> <td> 0.837</td> <td>   -0.064</td> <td>    0.079</td>\n",
       "</tr>\n",
       "<tr>\n",
       "  <th>FEM_Program_encoded</th>                    <td>    0.0414</td> <td>    0.047</td> <td>    0.885</td> <td> 0.376</td> <td>   -0.050</td> <td>    0.133</td>\n",
       "</tr>\n",
       "<tr>\n",
       "  <th>HM_Circular_Program_encoded</th>            <td>   -0.0511</td> <td>    0.035</td> <td>   -1.473</td> <td> 0.141</td> <td>   -0.119</td> <td>    0.017</td>\n",
       "</tr>\n",
       "<tr>\n",
       "  <th>Internal_Decor</th>                         <td>    0.0396</td> <td>    0.042</td> <td>    0.934</td> <td> 0.350</td> <td>   -0.044</td> <td>    0.123</td>\n",
       "</tr>\n",
       "<tr>\n",
       "  <th>PQS_Enrolled_encoded</th>                   <td>   -0.0661</td> <td>    0.041</td> <td>   -1.629</td> <td> 0.103</td> <td>   -0.146</td> <td>    0.013</td>\n",
       "</tr>\n",
       "<tr>\n",
       "  <th>ST_encoded</th>                             <td>    0.0616</td> <td>    0.032</td> <td>    1.926</td> <td> 0.054</td> <td>   -0.001</td> <td>    0.124</td>\n",
       "</tr>\n",
       "<tr>\n",
       "  <th>Pog_Code_Name_encoded</th>                  <td>   -0.0683</td> <td>    0.033</td> <td>   -2.088</td> <td> 0.037</td> <td>   -0.132</td> <td>   -0.004</td>\n",
       "</tr>\n",
       "<tr>\n",
       "  <th>DC_Name_encoded</th>                        <td>    0.1031</td> <td>    0.031</td> <td>    3.336</td> <td> 0.001</td> <td>    0.043</td> <td>    0.164</td>\n",
       "</tr>\n",
       "<tr>\n",
       "  <th>Bus_Type_Desc_encoded</th>                  <td>    0.0454</td> <td>    0.031</td> <td>    1.448</td> <td> 0.148</td> <td>   -0.016</td> <td>    0.107</td>\n",
       "</tr>\n",
       "<tr>\n",
       "  <th>Region_encoded</th>                         <td>   -0.1781</td> <td>    0.038</td> <td>   -4.689</td> <td> 0.000</td> <td>   -0.253</td> <td>   -0.104</td>\n",
       "</tr>\n",
       "<tr>\n",
       "  <th>PSAO_Expanded_encoded</th>                  <td>   -0.0172</td> <td>    0.050</td> <td>   -0.346</td> <td> 0.729</td> <td>   -0.114</td> <td>    0.080</td>\n",
       "</tr>\n",
       "<tr>\n",
       "  <th>Chain_Name_encoded</th>                     <td>    0.0637</td> <td>    0.033</td> <td>    1.956</td> <td> 0.050</td> <td>   -0.000</td> <td>    0.128</td>\n",
       "</tr>\n",
       "<tr>\n",
       "  <th>Salesperson_encoded</th>                    <td>   -0.0242</td> <td>    0.030</td> <td>   -0.806</td> <td> 0.420</td> <td>   -0.083</td> <td>    0.035</td>\n",
       "</tr>\n",
       "<tr>\n",
       "  <th>AH_Program_encoded</th>                     <td>    0.0400</td> <td>    0.051</td> <td>    0.787</td> <td> 0.431</td> <td>   -0.060</td> <td>    0.140</td>\n",
       "</tr>\n",
       "<tr>\n",
       "  <th>OTC_Front-end_Size_encoded</th>             <td>   -0.0703</td> <td>    0.042</td> <td>   -1.688</td> <td> 0.091</td> <td>   -0.152</td> <td>    0.011</td>\n",
       "</tr>\n",
       "<tr>\n",
       "  <th>MRA_Program_Type_-_Active_AH_encoded</th>   <td>   -0.1144</td> <td>    0.034</td> <td>   -3.354</td> <td> 0.001</td> <td>   -0.181</td> <td>   -0.048</td>\n",
       "</tr>\n",
       "<tr>\n",
       "  <th>Msa_Dma_encoded</th>                        <td>    0.2949</td> <td>    0.038</td> <td>    7.677</td> <td> 0.000</td> <td>    0.220</td> <td>    0.370</td>\n",
       "</tr>\n",
       "<tr>\n",
       "  <th>Signage_Program_encoded</th>                <td>    0.0060</td> <td>    0.036</td> <td>    0.170</td> <td> 0.865</td> <td>   -0.064</td> <td>    0.076</td>\n",
       "</tr>\n",
       "</table>"
      ],
      "text/plain": [
       "<class 'statsmodels.iolib.summary.Summary'>\n",
       "\"\"\"\n",
       "                           Logit Regression Results                           \n",
       "==============================================================================\n",
       "Dep. Variable:            340B_Active   No. Observations:                 4846\n",
       "Model:                          Logit   Df Residuals:                     4810\n",
       "Method:                           MLE   Df Model:                           35\n",
       "Date:                Wed, 28 Mar 2018   Pseudo R-squ.:                 -0.4418\n",
       "Time:                        10:38:13   Log-Likelihood:                -3224.2\n",
       "converged:                       True   LL-Null:                       -2236.3\n",
       "                                        LLR p-value:                     1.000\n",
       "==========================================================================================================\n",
       "                                             coef    std err          z      P>|z|      [0.025      0.975]\n",
       "----------------------------------------------------------------------------------------------------------\n",
       "Auto_Ship_Ind                              0.0946      0.033      2.847      0.004       0.029       0.160\n",
       "Interior_Decor_Signage_Available_Funds     0.0144      0.041      0.355      0.723      -0.065       0.094\n",
       "LMS_Enrolled                               0.0186      0.035      0.531      0.596      -0.050       0.087\n",
       "LMS_Available_Matching_Funds               0.1133      0.035      3.258      0.001       0.045       0.181\n",
       "LMS_Used_Funds_Most_Recent_3_Months        0.0286      0.044      0.643      0.520      -0.059       0.116\n",
       "LMS_Used_Funds_Previous_3_Months          -0.0116      0.044     -0.262      0.794      -0.099       0.076\n",
       "Open_Smart                                -0.0361      0.032     -1.128      0.259      -0.099       0.027\n",
       "PIP_Program                                0.0069      0.037      0.187      0.852      -0.065       0.079\n",
       "PQS_Program                               -0.0231      0.043     -0.540      0.590      -0.107       0.061\n",
       "SCS_Program                                0.1021      0.039      2.605      0.009       0.025       0.179\n",
       "Spar_Coverage_Ind                         -0.0102      0.039     -0.265      0.791      -0.086       0.065\n",
       "Specialty_Solutions                       -0.1227      0.031     -3.906      0.000      -0.184      -0.061\n",
       "Vaccine_Items                             -0.0175      0.040     -0.440      0.660      -0.096       0.061\n",
       "Vaccine_Starter                            0.0116      0.030      0.390      0.696      -0.047       0.070\n",
       "Vaccine_Items_Count                       -0.0277      0.047     -0.587      0.557      -0.120       0.065\n",
       "Vaccine_Items_Sls_Amt                      0.0909      0.044      2.081      0.037       0.005       0.176\n",
       "YPO                                        0.0076      0.034      0.228      0.820      -0.058       0.073\n",
       "Tot_Sls_Amt                                0.0294      0.031      0.960      0.337      -0.031       0.089\n",
       "DLC_Program_encoded                        0.0075      0.036      0.205      0.837      -0.064       0.079\n",
       "FEM_Program_encoded                        0.0414      0.047      0.885      0.376      -0.050       0.133\n",
       "HM_Circular_Program_encoded               -0.0511      0.035     -1.473      0.141      -0.119       0.017\n",
       "Internal_Decor                             0.0396      0.042      0.934      0.350      -0.044       0.123\n",
       "PQS_Enrolled_encoded                      -0.0661      0.041     -1.629      0.103      -0.146       0.013\n",
       "ST_encoded                                 0.0616      0.032      1.926      0.054      -0.001       0.124\n",
       "Pog_Code_Name_encoded                     -0.0683      0.033     -2.088      0.037      -0.132      -0.004\n",
       "DC_Name_encoded                            0.1031      0.031      3.336      0.001       0.043       0.164\n",
       "Bus_Type_Desc_encoded                      0.0454      0.031      1.448      0.148      -0.016       0.107\n",
       "Region_encoded                            -0.1781      0.038     -4.689      0.000      -0.253      -0.104\n",
       "PSAO_Expanded_encoded                     -0.0172      0.050     -0.346      0.729      -0.114       0.080\n",
       "Chain_Name_encoded                         0.0637      0.033      1.956      0.050      -0.000       0.128\n",
       "Salesperson_encoded                       -0.0242      0.030     -0.806      0.420      -0.083       0.035\n",
       "AH_Program_encoded                         0.0400      0.051      0.787      0.431      -0.060       0.140\n",
       "OTC_Front-end_Size_encoded                -0.0703      0.042     -1.688      0.091      -0.152       0.011\n",
       "MRA_Program_Type_-_Active_AH_encoded      -0.1144      0.034     -3.354      0.001      -0.181      -0.048\n",
       "Msa_Dma_encoded                            0.2949      0.038      7.677      0.000       0.220       0.370\n",
       "Signage_Program_encoded                    0.0060      0.036      0.170      0.865      -0.064       0.076\n",
       "==========================================================================================================\n",
       "\"\"\""
      ]
     },
     "execution_count": 35,
     "metadata": {},
     "output_type": "execute_result"
    }
   ],
   "source": [
    "model = sm.Logit(y, X)\n",
    "result = model.fit()\n",
    "result.summary ()"
   ]
  },
  {
   "cell_type": "markdown",
   "metadata": {},
   "source": [
    "### Reduce the dimensions even further, based on Feature Importance"
   ]
  },
  {
   "cell_type": "markdown",
   "metadata": {},
   "source": [
    "Pick the top features to model, making the model simpler but still performing as well."
   ]
  },
  {
   "cell_type": "code",
   "execution_count": 36,
   "metadata": {
    "collapsed": true
   },
   "outputs": [],
   "source": [
    "XR = X[['DC_Name_encoded','Tot_Sls_Amt', 'Msa_Dma_encoded',\n",
    "                'Salesperson_encoded', 'ST_encoded',\n",
    "                'Chain_Name_encoded','LMS_Available_Matching_Funds']]"
   ]
  },
  {
   "cell_type": "code",
   "execution_count": 37,
   "metadata": {
    "collapsed": true
   },
   "outputs": [],
   "source": [
    "XR_train = X_train[['DC_Name_encoded', 'Tot_Sls_Amt', 'Msa_Dma_encoded',\n",
    "                'Salesperson_encoded', 'ST_encoded',\n",
    "                'Chain_Name_encoded','LMS_Available_Matching_Funds']]\n",
    "\n",
    "XR_test = X_test[['DC_Name_encoded', 'Tot_Sls_Amt', 'Msa_Dma_encoded',\n",
    "                'Salesperson_encoded', 'ST_encoded',\n",
    "                'Chain_Name_encoded','LMS_Available_Matching_Funds']]"
   ]
  },
  {
   "cell_type": "code",
   "execution_count": 39,
   "metadata": {},
   "outputs": [
    {
     "name": "stdout",
     "output_type": "stream",
     "text": [
      "Accuracy Score cross-validated:  0.750026294202\n",
      "Recall Score:  0.4229390681\n",
      "Precision Score average:   0.274516324167\n"
     ]
    }
   ],
   "source": [
    "# Decision Tree with reduced features\n",
    "\n",
    "dtr = DecisionTreeClassifier()\n",
    "dtr.fit(XR_train, y_train)\n",
    "dtr.feature_importances_\n",
    "pred_dtr = dtr.predict(XR_test) \n",
    "dtr_score_acc = np.mean(cross_val_score(dtr, XR_test, y_test, cv=5))\n",
    "dtr_score_recall = recall_score(y_test, pred_dtr)\n",
    "dtr_score_avgprecision = average_precision_score(y_test, pred_dtr)\n",
    "\n",
    "print(\"Accuracy Score cross-validated: \", dtr_score_acc)\n",
    "print(\"Recall Score: \", dtr_score_recall)\n",
    "print(\"Precision Score average:  \", dtr_score_avgprecision)"
   ]
  },
  {
   "cell_type": "code",
   "execution_count": 40,
   "metadata": {},
   "outputs": [
    {
     "name": "stdout",
     "output_type": "stream",
     "text": [
      "                              Feature Importance\n",
      "DC_Name_encoded                         0.076421\n",
      "Tot_Sls_Amt                             0.226680\n",
      "Msa_Dma_encoded                         0.210651\n",
      "Salesperson_encoded                     0.139562\n",
      "ST_encoded                              0.111419\n",
      "Chain_Name_encoded                      0.082623\n",
      "LMS_Available_Matching_Funds            0.152644\n"
     ]
    }
   ],
   "source": [
    "feature_imp_gbr = pd.DataFrame({'Feature Importance' : gbr.feature_importances_}, index=XR.columns)\n",
    "print(feature_imp_gbr)"
   ]
  },
  {
   "cell_type": "code",
   "execution_count": 43,
   "metadata": {},
   "outputs": [
    {
     "name": "stdout",
     "output_type": "stream",
     "text": [
      "Optimization terminated successfully.\n",
      "         Current function value: 0.679674\n",
      "         Iterations 5\n"
     ]
    },
    {
     "data": {
      "text/html": [
       "<table class=\"simpletable\">\n",
       "<caption>Logit Regression Results</caption>\n",
       "<tr>\n",
       "  <th>Dep. Variable:</th>    <td>340B_Active</td>   <th>  No. Observations:  </th>  <td>  4846</td> \n",
       "</tr>\n",
       "<tr>\n",
       "  <th>Model:</th>               <td>Logit</td>      <th>  Df Residuals:      </th>  <td>  4839</td> \n",
       "</tr>\n",
       "<tr>\n",
       "  <th>Method:</th>               <td>MLE</td>       <th>  Df Model:          </th>  <td>     6</td> \n",
       "</tr>\n",
       "<tr>\n",
       "  <th>Date:</th>          <td>Wed, 28 Mar 2018</td> <th>  Pseudo R-squ.:     </th>  <td>-0.4729</td>\n",
       "</tr>\n",
       "<tr>\n",
       "  <th>Time:</th>              <td>10:45:12</td>     <th>  Log-Likelihood:    </th> <td> -3293.7</td>\n",
       "</tr>\n",
       "<tr>\n",
       "  <th>converged:</th>           <td>True</td>       <th>  LL-Null:           </th> <td> -2236.3</td>\n",
       "</tr>\n",
       "<tr>\n",
       "  <th> </th>                      <td> </td>        <th>  LLR p-value:       </th>  <td> 1.000</td> \n",
       "</tr>\n",
       "</table>\n",
       "<table class=\"simpletable\">\n",
       "<tr>\n",
       "                <td></td>                  <th>coef</th>     <th>std err</th>      <th>z</th>      <th>P>|z|</th>  <th>[0.025</th>    <th>0.975]</th>  \n",
       "</tr>\n",
       "<tr>\n",
       "  <th>DC_Name_encoded</th>              <td>    0.0969</td> <td>    0.029</td> <td>    3.285</td> <td> 0.001</td> <td>    0.039</td> <td>    0.155</td>\n",
       "</tr>\n",
       "<tr>\n",
       "  <th>Tot_Sls_Amt</th>                  <td>    0.0869</td> <td>    0.033</td> <td>    2.644</td> <td> 0.008</td> <td>    0.022</td> <td>    0.151</td>\n",
       "</tr>\n",
       "<tr>\n",
       "  <th>Msa_Dma_encoded</th>              <td>    0.2063</td> <td>    0.031</td> <td>    6.702</td> <td> 0.000</td> <td>    0.146</td> <td>    0.267</td>\n",
       "</tr>\n",
       "<tr>\n",
       "  <th>Salesperson_encoded</th>          <td>   -0.0292</td> <td>    0.029</td> <td>   -0.995</td> <td> 0.320</td> <td>   -0.087</td> <td>    0.028</td>\n",
       "</tr>\n",
       "<tr>\n",
       "  <th>ST_encoded</th>                   <td>    0.0867</td> <td>    0.030</td> <td>    2.870</td> <td> 0.004</td> <td>    0.028</td> <td>    0.146</td>\n",
       "</tr>\n",
       "<tr>\n",
       "  <th>Chain_Name_encoded</th>           <td>    0.0881</td> <td>    0.030</td> <td>    2.892</td> <td> 0.004</td> <td>    0.028</td> <td>    0.148</td>\n",
       "</tr>\n",
       "<tr>\n",
       "  <th>LMS_Available_Matching_Funds</th> <td>    0.1738</td> <td>    0.033</td> <td>    5.237</td> <td> 0.000</td> <td>    0.109</td> <td>    0.239</td>\n",
       "</tr>\n",
       "</table>"
      ],
      "text/plain": [
       "<class 'statsmodels.iolib.summary.Summary'>\n",
       "\"\"\"\n",
       "                           Logit Regression Results                           \n",
       "==============================================================================\n",
       "Dep. Variable:            340B_Active   No. Observations:                 4846\n",
       "Model:                          Logit   Df Residuals:                     4839\n",
       "Method:                           MLE   Df Model:                            6\n",
       "Date:                Wed, 28 Mar 2018   Pseudo R-squ.:                 -0.4729\n",
       "Time:                        10:45:12   Log-Likelihood:                -3293.7\n",
       "converged:                       True   LL-Null:                       -2236.3\n",
       "                                        LLR p-value:                     1.000\n",
       "================================================================================================\n",
       "                                   coef    std err          z      P>|z|      [0.025      0.975]\n",
       "------------------------------------------------------------------------------------------------\n",
       "DC_Name_encoded                  0.0969      0.029      3.285      0.001       0.039       0.155\n",
       "Tot_Sls_Amt                      0.0869      0.033      2.644      0.008       0.022       0.151\n",
       "Msa_Dma_encoded                  0.2063      0.031      6.702      0.000       0.146       0.267\n",
       "Salesperson_encoded             -0.0292      0.029     -0.995      0.320      -0.087       0.028\n",
       "ST_encoded                       0.0867      0.030      2.870      0.004       0.028       0.146\n",
       "Chain_Name_encoded               0.0881      0.030      2.892      0.004       0.028       0.148\n",
       "LMS_Available_Matching_Funds     0.1738      0.033      5.237      0.000       0.109       0.239\n",
       "================================================================================================\n",
       "\"\"\""
      ]
     },
     "execution_count": 43,
     "metadata": {},
     "output_type": "execute_result"
    }
   ],
   "source": [
    "modelXR = sm.Logit(y, XR)\n",
    "resultXR = modelXR.fit()\n",
    "resultXR.summary ()"
   ]
  },
  {
   "cell_type": "code",
   "execution_count": 47,
   "metadata": {},
   "outputs": [
    {
     "name": "stdout",
     "output_type": "stream",
     "text": [
      "VIF DC_Name_encoded: 1.0262136278368992\n",
      "VIF Tot_Sls_Amt: 1.0020736689195004\n",
      "VIF Msa_Dma_encoded: 1.1135314052548284\n",
      "VIF Salesperson_encoded: 1.0208424366289444\n",
      "VIF ST_encoded: 1.0749734543219744\n",
      "VIF Chain_Name_encoded: 1.1052465134450666\n",
      "VIF LMS_Available_Matching_Funds: 1.0128101156911191\n"
     ]
    }
   ],
   "source": [
    "for i, col in enumerate(XR.columns):            # check VIF\n",
    "    print('VIF {}: {}'.format(col,variance_inflation_factor(XR.values,i)))"
   ]
  },
  {
   "cell_type": "code",
   "execution_count": 51,
   "metadata": {
    "collapsed": true
   },
   "outputs": [],
   "source": [
    "XR2 = X[['DC_Name_encoded','Auto_Ship_Ind', 'Msa_Dma_encoded',\n",
    "                'SCS_Program', 'Specialty_Solutions','MRA_Program_Type_-_Active_AH_encoded',\n",
    "                'Region_encoded','LMS_Available_Matching_Funds']]"
   ]
  },
  {
   "cell_type": "code",
   "execution_count": 52,
   "metadata": {
    "collapsed": true
   },
   "outputs": [],
   "source": [
    "XR2_train = X_train[['DC_Name_encoded','Auto_Ship_Ind', 'Msa_Dma_encoded',\n",
    "                'SCS_Program', 'Specialty_Solutions','MRA_Program_Type_-_Active_AH_encoded',\n",
    "                'Region_encoded','LMS_Available_Matching_Funds']]\n",
    "\n",
    "XR2_test = X_test[['DC_Name_encoded','Auto_Ship_Ind', 'Msa_Dma_encoded',\n",
    "                'SCS_Program', 'Specialty_Solutions','MRA_Program_Type_-_Active_AH_encoded',\n",
    "                'Region_encoded','LMS_Available_Matching_Funds']]"
   ]
  },
  {
   "cell_type": "code",
   "execution_count": 53,
   "metadata": {},
   "outputs": [
    {
     "name": "stdout",
     "output_type": "stream",
     "text": [
      "Optimization terminated successfully.\n",
      "         Current function value: 0.669327\n",
      "         Iterations 5\n"
     ]
    },
    {
     "data": {
      "text/html": [
       "<table class=\"simpletable\">\n",
       "<caption>Logit Regression Results</caption>\n",
       "<tr>\n",
       "  <th>Dep. Variable:</th>    <td>340B_Active</td>   <th>  No. Observations:  </th>  <td>  4846</td> \n",
       "</tr>\n",
       "<tr>\n",
       "  <th>Model:</th>               <td>Logit</td>      <th>  Df Residuals:      </th>  <td>  4838</td> \n",
       "</tr>\n",
       "<tr>\n",
       "  <th>Method:</th>               <td>MLE</td>       <th>  Df Model:          </th>  <td>     7</td> \n",
       "</tr>\n",
       "<tr>\n",
       "  <th>Date:</th>          <td>Wed, 28 Mar 2018</td> <th>  Pseudo R-squ.:     </th>  <td>-0.4504</td>\n",
       "</tr>\n",
       "<tr>\n",
       "  <th>Time:</th>              <td>11:03:04</td>     <th>  Log-Likelihood:    </th> <td> -3243.6</td>\n",
       "</tr>\n",
       "<tr>\n",
       "  <th>converged:</th>           <td>True</td>       <th>  LL-Null:           </th> <td> -2236.3</td>\n",
       "</tr>\n",
       "<tr>\n",
       "  <th> </th>                      <td> </td>        <th>  LLR p-value:       </th>  <td> 1.000</td> \n",
       "</tr>\n",
       "</table>\n",
       "<table class=\"simpletable\">\n",
       "<tr>\n",
       "                    <td></td>                      <th>coef</th>     <th>std err</th>      <th>z</th>      <th>P>|z|</th>  <th>[0.025</th>    <th>0.975]</th>  \n",
       "</tr>\n",
       "<tr>\n",
       "  <th>DC_Name_encoded</th>                      <td>    0.0995</td> <td>    0.030</td> <td>    3.362</td> <td> 0.001</td> <td>    0.041</td> <td>    0.157</td>\n",
       "</tr>\n",
       "<tr>\n",
       "  <th>Auto_Ship_Ind</th>                        <td>    0.0941</td> <td>    0.030</td> <td>    3.144</td> <td> 0.002</td> <td>    0.035</td> <td>    0.153</td>\n",
       "</tr>\n",
       "<tr>\n",
       "  <th>Msa_Dma_encoded</th>                      <td>    0.3055</td> <td>    0.036</td> <td>    8.532</td> <td> 0.000</td> <td>    0.235</td> <td>    0.376</td>\n",
       "</tr>\n",
       "<tr>\n",
       "  <th>SCS_Program</th>                          <td>    0.1433</td> <td>    0.031</td> <td>    4.600</td> <td> 0.000</td> <td>    0.082</td> <td>    0.204</td>\n",
       "</tr>\n",
       "<tr>\n",
       "  <th>Specialty_Solutions</th>                  <td>   -0.1190</td> <td>    0.031</td> <td>   -3.843</td> <td> 0.000</td> <td>   -0.180</td> <td>   -0.058</td>\n",
       "</tr>\n",
       "<tr>\n",
       "  <th>MRA_Program_Type_-_Active_AH_encoded</th> <td>   -0.1495</td> <td>    0.031</td> <td>   -4.777</td> <td> 0.000</td> <td>   -0.211</td> <td>   -0.088</td>\n",
       "</tr>\n",
       "<tr>\n",
       "  <th>Region_encoded</th>                       <td>   -0.1970</td> <td>    0.037</td> <td>   -5.395</td> <td> 0.000</td> <td>   -0.269</td> <td>   -0.125</td>\n",
       "</tr>\n",
       "<tr>\n",
       "  <th>LMS_Available_Matching_Funds</th>         <td>    0.1276</td> <td>    0.033</td> <td>    3.834</td> <td> 0.000</td> <td>    0.062</td> <td>    0.193</td>\n",
       "</tr>\n",
       "</table>"
      ],
      "text/plain": [
       "<class 'statsmodels.iolib.summary.Summary'>\n",
       "\"\"\"\n",
       "                           Logit Regression Results                           \n",
       "==============================================================================\n",
       "Dep. Variable:            340B_Active   No. Observations:                 4846\n",
       "Model:                          Logit   Df Residuals:                     4838\n",
       "Method:                           MLE   Df Model:                            7\n",
       "Date:                Wed, 28 Mar 2018   Pseudo R-squ.:                 -0.4504\n",
       "Time:                        11:03:04   Log-Likelihood:                -3243.6\n",
       "converged:                       True   LL-Null:                       -2236.3\n",
       "                                        LLR p-value:                     1.000\n",
       "========================================================================================================\n",
       "                                           coef    std err          z      P>|z|      [0.025      0.975]\n",
       "--------------------------------------------------------------------------------------------------------\n",
       "DC_Name_encoded                          0.0995      0.030      3.362      0.001       0.041       0.157\n",
       "Auto_Ship_Ind                            0.0941      0.030      3.144      0.002       0.035       0.153\n",
       "Msa_Dma_encoded                          0.3055      0.036      8.532      0.000       0.235       0.376\n",
       "SCS_Program                              0.1433      0.031      4.600      0.000       0.082       0.204\n",
       "Specialty_Solutions                     -0.1190      0.031     -3.843      0.000      -0.180      -0.058\n",
       "MRA_Program_Type_-_Active_AH_encoded    -0.1495      0.031     -4.777      0.000      -0.211      -0.088\n",
       "Region_encoded                          -0.1970      0.037     -5.395      0.000      -0.269      -0.125\n",
       "LMS_Available_Matching_Funds             0.1276      0.033      3.834      0.000       0.062       0.193\n",
       "========================================================================================================\n",
       "\"\"\""
      ]
     },
     "execution_count": 53,
     "metadata": {},
     "output_type": "execute_result"
    }
   ],
   "source": [
    "modelXR2 = sm.Logit(y, XR2)\n",
    "resultXR2 = modelXR2.fit()\n",
    "resultXR2.summary ()"
   ]
  },
  {
   "cell_type": "markdown",
   "metadata": {},
   "source": [
    "### GridSearch to optimize the model, using the reduced feature set"
   ]
  },
  {
   "cell_type": "markdown",
   "metadata": {},
   "source": [
    "How can we optimized the model that seems to perform the best?   We try many parameters via GridSearch."
   ]
  },
  {
   "cell_type": "markdown",
   "metadata": {},
   "source": [
    "Parameters for defining a tree:\n",
    "\n",
    "1.min_samples_split ◦Defines the minimum number of samples (or observations) which are required in a node to be considered for splitting.\n",
    "◦Used to control over-fitting. Higher values prevent a model from learning relations which might be highly specific to the particular sample selected for a tree.\n",
    "◦Too high values can lead to under-fitting hence, it should be tuned using CV.\n",
    "\n",
    "2.min_samples_leaf ◦Defines the minimum samples (or observations) required in a terminal node or leaf.\n",
    "◦Used to control over-fitting similar to min_samples_split.\n",
    "◦Generally lower values should be chosen for imbalanced class problems because the regions in which the minority class will be in majority will be very small.\n",
    "\n",
    "3.min_weight_fraction_leaf ◦Similar to min_samples_leaf but defined as a fraction of the total number of observations instead of an integer.\n",
    "◦Only one of #2 and #3 should be defined.\n",
    "\n",
    "4.max_depth ◦The maximum depth of a tree.\n",
    "◦Used to control over-fitting as higher depth will allow model to learn relations very specific to a particular sample.\n",
    "◦Should be tuned using CV.\n",
    "\n",
    "5.max_leaf_nodes ◦The maximum number of terminal nodes or leaves in a tree.\n",
    "◦Can be defined in place of max_depth. Since binary trees are created, a depth of ‘n’ would produce a maximum of 2^n leaves.\n",
    "◦If this is defined, GBM will ignore max_depth.\n",
    "\n",
    "6.max_features ◦The number of features to consider while searching for a best split. These will be randomly selected.\n",
    "◦As a thumb-rule, square root of the total number of features works great but we should check upto 30-40% of the total number of features.\n",
    "◦Higher values can lead to over-fitting but depends on case to case.\n",
    "\n",
    "Parameters for managing boosting:\n",
    "    \n",
    "1.learning_rate ◦This determines the impact of each tree on the final outcome (step 2.4). GBM works by starting with an initial estimate which is updated using the output of each tree. The learning parameter controls the magnitude of this change in the estimates.\n",
    "◦Lower values are generally preferred as they make the model robust to the specific characteristics of tree and thus allowing it to generalize well.\n",
    "◦Lower values would require higher number of trees to model all the relations and will be computationally expensive.\n",
    "\n",
    "2.n_estimators ◦The number of sequential trees to be modeled (step 2)\n",
    "◦Though GBM is fairly robust at higher number of trees but it can still overfit at a point. Hence, this should be tuned using CV for a particular learning rate.\n",
    "\n",
    "3.subsample ◦The fraction of observations to be selected for each tree. Selection is done by random sampling.\n",
    "◦Values slightly less than 1 make the model robust by reducing the variance.\n",
    "◦Typical values ~0.8 generally work fine but can be fine-tuned further.\n",
    "\n",
    "\n",
    "Miscellaneous parameters:\n",
    "    \n",
    "1.loss ◦It refers to the loss function to be minimized in each split.\n",
    "◦It can have various values for classification and regression case. Generally the default values work fine. Other values should be chosen only if you understand their impact on the model.\n",
    "\n",
    "2.init ◦This affects initialization of the output.\n",
    "◦This can be used if we have made another model whose outcome is to be used as the initial estimates for GBM.\n",
    "\n",
    "3.random_state ◦The random number seed so that same random numbers are generated every time.\n",
    "◦This is important for parameter tuning. If we don’t fix the random number, then we’ll have different outcomes for subsequent runs on the same parameters and it becomes difficult to compare models.\n",
    "◦It can potentially result in overfitting to a particular random sample selected. We can try running models for different random samples, which is computationally expensive and generally not used.\n",
    "\n",
    "4.verbose ◦The type of output to be printed when the model fits. The different values can be: ◾0: no output generated (default)\n",
    "◾1: output generated for trees in certain intervals\n",
    "◾>1: output generated for all trees\n",
    "\n",
    "\n",
    "5.warm_start ◦This parameter has an interesting application and can help a lot if used judicially.\n",
    "◦Using this, we can fit additional trees on previous fits of a model. It can save a lot of time and you should explore this option for advanced applications\n",
    "\n",
    "6.presort  ◦ Select whether to presort data for faster splits.\n",
    "◦It makes the selection automatically by default but it can be changed if needed.\n"
   ]
  },
  {
   "cell_type": "code",
   "execution_count": 55,
   "metadata": {
    "collapsed": true
   },
   "outputs": [],
   "source": [
    "from sklearn.model_selection import GridSearchCV"
   ]
  },
  {
   "cell_type": "code",
   "execution_count": 76,
   "metadata": {
    "collapsed": true
   },
   "outputs": [],
   "source": [
    "gbr_params = dict(learning_rate=np.arange(0.1, 0.5, 0.1),\n",
    "                        min_samples_split=np.arange(5,7,1),\n",
    "                        min_samples_leaf=np.arange(3,6,1),\n",
    "                        max_depth=np.arange(2, 5, 1),\n",
    "                        max_features=np.array([1, 2, 3, 4, 5, 6, 7, None, 'auto', 'sqrt', 'log2']),\n",
    "                        n_estimators=np.arange(60, 100, 20))"
   ]
  },
  {
   "cell_type": "code",
   "execution_count": 77,
   "metadata": {
    "collapsed": true
   },
   "outputs": [],
   "source": [
    "gs_gbr = GridSearchCV(estimator=GradientBoostingClassifier(), param_grid=gbr_params)"
   ]
  },
  {
   "cell_type": "code",
   "execution_count": 78,
   "metadata": {},
   "outputs": [
    {
     "data": {
      "text/plain": [
       "GridSearchCV(cv=None, error_score='raise',\n",
       "       estimator=GradientBoostingClassifier(criterion='friedman_mse', init=None,\n",
       "              learning_rate=0.1, loss='deviance', max_depth=3,\n",
       "              max_features=None, max_leaf_nodes=None,\n",
       "              min_impurity_decrease=0.0, min_impurity_split=None,\n",
       "              min_samples_leaf=1, min_samples_split=2,\n",
       "              min_weight_fraction_leaf=0.0, n_estimators=100,\n",
       "              presort='auto', random_state=None, subsample=1.0, verbose=0,\n",
       "              warm_start=False),\n",
       "       fit_params=None, iid=True, n_jobs=1,\n",
       "       param_grid={'learning_rate': array([ 0.1,  0.2,  0.3,  0.4]), 'min_samples_split': array([5, 6]), 'min_samples_leaf': array([3, 4, 5]), 'max_depth': array([2, 3, 4]), 'max_features': array([1, 2, 3, 4, 5, 6, 7, None, 'auto', 'sqrt', 'log2'], dtype=object), 'n_estimators': array([60, 80])},\n",
       "       pre_dispatch='2*n_jobs', refit=True, return_train_score='warn',\n",
       "       scoring=None, verbose=0)"
      ]
     },
     "execution_count": 78,
     "metadata": {},
     "output_type": "execute_result"
    }
   ],
   "source": [
    "gs_gbr.fit(XR_train, y_train)"
   ]
  },
  {
   "cell_type": "code",
   "execution_count": 109,
   "metadata": {},
   "outputs": [
    {
     "data": {
      "text/plain": [
       "{'learning_rate': 0.20000000000000001,\n",
       " 'max_depth': 4,\n",
       " 'max_features': 7,\n",
       " 'min_samples_leaf': 3,\n",
       " 'min_samples_split': 5,\n",
       " 'n_estimators': 80}"
      ]
     },
     "execution_count": 109,
     "metadata": {},
     "output_type": "execute_result"
    }
   ],
   "source": [
    "gs_gbr.best_params_"
   ]
  },
  {
   "cell_type": "code",
   "execution_count": 80,
   "metadata": {},
   "outputs": [
    {
     "data": {
      "text/plain": [
       "0.84072704867529269"
      ]
     },
     "execution_count": 80,
     "metadata": {},
     "output_type": "execute_result"
    }
   ],
   "source": [
    "gs_gbr.best_score_"
   ]
  },
  {
   "cell_type": "code",
   "execution_count": 110,
   "metadata": {},
   "outputs": [
    {
     "data": {
      "text/plain": [
       "GradientBoostingClassifier(criterion='friedman_mse', init=None,\n",
       "              learning_rate=0.20000000000000001, loss='deviance',\n",
       "              max_depth=4, max_features=7, max_leaf_nodes=None,\n",
       "              min_impurity_decrease=0.0, min_impurity_split=None,\n",
       "              min_samples_leaf=3, min_samples_split=5,\n",
       "              min_weight_fraction_leaf=0.0, n_estimators=80,\n",
       "              presort='auto', random_state=None, subsample=1.0, verbose=0,\n",
       "              warm_start=False)"
      ]
     },
     "execution_count": 110,
     "metadata": {},
     "output_type": "execute_result"
    }
   ],
   "source": [
    "gs_gbr.best_estimator_"
   ]
  },
  {
   "cell_type": "code",
   "execution_count": 111,
   "metadata": {},
   "outputs": [
    {
     "data": {
      "text/plain": [
       "\"\\nbest_model = GradientBoostingClassifier(criterion='friedman_mse', init=None,\\n              learning_rate=0.40000000000000002, loss='deviance',\\n              max_depth=3, max_features='log2', max_leaf_nodes=None,\\n              min_impurity_decrease=0.0, min_impurity_split=None,\\n              min_samples_leaf=1, min_samples_split=3,\\n              min_weight_fraction_leaf=0.0, n_estimators=70,\\n              presort='auto', random_state=None, subsample=1.0, verbose=0,\\n              warm_start=False)\\nbest_model.fit(XR_train, y_train)\\n\\n\""
      ]
     },
     "execution_count": 111,
     "metadata": {},
     "output_type": "execute_result"
    }
   ],
   "source": [
    "### This is the original GridSearch settings - orig Model\n",
    "\"\"\"\n",
    "best_model = GradientBoostingClassifier(criterion='friedman_mse', init=None,\n",
    "              learning_rate=0.40000000000000002, loss='deviance',\n",
    "              max_depth=3, max_features='log2', max_leaf_nodes=None,\n",
    "              min_impurity_decrease=0.0, min_impurity_split=None,\n",
    "              min_samples_leaf=1, min_samples_split=3,\n",
    "              min_weight_fraction_leaf=0.0, n_estimators=70,\n",
    "              presort='auto', random_state=None, subsample=1.0, verbose=0,\n",
    "              warm_start=False)\n",
    "best_model.fit(XR_train, y_train)\n",
    "\n",
    "\"\"\""
   ]
  },
  {
   "cell_type": "code",
   "execution_count": 107,
   "metadata": {},
   "outputs": [
    {
     "data": {
      "text/plain": [
       "GradientBoostingClassifier(criterion='friedman_mse', init=None,\n",
       "              learning_rate=0.2, loss='deviance', max_depth=4,\n",
       "              max_features=7, max_leaf_nodes=None,\n",
       "              min_impurity_decrease=0.0, min_impurity_split=None,\n",
       "              min_samples_leaf=3, min_samples_split=5,\n",
       "              min_weight_fraction_leaf=0.0, n_estimators=80,\n",
       "              presort='auto', random_state=None, subsample=1.0, verbose=0,\n",
       "              warm_start=False)"
      ]
     },
     "execution_count": 107,
     "metadata": {},
     "output_type": "execute_result"
    }
   ],
   "source": [
    "## This is GridSearch with updated settings - Model 2\n",
    "\n",
    "best_model2 = GradientBoostingClassifier(criterion='friedman_mse', init=None,\n",
    "              learning_rate=0.20000000000000001, loss='deviance',\n",
    "              max_depth=4, max_features=7, max_leaf_nodes=None,\n",
    "              min_impurity_decrease=0.0, min_impurity_split=None,\n",
    "              min_samples_leaf=3, min_samples_split=5,\n",
    "              min_weight_fraction_leaf=0.0, n_estimators=80,\n",
    "              presort='auto', random_state=None, subsample=1.0, verbose=0,\n",
    "              warm_start=False)\n",
    "best_model2.fit(XR_train, y_train)"
   ]
  },
  {
   "cell_type": "code",
   "execution_count": 108,
   "metadata": {},
   "outputs": [
    {
     "name": "stdout",
     "output_type": "stream",
     "text": [
      "Accuracy Score cross-validated:  0.834250393256\n",
      "Recall Score:  0.833125\n",
      "Precision Score average:   0.263232526882\n"
     ]
    }
   ],
   "source": [
    "best_model2.feature_importances_\n",
    "pred_best_model2 = best_model2.predict(XR_test) \n",
    "best_model2_score_acc = np.mean(cross_val_score(best_model2, XR_train, y_train, cv=5))\n",
    "best_model2_score_recall = recall_score(y_test, pred_best_model2, average='weighted')\n",
    "best_model2_score_avgprecision = average_precision_score(y_test, pred_best_model2)\n",
    "\n",
    "print(\"Accuracy Score cross-validated: \", best_model2_score_acc)\n",
    "print(\"Recall Score: \", best_model2_score_recall)\n",
    "print(\"Precision Score average:  \", best_model2_score_avgprecision)"
   ]
  },
  {
   "cell_type": "markdown",
   "metadata": {},
   "source": [
    "### Try Decision Tree Grid Search (Model 3)"
   ]
  },
  {
   "cell_type": "code",
   "execution_count": 94,
   "metadata": {
    "collapsed": true
   },
   "outputs": [],
   "source": [
    "dtr_params = dict(min_samples_split=np.arange(5,7,1),\n",
    "                        min_samples_leaf=np.arange(3,6,1),\n",
    "                        max_depth=np.arange(2, 5, 1),\n",
    "                        max_features=np.array([1, 2, 3, 4, 5, 6, 7, None, 'auto', 'sqrt', 'log2']))"
   ]
  },
  {
   "cell_type": "code",
   "execution_count": 95,
   "metadata": {
    "collapsed": true
   },
   "outputs": [],
   "source": [
    "gs_dtr = GridSearchCV(estimator=DecisionTreeClassifier(), param_grid=dtr_params)"
   ]
  },
  {
   "cell_type": "code",
   "execution_count": 96,
   "metadata": {},
   "outputs": [
    {
     "data": {
      "text/plain": [
       "GridSearchCV(cv=None, error_score='raise',\n",
       "       estimator=DecisionTreeClassifier(class_weight=None, criterion='gini', max_depth=None,\n",
       "            max_features=None, max_leaf_nodes=None,\n",
       "            min_impurity_decrease=0.0, min_impurity_split=None,\n",
       "            min_samples_leaf=1, min_samples_split=2,\n",
       "            min_weight_fraction_leaf=0.0, presort=False, random_state=None,\n",
       "            splitter='best'),\n",
       "       fit_params=None, iid=True, n_jobs=1,\n",
       "       param_grid={'min_samples_split': array([5, 6]), 'min_samples_leaf': array([3, 4, 5]), 'max_depth': array([2, 3, 4]), 'max_features': array([1, 2, 3, 4, 5, 6, 7, None, 'auto', 'sqrt', 'log2'], dtype=object)},\n",
       "       pre_dispatch='2*n_jobs', refit=True, return_train_score='warn',\n",
       "       scoring=None, verbose=0)"
      ]
     },
     "execution_count": 96,
     "metadata": {},
     "output_type": "execute_result"
    }
   ],
   "source": [
    "gs_dtr.fit(XR_train, y_train)"
   ]
  },
  {
   "cell_type": "code",
   "execution_count": 97,
   "metadata": {},
   "outputs": [
    {
     "data": {
      "text/plain": [
       "{'max_depth': 4,\n",
       " 'max_features': 7,\n",
       " 'min_samples_leaf': 3,\n",
       " 'min_samples_split': 5}"
      ]
     },
     "execution_count": 97,
     "metadata": {},
     "output_type": "execute_result"
    }
   ],
   "source": [
    "gs_dtr.best_params_"
   ]
  },
  {
   "cell_type": "code",
   "execution_count": 98,
   "metadata": {},
   "outputs": [
    {
     "data": {
      "text/plain": [
       "0.83210104744300672"
      ]
     },
     "execution_count": 98,
     "metadata": {},
     "output_type": "execute_result"
    }
   ],
   "source": [
    "gs_dtr.best_score_"
   ]
  },
  {
   "cell_type": "code",
   "execution_count": 99,
   "metadata": {},
   "outputs": [
    {
     "data": {
      "text/plain": [
       "DecisionTreeClassifier(class_weight=None, criterion='gini', max_depth=4,\n",
       "            max_features=7, max_leaf_nodes=None, min_impurity_decrease=0.0,\n",
       "            min_impurity_split=None, min_samples_leaf=3,\n",
       "            min_samples_split=5, min_weight_fraction_leaf=0.0,\n",
       "            presort=False, random_state=None, splitter='best')"
      ]
     },
     "execution_count": 99,
     "metadata": {},
     "output_type": "execute_result"
    }
   ],
   "source": [
    "gs_dtr.best_estimator_"
   ]
  },
  {
   "cell_type": "code",
   "execution_count": 100,
   "metadata": {},
   "outputs": [
    {
     "data": {
      "text/plain": [
       "DecisionTreeClassifier(class_weight=None, criterion='gini', max_depth=4,\n",
       "            max_features=7, max_leaf_nodes=None, min_impurity_decrease=0.0,\n",
       "            min_impurity_split=None, min_samples_leaf=3,\n",
       "            min_samples_split=5, min_weight_fraction_leaf=0.0,\n",
       "            presort=False, random_state=None, splitter='best')"
      ]
     },
     "execution_count": 100,
     "metadata": {},
     "output_type": "execute_result"
    }
   ],
   "source": [
    "best_model3 = DecisionTreeClassifier(class_weight=None, criterion='gini', max_depth=4,\n",
    "            max_features=7, max_leaf_nodes=None, min_impurity_decrease=0.0,\n",
    "            min_impurity_split=None, min_samples_leaf=3,\n",
    "            min_samples_split=5, min_weight_fraction_leaf=0.0,\n",
    "            presort=False, random_state=None, splitter='best')\n",
    "best_model3.fit(XR_train, y_train)"
   ]
  },
  {
   "cell_type": "code",
   "execution_count": 103,
   "metadata": {},
   "outputs": [
    {
     "name": "stdout",
     "output_type": "stream",
     "text": [
      "Accuracy Score cross-validated:  0.82192988702\n",
      "Recall Score:  0.82625\n",
      "Precision Score average:   0.183509787703\n"
     ]
    }
   ],
   "source": [
    "best_model3.feature_importances_\n",
    "pred_best_model3 = best_model3.predict(XR_test) \n",
    "best_model3_score_acc = np.mean(cross_val_score(best_model3, XR_train, y_train, cv=5))\n",
    "best_model3_score_recall = recall_score(y_test, pred_best_model3, average='weighted')\n",
    "best_model3_score_avgprecision = average_precision_score(y_test, pred_best_model3)\n",
    "\n",
    "print(\"Accuracy Score cross-validated: \", best_model3_score_acc)\n",
    "print(\"Recall Score: \", best_model3_score_recall)\n",
    "print(\"Precision Score average:  \", best_model3_score_avgprecision)"
   ]
  },
  {
   "cell_type": "markdown",
   "metadata": {},
   "source": [
    "### Run the model (reduced feature set) on ALL observations"
   ]
  },
  {
   "cell_type": "markdown",
   "metadata": {},
   "source": [
    "We trained and fitted the model with a reduced set of observations (to address the class imbalance for the label), so now we want to try the model on all observations, to learn which pharmacies it predicts as contract pharmacies for Macro Helix."
   ]
  },
  {
   "cell_type": "code",
   "execution_count": 112,
   "metadata": {
    "collapsed": true
   },
   "outputs": [],
   "source": [
    "XR_all_obs = X[['DC_Name_encoded', 'Tot_Sls_Amt', 'Msa_Dma_encoded',\n",
    "                'Salesperson_encoded', 'ST_encoded',\n",
    "                'Chain_Name_encoded','LMS_Available_Matching_Funds']] "
   ]
  },
  {
   "cell_type": "code",
   "execution_count": 113,
   "metadata": {
    "collapsed": true
   },
   "outputs": [],
   "source": [
    "pred_best_model2_all_obs = best_model2.predict(XR_all_obs)"
   ]
  },
  {
   "cell_type": "code",
   "execution_count": 117,
   "metadata": {},
   "outputs": [
    {
     "name": "stdout",
     "output_type": "stream",
     "text": [
      "Accuracy Score cross-validated:  0.178312640303\n",
      "Recall Score:  0.88196450681\n",
      "Recall Score - nt weighted:  0.410225921522\n",
      "Precision Score average:   0.438523341441\n"
     ]
    }
   ],
   "source": [
    "best_model2_all_obs_score_acc = np.mean(cross_val_score(best_model2, XR_all_obs, y, cv=5))\n",
    "best_model2_all_obs_score_recall = recall_score(y, pred_best_model2_all_obs, average='weighted')\n",
    "best_model2_all_obs_score_recall_nw = recall_score(y, pred_best_model2_all_obs) \n",
    "best_model2_all_obs_score_avgprecision = average_precision_score(y, pred_best_model2_all_obs)\n",
    "\n",
    "print(\"Accuracy Score cross-validated: \", best_model2_all_obs_score_acc)\n",
    "print(\"Recall Score: \", best_model2_all_obs_score_recall)\n",
    "print(\"Recall Score - nt weighted: \", best_model2_all_obs_score_recall_nw)\n",
    "print(\"Precision Score average:  \", best_model2_all_obs_score_avgprecision)"
   ]
  },
  {
   "cell_type": "markdown",
   "metadata": {},
   "source": [
    "Recall score is improved and is GREAT!"
   ]
  },
  {
   "cell_type": "markdown",
   "metadata": {},
   "source": [
    "### Put Actual 340B and Predicted 340B into final dataset"
   ]
  },
  {
   "cell_type": "code",
   "execution_count": 118,
   "metadata": {
    "collapsed": true
   },
   "outputs": [],
   "source": [
    "df_clean['Actual_340B'] = df_clean['340B_Active'] "
   ]
  },
  {
   "cell_type": "code",
   "execution_count": 119,
   "metadata": {
    "collapsed": true
   },
   "outputs": [],
   "source": [
    "q = pred_best_model2_all_obs"
   ]
  },
  {
   "cell_type": "code",
   "execution_count": 120,
   "metadata": {},
   "outputs": [
    {
     "name": "stdout",
     "output_type": "stream",
     "text": [
      "[[   0 4425]\n",
      " [   1  421]]\n"
     ]
    }
   ],
   "source": [
    "unique, counts = np.unique(q, return_counts=True)\n",
    "print(np.asarray((unique, counts)).T)"
   ]
  },
  {
   "cell_type": "code",
   "execution_count": 121,
   "metadata": {
    "collapsed": true
   },
   "outputs": [],
   "source": [
    "df_clean['Predicted_340B'] = pred_best_model2_all_obs           "
   ]
  },
  {
   "cell_type": "code",
   "execution_count": 122,
   "metadata": {},
   "outputs": [
    {
     "data": {
      "text/html": [
       "<div>\n",
       "<style>\n",
       "    .dataframe thead tr:only-child th {\n",
       "        text-align: right;\n",
       "    }\n",
       "\n",
       "    .dataframe thead th {\n",
       "        text-align: left;\n",
       "    }\n",
       "\n",
       "    .dataframe tbody tr th {\n",
       "        vertical-align: top;\n",
       "    }\n",
       "</style>\n",
       "<table border=\"1\" class=\"dataframe\">\n",
       "  <thead>\n",
       "    <tr style=\"text-align: right;\">\n",
       "      <th></th>\n",
       "      <th>Zip</th>\n",
       "      <th>Hm_Start_Dt</th>\n",
       "      <th>Channel_Type_Cd</th>\n",
       "      <th>Auto_Ship_Ind</th>\n",
       "      <th>Internal_Decor</th>\n",
       "      <th>Interior_Decor_Signage_Available_Funds</th>\n",
       "      <th>LMS_Enrolled</th>\n",
       "      <th>LMS_Available_Matching_Funds</th>\n",
       "      <th>LMS_Used_Funds_Most_Recent_3_Months</th>\n",
       "      <th>LMS_Used_Funds_Previous_3_Months</th>\n",
       "      <th>...</th>\n",
       "      <th>Salesperson_encoded</th>\n",
       "      <th>AH_Program_encoded</th>\n",
       "      <th>OTC_Front-end_Size_encoded</th>\n",
       "      <th>MRA_Program_Type_-_Active_AH_encoded</th>\n",
       "      <th>Msa_Dma_encoded</th>\n",
       "      <th>Signage_Program_encoded</th>\n",
       "      <th>3rd_Party_Vendor_encoded</th>\n",
       "      <th>Hospital_Associated_encoded</th>\n",
       "      <th>Actual_340B</th>\n",
       "      <th>Predicted_340B</th>\n",
       "    </tr>\n",
       "    <tr>\n",
       "      <th>Account</th>\n",
       "      <th></th>\n",
       "      <th></th>\n",
       "      <th></th>\n",
       "      <th></th>\n",
       "      <th></th>\n",
       "      <th></th>\n",
       "      <th></th>\n",
       "      <th></th>\n",
       "      <th></th>\n",
       "      <th></th>\n",
       "      <th></th>\n",
       "      <th></th>\n",
       "      <th></th>\n",
       "      <th></th>\n",
       "      <th></th>\n",
       "      <th></th>\n",
       "      <th></th>\n",
       "      <th></th>\n",
       "      <th></th>\n",
       "      <th></th>\n",
       "      <th></th>\n",
       "    </tr>\n",
       "  </thead>\n",
       "  <tbody>\n",
       "    <tr>\n",
       "      <th>10491</th>\n",
       "      <td>97463</td>\n",
       "      <td>732524</td>\n",
       "      <td>30</td>\n",
       "      <td>1</td>\n",
       "      <td>1</td>\n",
       "      <td>1724.0</td>\n",
       "      <td>1</td>\n",
       "      <td>822.0</td>\n",
       "      <td>1</td>\n",
       "      <td>1</td>\n",
       "      <td>...</td>\n",
       "      <td>1</td>\n",
       "      <td>4</td>\n",
       "      <td>1</td>\n",
       "      <td>7</td>\n",
       "      <td>183</td>\n",
       "      <td>0</td>\n",
       "      <td>18</td>\n",
       "      <td>15</td>\n",
       "      <td>0</td>\n",
       "      <td>0</td>\n",
       "    </tr>\n",
       "    <tr>\n",
       "      <th>17475</th>\n",
       "      <td>97630</td>\n",
       "      <td>732687</td>\n",
       "      <td>30</td>\n",
       "      <td>1</td>\n",
       "      <td>1</td>\n",
       "      <td>0.0</td>\n",
       "      <td>1</td>\n",
       "      <td>0.0</td>\n",
       "      <td>1</td>\n",
       "      <td>1</td>\n",
       "      <td>...</td>\n",
       "      <td>1</td>\n",
       "      <td>0</td>\n",
       "      <td>3</td>\n",
       "      <td>3</td>\n",
       "      <td>190</td>\n",
       "      <td>0</td>\n",
       "      <td>18</td>\n",
       "      <td>15</td>\n",
       "      <td>0</td>\n",
       "      <td>0</td>\n",
       "    </tr>\n",
       "    <tr>\n",
       "      <th>19901</th>\n",
       "      <td>97471</td>\n",
       "      <td>732616</td>\n",
       "      <td>30</td>\n",
       "      <td>0</td>\n",
       "      <td>1</td>\n",
       "      <td>0.0</td>\n",
       "      <td>1</td>\n",
       "      <td>0.0</td>\n",
       "      <td>1</td>\n",
       "      <td>1</td>\n",
       "      <td>...</td>\n",
       "      <td>1</td>\n",
       "      <td>0</td>\n",
       "      <td>4</td>\n",
       "      <td>2</td>\n",
       "      <td>183</td>\n",
       "      <td>0</td>\n",
       "      <td>18</td>\n",
       "      <td>15</td>\n",
       "      <td>0</td>\n",
       "      <td>0</td>\n",
       "    </tr>\n",
       "    <tr>\n",
       "      <th>309745</th>\n",
       "      <td>97467</td>\n",
       "      <td>735998</td>\n",
       "      <td>30</td>\n",
       "      <td>0</td>\n",
       "      <td>0</td>\n",
       "      <td>2500.0</td>\n",
       "      <td>1</td>\n",
       "      <td>0.0</td>\n",
       "      <td>0</td>\n",
       "      <td>0</td>\n",
       "      <td>...</td>\n",
       "      <td>1</td>\n",
       "      <td>0</td>\n",
       "      <td>1</td>\n",
       "      <td>8</td>\n",
       "      <td>183</td>\n",
       "      <td>3</td>\n",
       "      <td>18</td>\n",
       "      <td>15</td>\n",
       "      <td>0</td>\n",
       "      <td>0</td>\n",
       "    </tr>\n",
       "    <tr>\n",
       "      <th>652229</th>\n",
       "      <td>97370</td>\n",
       "      <td>734702</td>\n",
       "      <td>30</td>\n",
       "      <td>0</td>\n",
       "      <td>1</td>\n",
       "      <td>0.0</td>\n",
       "      <td>1</td>\n",
       "      <td>340.0</td>\n",
       "      <td>1</td>\n",
       "      <td>0</td>\n",
       "      <td>...</td>\n",
       "      <td>1</td>\n",
       "      <td>0</td>\n",
       "      <td>0</td>\n",
       "      <td>8</td>\n",
       "      <td>183</td>\n",
       "      <td>0</td>\n",
       "      <td>18</td>\n",
       "      <td>15</td>\n",
       "      <td>0</td>\n",
       "      <td>0</td>\n",
       "    </tr>\n",
       "  </tbody>\n",
       "</table>\n",
       "<p>5 rows × 64 columns</p>\n",
       "</div>"
      ],
      "text/plain": [
       "           Zip  Hm_Start_Dt  Channel_Type_Cd  Auto_Ship_Ind  Internal_Decor  \\\n",
       "Account                                                                       \n",
       "10491    97463       732524               30              1               1   \n",
       "17475    97630       732687               30              1               1   \n",
       "19901    97471       732616               30              0               1   \n",
       "309745   97467       735998               30              0               0   \n",
       "652229   97370       734702               30              0               1   \n",
       "\n",
       "         Interior_Decor_Signage_Available_Funds  LMS_Enrolled  \\\n",
       "Account                                                         \n",
       "10491                                    1724.0             1   \n",
       "17475                                       0.0             1   \n",
       "19901                                       0.0             1   \n",
       "309745                                   2500.0             1   \n",
       "652229                                      0.0             1   \n",
       "\n",
       "         LMS_Available_Matching_Funds  LMS_Used_Funds_Most_Recent_3_Months  \\\n",
       "Account                                                                      \n",
       "10491                           822.0                                    1   \n",
       "17475                             0.0                                    1   \n",
       "19901                             0.0                                    1   \n",
       "309745                            0.0                                    0   \n",
       "652229                          340.0                                    1   \n",
       "\n",
       "         LMS_Used_Funds_Previous_3_Months       ...        \\\n",
       "Account                                         ...         \n",
       "10491                                   1       ...         \n",
       "17475                                   1       ...         \n",
       "19901                                   1       ...         \n",
       "309745                                  0       ...         \n",
       "652229                                  0       ...         \n",
       "\n",
       "         Salesperson_encoded  AH_Program_encoded  OTC_Front-end_Size_encoded  \\\n",
       "Account                                                                        \n",
       "10491                      1                   4                           1   \n",
       "17475                      1                   0                           3   \n",
       "19901                      1                   0                           4   \n",
       "309745                     1                   0                           1   \n",
       "652229                     1                   0                           0   \n",
       "\n",
       "         MRA_Program_Type_-_Active_AH_encoded  Msa_Dma_encoded  \\\n",
       "Account                                                          \n",
       "10491                                       7              183   \n",
       "17475                                       3              190   \n",
       "19901                                       2              183   \n",
       "309745                                      8              183   \n",
       "652229                                      8              183   \n",
       "\n",
       "         Signage_Program_encoded  3rd_Party_Vendor_encoded  \\\n",
       "Account                                                      \n",
       "10491                          0                        18   \n",
       "17475                          0                        18   \n",
       "19901                          0                        18   \n",
       "309745                         3                        18   \n",
       "652229                         0                        18   \n",
       "\n",
       "         Hospital_Associated_encoded  Actual_340B  Predicted_340B  \n",
       "Account                                                            \n",
       "10491                             15            0               0  \n",
       "17475                             15            0               0  \n",
       "19901                             15            0               0  \n",
       "309745                            15            0               0  \n",
       "652229                            15            0               0  \n",
       "\n",
       "[5 rows x 64 columns]"
      ]
     },
     "execution_count": 122,
     "metadata": {},
     "output_type": "execute_result"
    }
   ],
   "source": [
    "df_clean.head()"
   ]
  },
  {
   "cell_type": "markdown",
   "metadata": {},
   "source": [
    "Save to file for the business to review predicted contract pharmacies."
   ]
  },
  {
   "cell_type": "code",
   "execution_count": null,
   "metadata": {
    "collapsed": true
   },
   "outputs": [],
   "source": [
    "df_clean.to_csv('data/340B_predictions.csv')"
   ]
  },
  {
   "cell_type": "code",
   "execution_count": null,
   "metadata": {
    "collapsed": true
   },
   "outputs": [],
   "source": [
    "len(df_clean[df_clean['Predicted_340B']==1])"
   ]
  },
  {
   "cell_type": "code",
   "execution_count": null,
   "metadata": {
    "collapsed": true
   },
   "outputs": [],
   "source": [
    "df_clean['Predicted_340B'].unique()\n",
    "df_clean['Predicted_340B'].value_counts()"
   ]
  },
  {
   "cell_type": "code",
   "execution_count": null,
   "metadata": {
    "collapsed": true
   },
   "outputs": [],
   "source": [
    "XR.shape"
   ]
  },
  {
   "cell_type": "code",
   "execution_count": null,
   "metadata": {
    "collapsed": true
   },
   "outputs": [],
   "source": [
    "X.shape"
   ]
  },
  {
   "cell_type": "code",
   "execution_count": null,
   "metadata": {
    "collapsed": true
   },
   "outputs": [],
   "source": [
    "y.shape"
   ]
  },
  {
   "cell_type": "code",
   "execution_count": null,
   "metadata": {
    "collapsed": true
   },
   "outputs": [],
   "source": [
    "XR_all_obs.shape"
   ]
  },
  {
   "cell_type": "code",
   "execution_count": null,
   "metadata": {
    "collapsed": true
   },
   "outputs": [],
   "source": []
  }
 ],
 "metadata": {
  "kernelspec": {
   "display_name": "Python 3",
   "language": "python",
   "name": "python3"
  },
  "language_info": {
   "codemirror_mode": {
    "name": "ipython",
    "version": 3
   },
   "file_extension": ".py",
   "mimetype": "text/x-python",
   "name": "python",
   "nbconvert_exporter": "python",
   "pygments_lexer": "ipython3",
   "version": "3.6.3"
  }
 },
 "nbformat": 4,
 "nbformat_minor": 2
}
