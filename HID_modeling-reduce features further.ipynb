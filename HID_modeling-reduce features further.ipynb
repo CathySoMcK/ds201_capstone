{
 "cells": [
  {
   "cell_type": "markdown",
   "metadata": {},
   "source": [
    "### Import Programs"
   ]
  },
  {
   "cell_type": "code",
   "execution_count": 1,
   "metadata": {
    "collapsed": true
   },
   "outputs": [],
   "source": [
    "%load_ext autoreload\n",
    "%autoreload 2\n",
    "%matplotlib inline"
   ]
  },
  {
   "cell_type": "code",
   "execution_count": 105,
   "metadata": {},
   "outputs": [],
   "source": [
    "import datetime as dt\n",
    "\n",
    "import pandas as pd\n",
    "from pandas import ExcelWriter\n",
    "from pandas import ExcelFile\n",
    "from pandas.core import datetools\n",
    "\n",
    "from sklearn.preprocessing import LabelEncoder\n",
    "\n",
    "import numpy as np\n",
    "\n",
    "import matplotlib.pyplot as plt\n",
    "import seaborn as sns\n",
    "\n",
    "from sklearn import tree\n",
    "from sklearn.metrics import accuracy_score\n",
    "from sklearn.model_selection import KFold\n",
    "from sklearn.model_selection import cross_val_score\n",
    "from sklearn.metrics import recall_score, average_precision_score\n",
    "from sklearn.ensemble import GradientBoostingRegressor\n",
    "from sklearn.model_selection import train_test_split\n",
    "import statsmodels.api as sm\n",
    "from statsmodels.stats.outliers_influence import variance_inflation_factor\n",
    "from sklearn.ensemble import RandomForestClassifier\n",
    "from sklearn.datasets import make_classification\n",
    "from sklearn.tree import DecisionTreeClassifier\n",
    "from sklearn.linear_model import LogisticRegression\n",
    "from sklearn.ensemble import GradientBoostingClassifier\n",
    "from sklearn.neighbors import KNeighborsClassifier"
   ]
  },
  {
   "cell_type": "markdown",
   "metadata": {},
   "source": [
    "### Import Dataset from Excel file"
   ]
  },
  {
   "cell_type": "code",
   "execution_count": 3,
   "metadata": {
    "collapsed": true
   },
   "outputs": [],
   "source": [
    "X = pd.read_csv('data/HID_features.csv')\n",
    "df_clean = pd.read_csv('data/df_clean.csv')"
   ]
  },
  {
   "cell_type": "markdown",
   "metadata": {},
   "source": [
    "### Make more balanced datasets for the label ('IS_HID')"
   ]
  },
  {
   "cell_type": "code",
   "execution_count": 4,
   "metadata": {},
   "outputs": [
    {
     "data": {
      "text/plain": [
       "Index(['Account', 'Hm_Start_Dt', 'Auto_Ship_Ind',\n",
       "       'Interior_Decor_Signage_Available_Funds', 'LMS_Enrolled',\n",
       "       'LMS_Available_Matching_Funds', 'LMS_Used_Funds_Most_Recent_3_Months',\n",
       "       'LMS_Used_Funds_Previous_3_Months', 'Open_Smart', 'PIP_Program',\n",
       "       'KYN_Training', 'PQS_Program', 'Last_EQuIPP_Login', 'PQS_Enrolled_Date',\n",
       "       'SCS_Program', 'Spar_Coverage_Ind', 'Specialty_Solutions',\n",
       "       'Vaccine_Items', 'Vaccine_Starter', 'Vaccine_Items_Count',\n",
       "       'Vaccine_Items_Sls_Amt', 'YPO', 'Tot_Sls_Amt', 'DLC_Program_encoded',\n",
       "       'FEM_Program_encoded', 'HM_Circular_Program_encoded', 'Internal_Decor',\n",
       "       'PQS_Enrolled_encoded', 'ST_encoded', 'Pog_Code_Name_encoded',\n",
       "       'DC_Name_encoded', 'Bus_Type_Desc_encoded', 'Region_encoded',\n",
       "       'PSAO_Expanded_encoded', 'Chain_Name_encoded', 'Salesperson_encoded',\n",
       "       'AH_Program_encoded', 'OTC_Front-end_Size_encoded',\n",
       "       'MRA_Program_Type_-_Active_AH_encoded', 'Msa_Dma_encoded',\n",
       "       'Signage_Program_encoded', 'Hospital_Associated_encoded'],\n",
       "      dtype='object')"
      ]
     },
     "execution_count": 4,
     "metadata": {},
     "output_type": "execute_result"
    }
   ],
   "source": [
    "X.columns"
   ]
  },
  {
   "cell_type": "code",
   "execution_count": 5,
   "metadata": {
    "collapsed": true
   },
   "outputs": [],
   "source": [
    "MH = df_clean.loc[df_clean['IS_HID'] == 1]"
   ]
  },
  {
   "cell_type": "code",
   "execution_count": 6,
   "metadata": {},
   "outputs": [
    {
     "data": {
      "text/html": [
       "<div>\n",
       "<style>\n",
       "    .dataframe thead tr:only-child th {\n",
       "        text-align: right;\n",
       "    }\n",
       "\n",
       "    .dataframe thead th {\n",
       "        text-align: left;\n",
       "    }\n",
       "\n",
       "    .dataframe tbody tr th {\n",
       "        vertical-align: top;\n",
       "    }\n",
       "</style>\n",
       "<table border=\"1\" class=\"dataframe\">\n",
       "  <thead>\n",
       "    <tr style=\"text-align: right;\">\n",
       "      <th></th>\n",
       "      <th>Account</th>\n",
       "      <th>Zip</th>\n",
       "      <th>Hm_Start_Dt</th>\n",
       "      <th>Channel_Type_Cd</th>\n",
       "      <th>Auto_Ship_Ind</th>\n",
       "      <th>Internal_Decor</th>\n",
       "      <th>Interior_Decor_Signage_Available_Funds</th>\n",
       "      <th>LMS_Enrolled</th>\n",
       "      <th>LMS_Available_Matching_Funds</th>\n",
       "      <th>LMS_Used_Funds_Most_Recent_3_Months</th>\n",
       "      <th>...</th>\n",
       "      <th>Chain_Name_encoded</th>\n",
       "      <th>Region_Name_encoded</th>\n",
       "      <th>Salesperson_encoded</th>\n",
       "      <th>AH_Program_encoded</th>\n",
       "      <th>OTC_Front-end_Size_encoded</th>\n",
       "      <th>MRA_Program_Type_-_Active_AH_encoded</th>\n",
       "      <th>Msa_Dma_encoded</th>\n",
       "      <th>Signage_Program_encoded</th>\n",
       "      <th>3rd_Party_Vendor_encoded</th>\n",
       "      <th>Hospital_Associated_encoded</th>\n",
       "    </tr>\n",
       "  </thead>\n",
       "  <tbody>\n",
       "    <tr>\n",
       "      <th>65</th>\n",
       "      <td>410092</td>\n",
       "      <td>58503</td>\n",
       "      <td>732524</td>\n",
       "      <td>30</td>\n",
       "      <td>0</td>\n",
       "      <td>1</td>\n",
       "      <td>0.0</td>\n",
       "      <td>1</td>\n",
       "      <td>0.0</td>\n",
       "      <td>1</td>\n",
       "      <td>...</td>\n",
       "      <td>38</td>\n",
       "      <td>23</td>\n",
       "      <td>10</td>\n",
       "      <td>0</td>\n",
       "      <td>5</td>\n",
       "      <td>2</td>\n",
       "      <td>139</td>\n",
       "      <td>0</td>\n",
       "      <td>6</td>\n",
       "      <td>3</td>\n",
       "    </tr>\n",
       "    <tr>\n",
       "      <th>133</th>\n",
       "      <td>363318</td>\n",
       "      <td>66434</td>\n",
       "      <td>736441</td>\n",
       "      <td>30</td>\n",
       "      <td>0</td>\n",
       "      <td>0</td>\n",
       "      <td>2500.0</td>\n",
       "      <td>1</td>\n",
       "      <td>5800.0</td>\n",
       "      <td>0</td>\n",
       "      <td>...</td>\n",
       "      <td>33</td>\n",
       "      <td>27</td>\n",
       "      <td>31</td>\n",
       "      <td>0</td>\n",
       "      <td>6</td>\n",
       "      <td>0</td>\n",
       "      <td>85</td>\n",
       "      <td>1</td>\n",
       "      <td>6</td>\n",
       "      <td>0</td>\n",
       "    </tr>\n",
       "    <tr>\n",
       "      <th>148</th>\n",
       "      <td>304550</td>\n",
       "      <td>54409</td>\n",
       "      <td>732288</td>\n",
       "      <td>30</td>\n",
       "      <td>1</td>\n",
       "      <td>1</td>\n",
       "      <td>1829.0</td>\n",
       "      <td>0</td>\n",
       "      <td>1200.0</td>\n",
       "      <td>0</td>\n",
       "      <td>...</td>\n",
       "      <td>38</td>\n",
       "      <td>23</td>\n",
       "      <td>110</td>\n",
       "      <td>0</td>\n",
       "      <td>1</td>\n",
       "      <td>3</td>\n",
       "      <td>145</td>\n",
       "      <td>0</td>\n",
       "      <td>6</td>\n",
       "      <td>0</td>\n",
       "    </tr>\n",
       "    <tr>\n",
       "      <th>149</th>\n",
       "      <td>756418</td>\n",
       "      <td>58078</td>\n",
       "      <td>733881</td>\n",
       "      <td>30</td>\n",
       "      <td>0</td>\n",
       "      <td>1</td>\n",
       "      <td>603.0</td>\n",
       "      <td>1</td>\n",
       "      <td>700.0</td>\n",
       "      <td>1</td>\n",
       "      <td>...</td>\n",
       "      <td>39</td>\n",
       "      <td>23</td>\n",
       "      <td>10</td>\n",
       "      <td>0</td>\n",
       "      <td>3</td>\n",
       "      <td>2</td>\n",
       "      <td>153</td>\n",
       "      <td>5</td>\n",
       "      <td>6</td>\n",
       "      <td>3</td>\n",
       "    </tr>\n",
       "    <tr>\n",
       "      <th>167</th>\n",
       "      <td>410068</td>\n",
       "      <td>58504</td>\n",
       "      <td>732556</td>\n",
       "      <td>30</td>\n",
       "      <td>0</td>\n",
       "      <td>1</td>\n",
       "      <td>0.0</td>\n",
       "      <td>1</td>\n",
       "      <td>0.0</td>\n",
       "      <td>1</td>\n",
       "      <td>...</td>\n",
       "      <td>38</td>\n",
       "      <td>23</td>\n",
       "      <td>10</td>\n",
       "      <td>0</td>\n",
       "      <td>5</td>\n",
       "      <td>2</td>\n",
       "      <td>139</td>\n",
       "      <td>0</td>\n",
       "      <td>6</td>\n",
       "      <td>3</td>\n",
       "    </tr>\n",
       "  </tbody>\n",
       "</table>\n",
       "<p>5 rows × 63 columns</p>\n",
       "</div>"
      ],
      "text/plain": [
       "     Account    Zip  Hm_Start_Dt  Channel_Type_Cd  Auto_Ship_Ind  \\\n",
       "65    410092  58503       732524               30              0   \n",
       "133   363318  66434       736441               30              0   \n",
       "148   304550  54409       732288               30              1   \n",
       "149   756418  58078       733881               30              0   \n",
       "167   410068  58504       732556               30              0   \n",
       "\n",
       "     Internal_Decor  Interior_Decor_Signage_Available_Funds  LMS_Enrolled  \\\n",
       "65                1                                     0.0             1   \n",
       "133               0                                  2500.0             1   \n",
       "148               1                                  1829.0             0   \n",
       "149               1                                   603.0             1   \n",
       "167               1                                     0.0             1   \n",
       "\n",
       "     LMS_Available_Matching_Funds  LMS_Used_Funds_Most_Recent_3_Months  \\\n",
       "65                            0.0                                    1   \n",
       "133                        5800.0                                    0   \n",
       "148                        1200.0                                    0   \n",
       "149                         700.0                                    1   \n",
       "167                           0.0                                    1   \n",
       "\n",
       "                ...               Chain_Name_encoded  Region_Name_encoded  \\\n",
       "65              ...                               38                   23   \n",
       "133             ...                               33                   27   \n",
       "148             ...                               38                   23   \n",
       "149             ...                               39                   23   \n",
       "167             ...                               38                   23   \n",
       "\n",
       "     Salesperson_encoded  AH_Program_encoded  OTC_Front-end_Size_encoded  \\\n",
       "65                    10                   0                           5   \n",
       "133                   31                   0                           6   \n",
       "148                  110                   0                           1   \n",
       "149                   10                   0                           3   \n",
       "167                   10                   0                           5   \n",
       "\n",
       "     MRA_Program_Type_-_Active_AH_encoded  Msa_Dma_encoded  \\\n",
       "65                                      2              139   \n",
       "133                                     0               85   \n",
       "148                                     3              145   \n",
       "149                                     2              153   \n",
       "167                                     2              139   \n",
       "\n",
       "     Signage_Program_encoded  3rd_Party_Vendor_encoded  \\\n",
       "65                         0                         6   \n",
       "133                        1                         6   \n",
       "148                        0                         6   \n",
       "149                        5                         6   \n",
       "167                        0                         6   \n",
       "\n",
       "     Hospital_Associated_encoded  \n",
       "65                             3  \n",
       "133                            0  \n",
       "148                            0  \n",
       "149                            3  \n",
       "167                            3  \n",
       "\n",
       "[5 rows x 63 columns]"
      ]
     },
     "execution_count": 6,
     "metadata": {},
     "output_type": "execute_result"
    }
   ],
   "source": [
    "MH.head()"
   ]
  },
  {
   "cell_type": "code",
   "execution_count": 7,
   "metadata": {
    "collapsed": true
   },
   "outputs": [],
   "source": [
    "NonMH = df_clean.loc[df_clean['IS_HID'] == 0]"
   ]
  },
  {
   "cell_type": "code",
   "execution_count": 8,
   "metadata": {},
   "outputs": [
    {
     "data": {
      "text/html": [
       "<div>\n",
       "<style>\n",
       "    .dataframe thead tr:only-child th {\n",
       "        text-align: right;\n",
       "    }\n",
       "\n",
       "    .dataframe thead th {\n",
       "        text-align: left;\n",
       "    }\n",
       "\n",
       "    .dataframe tbody tr th {\n",
       "        vertical-align: top;\n",
       "    }\n",
       "</style>\n",
       "<table border=\"1\" class=\"dataframe\">\n",
       "  <thead>\n",
       "    <tr style=\"text-align: right;\">\n",
       "      <th></th>\n",
       "      <th>Account</th>\n",
       "      <th>Zip</th>\n",
       "      <th>Hm_Start_Dt</th>\n",
       "      <th>Channel_Type_Cd</th>\n",
       "      <th>Auto_Ship_Ind</th>\n",
       "      <th>Internal_Decor</th>\n",
       "      <th>Interior_Decor_Signage_Available_Funds</th>\n",
       "      <th>LMS_Enrolled</th>\n",
       "      <th>LMS_Available_Matching_Funds</th>\n",
       "      <th>LMS_Used_Funds_Most_Recent_3_Months</th>\n",
       "      <th>...</th>\n",
       "      <th>Chain_Name_encoded</th>\n",
       "      <th>Region_Name_encoded</th>\n",
       "      <th>Salesperson_encoded</th>\n",
       "      <th>AH_Program_encoded</th>\n",
       "      <th>OTC_Front-end_Size_encoded</th>\n",
       "      <th>MRA_Program_Type_-_Active_AH_encoded</th>\n",
       "      <th>Msa_Dma_encoded</th>\n",
       "      <th>Signage_Program_encoded</th>\n",
       "      <th>3rd_Party_Vendor_encoded</th>\n",
       "      <th>Hospital_Associated_encoded</th>\n",
       "    </tr>\n",
       "  </thead>\n",
       "  <tbody>\n",
       "    <tr>\n",
       "      <th>0</th>\n",
       "      <td>10491</td>\n",
       "      <td>97463</td>\n",
       "      <td>732524</td>\n",
       "      <td>30</td>\n",
       "      <td>1</td>\n",
       "      <td>1</td>\n",
       "      <td>1724.0</td>\n",
       "      <td>1</td>\n",
       "      <td>822.0</td>\n",
       "      <td>1</td>\n",
       "      <td>...</td>\n",
       "      <td>39</td>\n",
       "      <td>23</td>\n",
       "      <td>1</td>\n",
       "      <td>4</td>\n",
       "      <td>1</td>\n",
       "      <td>7</td>\n",
       "      <td>183</td>\n",
       "      <td>0</td>\n",
       "      <td>18</td>\n",
       "      <td>15</td>\n",
       "    </tr>\n",
       "    <tr>\n",
       "      <th>1</th>\n",
       "      <td>17475</td>\n",
       "      <td>97630</td>\n",
       "      <td>732687</td>\n",
       "      <td>30</td>\n",
       "      <td>1</td>\n",
       "      <td>1</td>\n",
       "      <td>0.0</td>\n",
       "      <td>1</td>\n",
       "      <td>0.0</td>\n",
       "      <td>1</td>\n",
       "      <td>...</td>\n",
       "      <td>39</td>\n",
       "      <td>23</td>\n",
       "      <td>1</td>\n",
       "      <td>0</td>\n",
       "      <td>3</td>\n",
       "      <td>3</td>\n",
       "      <td>190</td>\n",
       "      <td>0</td>\n",
       "      <td>18</td>\n",
       "      <td>15</td>\n",
       "    </tr>\n",
       "    <tr>\n",
       "      <th>2</th>\n",
       "      <td>19901</td>\n",
       "      <td>97471</td>\n",
       "      <td>732616</td>\n",
       "      <td>30</td>\n",
       "      <td>0</td>\n",
       "      <td>1</td>\n",
       "      <td>0.0</td>\n",
       "      <td>1</td>\n",
       "      <td>0.0</td>\n",
       "      <td>1</td>\n",
       "      <td>...</td>\n",
       "      <td>39</td>\n",
       "      <td>23</td>\n",
       "      <td>1</td>\n",
       "      <td>0</td>\n",
       "      <td>4</td>\n",
       "      <td>2</td>\n",
       "      <td>183</td>\n",
       "      <td>0</td>\n",
       "      <td>18</td>\n",
       "      <td>15</td>\n",
       "    </tr>\n",
       "    <tr>\n",
       "      <th>3</th>\n",
       "      <td>309745</td>\n",
       "      <td>97467</td>\n",
       "      <td>735998</td>\n",
       "      <td>30</td>\n",
       "      <td>0</td>\n",
       "      <td>0</td>\n",
       "      <td>2500.0</td>\n",
       "      <td>1</td>\n",
       "      <td>0.0</td>\n",
       "      <td>0</td>\n",
       "      <td>...</td>\n",
       "      <td>39</td>\n",
       "      <td>23</td>\n",
       "      <td>1</td>\n",
       "      <td>0</td>\n",
       "      <td>1</td>\n",
       "      <td>8</td>\n",
       "      <td>183</td>\n",
       "      <td>3</td>\n",
       "      <td>18</td>\n",
       "      <td>15</td>\n",
       "    </tr>\n",
       "    <tr>\n",
       "      <th>4</th>\n",
       "      <td>652229</td>\n",
       "      <td>97370</td>\n",
       "      <td>734702</td>\n",
       "      <td>30</td>\n",
       "      <td>0</td>\n",
       "      <td>1</td>\n",
       "      <td>0.0</td>\n",
       "      <td>1</td>\n",
       "      <td>340.0</td>\n",
       "      <td>1</td>\n",
       "      <td>...</td>\n",
       "      <td>38</td>\n",
       "      <td>23</td>\n",
       "      <td>1</td>\n",
       "      <td>0</td>\n",
       "      <td>0</td>\n",
       "      <td>8</td>\n",
       "      <td>183</td>\n",
       "      <td>0</td>\n",
       "      <td>18</td>\n",
       "      <td>15</td>\n",
       "    </tr>\n",
       "  </tbody>\n",
       "</table>\n",
       "<p>5 rows × 63 columns</p>\n",
       "</div>"
      ],
      "text/plain": [
       "   Account    Zip  Hm_Start_Dt  Channel_Type_Cd  Auto_Ship_Ind  \\\n",
       "0    10491  97463       732524               30              1   \n",
       "1    17475  97630       732687               30              1   \n",
       "2    19901  97471       732616               30              0   \n",
       "3   309745  97467       735998               30              0   \n",
       "4   652229  97370       734702               30              0   \n",
       "\n",
       "   Internal_Decor  Interior_Decor_Signage_Available_Funds  LMS_Enrolled  \\\n",
       "0               1                                  1724.0             1   \n",
       "1               1                                     0.0             1   \n",
       "2               1                                     0.0             1   \n",
       "3               0                                  2500.0             1   \n",
       "4               1                                     0.0             1   \n",
       "\n",
       "   LMS_Available_Matching_Funds  LMS_Used_Funds_Most_Recent_3_Months  \\\n",
       "0                         822.0                                    1   \n",
       "1                           0.0                                    1   \n",
       "2                           0.0                                    1   \n",
       "3                           0.0                                    0   \n",
       "4                         340.0                                    1   \n",
       "\n",
       "              ...               Chain_Name_encoded  Region_Name_encoded  \\\n",
       "0             ...                               39                   23   \n",
       "1             ...                               39                   23   \n",
       "2             ...                               39                   23   \n",
       "3             ...                               39                   23   \n",
       "4             ...                               38                   23   \n",
       "\n",
       "   Salesperson_encoded  AH_Program_encoded  OTC_Front-end_Size_encoded  \\\n",
       "0                    1                   4                           1   \n",
       "1                    1                   0                           3   \n",
       "2                    1                   0                           4   \n",
       "3                    1                   0                           1   \n",
       "4                    1                   0                           0   \n",
       "\n",
       "   MRA_Program_Type_-_Active_AH_encoded  Msa_Dma_encoded  \\\n",
       "0                                     7              183   \n",
       "1                                     3              190   \n",
       "2                                     2              183   \n",
       "3                                     8              183   \n",
       "4                                     8              183   \n",
       "\n",
       "   Signage_Program_encoded  3rd_Party_Vendor_encoded  \\\n",
       "0                        0                        18   \n",
       "1                        0                        18   \n",
       "2                        0                        18   \n",
       "3                        3                        18   \n",
       "4                        0                        18   \n",
       "\n",
       "   Hospital_Associated_encoded  \n",
       "0                           15  \n",
       "1                           15  \n",
       "2                           15  \n",
       "3                           15  \n",
       "4                           15  \n",
       "\n",
       "[5 rows x 63 columns]"
      ]
     },
     "execution_count": 8,
     "metadata": {},
     "output_type": "execute_result"
    }
   ],
   "source": [
    "NonMH.head()"
   ]
  },
  {
   "cell_type": "code",
   "execution_count": 9,
   "metadata": {
    "collapsed": true
   },
   "outputs": [],
   "source": [
    "NonMHsample1 = NonMH.sample(n=1000)\n",
    "dfsample1 = MH.append(NonMHsample1)"
   ]
  },
  {
   "cell_type": "code",
   "execution_count": 10,
   "metadata": {
    "collapsed": true
   },
   "outputs": [],
   "source": [
    "NonMHsample2 = NonMH.sample(n=1000)\n",
    "dfsample2 = MH.append(NonMHsample2)"
   ]
  },
  {
   "cell_type": "code",
   "execution_count": 11,
   "metadata": {
    "collapsed": true
   },
   "outputs": [],
   "source": [
    "NonMHsample3 = NonMH.sample(n=1000)\n",
    "dfsample3 = MH.append(NonMHsample3)"
   ]
  },
  {
   "cell_type": "code",
   "execution_count": 12,
   "metadata": {
    "collapsed": true
   },
   "outputs": [],
   "source": [
    "NonMHsample4 = NonMH.sample(n=1000)\n",
    "dfsample4 = MH.append(NonMHsample4)"
   ]
  },
  {
   "cell_type": "code",
   "execution_count": 13,
   "metadata": {
    "collapsed": true
   },
   "outputs": [],
   "source": [
    "NonMHsample5 = NonMH.sample(n=1000)\n",
    "dfsample5 = MH.append(NonMHsample5)"
   ]
  },
  {
   "cell_type": "code",
   "execution_count": 14,
   "metadata": {},
   "outputs": [
    {
     "data": {
      "text/html": [
       "<div>\n",
       "<style>\n",
       "    .dataframe thead tr:only-child th {\n",
       "        text-align: right;\n",
       "    }\n",
       "\n",
       "    .dataframe thead th {\n",
       "        text-align: left;\n",
       "    }\n",
       "\n",
       "    .dataframe tbody tr th {\n",
       "        vertical-align: top;\n",
       "    }\n",
       "</style>\n",
       "<table border=\"1\" class=\"dataframe\">\n",
       "  <thead>\n",
       "    <tr style=\"text-align: right;\">\n",
       "      <th></th>\n",
       "      <th>Account</th>\n",
       "      <th>Zip</th>\n",
       "      <th>Hm_Start_Dt</th>\n",
       "      <th>Channel_Type_Cd</th>\n",
       "      <th>Auto_Ship_Ind</th>\n",
       "      <th>Internal_Decor</th>\n",
       "      <th>Interior_Decor_Signage_Available_Funds</th>\n",
       "      <th>LMS_Enrolled</th>\n",
       "      <th>LMS_Available_Matching_Funds</th>\n",
       "      <th>LMS_Used_Funds_Most_Recent_3_Months</th>\n",
       "      <th>...</th>\n",
       "      <th>Chain_Name_encoded</th>\n",
       "      <th>Region_Name_encoded</th>\n",
       "      <th>Salesperson_encoded</th>\n",
       "      <th>AH_Program_encoded</th>\n",
       "      <th>OTC_Front-end_Size_encoded</th>\n",
       "      <th>MRA_Program_Type_-_Active_AH_encoded</th>\n",
       "      <th>Msa_Dma_encoded</th>\n",
       "      <th>Signage_Program_encoded</th>\n",
       "      <th>3rd_Party_Vendor_encoded</th>\n",
       "      <th>Hospital_Associated_encoded</th>\n",
       "    </tr>\n",
       "  </thead>\n",
       "  <tbody>\n",
       "    <tr>\n",
       "      <th>65</th>\n",
       "      <td>410092</td>\n",
       "      <td>58503</td>\n",
       "      <td>732524</td>\n",
       "      <td>30</td>\n",
       "      <td>0</td>\n",
       "      <td>1</td>\n",
       "      <td>0.0</td>\n",
       "      <td>1</td>\n",
       "      <td>0.0</td>\n",
       "      <td>1</td>\n",
       "      <td>...</td>\n",
       "      <td>38</td>\n",
       "      <td>23</td>\n",
       "      <td>10</td>\n",
       "      <td>0</td>\n",
       "      <td>5</td>\n",
       "      <td>2</td>\n",
       "      <td>139</td>\n",
       "      <td>0</td>\n",
       "      <td>6</td>\n",
       "      <td>3</td>\n",
       "    </tr>\n",
       "    <tr>\n",
       "      <th>133</th>\n",
       "      <td>363318</td>\n",
       "      <td>66434</td>\n",
       "      <td>736441</td>\n",
       "      <td>30</td>\n",
       "      <td>0</td>\n",
       "      <td>0</td>\n",
       "      <td>2500.0</td>\n",
       "      <td>1</td>\n",
       "      <td>5800.0</td>\n",
       "      <td>0</td>\n",
       "      <td>...</td>\n",
       "      <td>33</td>\n",
       "      <td>27</td>\n",
       "      <td>31</td>\n",
       "      <td>0</td>\n",
       "      <td>6</td>\n",
       "      <td>0</td>\n",
       "      <td>85</td>\n",
       "      <td>1</td>\n",
       "      <td>6</td>\n",
       "      <td>0</td>\n",
       "    </tr>\n",
       "    <tr>\n",
       "      <th>148</th>\n",
       "      <td>304550</td>\n",
       "      <td>54409</td>\n",
       "      <td>732288</td>\n",
       "      <td>30</td>\n",
       "      <td>1</td>\n",
       "      <td>1</td>\n",
       "      <td>1829.0</td>\n",
       "      <td>0</td>\n",
       "      <td>1200.0</td>\n",
       "      <td>0</td>\n",
       "      <td>...</td>\n",
       "      <td>38</td>\n",
       "      <td>23</td>\n",
       "      <td>110</td>\n",
       "      <td>0</td>\n",
       "      <td>1</td>\n",
       "      <td>3</td>\n",
       "      <td>145</td>\n",
       "      <td>0</td>\n",
       "      <td>6</td>\n",
       "      <td>0</td>\n",
       "    </tr>\n",
       "    <tr>\n",
       "      <th>149</th>\n",
       "      <td>756418</td>\n",
       "      <td>58078</td>\n",
       "      <td>733881</td>\n",
       "      <td>30</td>\n",
       "      <td>0</td>\n",
       "      <td>1</td>\n",
       "      <td>603.0</td>\n",
       "      <td>1</td>\n",
       "      <td>700.0</td>\n",
       "      <td>1</td>\n",
       "      <td>...</td>\n",
       "      <td>39</td>\n",
       "      <td>23</td>\n",
       "      <td>10</td>\n",
       "      <td>0</td>\n",
       "      <td>3</td>\n",
       "      <td>2</td>\n",
       "      <td>153</td>\n",
       "      <td>5</td>\n",
       "      <td>6</td>\n",
       "      <td>3</td>\n",
       "    </tr>\n",
       "    <tr>\n",
       "      <th>167</th>\n",
       "      <td>410068</td>\n",
       "      <td>58504</td>\n",
       "      <td>732556</td>\n",
       "      <td>30</td>\n",
       "      <td>0</td>\n",
       "      <td>1</td>\n",
       "      <td>0.0</td>\n",
       "      <td>1</td>\n",
       "      <td>0.0</td>\n",
       "      <td>1</td>\n",
       "      <td>...</td>\n",
       "      <td>38</td>\n",
       "      <td>23</td>\n",
       "      <td>10</td>\n",
       "      <td>0</td>\n",
       "      <td>5</td>\n",
       "      <td>2</td>\n",
       "      <td>139</td>\n",
       "      <td>0</td>\n",
       "      <td>6</td>\n",
       "      <td>3</td>\n",
       "    </tr>\n",
       "  </tbody>\n",
       "</table>\n",
       "<p>5 rows × 63 columns</p>\n",
       "</div>"
      ],
      "text/plain": [
       "     Account    Zip  Hm_Start_Dt  Channel_Type_Cd  Auto_Ship_Ind  \\\n",
       "65    410092  58503       732524               30              0   \n",
       "133   363318  66434       736441               30              0   \n",
       "148   304550  54409       732288               30              1   \n",
       "149   756418  58078       733881               30              0   \n",
       "167   410068  58504       732556               30              0   \n",
       "\n",
       "     Internal_Decor  Interior_Decor_Signage_Available_Funds  LMS_Enrolled  \\\n",
       "65                1                                     0.0             1   \n",
       "133               0                                  2500.0             1   \n",
       "148               1                                  1829.0             0   \n",
       "149               1                                   603.0             1   \n",
       "167               1                                     0.0             1   \n",
       "\n",
       "     LMS_Available_Matching_Funds  LMS_Used_Funds_Most_Recent_3_Months  \\\n",
       "65                            0.0                                    1   \n",
       "133                        5800.0                                    0   \n",
       "148                        1200.0                                    0   \n",
       "149                         700.0                                    1   \n",
       "167                           0.0                                    1   \n",
       "\n",
       "                ...               Chain_Name_encoded  Region_Name_encoded  \\\n",
       "65              ...                               38                   23   \n",
       "133             ...                               33                   27   \n",
       "148             ...                               38                   23   \n",
       "149             ...                               39                   23   \n",
       "167             ...                               38                   23   \n",
       "\n",
       "     Salesperson_encoded  AH_Program_encoded  OTC_Front-end_Size_encoded  \\\n",
       "65                    10                   0                           5   \n",
       "133                   31                   0                           6   \n",
       "148                  110                   0                           1   \n",
       "149                   10                   0                           3   \n",
       "167                   10                   0                           5   \n",
       "\n",
       "     MRA_Program_Type_-_Active_AH_encoded  Msa_Dma_encoded  \\\n",
       "65                                      2              139   \n",
       "133                                     0               85   \n",
       "148                                     3              145   \n",
       "149                                     2              153   \n",
       "167                                     2              139   \n",
       "\n",
       "     Signage_Program_encoded  3rd_Party_Vendor_encoded  \\\n",
       "65                         0                         6   \n",
       "133                        1                         6   \n",
       "148                        0                         6   \n",
       "149                        5                         6   \n",
       "167                        0                         6   \n",
       "\n",
       "     Hospital_Associated_encoded  \n",
       "65                             3  \n",
       "133                            0  \n",
       "148                            0  \n",
       "149                            3  \n",
       "167                            3  \n",
       "\n",
       "[5 rows x 63 columns]"
      ]
     },
     "execution_count": 14,
     "metadata": {},
     "output_type": "execute_result"
    }
   ],
   "source": [
    "dfsample1.head()"
   ]
  },
  {
   "cell_type": "code",
   "execution_count": 15,
   "metadata": {
    "collapsed": true
   },
   "outputs": [],
   "source": [
    "X1 = dfsample1[['Auto_Ship_Ind', 'Interior_Decor_Signage_Available_Funds',\n",
    "       'LMS_Enrolled', 'LMS_Available_Matching_Funds',\n",
    "       'LMS_Used_Funds_Most_Recent_3_Months',\n",
    "       'LMS_Used_Funds_Previous_3_Months', 'Open_Smart', 'PIP_Program',\n",
    "       'PQS_Program', 'SCS_Program', 'Spar_Coverage_Ind',\n",
    "       'Specialty_Solutions', 'Vaccine_Items', 'Vaccine_Starter',\n",
    "       'Vaccine_Items_Count', 'Vaccine_Items_Sls_Amt', 'YPO', 'Tot_Sls_Amt',\n",
    "       'DLC_Program_encoded', 'FEM_Program_encoded',\n",
    "       'HM_Circular_Program_encoded', 'Internal_Decor', 'PQS_Enrolled_encoded',\n",
    "       'ST_encoded', 'Pog_Code_Name_encoded', 'DC_Name_encoded',\n",
    "       'Bus_Type_Desc_encoded', 'Region_encoded', 'PSAO_Expanded_encoded',\n",
    "       'Chain_Name_encoded', 'Salesperson_encoded', 'AH_Program_encoded',\n",
    "       'OTC_Front-end_Size_encoded', 'MRA_Program_Type_-_Active_AH_encoded',\n",
    "       'Msa_Dma_encoded', 'Signage_Program_encoded',\n",
    "       'Hospital_Associated_encoded']]"
   ]
  },
  {
   "cell_type": "code",
   "execution_count": 16,
   "metadata": {
    "collapsed": true
   },
   "outputs": [],
   "source": [
    "X2 = dfsample2[['Auto_Ship_Ind', 'Interior_Decor_Signage_Available_Funds',\n",
    "       'LMS_Enrolled', 'LMS_Available_Matching_Funds',\n",
    "       'LMS_Used_Funds_Most_Recent_3_Months',\n",
    "       'LMS_Used_Funds_Previous_3_Months', 'Open_Smart', 'PIP_Program',\n",
    "       'PQS_Program', 'SCS_Program', 'Spar_Coverage_Ind',\n",
    "       'Specialty_Solutions', 'Vaccine_Items', 'Vaccine_Starter',\n",
    "       'Vaccine_Items_Count', 'Vaccine_Items_Sls_Amt', 'YPO', 'Tot_Sls_Amt',\n",
    "       'DLC_Program_encoded', 'FEM_Program_encoded',\n",
    "       'HM_Circular_Program_encoded', 'Internal_Decor', 'PQS_Enrolled_encoded',\n",
    "       'ST_encoded', 'Pog_Code_Name_encoded', 'DC_Name_encoded',\n",
    "       'Bus_Type_Desc_encoded', 'Region_encoded', 'PSAO_Expanded_encoded',\n",
    "       'Chain_Name_encoded', 'Salesperson_encoded', 'AH_Program_encoded',\n",
    "       'OTC_Front-end_Size_encoded', 'MRA_Program_Type_-_Active_AH_encoded',\n",
    "       'Msa_Dma_encoded', 'Signage_Program_encoded',\n",
    "       'Hospital_Associated_encoded']]"
   ]
  },
  {
   "cell_type": "code",
   "execution_count": 17,
   "metadata": {
    "collapsed": true
   },
   "outputs": [],
   "source": [
    "X3 = dfsample3[['Auto_Ship_Ind', 'Interior_Decor_Signage_Available_Funds',\n",
    "       'LMS_Enrolled', 'LMS_Available_Matching_Funds',\n",
    "       'LMS_Used_Funds_Most_Recent_3_Months',\n",
    "       'LMS_Used_Funds_Previous_3_Months', 'Open_Smart', 'PIP_Program',\n",
    "       'PQS_Program', 'SCS_Program', 'Spar_Coverage_Ind',\n",
    "       'Specialty_Solutions', 'Vaccine_Items', 'Vaccine_Starter',\n",
    "       'Vaccine_Items_Count', 'Vaccine_Items_Sls_Amt', 'YPO', 'Tot_Sls_Amt',\n",
    "       'DLC_Program_encoded', 'FEM_Program_encoded',\n",
    "       'HM_Circular_Program_encoded', 'Internal_Decor', 'PQS_Enrolled_encoded',\n",
    "       'ST_encoded', 'Pog_Code_Name_encoded', 'DC_Name_encoded',\n",
    "       'Bus_Type_Desc_encoded', 'Region_encoded', 'PSAO_Expanded_encoded',\n",
    "       'Chain_Name_encoded', 'Salesperson_encoded', 'AH_Program_encoded',\n",
    "       'OTC_Front-end_Size_encoded', 'MRA_Program_Type_-_Active_AH_encoded',\n",
    "       'Msa_Dma_encoded', 'Signage_Program_encoded',\n",
    "       'Hospital_Associated_encoded']]"
   ]
  },
  {
   "cell_type": "code",
   "execution_count": 18,
   "metadata": {
    "collapsed": true
   },
   "outputs": [],
   "source": [
    "X4 = dfsample4[['Auto_Ship_Ind', 'Interior_Decor_Signage_Available_Funds',\n",
    "       'LMS_Enrolled', 'LMS_Available_Matching_Funds',\n",
    "       'LMS_Used_Funds_Most_Recent_3_Months',\n",
    "       'LMS_Used_Funds_Previous_3_Months', 'Open_Smart', 'PIP_Program',\n",
    "       'PQS_Program', 'SCS_Program', 'Spar_Coverage_Ind',\n",
    "       'Specialty_Solutions', 'Vaccine_Items', 'Vaccine_Starter',\n",
    "       'Vaccine_Items_Count', 'Vaccine_Items_Sls_Amt', 'YPO', 'Tot_Sls_Amt',\n",
    "       'DLC_Program_encoded', 'FEM_Program_encoded',\n",
    "       'HM_Circular_Program_encoded', 'Internal_Decor', 'PQS_Enrolled_encoded',\n",
    "       'ST_encoded', 'Pog_Code_Name_encoded', 'DC_Name_encoded',\n",
    "       'Bus_Type_Desc_encoded', 'Region_encoded', 'PSAO_Expanded_encoded',\n",
    "       'Chain_Name_encoded', 'Salesperson_encoded', 'AH_Program_encoded',\n",
    "       'OTC_Front-end_Size_encoded', 'MRA_Program_Type_-_Active_AH_encoded',\n",
    "       'Msa_Dma_encoded', 'Signage_Program_encoded',\n",
    "       'Hospital_Associated_encoded']]"
   ]
  },
  {
   "cell_type": "code",
   "execution_count": 19,
   "metadata": {
    "collapsed": true
   },
   "outputs": [],
   "source": [
    "X5 = dfsample5[['Auto_Ship_Ind', 'Interior_Decor_Signage_Available_Funds',\n",
    "       'LMS_Enrolled', 'LMS_Available_Matching_Funds',\n",
    "       'LMS_Used_Funds_Most_Recent_3_Months',\n",
    "       'LMS_Used_Funds_Previous_3_Months', 'Open_Smart', 'PIP_Program',\n",
    "       'PQS_Program', 'SCS_Program', 'Spar_Coverage_Ind',\n",
    "       'Specialty_Solutions', 'Vaccine_Items', 'Vaccine_Starter',\n",
    "       'Vaccine_Items_Count', 'Vaccine_Items_Sls_Amt', 'YPO', 'Tot_Sls_Amt',\n",
    "       'DLC_Program_encoded', 'FEM_Program_encoded',\n",
    "       'HM_Circular_Program_encoded', 'Internal_Decor', 'PQS_Enrolled_encoded',\n",
    "       'ST_encoded', 'Pog_Code_Name_encoded', 'DC_Name_encoded',\n",
    "       'Bus_Type_Desc_encoded', 'Region_encoded', 'PSAO_Expanded_encoded',\n",
    "       'Chain_Name_encoded', 'Salesperson_encoded', 'AH_Program_encoded',\n",
    "       'OTC_Front-end_Size_encoded', 'MRA_Program_Type_-_Active_AH_encoded',\n",
    "       'Msa_Dma_encoded', 'Signage_Program_encoded',\n",
    "       'Hospital_Associated_encoded']]"
   ]
  },
  {
   "cell_type": "code",
   "execution_count": 20,
   "metadata": {
    "collapsed": true
   },
   "outputs": [],
   "source": [
    "y = df_clean['IS_HID']"
   ]
  },
  {
   "cell_type": "code",
   "execution_count": 21,
   "metadata": {
    "collapsed": true
   },
   "outputs": [],
   "source": [
    "y_small = dfsample1['IS_HID']"
   ]
  },
  {
   "cell_type": "markdown",
   "metadata": {},
   "source": [
    "### Try some models"
   ]
  },
  {
   "cell_type": "code",
   "execution_count": 123,
   "metadata": {
    "collapsed": true
   },
   "outputs": [],
   "source": [
    "# split the data\n",
    "\n",
    "X_train, X_test, y_train, y_test = train_test_split(X1, y_small, test_size=0.33, random_state=42)"
   ]
  },
  {
   "cell_type": "code",
   "execution_count": 124,
   "metadata": {},
   "outputs": [
    {
     "name": "stdout",
     "output_type": "stream",
     "text": [
      "0.316785352414 0.943444730077 0.673827674852\n"
     ]
    }
   ],
   "source": [
    "# random forest\n",
    "\n",
    "rf = RandomForestClassifier()\n",
    "rf.fit(X_train, y_train)\n",
    "rf.feature_importances_\n",
    "pred_rf = rf.predict(X_test) \n",
    "rf_score_r2 = np.mean(cross_val_score(rf, X_train, y_train, scoring='r2', cv=5))\n",
    "rf_score_recall = recall_score(y_test, pred_rf, average='weighted')\n",
    "rf_score_avgprecision = average_precision_score(y_test, pred_rf)\n",
    "print(rf_score_r2, rf_score_recall, rf_score_avgprecision)"
   ]
  },
  {
   "cell_type": "code",
   "execution_count": 125,
   "metadata": {
    "scrolled": true
   },
   "outputs": [
    {
     "name": "stdout",
     "output_type": "stream",
     "text": [
      "                                        Feature Importance\n",
      "Auto_Ship_Ind                                     0.007985\n",
      "Interior_Decor_Signage_Available_Funds            0.016651\n",
      "LMS_Enrolled                                      0.003265\n",
      "LMS_Available_Matching_Funds                      0.030432\n",
      "LMS_Used_Funds_Most_Recent_3_Months               0.002907\n",
      "LMS_Used_Funds_Previous_3_Months                  0.006047\n",
      "Open_Smart                                        0.001527\n",
      "PIP_Program                                       0.006682\n",
      "PQS_Program                                       0.000779\n",
      "SCS_Program                                       0.017146\n",
      "Spar_Coverage_Ind                                 0.009245\n",
      "Specialty_Solutions                               0.001679\n",
      "Vaccine_Items                                     0.009890\n",
      "Vaccine_Starter                                   0.002981\n",
      "Vaccine_Items_Count                               0.013676\n",
      "Vaccine_Items_Sls_Amt                             0.012537\n",
      "YPO                                               0.007486\n",
      "Tot_Sls_Amt                                       0.046473\n",
      "DLC_Program_encoded                               0.019628\n",
      "FEM_Program_encoded                               0.015047\n",
      "HM_Circular_Program_encoded                       0.003397\n",
      "Internal_Decor                                    0.007083\n",
      "PQS_Enrolled_encoded                              0.004442\n",
      "ST_encoded                                        0.055377\n",
      "Pog_Code_Name_encoded                             0.009498\n",
      "DC_Name_encoded                                   0.039812\n",
      "Bus_Type_Desc_encoded                             0.024491\n",
      "Region_encoded                                    0.054484\n",
      "PSAO_Expanded_encoded                             0.006751\n",
      "Chain_Name_encoded                                0.053078\n",
      "Salesperson_encoded                               0.034343\n",
      "AH_Program_encoded                                0.002367\n",
      "OTC_Front-end_Size_encoded                        0.033772\n",
      "MRA_Program_Type_-_Active_AH_encoded              0.037650\n",
      "Msa_Dma_encoded                                   0.063120\n",
      "Signage_Program_encoded                           0.032942\n",
      "Hospital_Associated_encoded                       0.305329\n"
     ]
    }
   ],
   "source": [
    "feature_imp_rf = pd.DataFrame({'Feature Importance' : rf.feature_importances_}, index=X1.columns)\n",
    "print(feature_imp_rf)"
   ]
  },
  {
   "cell_type": "code",
   "execution_count": 126,
   "metadata": {},
   "outputs": [
    {
     "name": "stdout",
     "output_type": "stream",
     "text": [
      "0.269150162883 0.917737789203 0.56125106057\n"
     ]
    }
   ],
   "source": [
    "# decision tree\n",
    "\n",
    "dt = DecisionTreeClassifier()\n",
    "dt.fit(X_train, y_train)\n",
    "dt.feature_importances_\n",
    "pred_dt = dt.predict(X_test) \n",
    "dt_score_r2 = np.mean(cross_val_score(dt, X_train, y_train, scoring='r2', cv=5))\n",
    "dt_score_recall = recall_score(y_test, pred_dt, average='weighted')\n",
    "dt_score_avgprecision = average_precision_score(y_test, pred_dt)\n",
    "print(dt_score_r2, dt_score_recall, dt_score_avgprecision)"
   ]
  },
  {
   "cell_type": "code",
   "execution_count": 127,
   "metadata": {},
   "outputs": [
    {
     "name": "stdout",
     "output_type": "stream",
     "text": [
      "                                        Feature Importance\n",
      "Auto_Ship_Ind                                     0.000000\n",
      "Interior_Decor_Signage_Available_Funds            0.027444\n",
      "LMS_Enrolled                                      0.000000\n",
      "LMS_Available_Matching_Funds                      0.017091\n",
      "LMS_Used_Funds_Most_Recent_3_Months               0.000000\n",
      "LMS_Used_Funds_Previous_3_Months                  0.000000\n",
      "Open_Smart                                        0.000000\n",
      "PIP_Program                                       0.007199\n",
      "PQS_Program                                       0.000000\n",
      "SCS_Program                                       0.000000\n",
      "Spar_Coverage_Ind                                 0.000000\n",
      "Specialty_Solutions                               0.000000\n",
      "Vaccine_Items                                     0.014022\n",
      "Vaccine_Starter                                   0.000000\n",
      "Vaccine_Items_Count                               0.016768\n",
      "Vaccine_Items_Sls_Amt                             0.012726\n",
      "YPO                                               0.000000\n",
      "Tot_Sls_Amt                                       0.004949\n",
      "DLC_Program_encoded                               0.016220\n",
      "FEM_Program_encoded                               0.004188\n",
      "HM_Circular_Program_encoded                       0.015101\n",
      "Internal_Decor                                    0.000000\n",
      "PQS_Enrolled_encoded                              0.000000\n",
      "ST_encoded                                        0.013198\n",
      "Pog_Code_Name_encoded                             0.000000\n",
      "DC_Name_encoded                                   0.017361\n",
      "Bus_Type_Desc_encoded                             0.000000\n",
      "Region_encoded                                    0.000000\n",
      "PSAO_Expanded_encoded                             0.002821\n",
      "Chain_Name_encoded                                0.076819\n",
      "Salesperson_encoded                               0.043188\n",
      "AH_Program_encoded                                0.004949\n",
      "OTC_Front-end_Size_encoded                        0.029035\n",
      "MRA_Program_Type_-_Active_AH_encoded              0.008484\n",
      "Msa_Dma_encoded                                   0.050486\n",
      "Signage_Program_encoded                           0.008065\n",
      "Hospital_Associated_encoded                       0.609886\n"
     ]
    }
   ],
   "source": [
    "feature_imp_dt = pd.DataFrame({'Feature Importance' : dt.feature_importances_}, index=X1.columns)\n",
    "print(feature_imp_dt)"
   ]
  },
  {
   "cell_type": "code",
   "execution_count": 128,
   "metadata": {},
   "outputs": [
    {
     "name": "stdout",
     "output_type": "stream",
     "text": [
      "0.476987610168 0.956298200514 0.746885312255\n"
     ]
    }
   ],
   "source": [
    "# gradient boosting\n",
    "\n",
    "gb = GradientBoostingClassifier()\n",
    "gb.fit(X_train, y_train)\n",
    "gb.feature_importances_\n",
    "pred_gb = gb.predict(X_test) \n",
    "gb_score_r2 = np.mean(cross_val_score(gb, X_train, y_train, scoring='r2', cv=5))\n",
    "gb_score_recall = recall_score(y_test, pred_gb, average='weighted')\n",
    "gb_score_avgprecision = average_precision_score(y_test, pred_gb)\n",
    "print(gb_score_r2, gb_score_recall, gb_score_avgprecision)"
   ]
  },
  {
   "cell_type": "code",
   "execution_count": 129,
   "metadata": {},
   "outputs": [
    {
     "name": "stdout",
     "output_type": "stream",
     "text": [
      "                                        Feature Importance\n",
      "Auto_Ship_Ind                                     0.000000\n",
      "Interior_Decor_Signage_Available_Funds            0.045791\n",
      "LMS_Enrolled                                      0.000000\n",
      "LMS_Available_Matching_Funds                      0.030701\n",
      "LMS_Used_Funds_Most_Recent_3_Months               0.001567\n",
      "LMS_Used_Funds_Previous_3_Months                  0.002885\n",
      "Open_Smart                                        0.000000\n",
      "PIP_Program                                       0.008251\n",
      "PQS_Program                                       0.005497\n",
      "SCS_Program                                       0.001377\n",
      "Spar_Coverage_Ind                                 0.000026\n",
      "Specialty_Solutions                               0.000000\n",
      "Vaccine_Items                                     0.000000\n",
      "Vaccine_Starter                                   0.000000\n",
      "Vaccine_Items_Count                               0.019612\n",
      "Vaccine_Items_Sls_Amt                             0.021164\n",
      "YPO                                               0.001777\n",
      "Tot_Sls_Amt                                       0.089289\n",
      "DLC_Program_encoded                               0.000000\n",
      "FEM_Program_encoded                               0.017184\n",
      "HM_Circular_Program_encoded                       0.005372\n",
      "Internal_Decor                                    0.000018\n",
      "PQS_Enrolled_encoded                              0.001805\n",
      "ST_encoded                                        0.047760\n",
      "Pog_Code_Name_encoded                             0.003336\n",
      "DC_Name_encoded                                   0.049156\n",
      "Bus_Type_Desc_encoded                             0.010864\n",
      "Region_encoded                                    0.000729\n",
      "PSAO_Expanded_encoded                             0.007481\n",
      "Chain_Name_encoded                                0.065689\n",
      "Salesperson_encoded                               0.048383\n",
      "AH_Program_encoded                                0.000000\n",
      "OTC_Front-end_Size_encoded                        0.028486\n",
      "MRA_Program_Type_-_Active_AH_encoded              0.030038\n",
      "Msa_Dma_encoded                                   0.072155\n",
      "Signage_Program_encoded                           0.040999\n",
      "Hospital_Associated_encoded                       0.342609\n"
     ]
    }
   ],
   "source": [
    "feature_imp_gb = pd.DataFrame({'Feature Importance' : gb.feature_importances_}, index=X1.columns)\n",
    "print(feature_imp_gb)"
   ]
  },
  {
   "cell_type": "code",
   "execution_count": 130,
   "metadata": {
    "collapsed": true
   },
   "outputs": [],
   "source": [
    "def plot_feature_importance(model, df):\n",
    "    cols = []\n",
    "    for col in df.columns:\n",
    "        cols.append(col)\n",
    "\n",
    "    feature_importances = pd.DataFrame({'Feature Importance' : model.feature_importances_}, index=cols)\n",
    "    feature_importances = feature_importances.sort_values(by='Feature Importance')\n",
    "    feature_importances.plot(kind='barh', color='r', figsize=(6,6))\n",
    "    plt.title('Feature Importance', fontsize=18)\n",
    "    plt.tight_layout()\n",
    "    #plt.savefig('/figures/feat_import_.png', dpi=300)"
   ]
  },
  {
   "cell_type": "code",
   "execution_count": 131,
   "metadata": {},
   "outputs": [
    {
     "data": {
      "image/png": "[encoded data removed]",
      "text/plain": [
       "<matplotlib.figure.Figure at 0xaff8160>"
      ]
     },
     "metadata": {},
     "output_type": "display_data"
    }
   ],
   "source": [
    "plot_feature_importance(gb, X1)"
   ]
  },
  {
   "cell_type": "markdown",
   "metadata": {},
   "source": [
    "### Reduce the dimensions even further, based on importances"
   ]
  },
  {
   "cell_type": "code",
   "execution_count": 132,
   "metadata": {
    "collapsed": true
   },
   "outputs": [],
   "source": [
    "XR = dfsample1[['Hospital_Associated_encoded', 'Tot_Sls_Amt', 'Msa_Dma_encoded',\n",
    "                'Chain_Name_encoded', 'Salesperson_encoded', 'ST_encoded', 'DC_Name_encoded',\n",
    "                'Interior_Decor_Signage_Available_Funds', 'Signage_Program_encoded',\n",
    "                'LMS_Available_Matching_Funds']]"
   ]
  },
  {
   "cell_type": "code",
   "execution_count": 133,
   "metadata": {
    "collapsed": true
   },
   "outputs": [],
   "source": [
    "# split the data\n",
    "\n",
    "X_train, X_test, y_train, y_test = train_test_split(XR, y_small, test_size=0.33, random_state=42)"
   ]
  },
  {
   "cell_type": "code",
   "execution_count": 134,
   "metadata": {},
   "outputs": [
    {
     "name": "stdout",
     "output_type": "stream",
     "text": [
      "0.506091681182 0.958868894602 0.762360384718\n"
     ]
    }
   ],
   "source": [
    "# gradient boosting\n",
    "\n",
    "gbr = GradientBoostingClassifier()\n",
    "gbr.fit(X_train, y_train)\n",
    "gbr.feature_importances_\n",
    "pred_gbr = gbr.predict(X_test) \n",
    "gbr_score_r2 = np.mean(cross_val_score(gbr, X_train, y_train, scoring='r2', cv=5))\n",
    "gbr_score_recall = recall_score(y_test, pred_gbr, average='weighted')\n",
    "gbr_score_avgprecision = average_precision_score(y_test, pred_gbr)\n",
    "print(gbr_score_r2, gbr_score_recall, gbr_score_avgprecision)"
   ]
  },
  {
   "cell_type": "code",
   "execution_count": 135,
   "metadata": {},
   "outputs": [
    {
     "name": "stdout",
     "output_type": "stream",
     "text": [
      "                                        Feature Importance\n",
      "Hospital_Associated_encoded                       0.371990\n",
      "Tot_Sls_Amt                                       0.091197\n",
      "Msa_Dma_encoded                                   0.083443\n",
      "Chain_Name_encoded                                0.082854\n",
      "Salesperson_encoded                               0.088710\n",
      "ST_encoded                                        0.071742\n",
      "DC_Name_encoded                                   0.071361\n",
      "Interior_Decor_Signage_Available_Funds            0.047161\n",
      "Signage_Program_encoded                           0.032129\n",
      "LMS_Available_Matching_Funds                      0.059413\n"
     ]
    }
   ],
   "source": [
    "feature_imp_gbr = pd.DataFrame({'Feature Importance' : gbr.feature_importances_}, index=XR.columns)\n",
    "print(feature_imp_gbr)"
   ]
  },
  {
   "cell_type": "code",
   "execution_count": 143,
   "metadata": {
    "collapsed": true
   },
   "outputs": [],
   "source": [
    "XR.to_csv('data/HID_reduced_feat.csv')\n",
    "dfsample1.to_csv('data/HID_reduced_sample.csv')"
   ]
  },
  {
   "cell_type": "markdown",
   "metadata": {},
   "source": [
    "### Checking against the full (not undersampled) dataset, with class imbalance"
   ]
  },
  {
   "cell_type": "code",
   "execution_count": 136,
   "metadata": {},
   "outputs": [
    {
     "name": "stdout",
     "output_type": "stream",
     "text": [
      "0.9775\n",
      "sample: 0.1 depth: 1 estimators: 10 accuracy: 0.963493226549\n",
      "sample: 0.3 depth: 1 estimators: 10 accuracy: 0.963493226549\n",
      "sample: 0.5 depth: 1 estimators: 10 accuracy: 0.963493226549\n",
      "sample: 0.7 depth: 1 estimators: 10 accuracy: 0.963493226549\n",
      "sample: 0.1 depth: 2 estimators: 10 accuracy: 0.964937803527\n",
      "sample: 0.3 depth: 2 estimators: 10 accuracy: 0.964524580387\n",
      "sample: 0.5 depth: 2 estimators: 10 accuracy: 0.965968731362\n",
      "sample: 0.7 depth: 2 estimators: 10 accuracy: 0.966174490926\n",
      "sample: 0.1 depth: 3 estimators: 10 accuracy: 0.953570759138\n",
      "sample: 0.3 depth: 3 estimators: 10 accuracy: 0.964936951521\n",
      "sample: 0.5 depth: 3 estimators: 10 accuracy: 0.96658686206\n",
      "sample: 0.7 depth: 3 estimators: 10 accuracy: 0.965557212235\n",
      "<built-in method max of numpy.float64 object at 0x000000001059CF00>\n"
     ]
    }
   ],
   "source": [
    "# Compare to GradientBoosting on full dataset (no undersampling of negative label)\n",
    "Xf_train, Xf_test, yf_train, yf_test = train_test_split(X, y, test_size=0.33, random_state=42)\n",
    "\n",
    "model = GradientBoostingClassifier().fit(Xf_train, yf_train)\n",
    "print(model.score(Xf_test, yf_test))\n",
    "\n",
    "# commented out since we already have our predictor\n",
    "cv = KFold(n_splits=10)\n",
    "accuracy = []\n",
    "for estimator in range(10, 20, 10):\n",
    "    for depth in range(1, 4):\n",
    "        for sample in (0.1, 0.3, 0.5, 0.7):\n",
    "            model = GradientBoostingClassifier(n_estimators=estimator, max_depth=depth, subsample=sample)\n",
    "            scores = []\n",
    "            for train_i, test_i in cv.split(X):\n",
    "                Xr, yr, Xt, yt = X.loc[train_i], y.loc[train_i], X.loc[test_i], y.loc[test_i]\n",
    "                model.fit(Xr, yr)\n",
    "                scores.append(model.score(Xt, yt))\n",
    "                accuracy = sum(scores) / len(scores)\n",
    "            print('sample:', sample, 'depth:', depth, 'estimators:', estimator, 'accuracy:', sum(scores) / len(scores))\n",
    "print(accuracy.max)"
   ]
  },
  {
   "cell_type": "code",
   "execution_count": 137,
   "metadata": {
    "collapsed": true
   },
   "outputs": [],
   "source": [
    "# some way to plot pred_rf against y_test\n",
    "# and plot pred_dt against y_test"
   ]
  },
  {
   "cell_type": "code",
   "execution_count": 138,
   "metadata": {},
   "outputs": [],
   "source": [
    "### For a random subset of features - to avoid overfitting\n",
    "\n",
    "# feature_indices1 = np.random.choice(X.shape[1], 5, replace=False)\n",
    "# XR1 = X[:,feature_indices1]\n",
    "\n",
    "# feature_indices2 = np.random.choice(X.shape[1], 5, replace=False)\n",
    "# XR2 = X[:, feature_indices2]\n",
    "\n",
    "# feature_indices3 = np.random.choice(X.shape[1], 5, replace=False)\n",
    "# XR3 = X[:, feature_indices3]\n",
    "\n",
    "# feature_indices4 = np.random.choice(X.shape[1], 5, replace=False)\n",
    "# XR4 = X[:, feature_indices4]\n",
    "\n",
    "# feature_indices5 = np.random.choice(X.shape[1], 5, replace=False)\n",
    "# XR5 = X[:, feature_indices5]"
   ]
  },
  {
   "cell_type": "markdown",
   "metadata": {},
   "source": [
    "### Compare Predictions to Test"
   ]
  },
  {
   "cell_type": "code",
   "execution_count": 139,
   "metadata": {},
   "outputs": [],
   "source": [
    "results_gbr1 = pd.DataFrame({'label': y_train, 'pred': gbr.predict(X_train) , 'stage': 'Train'})"
   ]
  },
  {
   "cell_type": "code",
   "execution_count": 140,
   "metadata": {
    "collapsed": true
   },
   "outputs": [],
   "source": [
    "results_gbr2 = pd.DataFrame({'label': y_test, 'pred': gbr.predict(X_test), 'stage': 'Test'})"
   ]
  },
  {
   "cell_type": "code",
   "execution_count": 141,
   "metadata": {
    "collapsed": true
   },
   "outputs": [],
   "source": [
    "results_gbr = pd.concat([results_gbr1, results_gbr2], axis=0)"
   ]
  },
  {
   "cell_type": "code",
   "execution_count": 142,
   "metadata": {},
   "outputs": [
    {
     "data": {
      "image/png": "[encoded data removed]",
      "text/plain": [
       "<matplotlib.figure.Figure at 0x106487b8>"
      ]
     },
     "metadata": {},
     "output_type": "display_data"
    }
   ],
   "source": [
    "sns.lmplot(x='pred', y='label', hue='stage', data=results_gbr, size=4)\n",
    "plt.savefig('figures/lmplot_train_test_gbr.png', dpi=300)"
   ]
  },
  {
   "cell_type": "code",
   "execution_count": null,
   "metadata": {
    "collapsed": true
   },
   "outputs": [],
   "source": []
  }
 ],
 "metadata": {
  "kernelspec": {
   "display_name": "Python 3",
   "language": "python",
   "name": "python3"
  },
  "language_info": {
   "codemirror_mode": {
    "name": "ipython",
    "version": 3
   },
   "file_extension": ".py",
   "mimetype": "text/x-python",
   "name": "python",
   "nbconvert_exporter": "python",
   "pygments_lexer": "ipython3",
   "version": "3.6.3"
  }
 },
 "nbformat": 4,
 "nbformat_minor": 2
}
