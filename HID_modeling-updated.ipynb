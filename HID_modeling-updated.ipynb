{
 "cells": [
  {
   "cell_type": "markdown",
   "metadata": {},
   "source": [
    "### Import Programs"
   ]
  },
  {
   "cell_type": "code",
   "execution_count": 1,
   "metadata": {},
   "outputs": [],
   "source": [
    "%load_ext autoreload\n",
    "%autoreload 2\n",
    "%matplotlib inline"
   ]
  },
  {
   "cell_type": "code",
   "execution_count": 2,
   "metadata": {},
   "outputs": [
    {
     "name": "stderr",
     "output_type": "stream",
     "text": [
      "C:\\ProgramData\\Anaconda3\\envs\\py36\\lib\\site-packages\\ipykernel_launcher.py:6: FutureWarning: The pandas.core.datetools module is deprecated and will be removed in a future version. Please use the pandas.tseries module instead.\n",
      "  \n"
     ]
    }
   ],
   "source": [
    "import datetime as dt\n",
    "\n",
    "import pandas as pd\n",
    "from pandas import ExcelWriter\n",
    "from pandas import ExcelFile\n",
    "from pandas.core import datetools\n",
    "\n",
    "from sklearn.preprocessing import LabelEncoder\n",
    "\n",
    "import numpy as np\n",
    "\n",
    "import matplotlib.pyplot as plt\n",
    "import seaborn as sns\n",
    "\n",
    "from sklearn import tree\n",
    "from sklearn.metrics import accuracy_score\n",
    "from sklearn.model_selection import KFold\n",
    "from sklearn.model_selection import cross_val_score\n",
    "from sklearn.metrics import recall_score, average_precision_score\n",
    "from sklearn.ensemble import GradientBoostingRegressor\n",
    "from sklearn.model_selection import train_test_split\n",
    "import statsmodels.api as sm\n",
    "from statsmodels.stats.outliers_influence import variance_inflation_factor\n",
    "from sklearn.ensemble import RandomForestClassifier\n",
    "from sklearn.datasets import make_classification\n",
    "from sklearn.tree import DecisionTreeClassifier\n",
    "from sklearn.linear_model import LogisticRegression\n",
    "from sklearn.ensemble import GradientBoostingClassifier\n",
    "from sklearn.neighbors import KNeighborsClassifier"
   ]
  },
  {
   "cell_type": "markdown",
   "metadata": {},
   "source": [
    "### Import Dataset from Excel file"
   ]
  },
  {
   "cell_type": "code",
   "execution_count": 3,
   "metadata": {
    "collapsed": true
   },
   "outputs": [],
   "source": [
    "X = pd.read_csv('data/HID_features.csv', index_col=0)\n",
    "df_clean = pd.read_csv('data/df_clean.csv', index_col=0)"
   ]
  },
  {
   "cell_type": "markdown",
   "metadata": {},
   "source": [
    "### Make more balanced datasets for the label ('IS_HID')"
   ]
  },
  {
   "cell_type": "code",
   "execution_count": 4,
   "metadata": {},
   "outputs": [
    {
     "data": {
      "text/plain": [
       "Index(['Hm_Start_Dt', 'Auto_Ship_Ind',\n",
       "       'Interior_Decor_Signage_Available_Funds', 'LMS_Enrolled',\n",
       "       'LMS_Available_Matching_Funds', 'LMS_Used_Funds_Most_Recent_3_Months',\n",
       "       'LMS_Used_Funds_Previous_3_Months', 'Open_Smart', 'PIP_Program',\n",
       "       'KYN_Training', 'PQS_Program', 'Last_EQuIPP_Login', 'PQS_Enrolled_Date',\n",
       "       'SCS_Program', 'Spar_Coverage_Ind', 'Specialty_Solutions',\n",
       "       'Vaccine_Items', 'Vaccine_Starter', 'Vaccine_Items_Count',\n",
       "       'Vaccine_Items_Sls_Amt', 'YPO', 'Tot_Sls_Amt', 'DLC_Program_encoded',\n",
       "       'FEM_Program_encoded', 'HM_Circular_Program_encoded', 'Internal_Decor',\n",
       "       'PQS_Enrolled_encoded', 'ST_encoded', 'Pog_Code_Name_encoded',\n",
       "       'DC_Name_encoded', 'Bus_Type_Desc_encoded', 'Region_encoded',\n",
       "       'PSAO_Expanded_encoded', 'Chain_Name_encoded', 'Salesperson_encoded',\n",
       "       'AH_Program_encoded', 'OTC_Front-end_Size_encoded',\n",
       "       'MRA_Program_Type_-_Active_AH_encoded', 'Msa_Dma_encoded',\n",
       "       'Signage_Program_encoded', 'Hospital_Associated_encoded'],\n",
       "      dtype='object')"
      ]
     },
     "execution_count": 4,
     "metadata": {},
     "output_type": "execute_result"
    }
   ],
   "source": [
    "X.columns"
   ]
  },
  {
   "cell_type": "code",
   "execution_count": 5,
   "metadata": {
    "collapsed": true
   },
   "outputs": [],
   "source": [
    "MH = df_clean.loc[df_clean['IS_HID'] == 1]"
   ]
  },
  {
   "cell_type": "code",
   "execution_count": 6,
   "metadata": {},
   "outputs": [
    {
     "data": {
      "text/html": [
       "<div>\n",
       "<style>\n",
       "    .dataframe thead tr:only-child th {\n",
       "        text-align: right;\n",
       "    }\n",
       "\n",
       "    .dataframe thead th {\n",
       "        text-align: left;\n",
       "    }\n",
       "\n",
       "    .dataframe tbody tr th {\n",
       "        vertical-align: top;\n",
       "    }\n",
       "</style>\n",
       "<table border=\"1\" class=\"dataframe\">\n",
       "  <thead>\n",
       "    <tr style=\"text-align: right;\">\n",
       "      <th></th>\n",
       "      <th>Zip</th>\n",
       "      <th>Hm_Start_Dt</th>\n",
       "      <th>Channel_Type_Cd</th>\n",
       "      <th>Auto_Ship_Ind</th>\n",
       "      <th>Internal_Decor</th>\n",
       "      <th>Interior_Decor_Signage_Available_Funds</th>\n",
       "      <th>LMS_Enrolled</th>\n",
       "      <th>LMS_Available_Matching_Funds</th>\n",
       "      <th>LMS_Used_Funds_Most_Recent_3_Months</th>\n",
       "      <th>LMS_Used_Funds_Previous_3_Months</th>\n",
       "      <th>...</th>\n",
       "      <th>Chain_Name_encoded</th>\n",
       "      <th>Region_Name_encoded</th>\n",
       "      <th>Salesperson_encoded</th>\n",
       "      <th>AH_Program_encoded</th>\n",
       "      <th>OTC_Front-end_Size_encoded</th>\n",
       "      <th>MRA_Program_Type_-_Active_AH_encoded</th>\n",
       "      <th>Msa_Dma_encoded</th>\n",
       "      <th>Signage_Program_encoded</th>\n",
       "      <th>3rd_Party_Vendor_encoded</th>\n",
       "      <th>Hospital_Associated_encoded</th>\n",
       "    </tr>\n",
       "    <tr>\n",
       "      <th>Account</th>\n",
       "      <th></th>\n",
       "      <th></th>\n",
       "      <th></th>\n",
       "      <th></th>\n",
       "      <th></th>\n",
       "      <th></th>\n",
       "      <th></th>\n",
       "      <th></th>\n",
       "      <th></th>\n",
       "      <th></th>\n",
       "      <th></th>\n",
       "      <th></th>\n",
       "      <th></th>\n",
       "      <th></th>\n",
       "      <th></th>\n",
       "      <th></th>\n",
       "      <th></th>\n",
       "      <th></th>\n",
       "      <th></th>\n",
       "      <th></th>\n",
       "      <th></th>\n",
       "    </tr>\n",
       "  </thead>\n",
       "  <tbody>\n",
       "    <tr>\n",
       "      <th>410092</th>\n",
       "      <td>58503</td>\n",
       "      <td>732524</td>\n",
       "      <td>30</td>\n",
       "      <td>0</td>\n",
       "      <td>1</td>\n",
       "      <td>0.0</td>\n",
       "      <td>1</td>\n",
       "      <td>0.0</td>\n",
       "      <td>1</td>\n",
       "      <td>1</td>\n",
       "      <td>...</td>\n",
       "      <td>38</td>\n",
       "      <td>23</td>\n",
       "      <td>10</td>\n",
       "      <td>0</td>\n",
       "      <td>5</td>\n",
       "      <td>2</td>\n",
       "      <td>139</td>\n",
       "      <td>0</td>\n",
       "      <td>6</td>\n",
       "      <td>3</td>\n",
       "    </tr>\n",
       "    <tr>\n",
       "      <th>363318</th>\n",
       "      <td>66434</td>\n",
       "      <td>736441</td>\n",
       "      <td>30</td>\n",
       "      <td>0</td>\n",
       "      <td>0</td>\n",
       "      <td>2500.0</td>\n",
       "      <td>1</td>\n",
       "      <td>5800.0</td>\n",
       "      <td>0</td>\n",
       "      <td>0</td>\n",
       "      <td>...</td>\n",
       "      <td>33</td>\n",
       "      <td>27</td>\n",
       "      <td>31</td>\n",
       "      <td>0</td>\n",
       "      <td>6</td>\n",
       "      <td>0</td>\n",
       "      <td>85</td>\n",
       "      <td>1</td>\n",
       "      <td>6</td>\n",
       "      <td>0</td>\n",
       "    </tr>\n",
       "    <tr>\n",
       "      <th>304550</th>\n",
       "      <td>54409</td>\n",
       "      <td>732288</td>\n",
       "      <td>30</td>\n",
       "      <td>1</td>\n",
       "      <td>1</td>\n",
       "      <td>1829.0</td>\n",
       "      <td>0</td>\n",
       "      <td>1200.0</td>\n",
       "      <td>0</td>\n",
       "      <td>0</td>\n",
       "      <td>...</td>\n",
       "      <td>38</td>\n",
       "      <td>23</td>\n",
       "      <td>110</td>\n",
       "      <td>0</td>\n",
       "      <td>1</td>\n",
       "      <td>3</td>\n",
       "      <td>145</td>\n",
       "      <td>0</td>\n",
       "      <td>6</td>\n",
       "      <td>0</td>\n",
       "    </tr>\n",
       "    <tr>\n",
       "      <th>756418</th>\n",
       "      <td>58078</td>\n",
       "      <td>733881</td>\n",
       "      <td>30</td>\n",
       "      <td>0</td>\n",
       "      <td>1</td>\n",
       "      <td>603.0</td>\n",
       "      <td>1</td>\n",
       "      <td>700.0</td>\n",
       "      <td>1</td>\n",
       "      <td>1</td>\n",
       "      <td>...</td>\n",
       "      <td>39</td>\n",
       "      <td>23</td>\n",
       "      <td>10</td>\n",
       "      <td>0</td>\n",
       "      <td>3</td>\n",
       "      <td>2</td>\n",
       "      <td>153</td>\n",
       "      <td>5</td>\n",
       "      <td>6</td>\n",
       "      <td>3</td>\n",
       "    </tr>\n",
       "    <tr>\n",
       "      <th>410068</th>\n",
       "      <td>58504</td>\n",
       "      <td>732556</td>\n",
       "      <td>30</td>\n",
       "      <td>0</td>\n",
       "      <td>1</td>\n",
       "      <td>0.0</td>\n",
       "      <td>1</td>\n",
       "      <td>0.0</td>\n",
       "      <td>1</td>\n",
       "      <td>1</td>\n",
       "      <td>...</td>\n",
       "      <td>38</td>\n",
       "      <td>23</td>\n",
       "      <td>10</td>\n",
       "      <td>0</td>\n",
       "      <td>5</td>\n",
       "      <td>2</td>\n",
       "      <td>139</td>\n",
       "      <td>0</td>\n",
       "      <td>6</td>\n",
       "      <td>3</td>\n",
       "    </tr>\n",
       "  </tbody>\n",
       "</table>\n",
       "<p>5 rows × 62 columns</p>\n",
       "</div>"
      ],
      "text/plain": [
       "           Zip  Hm_Start_Dt  Channel_Type_Cd  Auto_Ship_Ind  Internal_Decor  \\\n",
       "Account                                                                       \n",
       "410092   58503       732524               30              0               1   \n",
       "363318   66434       736441               30              0               0   \n",
       "304550   54409       732288               30              1               1   \n",
       "756418   58078       733881               30              0               1   \n",
       "410068   58504       732556               30              0               1   \n",
       "\n",
       "         Interior_Decor_Signage_Available_Funds  LMS_Enrolled  \\\n",
       "Account                                                         \n",
       "410092                                      0.0             1   \n",
       "363318                                   2500.0             1   \n",
       "304550                                   1829.0             0   \n",
       "756418                                    603.0             1   \n",
       "410068                                      0.0             1   \n",
       "\n",
       "         LMS_Available_Matching_Funds  LMS_Used_Funds_Most_Recent_3_Months  \\\n",
       "Account                                                                      \n",
       "410092                            0.0                                    1   \n",
       "363318                         5800.0                                    0   \n",
       "304550                         1200.0                                    0   \n",
       "756418                          700.0                                    1   \n",
       "410068                            0.0                                    1   \n",
       "\n",
       "         LMS_Used_Funds_Previous_3_Months             ...               \\\n",
       "Account                                               ...                \n",
       "410092                                  1             ...                \n",
       "363318                                  0             ...                \n",
       "304550                                  0             ...                \n",
       "756418                                  1             ...                \n",
       "410068                                  1             ...                \n",
       "\n",
       "         Chain_Name_encoded  Region_Name_encoded  Salesperson_encoded  \\\n",
       "Account                                                                 \n",
       "410092                   38                   23                   10   \n",
       "363318                   33                   27                   31   \n",
       "304550                   38                   23                  110   \n",
       "756418                   39                   23                   10   \n",
       "410068                   38                   23                   10   \n",
       "\n",
       "         AH_Program_encoded  OTC_Front-end_Size_encoded  \\\n",
       "Account                                                   \n",
       "410092                    0                           5   \n",
       "363318                    0                           6   \n",
       "304550                    0                           1   \n",
       "756418                    0                           3   \n",
       "410068                    0                           5   \n",
       "\n",
       "         MRA_Program_Type_-_Active_AH_encoded  Msa_Dma_encoded  \\\n",
       "Account                                                          \n",
       "410092                                      2              139   \n",
       "363318                                      0               85   \n",
       "304550                                      3              145   \n",
       "756418                                      2              153   \n",
       "410068                                      2              139   \n",
       "\n",
       "         Signage_Program_encoded  3rd_Party_Vendor_encoded  \\\n",
       "Account                                                      \n",
       "410092                         0                         6   \n",
       "363318                         1                         6   \n",
       "304550                         0                         6   \n",
       "756418                         5                         6   \n",
       "410068                         0                         6   \n",
       "\n",
       "         Hospital_Associated_encoded  \n",
       "Account                               \n",
       "410092                             3  \n",
       "363318                             0  \n",
       "304550                             0  \n",
       "756418                             3  \n",
       "410068                             3  \n",
       "\n",
       "[5 rows x 62 columns]"
      ]
     },
     "execution_count": 6,
     "metadata": {},
     "output_type": "execute_result"
    }
   ],
   "source": [
    "MH.head()"
   ]
  },
  {
   "cell_type": "code",
   "execution_count": 7,
   "metadata": {
    "collapsed": true
   },
   "outputs": [],
   "source": [
    "NonMH = df_clean.loc[df_clean['IS_HID'] == 0]"
   ]
  },
  {
   "cell_type": "code",
   "execution_count": 8,
   "metadata": {},
   "outputs": [
    {
     "data": {
      "text/html": [
       "<div>\n",
       "<style>\n",
       "    .dataframe thead tr:only-child th {\n",
       "        text-align: right;\n",
       "    }\n",
       "\n",
       "    .dataframe thead th {\n",
       "        text-align: left;\n",
       "    }\n",
       "\n",
       "    .dataframe tbody tr th {\n",
       "        vertical-align: top;\n",
       "    }\n",
       "</style>\n",
       "<table border=\"1\" class=\"dataframe\">\n",
       "  <thead>\n",
       "    <tr style=\"text-align: right;\">\n",
       "      <th></th>\n",
       "      <th>Zip</th>\n",
       "      <th>Hm_Start_Dt</th>\n",
       "      <th>Channel_Type_Cd</th>\n",
       "      <th>Auto_Ship_Ind</th>\n",
       "      <th>Internal_Decor</th>\n",
       "      <th>Interior_Decor_Signage_Available_Funds</th>\n",
       "      <th>LMS_Enrolled</th>\n",
       "      <th>LMS_Available_Matching_Funds</th>\n",
       "      <th>LMS_Used_Funds_Most_Recent_3_Months</th>\n",
       "      <th>LMS_Used_Funds_Previous_3_Months</th>\n",
       "      <th>...</th>\n",
       "      <th>Chain_Name_encoded</th>\n",
       "      <th>Region_Name_encoded</th>\n",
       "      <th>Salesperson_encoded</th>\n",
       "      <th>AH_Program_encoded</th>\n",
       "      <th>OTC_Front-end_Size_encoded</th>\n",
       "      <th>MRA_Program_Type_-_Active_AH_encoded</th>\n",
       "      <th>Msa_Dma_encoded</th>\n",
       "      <th>Signage_Program_encoded</th>\n",
       "      <th>3rd_Party_Vendor_encoded</th>\n",
       "      <th>Hospital_Associated_encoded</th>\n",
       "    </tr>\n",
       "    <tr>\n",
       "      <th>Account</th>\n",
       "      <th></th>\n",
       "      <th></th>\n",
       "      <th></th>\n",
       "      <th></th>\n",
       "      <th></th>\n",
       "      <th></th>\n",
       "      <th></th>\n",
       "      <th></th>\n",
       "      <th></th>\n",
       "      <th></th>\n",
       "      <th></th>\n",
       "      <th></th>\n",
       "      <th></th>\n",
       "      <th></th>\n",
       "      <th></th>\n",
       "      <th></th>\n",
       "      <th></th>\n",
       "      <th></th>\n",
       "      <th></th>\n",
       "      <th></th>\n",
       "      <th></th>\n",
       "    </tr>\n",
       "  </thead>\n",
       "  <tbody>\n",
       "    <tr>\n",
       "      <th>10491</th>\n",
       "      <td>97463</td>\n",
       "      <td>732524</td>\n",
       "      <td>30</td>\n",
       "      <td>1</td>\n",
       "      <td>1</td>\n",
       "      <td>1724.0</td>\n",
       "      <td>1</td>\n",
       "      <td>822.0</td>\n",
       "      <td>1</td>\n",
       "      <td>1</td>\n",
       "      <td>...</td>\n",
       "      <td>39</td>\n",
       "      <td>23</td>\n",
       "      <td>1</td>\n",
       "      <td>4</td>\n",
       "      <td>1</td>\n",
       "      <td>7</td>\n",
       "      <td>183</td>\n",
       "      <td>0</td>\n",
       "      <td>18</td>\n",
       "      <td>15</td>\n",
       "    </tr>\n",
       "    <tr>\n",
       "      <th>17475</th>\n",
       "      <td>97630</td>\n",
       "      <td>732687</td>\n",
       "      <td>30</td>\n",
       "      <td>1</td>\n",
       "      <td>1</td>\n",
       "      <td>0.0</td>\n",
       "      <td>1</td>\n",
       "      <td>0.0</td>\n",
       "      <td>1</td>\n",
       "      <td>1</td>\n",
       "      <td>...</td>\n",
       "      <td>39</td>\n",
       "      <td>23</td>\n",
       "      <td>1</td>\n",
       "      <td>0</td>\n",
       "      <td>3</td>\n",
       "      <td>3</td>\n",
       "      <td>190</td>\n",
       "      <td>0</td>\n",
       "      <td>18</td>\n",
       "      <td>15</td>\n",
       "    </tr>\n",
       "    <tr>\n",
       "      <th>19901</th>\n",
       "      <td>97471</td>\n",
       "      <td>732616</td>\n",
       "      <td>30</td>\n",
       "      <td>0</td>\n",
       "      <td>1</td>\n",
       "      <td>0.0</td>\n",
       "      <td>1</td>\n",
       "      <td>0.0</td>\n",
       "      <td>1</td>\n",
       "      <td>1</td>\n",
       "      <td>...</td>\n",
       "      <td>39</td>\n",
       "      <td>23</td>\n",
       "      <td>1</td>\n",
       "      <td>0</td>\n",
       "      <td>4</td>\n",
       "      <td>2</td>\n",
       "      <td>183</td>\n",
       "      <td>0</td>\n",
       "      <td>18</td>\n",
       "      <td>15</td>\n",
       "    </tr>\n",
       "    <tr>\n",
       "      <th>309745</th>\n",
       "      <td>97467</td>\n",
       "      <td>735998</td>\n",
       "      <td>30</td>\n",
       "      <td>0</td>\n",
       "      <td>0</td>\n",
       "      <td>2500.0</td>\n",
       "      <td>1</td>\n",
       "      <td>0.0</td>\n",
       "      <td>0</td>\n",
       "      <td>0</td>\n",
       "      <td>...</td>\n",
       "      <td>39</td>\n",
       "      <td>23</td>\n",
       "      <td>1</td>\n",
       "      <td>0</td>\n",
       "      <td>1</td>\n",
       "      <td>8</td>\n",
       "      <td>183</td>\n",
       "      <td>3</td>\n",
       "      <td>18</td>\n",
       "      <td>15</td>\n",
       "    </tr>\n",
       "    <tr>\n",
       "      <th>652229</th>\n",
       "      <td>97370</td>\n",
       "      <td>734702</td>\n",
       "      <td>30</td>\n",
       "      <td>0</td>\n",
       "      <td>1</td>\n",
       "      <td>0.0</td>\n",
       "      <td>1</td>\n",
       "      <td>340.0</td>\n",
       "      <td>1</td>\n",
       "      <td>0</td>\n",
       "      <td>...</td>\n",
       "      <td>38</td>\n",
       "      <td>23</td>\n",
       "      <td>1</td>\n",
       "      <td>0</td>\n",
       "      <td>0</td>\n",
       "      <td>8</td>\n",
       "      <td>183</td>\n",
       "      <td>0</td>\n",
       "      <td>18</td>\n",
       "      <td>15</td>\n",
       "    </tr>\n",
       "  </tbody>\n",
       "</table>\n",
       "<p>5 rows × 62 columns</p>\n",
       "</div>"
      ],
      "text/plain": [
       "           Zip  Hm_Start_Dt  Channel_Type_Cd  Auto_Ship_Ind  Internal_Decor  \\\n",
       "Account                                                                       \n",
       "10491    97463       732524               30              1               1   \n",
       "17475    97630       732687               30              1               1   \n",
       "19901    97471       732616               30              0               1   \n",
       "309745   97467       735998               30              0               0   \n",
       "652229   97370       734702               30              0               1   \n",
       "\n",
       "         Interior_Decor_Signage_Available_Funds  LMS_Enrolled  \\\n",
       "Account                                                         \n",
       "10491                                    1724.0             1   \n",
       "17475                                       0.0             1   \n",
       "19901                                       0.0             1   \n",
       "309745                                   2500.0             1   \n",
       "652229                                      0.0             1   \n",
       "\n",
       "         LMS_Available_Matching_Funds  LMS_Used_Funds_Most_Recent_3_Months  \\\n",
       "Account                                                                      \n",
       "10491                           822.0                                    1   \n",
       "17475                             0.0                                    1   \n",
       "19901                             0.0                                    1   \n",
       "309745                            0.0                                    0   \n",
       "652229                          340.0                                    1   \n",
       "\n",
       "         LMS_Used_Funds_Previous_3_Months             ...               \\\n",
       "Account                                               ...                \n",
       "10491                                   1             ...                \n",
       "17475                                   1             ...                \n",
       "19901                                   1             ...                \n",
       "309745                                  0             ...                \n",
       "652229                                  0             ...                \n",
       "\n",
       "         Chain_Name_encoded  Region_Name_encoded  Salesperson_encoded  \\\n",
       "Account                                                                 \n",
       "10491                    39                   23                    1   \n",
       "17475                    39                   23                    1   \n",
       "19901                    39                   23                    1   \n",
       "309745                   39                   23                    1   \n",
       "652229                   38                   23                    1   \n",
       "\n",
       "         AH_Program_encoded  OTC_Front-end_Size_encoded  \\\n",
       "Account                                                   \n",
       "10491                     4                           1   \n",
       "17475                     0                           3   \n",
       "19901                     0                           4   \n",
       "309745                    0                           1   \n",
       "652229                    0                           0   \n",
       "\n",
       "         MRA_Program_Type_-_Active_AH_encoded  Msa_Dma_encoded  \\\n",
       "Account                                                          \n",
       "10491                                       7              183   \n",
       "17475                                       3              190   \n",
       "19901                                       2              183   \n",
       "309745                                      8              183   \n",
       "652229                                      8              183   \n",
       "\n",
       "         Signage_Program_encoded  3rd_Party_Vendor_encoded  \\\n",
       "Account                                                      \n",
       "10491                          0                        18   \n",
       "17475                          0                        18   \n",
       "19901                          0                        18   \n",
       "309745                         3                        18   \n",
       "652229                         0                        18   \n",
       "\n",
       "         Hospital_Associated_encoded  \n",
       "Account                               \n",
       "10491                             15  \n",
       "17475                             15  \n",
       "19901                             15  \n",
       "309745                            15  \n",
       "652229                            15  \n",
       "\n",
       "[5 rows x 62 columns]"
      ]
     },
     "execution_count": 8,
     "metadata": {},
     "output_type": "execute_result"
    }
   ],
   "source": [
    "NonMH.head()"
   ]
  },
  {
   "cell_type": "code",
   "execution_count": 9,
   "metadata": {
    "collapsed": true
   },
   "outputs": [],
   "source": [
    "NonMHsample1 = NonMH.sample(n=1000)\n",
    "dfsample1 = MH.append(NonMHsample1)"
   ]
  },
  {
   "cell_type": "code",
   "execution_count": 11,
   "metadata": {},
   "outputs": [
    {
     "data": {
      "text/html": [
       "<div>\n",
       "<style>\n",
       "    .dataframe thead tr:only-child th {\n",
       "        text-align: right;\n",
       "    }\n",
       "\n",
       "    .dataframe thead th {\n",
       "        text-align: left;\n",
       "    }\n",
       "\n",
       "    .dataframe tbody tr th {\n",
       "        vertical-align: top;\n",
       "    }\n",
       "</style>\n",
       "<table border=\"1\" class=\"dataframe\">\n",
       "  <thead>\n",
       "    <tr style=\"text-align: right;\">\n",
       "      <th></th>\n",
       "      <th>Zip</th>\n",
       "      <th>Hm_Start_Dt</th>\n",
       "      <th>Channel_Type_Cd</th>\n",
       "      <th>Auto_Ship_Ind</th>\n",
       "      <th>Internal_Decor</th>\n",
       "      <th>Interior_Decor_Signage_Available_Funds</th>\n",
       "      <th>LMS_Enrolled</th>\n",
       "      <th>LMS_Available_Matching_Funds</th>\n",
       "      <th>LMS_Used_Funds_Most_Recent_3_Months</th>\n",
       "      <th>LMS_Used_Funds_Previous_3_Months</th>\n",
       "      <th>...</th>\n",
       "      <th>Chain_Name_encoded</th>\n",
       "      <th>Region_Name_encoded</th>\n",
       "      <th>Salesperson_encoded</th>\n",
       "      <th>AH_Program_encoded</th>\n",
       "      <th>OTC_Front-end_Size_encoded</th>\n",
       "      <th>MRA_Program_Type_-_Active_AH_encoded</th>\n",
       "      <th>Msa_Dma_encoded</th>\n",
       "      <th>Signage_Program_encoded</th>\n",
       "      <th>3rd_Party_Vendor_encoded</th>\n",
       "      <th>Hospital_Associated_encoded</th>\n",
       "    </tr>\n",
       "    <tr>\n",
       "      <th>Account</th>\n",
       "      <th></th>\n",
       "      <th></th>\n",
       "      <th></th>\n",
       "      <th></th>\n",
       "      <th></th>\n",
       "      <th></th>\n",
       "      <th></th>\n",
       "      <th></th>\n",
       "      <th></th>\n",
       "      <th></th>\n",
       "      <th></th>\n",
       "      <th></th>\n",
       "      <th></th>\n",
       "      <th></th>\n",
       "      <th></th>\n",
       "      <th></th>\n",
       "      <th></th>\n",
       "      <th></th>\n",
       "      <th></th>\n",
       "      <th></th>\n",
       "      <th></th>\n",
       "    </tr>\n",
       "  </thead>\n",
       "  <tbody>\n",
       "    <tr>\n",
       "      <th>410092</th>\n",
       "      <td>58503</td>\n",
       "      <td>732524</td>\n",
       "      <td>30</td>\n",
       "      <td>0</td>\n",
       "      <td>1</td>\n",
       "      <td>0.0</td>\n",
       "      <td>1</td>\n",
       "      <td>0.0</td>\n",
       "      <td>1</td>\n",
       "      <td>1</td>\n",
       "      <td>...</td>\n",
       "      <td>38</td>\n",
       "      <td>23</td>\n",
       "      <td>10</td>\n",
       "      <td>0</td>\n",
       "      <td>5</td>\n",
       "      <td>2</td>\n",
       "      <td>139</td>\n",
       "      <td>0</td>\n",
       "      <td>6</td>\n",
       "      <td>3</td>\n",
       "    </tr>\n",
       "    <tr>\n",
       "      <th>363318</th>\n",
       "      <td>66434</td>\n",
       "      <td>736441</td>\n",
       "      <td>30</td>\n",
       "      <td>0</td>\n",
       "      <td>0</td>\n",
       "      <td>2500.0</td>\n",
       "      <td>1</td>\n",
       "      <td>5800.0</td>\n",
       "      <td>0</td>\n",
       "      <td>0</td>\n",
       "      <td>...</td>\n",
       "      <td>33</td>\n",
       "      <td>27</td>\n",
       "      <td>31</td>\n",
       "      <td>0</td>\n",
       "      <td>6</td>\n",
       "      <td>0</td>\n",
       "      <td>85</td>\n",
       "      <td>1</td>\n",
       "      <td>6</td>\n",
       "      <td>0</td>\n",
       "    </tr>\n",
       "    <tr>\n",
       "      <th>304550</th>\n",
       "      <td>54409</td>\n",
       "      <td>732288</td>\n",
       "      <td>30</td>\n",
       "      <td>1</td>\n",
       "      <td>1</td>\n",
       "      <td>1829.0</td>\n",
       "      <td>0</td>\n",
       "      <td>1200.0</td>\n",
       "      <td>0</td>\n",
       "      <td>0</td>\n",
       "      <td>...</td>\n",
       "      <td>38</td>\n",
       "      <td>23</td>\n",
       "      <td>110</td>\n",
       "      <td>0</td>\n",
       "      <td>1</td>\n",
       "      <td>3</td>\n",
       "      <td>145</td>\n",
       "      <td>0</td>\n",
       "      <td>6</td>\n",
       "      <td>0</td>\n",
       "    </tr>\n",
       "    <tr>\n",
       "      <th>756418</th>\n",
       "      <td>58078</td>\n",
       "      <td>733881</td>\n",
       "      <td>30</td>\n",
       "      <td>0</td>\n",
       "      <td>1</td>\n",
       "      <td>603.0</td>\n",
       "      <td>1</td>\n",
       "      <td>700.0</td>\n",
       "      <td>1</td>\n",
       "      <td>1</td>\n",
       "      <td>...</td>\n",
       "      <td>39</td>\n",
       "      <td>23</td>\n",
       "      <td>10</td>\n",
       "      <td>0</td>\n",
       "      <td>3</td>\n",
       "      <td>2</td>\n",
       "      <td>153</td>\n",
       "      <td>5</td>\n",
       "      <td>6</td>\n",
       "      <td>3</td>\n",
       "    </tr>\n",
       "    <tr>\n",
       "      <th>410068</th>\n",
       "      <td>58504</td>\n",
       "      <td>732556</td>\n",
       "      <td>30</td>\n",
       "      <td>0</td>\n",
       "      <td>1</td>\n",
       "      <td>0.0</td>\n",
       "      <td>1</td>\n",
       "      <td>0.0</td>\n",
       "      <td>1</td>\n",
       "      <td>1</td>\n",
       "      <td>...</td>\n",
       "      <td>38</td>\n",
       "      <td>23</td>\n",
       "      <td>10</td>\n",
       "      <td>0</td>\n",
       "      <td>5</td>\n",
       "      <td>2</td>\n",
       "      <td>139</td>\n",
       "      <td>0</td>\n",
       "      <td>6</td>\n",
       "      <td>3</td>\n",
       "    </tr>\n",
       "  </tbody>\n",
       "</table>\n",
       "<p>5 rows × 62 columns</p>\n",
       "</div>"
      ],
      "text/plain": [
       "           Zip  Hm_Start_Dt  Channel_Type_Cd  Auto_Ship_Ind  Internal_Decor  \\\n",
       "Account                                                                       \n",
       "410092   58503       732524               30              0               1   \n",
       "363318   66434       736441               30              0               0   \n",
       "304550   54409       732288               30              1               1   \n",
       "756418   58078       733881               30              0               1   \n",
       "410068   58504       732556               30              0               1   \n",
       "\n",
       "         Interior_Decor_Signage_Available_Funds  LMS_Enrolled  \\\n",
       "Account                                                         \n",
       "410092                                      0.0             1   \n",
       "363318                                   2500.0             1   \n",
       "304550                                   1829.0             0   \n",
       "756418                                    603.0             1   \n",
       "410068                                      0.0             1   \n",
       "\n",
       "         LMS_Available_Matching_Funds  LMS_Used_Funds_Most_Recent_3_Months  \\\n",
       "Account                                                                      \n",
       "410092                            0.0                                    1   \n",
       "363318                         5800.0                                    0   \n",
       "304550                         1200.0                                    0   \n",
       "756418                          700.0                                    1   \n",
       "410068                            0.0                                    1   \n",
       "\n",
       "         LMS_Used_Funds_Previous_3_Months             ...               \\\n",
       "Account                                               ...                \n",
       "410092                                  1             ...                \n",
       "363318                                  0             ...                \n",
       "304550                                  0             ...                \n",
       "756418                                  1             ...                \n",
       "410068                                  1             ...                \n",
       "\n",
       "         Chain_Name_encoded  Region_Name_encoded  Salesperson_encoded  \\\n",
       "Account                                                                 \n",
       "410092                   38                   23                   10   \n",
       "363318                   33                   27                   31   \n",
       "304550                   38                   23                  110   \n",
       "756418                   39                   23                   10   \n",
       "410068                   38                   23                   10   \n",
       "\n",
       "         AH_Program_encoded  OTC_Front-end_Size_encoded  \\\n",
       "Account                                                   \n",
       "410092                    0                           5   \n",
       "363318                    0                           6   \n",
       "304550                    0                           1   \n",
       "756418                    0                           3   \n",
       "410068                    0                           5   \n",
       "\n",
       "         MRA_Program_Type_-_Active_AH_encoded  Msa_Dma_encoded  \\\n",
       "Account                                                          \n",
       "410092                                      2              139   \n",
       "363318                                      0               85   \n",
       "304550                                      3              145   \n",
       "756418                                      2              153   \n",
       "410068                                      2              139   \n",
       "\n",
       "         Signage_Program_encoded  3rd_Party_Vendor_encoded  \\\n",
       "Account                                                      \n",
       "410092                         0                         6   \n",
       "363318                         1                         6   \n",
       "304550                         0                         6   \n",
       "756418                         5                         6   \n",
       "410068                         0                         6   \n",
       "\n",
       "         Hospital_Associated_encoded  \n",
       "Account                               \n",
       "410092                             3  \n",
       "363318                             0  \n",
       "304550                             0  \n",
       "756418                             3  \n",
       "410068                             3  \n",
       "\n",
       "[5 rows x 62 columns]"
      ]
     },
     "execution_count": 11,
     "metadata": {},
     "output_type": "execute_result"
    }
   ],
   "source": [
    "dfsample1.head()"
   ]
  },
  {
   "cell_type": "code",
   "execution_count": 12,
   "metadata": {
    "collapsed": true
   },
   "outputs": [],
   "source": [
    "X1 = dfsample1[['Auto_Ship_Ind', 'Interior_Decor_Signage_Available_Funds',\n",
    "       'LMS_Enrolled', 'LMS_Available_Matching_Funds',\n",
    "       'LMS_Used_Funds_Most_Recent_3_Months',\n",
    "       'LMS_Used_Funds_Previous_3_Months', 'Open_Smart', 'PIP_Program',\n",
    "       'PQS_Program', 'SCS_Program', 'Spar_Coverage_Ind',\n",
    "       'Specialty_Solutions', 'Vaccine_Items', 'Vaccine_Starter',\n",
    "       'Vaccine_Items_Count', 'Vaccine_Items_Sls_Amt', 'YPO', 'Tot_Sls_Amt',\n",
    "       'DLC_Program_encoded', 'FEM_Program_encoded',\n",
    "       'HM_Circular_Program_encoded', 'Internal_Decor', 'PQS_Enrolled_encoded',\n",
    "       'ST_encoded', 'Pog_Code_Name_encoded', 'DC_Name_encoded',\n",
    "       'Bus_Type_Desc_encoded', 'Region_encoded', 'PSAO_Expanded_encoded',\n",
    "       'Chain_Name_encoded', 'Salesperson_encoded', 'AH_Program_encoded',\n",
    "       'OTC_Front-end_Size_encoded', 'MRA_Program_Type_-_Active_AH_encoded',\n",
    "       'Msa_Dma_encoded', 'Signage_Program_encoded',\n",
    "       'Hospital_Associated_encoded']]"
   ]
  },
  {
   "cell_type": "code",
   "execution_count": 14,
   "metadata": {
    "collapsed": true
   },
   "outputs": [],
   "source": [
    "y = df_clean['IS_HID']"
   ]
  },
  {
   "cell_type": "code",
   "execution_count": 15,
   "metadata": {
    "collapsed": true
   },
   "outputs": [],
   "source": [
    "y_small = dfsample1['IS_HID']"
   ]
  },
  {
   "cell_type": "markdown",
   "metadata": {},
   "source": [
    "### Try some models"
   ]
  },
  {
   "cell_type": "code",
   "execution_count": 16,
   "metadata": {
    "collapsed": true
   },
   "outputs": [],
   "source": [
    "# Split the data into train-test\n",
    "\n",
    "X_train, X_test, y_train, y_test = train_test_split(X1, y_small, test_size=0.33, random_state=42)"
   ]
  },
  {
   "cell_type": "code",
   "execution_count": 17,
   "metadata": {},
   "outputs": [
    {
     "name": "stdout",
     "output_type": "stream",
     "text": [
      "0.417285304436 0.925449871465 0.57620242309\n"
     ]
    }
   ],
   "source": [
    "# Random Forest\n",
    "\n",
    "rf = RandomForestClassifier()\n",
    "rf.fit(X_train, y_train)\n",
    "rf.feature_importances_\n",
    "pred_rf = rf.predict(X_test) \n",
    "rf_score_r2 = np.mean(cross_val_score(rf, X_train, y_train, scoring='r2', cv=5))\n",
    "rf_score_recall = recall_score(y_test, pred_rf, average='weighted')\n",
    "rf_score_avgprecision = average_precision_score(y_test, pred_rf)\n",
    "print(rf_score_r2, rf_score_recall, rf_score_avgprecision)"
   ]
  },
  {
   "cell_type": "code",
   "execution_count": 18,
   "metadata": {
    "scrolled": true
   },
   "outputs": [
    {
     "name": "stdout",
     "output_type": "stream",
     "text": [
      "                                        Feature Importance\n",
      "Auto_Ship_Ind                                     0.004445\n",
      "Interior_Decor_Signage_Available_Funds            0.017581\n",
      "LMS_Enrolled                                      0.003234\n",
      "LMS_Available_Matching_Funds                      0.048871\n",
      "LMS_Used_Funds_Most_Recent_3_Months               0.006884\n",
      "LMS_Used_Funds_Previous_3_Months                  0.007400\n",
      "Open_Smart                                        0.002728\n",
      "PIP_Program                                       0.004788\n",
      "PQS_Program                                       0.002933\n",
      "SCS_Program                                       0.007583\n",
      "Spar_Coverage_Ind                                 0.008313\n",
      "Specialty_Solutions                               0.001623\n",
      "Vaccine_Items                                     0.006956\n",
      "Vaccine_Starter                                   0.003944\n",
      "Vaccine_Items_Count                               0.018875\n",
      "Vaccine_Items_Sls_Amt                             0.015106\n",
      "YPO                                               0.006324\n",
      "Tot_Sls_Amt                                       0.048252\n",
      "DLC_Program_encoded                               0.019375\n",
      "FEM_Program_encoded                               0.011027\n",
      "HM_Circular_Program_encoded                       0.006459\n",
      "Internal_Decor                                    0.010116\n",
      "PQS_Enrolled_encoded                              0.005266\n",
      "ST_encoded                                        0.032510\n",
      "Pog_Code_Name_encoded                             0.003553\n",
      "DC_Name_encoded                                   0.047200\n",
      "Bus_Type_Desc_encoded                             0.009001\n",
      "Region_encoded                                    0.051598\n",
      "PSAO_Expanded_encoded                             0.012248\n",
      "Chain_Name_encoded                                0.053615\n",
      "Salesperson_encoded                               0.039730\n",
      "AH_Program_encoded                                0.002149\n",
      "OTC_Front-end_Size_encoded                        0.022506\n",
      "MRA_Program_Type_-_Active_AH_encoded              0.063779\n",
      "Msa_Dma_encoded                                   0.074085\n",
      "Signage_Program_encoded                           0.020330\n",
      "Hospital_Associated_encoded                       0.299612\n"
     ]
    }
   ],
   "source": [
    "feature_imp_rf = pd.DataFrame({'Feature Importance' : rf.feature_importances_}, index=X1.columns)\n",
    "print(feature_imp_rf)"
   ]
  },
  {
   "cell_type": "code",
   "execution_count": 19,
   "metadata": {},
   "outputs": [
    {
     "name": "stdout",
     "output_type": "stream",
     "text": [
      "0.308827186396 0.943444730077 0.674751795054\n"
     ]
    }
   ],
   "source": [
    "# Decision Tree\n",
    "\n",
    "dt = DecisionTreeClassifier()\n",
    "dt.fit(X_train, y_train)\n",
    "dt.feature_importances_\n",
    "pred_dt = dt.predict(X_test) \n",
    "dt_score_r2 = np.mean(cross_val_score(dt, X_train, y_train, scoring='r2', cv=5))\n",
    "dt_score_recall = recall_score(y_test, pred_dt, average='weighted')\n",
    "dt_score_avgprecision = average_precision_score(y_test, pred_dt)\n",
    "print(dt_score_r2, dt_score_recall, dt_score_avgprecision)"
   ]
  },
  {
   "cell_type": "code",
   "execution_count": 20,
   "metadata": {},
   "outputs": [
    {
     "name": "stdout",
     "output_type": "stream",
     "text": [
      "                                        Feature Importance\n",
      "Auto_Ship_Ind                                     0.000000\n",
      "Interior_Decor_Signage_Available_Funds            0.011878\n",
      "LMS_Enrolled                                      0.000000\n",
      "LMS_Available_Matching_Funds                      0.020288\n",
      "LMS_Used_Funds_Most_Recent_3_Months               0.000000\n",
      "LMS_Used_Funds_Previous_3_Months                  0.006599\n",
      "Open_Smart                                        0.000000\n",
      "PIP_Program                                       0.000000\n",
      "PQS_Program                                       0.000000\n",
      "SCS_Program                                       0.016355\n",
      "Spar_Coverage_Ind                                 0.008484\n",
      "Specialty_Solutions                               0.000000\n",
      "Vaccine_Items                                     0.000000\n",
      "Vaccine_Starter                                   0.000000\n",
      "Vaccine_Items_Count                               0.006457\n",
      "Vaccine_Items_Sls_Amt                             0.015241\n",
      "YPO                                               0.000000\n",
      "Tot_Sls_Amt                                       0.038594\n",
      "DLC_Program_encoded                               0.007919\n",
      "FEM_Program_encoded                               0.000000\n",
      "HM_Circular_Program_encoded                       0.000000\n",
      "Internal_Decor                                    0.004949\n",
      "PQS_Enrolled_encoded                              0.000000\n",
      "ST_encoded                                        0.025778\n",
      "Pog_Code_Name_encoded                             0.000000\n",
      "DC_Name_encoded                                   0.023567\n",
      "Bus_Type_Desc_encoded                             0.000000\n",
      "Region_encoded                                    0.030101\n",
      "PSAO_Expanded_encoded                             0.000000\n",
      "Chain_Name_encoded                                0.021397\n",
      "Salesperson_encoded                               0.019677\n",
      "AH_Program_encoded                                0.000000\n",
      "OTC_Front-end_Size_encoded                        0.008028\n",
      "MRA_Program_Type_-_Active_AH_encoded              0.000000\n",
      "Msa_Dma_encoded                                   0.071152\n",
      "Signage_Program_encoded                           0.019490\n",
      "Hospital_Associated_encoded                       0.644045\n"
     ]
    }
   ],
   "source": [
    "feature_imp_dt = pd.DataFrame({'Feature Importance' : dt.feature_importances_}, index=X1.columns)\n",
    "print(feature_imp_dt)"
   ]
  },
  {
   "cell_type": "code",
   "execution_count": 21,
   "metadata": {},
   "outputs": [
    {
     "name": "stdout",
     "output_type": "stream",
     "text": [
      "0.605097469501 0.956298200514 0.753155966582\n"
     ]
    }
   ],
   "source": [
    "# Gradient Boosting\n",
    "\n",
    "gb = GradientBoostingClassifier()\n",
    "gb.fit(X_train, y_train)\n",
    "gb.feature_importances_\n",
    "pred_gb = gb.predict(X_test) \n",
    "gb_score_r2 = np.mean(cross_val_score(gb, X_train, y_train, scoring='r2', cv=5))\n",
    "gb_score_recall = recall_score(y_test, pred_gb, average='weighted')\n",
    "gb_score_avgprecision = average_precision_score(y_test, pred_gb)\n",
    "print(gb_score_r2, gb_score_recall, gb_score_avgprecision)"
   ]
  },
  {
   "cell_type": "code",
   "execution_count": 22,
   "metadata": {},
   "outputs": [
    {
     "name": "stdout",
     "output_type": "stream",
     "text": [
      "                                        Feature Importance\n",
      "Auto_Ship_Ind                                     0.012195\n",
      "Interior_Decor_Signage_Available_Funds            0.007919\n",
      "LMS_Enrolled                                      0.000000\n",
      "LMS_Available_Matching_Funds                      0.082608\n",
      "LMS_Used_Funds_Most_Recent_3_Months               0.012946\n",
      "LMS_Used_Funds_Previous_3_Months                  0.006898\n",
      "Open_Smart                                        0.002773\n",
      "PIP_Program                                       0.004297\n",
      "PQS_Program                                       0.001220\n",
      "SCS_Program                                       0.001785\n",
      "Spar_Coverage_Ind                                 0.000000\n",
      "Specialty_Solutions                               0.000000\n",
      "Vaccine_Items                                     0.008875\n",
      "Vaccine_Starter                                   0.000500\n",
      "Vaccine_Items_Count                               0.005351\n",
      "Vaccine_Items_Sls_Amt                             0.049000\n",
      "YPO                                               0.010110\n",
      "Tot_Sls_Amt                                       0.063630\n",
      "DLC_Program_encoded                               0.001113\n",
      "FEM_Program_encoded                               0.023506\n",
      "HM_Circular_Program_encoded                       0.003387\n",
      "Internal_Decor                                    0.000256\n",
      "PQS_Enrolled_encoded                              0.001865\n",
      "ST_encoded                                        0.025002\n",
      "Pog_Code_Name_encoded                             0.002137\n",
      "DC_Name_encoded                                   0.042583\n",
      "Bus_Type_Desc_encoded                             0.010842\n",
      "Region_encoded                                    0.025720\n",
      "PSAO_Expanded_encoded                             0.004823\n",
      "Chain_Name_encoded                                0.016851\n",
      "Salesperson_encoded                               0.075837\n",
      "AH_Program_encoded                                0.004976\n",
      "OTC_Front-end_Size_encoded                        0.029361\n",
      "MRA_Program_Type_-_Active_AH_encoded              0.014645\n",
      "Msa_Dma_encoded                                   0.077751\n",
      "Signage_Program_encoded                           0.016752\n",
      "Hospital_Associated_encoded                       0.352485\n"
     ]
    }
   ],
   "source": [
    "feature_imp_gb = pd.DataFrame({'Feature Importance' : gb.feature_importances_}, index=X1.columns)\n",
    "print(feature_imp_gb)"
   ]
  },
  {
   "cell_type": "code",
   "execution_count": 23,
   "metadata": {
    "collapsed": true
   },
   "outputs": [],
   "source": [
    "def plot_feature_importance(model, df):\n",
    "    cols = []\n",
    "    for col in df.columns:\n",
    "        cols.append(col)\n",
    "\n",
    "    feature_importances = pd.DataFrame({'Feature Importance' : model.feature_importances_}, index=cols)\n",
    "    feature_importances = feature_importances.sort_values(by='Feature Importance')\n",
    "    feature_importances.plot(kind='barh', color='r', figsize=(6,6))\n",
    "    plt.title('Feature Importance', fontsize=18)\n",
    "    plt.tight_layout()\n",
    "    plt.savefig('figures/feat_import.png', dpi=300)"
   ]
  },
  {
   "cell_type": "code",
   "execution_count": 24,
   "metadata": {},
   "outputs": [
    {
     "data": {
      "image/png": "[encoded data removed]",
      "text/plain": [
       "<matplotlib.figure.Figure at 0xcb6ec50>"
      ]
     },
     "metadata": {},
     "output_type": "display_data"
    }
   ],
   "source": [
    "plot_feature_importance(gb, X_test)"
   ]
  },
  {
   "cell_type": "markdown",
   "metadata": {},
   "source": [
    "### Reduce the dimensions even further, based on Feature Importance"
   ]
  },
  {
   "cell_type": "code",
   "execution_count": 25,
   "metadata": {
    "collapsed": true
   },
   "outputs": [],
   "source": [
    "XR = dfsample1[['Hospital_Associated_encoded', 'Tot_Sls_Amt', 'Msa_Dma_encoded',\n",
    "                'Salesperson_encoded', 'ST_encoded',\n",
    "                'Chain_Name_encoded','LMS_Available_Matching_Funds']]"
   ]
  },
  {
   "cell_type": "code",
   "execution_count": 26,
   "metadata": {
    "collapsed": true
   },
   "outputs": [],
   "source": [
    "XR_train = X_train[['Hospital_Associated_encoded', 'Tot_Sls_Amt', 'Msa_Dma_encoded',\n",
    "                'Salesperson_encoded', 'ST_encoded',\n",
    "                'Chain_Name_encoded','LMS_Available_Matching_Funds']]\n",
    "\n",
    "XR_test = X_test[['Hospital_Associated_encoded', 'Tot_Sls_Amt', 'Msa_Dma_encoded',\n",
    "                'Salesperson_encoded', 'ST_encoded',\n",
    "                'Chain_Name_encoded','LMS_Available_Matching_Funds']]"
   ]
  },
  {
   "cell_type": "code",
   "execution_count": 27,
   "metadata": {},
   "outputs": [
    {
     "name": "stdout",
     "output_type": "stream",
     "text": [
      "0.516291092755 0.953727506427 0.738956357297\n"
     ]
    }
   ],
   "source": [
    "# Gradient Boosting with reduced features\n",
    "\n",
    "gbr = GradientBoostingClassifier()\n",
    "gbr.fit(XR_train, y_train)\n",
    "gbr.feature_importances_\n",
    "pred_gbr = gbr.predict(XR_test) \n",
    "gbr_score_r2 = np.mean(cross_val_score(gbr, XR_train, y_train, scoring='r2', cv=5))\n",
    "gbr_score_recall = recall_score(y_test, pred_gbr, average='weighted')\n",
    "gbr_score_avgprecision = average_precision_score(y_test, pred_gbr)\n",
    "print(gbr_score_r2, gbr_score_recall, gbr_score_avgprecision)"
   ]
  },
  {
   "cell_type": "code",
   "execution_count": 29,
   "metadata": {},
   "outputs": [
    {
     "name": "stdout",
     "output_type": "stream",
     "text": [
      "                              Feature Importance\n",
      "Hospital_Associated_encoded             0.379060\n",
      "Tot_Sls_Amt                             0.070097\n",
      "Msa_Dma_encoded                         0.148773\n",
      "Salesperson_encoded                     0.146250\n",
      "ST_encoded                              0.065325\n",
      "Chain_Name_encoded                      0.066170\n",
      "LMS_Available_Matching_Funds            0.124325\n"
     ]
    }
   ],
   "source": [
    "feature_imp_gbr = pd.DataFrame({'Feature Importance' : gbr.feature_importances_}, index=XR.columns)\n",
    "print(feature_imp_gbr)"
   ]
  },
  {
   "cell_type": "code",
   "execution_count": 30,
   "metadata": {
    "collapsed": true
   },
   "outputs": [],
   "source": [
    "X.to_csv('data/HID_all_obs.csv')\n",
    "X1.to_csv('data/HID_undersampled_obs.csv')\n",
    "XR.to_csv('data/HID_reduced_features.csv')\n",
    "dfsample1.to_csv('data/HID_undersampled_w_label.csv')"
   ]
  },
  {
   "cell_type": "markdown",
   "metadata": {},
   "source": [
    "### GridSearch to optimize the model, using the reduced feature set"
   ]
  },
  {
   "cell_type": "code",
   "execution_count": 31,
   "metadata": {
    "collapsed": true
   },
   "outputs": [],
   "source": [
    "from sklearn.model_selection import GridSearchCV"
   ]
  },
  {
   "cell_type": "code",
   "execution_count": 32,
   "metadata": {
    "collapsed": true
   },
   "outputs": [],
   "source": [
    "gbr_params = dict(learning_rate=np.arange(0.1, 0.5, 0.1),\n",
    "                        min_samples_split=np.arange(2,5,1),\n",
    "                        max_depth=np.arange(1, 7, 1),\n",
    "                        max_features=np.array([1, 2, 3, 4, 5, 6, 7, None, 'auto', 'sqrt', 'log2']),\n",
    "                        n_estimators=np.arange(60, 140, 10))"
   ]
  },
  {
   "cell_type": "code",
   "execution_count": 33,
   "metadata": {
    "collapsed": true
   },
   "outputs": [],
   "source": [
    "gs_gbr = GridSearchCV(estimator=GradientBoostingClassifier(), param_grid=gbr_params)"
   ]
  },
  {
   "cell_type": "code",
   "execution_count": 34,
   "metadata": {},
   "outputs": [
    {
     "data": {
      "text/plain": [
       "GridSearchCV(cv=None, error_score='raise',\n",
       "       estimator=GradientBoostingClassifier(criterion='friedman_mse', init=None,\n",
       "              learning_rate=0.1, loss='deviance', max_depth=3,\n",
       "              max_features=None, max_leaf_nodes=None,\n",
       "              min_impurity_decrease=0.0, min_impurity_split=None,\n",
       "              min_samples_leaf=1, min_samples_split=2,\n",
       "              min_weight_fraction_leaf=0.0, n_estimators=100,\n",
       "              presort='auto', random_state=None, subsample=1.0, verbose=0,\n",
       "              warm_start=False),\n",
       "       fit_params=None, iid=True, n_jobs=1,\n",
       "       param_grid={'learning_rate': array([ 0.1,  0.2,  0.3,  0.4]), 'min_samples_split': array([2, 3, 4]), 'max_depth': array([1, 2, 3, 4, 5, 6]), 'max_features': array([1, 2, 3, 4, 5, 6, 7, None, 'auto', 'sqrt', 'log2'], dtype=object), 'n_estimators': array([ 60,  70,  80,  90, 100, 110, 120, 130])},\n",
       "       pre_dispatch='2*n_jobs', refit=True, return_train_score='warn',\n",
       "       scoring=None, verbose=0)"
      ]
     },
     "execution_count": 34,
     "metadata": {},
     "output_type": "execute_result"
    }
   ],
   "source": [
    "gs_gbr.fit(XR_train, y_train)"
   ]
  },
  {
   "cell_type": "code",
   "execution_count": 35,
   "metadata": {},
   "outputs": [
    {
     "data": {
      "text/plain": [
       "{'learning_rate': 0.40000000000000002,\n",
       " 'max_depth': 6,\n",
       " 'max_features': 'auto',\n",
       " 'min_samples_split': 2,\n",
       " 'n_estimators': 70}"
      ]
     },
     "execution_count": 35,
     "metadata": {},
     "output_type": "execute_result"
    }
   ],
   "source": [
    "gs_gbr.best_params_"
   ]
  },
  {
   "cell_type": "code",
   "execution_count": 36,
   "metadata": {},
   "outputs": [
    {
     "data": {
      "text/plain": [
       "0.95558375634517767"
      ]
     },
     "execution_count": 36,
     "metadata": {},
     "output_type": "execute_result"
    }
   ],
   "source": [
    "gs_gbr.best_score_"
   ]
  },
  {
   "cell_type": "code",
   "execution_count": 37,
   "metadata": {},
   "outputs": [
    {
     "data": {
      "text/plain": [
       "GradientBoostingClassifier(criterion='friedman_mse', init=None,\n",
       "              learning_rate=0.40000000000000002, loss='deviance',\n",
       "              max_depth=6, max_features='auto', max_leaf_nodes=None,\n",
       "              min_impurity_decrease=0.0, min_impurity_split=None,\n",
       "              min_samples_leaf=1, min_samples_split=2,\n",
       "              min_weight_fraction_leaf=0.0, n_estimators=70,\n",
       "              presort='auto', random_state=None, subsample=1.0, verbose=0,\n",
       "              warm_start=False)"
      ]
     },
     "execution_count": 37,
     "metadata": {},
     "output_type": "execute_result"
    }
   ],
   "source": [
    "gs_gbr.best_estimator_"
   ]
  },
  {
   "cell_type": "code",
   "execution_count": 47,
   "metadata": {},
   "outputs": [
    {
     "name": "stdout",
     "output_type": "stream",
     "text": [
      "0.614923340148\n"
     ]
    }
   ],
   "source": [
    "best_model = GradientBoostingClassifier(criterion='friedman_mse', init=None,\n",
    "              learning_rate=0.40000000000000002, loss='deviance',\n",
    "              max_depth=6, max_features='auto', max_leaf_nodes=None,\n",
    "              min_impurity_decrease=0.0, min_impurity_split=None,\n",
    "              min_samples_leaf=1, min_samples_split=2,\n",
    "              min_weight_fraction_leaf=0.0, n_estimators=70,\n",
    "              presort='auto', random_state=None, subsample=1.0, verbose=0,\n",
    "              warm_start=False)\n",
    "best_model.fit(XR_train, y_train)\n",
    "best_cv_score = np.mean(cross_val_score(best_model, XR_train, y_train, scoring='r2', cv=5))\n",
    "print(best_cv_score)"
   ]
  },
  {
   "cell_type": "code",
   "execution_count": 49,
   "metadata": {},
   "outputs": [
    {
     "name": "stdout",
     "output_type": "stream",
     "text": [
      "0.545021622844 0.953727506427 0.741298529357\n"
     ]
    }
   ],
   "source": [
    "best_model.feature_importances_\n",
    "pred_best_model = best_model.predict(XR_test) \n",
    "best_model_score_r2 = np.mean(cross_val_score(best_model, XR_train, y_train, scoring='r2', cv=5))\n",
    "best_model_score_recall = recall_score(y_test, pred_best_model, average='weighted')\n",
    "best_model_score_avgprecision = average_precision_score(y_test, pred_best_model)\n",
    "print(best_model_score_r2, best_model_score_recall, best_model_score_avgprecision)"
   ]
  },
  {
   "cell_type": "code",
   "execution_count": 50,
   "metadata": {
    "collapsed": true
   },
   "outputs": [],
   "source": [
    "XR_all_obs = X[['Hospital_Associated_encoded', 'Tot_Sls_Amt', 'Msa_Dma_encoded',\n",
    "                'Salesperson_encoded', 'ST_encoded',\n",
    "                'Chain_Name_encoded','LMS_Available_Matching_Funds']]    "
   ]
  },
  {
   "cell_type": "code",
   "execution_count": 51,
   "metadata": {
    "collapsed": true
   },
   "outputs": [],
   "source": [
    "pred_best_model_all_obs = best_model.predict(XR_all_obs)"
   ]
  },
  {
   "cell_type": "code",
   "execution_count": 52,
   "metadata": {},
   "outputs": [
    {
     "name": "stdout",
     "output_type": "stream",
     "text": [
      "0.963062319439\n"
     ]
    }
   ],
   "source": [
    "best_model_all_obs_score_recall = recall_score(y, pred_best_model_all_obs, average='weighted') \n",
    "print(best_model_all_obs_score_recall) "
   ]
  },
  {
   "cell_type": "code",
   "execution_count": 53,
   "metadata": {},
   "outputs": [],
   "source": [
    "df_clean['Actual_HID'] = df_clean['IS_HID'] "
   ]
  },
  {
   "cell_type": "code",
   "execution_count": 54,
   "metadata": {
    "collapsed": true
   },
   "outputs": [],
   "source": [
    "df_clean['Predicted_HID'] = pred_best_model_all_obs                "
   ]
  },
  {
   "cell_type": "code",
   "execution_count": 55,
   "metadata": {},
   "outputs": [
    {
     "data": {
      "text/html": [
       "<div>\n",
       "<style>\n",
       "    .dataframe thead tr:only-child th {\n",
       "        text-align: right;\n",
       "    }\n",
       "\n",
       "    .dataframe thead th {\n",
       "        text-align: left;\n",
       "    }\n",
       "\n",
       "    .dataframe tbody tr th {\n",
       "        vertical-align: top;\n",
       "    }\n",
       "</style>\n",
       "<table border=\"1\" class=\"dataframe\">\n",
       "  <thead>\n",
       "    <tr style=\"text-align: right;\">\n",
       "      <th></th>\n",
       "      <th>Zip</th>\n",
       "      <th>Hm_Start_Dt</th>\n",
       "      <th>Channel_Type_Cd</th>\n",
       "      <th>Auto_Ship_Ind</th>\n",
       "      <th>Internal_Decor</th>\n",
       "      <th>Interior_Decor_Signage_Available_Funds</th>\n",
       "      <th>LMS_Enrolled</th>\n",
       "      <th>LMS_Available_Matching_Funds</th>\n",
       "      <th>LMS_Used_Funds_Most_Recent_3_Months</th>\n",
       "      <th>LMS_Used_Funds_Previous_3_Months</th>\n",
       "      <th>...</th>\n",
       "      <th>Salesperson_encoded</th>\n",
       "      <th>AH_Program_encoded</th>\n",
       "      <th>OTC_Front-end_Size_encoded</th>\n",
       "      <th>MRA_Program_Type_-_Active_AH_encoded</th>\n",
       "      <th>Msa_Dma_encoded</th>\n",
       "      <th>Signage_Program_encoded</th>\n",
       "      <th>3rd_Party_Vendor_encoded</th>\n",
       "      <th>Hospital_Associated_encoded</th>\n",
       "      <th>Actual_HID</th>\n",
       "      <th>Predicted_HID</th>\n",
       "    </tr>\n",
       "    <tr>\n",
       "      <th>Account</th>\n",
       "      <th></th>\n",
       "      <th></th>\n",
       "      <th></th>\n",
       "      <th></th>\n",
       "      <th></th>\n",
       "      <th></th>\n",
       "      <th></th>\n",
       "      <th></th>\n",
       "      <th></th>\n",
       "      <th></th>\n",
       "      <th></th>\n",
       "      <th></th>\n",
       "      <th></th>\n",
       "      <th></th>\n",
       "      <th></th>\n",
       "      <th></th>\n",
       "      <th></th>\n",
       "      <th></th>\n",
       "      <th></th>\n",
       "      <th></th>\n",
       "      <th></th>\n",
       "    </tr>\n",
       "  </thead>\n",
       "  <tbody>\n",
       "    <tr>\n",
       "      <th>10491</th>\n",
       "      <td>97463</td>\n",
       "      <td>732524</td>\n",
       "      <td>30</td>\n",
       "      <td>1</td>\n",
       "      <td>1</td>\n",
       "      <td>1724.0</td>\n",
       "      <td>1</td>\n",
       "      <td>822.0</td>\n",
       "      <td>1</td>\n",
       "      <td>1</td>\n",
       "      <td>...</td>\n",
       "      <td>1</td>\n",
       "      <td>4</td>\n",
       "      <td>1</td>\n",
       "      <td>7</td>\n",
       "      <td>183</td>\n",
       "      <td>0</td>\n",
       "      <td>18</td>\n",
       "      <td>15</td>\n",
       "      <td>0</td>\n",
       "      <td>0</td>\n",
       "    </tr>\n",
       "    <tr>\n",
       "      <th>17475</th>\n",
       "      <td>97630</td>\n",
       "      <td>732687</td>\n",
       "      <td>30</td>\n",
       "      <td>1</td>\n",
       "      <td>1</td>\n",
       "      <td>0.0</td>\n",
       "      <td>1</td>\n",
       "      <td>0.0</td>\n",
       "      <td>1</td>\n",
       "      <td>1</td>\n",
       "      <td>...</td>\n",
       "      <td>1</td>\n",
       "      <td>0</td>\n",
       "      <td>3</td>\n",
       "      <td>3</td>\n",
       "      <td>190</td>\n",
       "      <td>0</td>\n",
       "      <td>18</td>\n",
       "      <td>15</td>\n",
       "      <td>0</td>\n",
       "      <td>0</td>\n",
       "    </tr>\n",
       "    <tr>\n",
       "      <th>19901</th>\n",
       "      <td>97471</td>\n",
       "      <td>732616</td>\n",
       "      <td>30</td>\n",
       "      <td>0</td>\n",
       "      <td>1</td>\n",
       "      <td>0.0</td>\n",
       "      <td>1</td>\n",
       "      <td>0.0</td>\n",
       "      <td>1</td>\n",
       "      <td>1</td>\n",
       "      <td>...</td>\n",
       "      <td>1</td>\n",
       "      <td>0</td>\n",
       "      <td>4</td>\n",
       "      <td>2</td>\n",
       "      <td>183</td>\n",
       "      <td>0</td>\n",
       "      <td>18</td>\n",
       "      <td>15</td>\n",
       "      <td>0</td>\n",
       "      <td>0</td>\n",
       "    </tr>\n",
       "    <tr>\n",
       "      <th>309745</th>\n",
       "      <td>97467</td>\n",
       "      <td>735998</td>\n",
       "      <td>30</td>\n",
       "      <td>0</td>\n",
       "      <td>0</td>\n",
       "      <td>2500.0</td>\n",
       "      <td>1</td>\n",
       "      <td>0.0</td>\n",
       "      <td>0</td>\n",
       "      <td>0</td>\n",
       "      <td>...</td>\n",
       "      <td>1</td>\n",
       "      <td>0</td>\n",
       "      <td>1</td>\n",
       "      <td>8</td>\n",
       "      <td>183</td>\n",
       "      <td>3</td>\n",
       "      <td>18</td>\n",
       "      <td>15</td>\n",
       "      <td>0</td>\n",
       "      <td>0</td>\n",
       "    </tr>\n",
       "    <tr>\n",
       "      <th>652229</th>\n",
       "      <td>97370</td>\n",
       "      <td>734702</td>\n",
       "      <td>30</td>\n",
       "      <td>0</td>\n",
       "      <td>1</td>\n",
       "      <td>0.0</td>\n",
       "      <td>1</td>\n",
       "      <td>340.0</td>\n",
       "      <td>1</td>\n",
       "      <td>0</td>\n",
       "      <td>...</td>\n",
       "      <td>1</td>\n",
       "      <td>0</td>\n",
       "      <td>0</td>\n",
       "      <td>8</td>\n",
       "      <td>183</td>\n",
       "      <td>0</td>\n",
       "      <td>18</td>\n",
       "      <td>15</td>\n",
       "      <td>0</td>\n",
       "      <td>0</td>\n",
       "    </tr>\n",
       "  </tbody>\n",
       "</table>\n",
       "<p>5 rows × 64 columns</p>\n",
       "</div>"
      ],
      "text/plain": [
       "           Zip  Hm_Start_Dt  Channel_Type_Cd  Auto_Ship_Ind  Internal_Decor  \\\n",
       "Account                                                                       \n",
       "10491    97463       732524               30              1               1   \n",
       "17475    97630       732687               30              1               1   \n",
       "19901    97471       732616               30              0               1   \n",
       "309745   97467       735998               30              0               0   \n",
       "652229   97370       734702               30              0               1   \n",
       "\n",
       "         Interior_Decor_Signage_Available_Funds  LMS_Enrolled  \\\n",
       "Account                                                         \n",
       "10491                                    1724.0             1   \n",
       "17475                                       0.0             1   \n",
       "19901                                       0.0             1   \n",
       "309745                                   2500.0             1   \n",
       "652229                                      0.0             1   \n",
       "\n",
       "         LMS_Available_Matching_Funds  LMS_Used_Funds_Most_Recent_3_Months  \\\n",
       "Account                                                                      \n",
       "10491                           822.0                                    1   \n",
       "17475                             0.0                                    1   \n",
       "19901                             0.0                                    1   \n",
       "309745                            0.0                                    0   \n",
       "652229                          340.0                                    1   \n",
       "\n",
       "         LMS_Used_Funds_Previous_3_Months      ...        Salesperson_encoded  \\\n",
       "Account                                        ...                              \n",
       "10491                                   1      ...                          1   \n",
       "17475                                   1      ...                          1   \n",
       "19901                                   1      ...                          1   \n",
       "309745                                  0      ...                          1   \n",
       "652229                                  0      ...                          1   \n",
       "\n",
       "         AH_Program_encoded  OTC_Front-end_Size_encoded  \\\n",
       "Account                                                   \n",
       "10491                     4                           1   \n",
       "17475                     0                           3   \n",
       "19901                     0                           4   \n",
       "309745                    0                           1   \n",
       "652229                    0                           0   \n",
       "\n",
       "         MRA_Program_Type_-_Active_AH_encoded  Msa_Dma_encoded  \\\n",
       "Account                                                          \n",
       "10491                                       7              183   \n",
       "17475                                       3              190   \n",
       "19901                                       2              183   \n",
       "309745                                      8              183   \n",
       "652229                                      8              183   \n",
       "\n",
       "         Signage_Program_encoded  3rd_Party_Vendor_encoded  \\\n",
       "Account                                                      \n",
       "10491                          0                        18   \n",
       "17475                          0                        18   \n",
       "19901                          0                        18   \n",
       "309745                         3                        18   \n",
       "652229                         0                        18   \n",
       "\n",
       "         Hospital_Associated_encoded  Actual_HID  Predicted_HID  \n",
       "Account                                                          \n",
       "10491                             15           0              0  \n",
       "17475                             15           0              0  \n",
       "19901                             15           0              0  \n",
       "309745                            15           0              0  \n",
       "652229                            15           0              0  \n",
       "\n",
       "[5 rows x 64 columns]"
      ]
     },
     "execution_count": 55,
     "metadata": {},
     "output_type": "execute_result"
    }
   ],
   "source": [
    "df_clean.head()"
   ]
  },
  {
   "cell_type": "code",
   "execution_count": 56,
   "metadata": {
    "collapsed": true
   },
   "outputs": [],
   "source": [
    "df_clean.to_csv('data/HID_predictions.csv')"
   ]
  },
  {
   "cell_type": "code",
   "execution_count": null,
   "metadata": {
    "collapsed": true
   },
   "outputs": [],
   "source": []
  }
 ],
 "metadata": {
  "kernelspec": {
   "display_name": "Python 3",
   "language": "python",
   "name": "python3"
  },
  "language_info": {
   "codemirror_mode": {
    "name": "ipython",
    "version": 3
   },
   "file_extension": ".py",
   "mimetype": "text/x-python",
   "name": "python",
   "nbconvert_exporter": "python",
   "pygments_lexer": "ipython3",
   "version": "3.6.3"
  }
 },
 "nbformat": 4,
 "nbformat_minor": 2
}
